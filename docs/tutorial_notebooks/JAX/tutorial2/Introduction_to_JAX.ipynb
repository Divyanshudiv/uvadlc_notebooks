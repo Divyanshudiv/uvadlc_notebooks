{
  "cells": [
    {
      "cell_type": "markdown",
      "metadata": {
        "id": "64iLYkhiJfq7"
      },
      "source": [
        "# Tutorial 2 (JAX): Introduction to JAX+Flax\n",
        "\n",
        "![Status](https://img.shields.io/static/v1.svg?label=Status&message=Finished&color=green)\n",
        "\n",
        "**Filled notebook:**\n",
        "[![View filled on Github](https://img.shields.io/static/v1.svg?logo=github&label=Repo&message=View%20On%20Github&color=lightgrey)](https://github.com/phlippe/uvadlc_notebooks/blob/master/docs/tutorial_notebooks/JAX/tutorial2/Introduction_to_JAX.ipynb)\n",
        "[![Open filled In Collab](https://colab.research.google.com/assets/colab-badge.svg)](https://colab.research.google.com/github/phlippe/uvadlc_notebooks/blob/master/docs/tutorial_notebooks/JAX/tutorial2/Introduction_to_JAX.ipynb)   \n",
        "**Author:** Phillip Lippe"
      ]
    },
    {
      "cell_type": "markdown",
      "metadata": {
        "id": "FPDr51n3JfrA"
      },
      "source": [
        "Welcome to our JAX tutorial for the Deep Learning course at the University of Amsterdam! The following notebook is meant to give a short introduction to JAX, including writing and training your own neural networks with [Flax](https://flax.readthedocs.io/en/latest/). But why should you learn JAX, if there are already so many other deep learning frameworks like [PyTorch](https://pytorch.org/) and [TensorFlow](https://www.tensorflow.org/)? The short answer: because it can be extremely fast. For instance, a small GoogleNet on CIFAR10, which we discuss in detail in [Tutorial 5](https://uvadlc-notebooks.readthedocs.io/en/latest/tutorial_notebooks/JAX/tutorial5/Inception_ResNet_DenseNet.html), can be trained in JAX 3x faster than in PyTorch with a similar setup. Note that for larger models, larger batch sizes, or smaller GPUs, a considerably smaller speedup is expected, and the code has not been designed for benchmarking. Nonetheless, JAX enables this speedup by compiling functions and numerical programs for accelerators (GPU/TPU) *just in time*, finding the optimal utilization of the hardware. Frameworks with dynamic computation graphs like PyTorch cannot achieve the same efficiency, since they cannot anticipate the next operations before the user calls them. For example, in an Inception block of GoogleNet, we apply multiple convolutional layers in parallel on the same input. JAX can optimize the execution of this layer by compiling the whole forward pass for the available accelerator and fusing operations where possible, reducing memory access and speeding up execution. In contrast, when calling the first convolutional layer in PyTorch, the framework does not know that multiple convolutions on the same feature map will follow. It sends each operation one by one to the GPU, and can only adapt the execution after seeing the next Python calls. Hence, JAX can make more efficient use of the GPU than, for instance, PyTorch.\n",
        "\n",
        "However, everything comes with a price. In order to efficiently compile programs just-in-time in JAX, the functions need to be written with certain constraints. Firstly, the functions are not allowed to have side-effects, meaning that they are not allowed to affect any variable outside of their namespaces. For instance, in-place operations affect a variable even outside of the function. Moreover, stochastic operations such as `torch.rand(...)` change the global state of pseudo random number generators, which is not allowed in functional JAX (we will see later how JAX handles random number generation). Secondly, JAX compiles the functions based on anticipated shapes of all arrays/tensors in the function. This becomes problematic if the shapes or the program flow within the function depends on the values of the tensor. For instance, in the operation `y = x[x>3]`, the shape of `y` depends on how many values of `x` are greater than 3. We will discuss more of these constraints in this notebook. Still, in most common cases of training neural networks, it is straightforward to write functions within these constraints.\n",
        "\n",
        "This tutorial is heavily inspired by many great JAX tutorials before, and a (non-exclusive) list of them are:\n",
        "\n",
        "* [JAX 101](https://jax.readthedocs.io/en/latest/jax-101/index.html) with many subtutorials on individual parts of JAX\n",
        "* [JAX - The Sharp Bits](https://jax.readthedocs.io/en/latest/notebooks/Common_Gotchas_in_JAX.html) discusses the constraints of JAX and how to overcome them\n",
        "* [Jax for the Impatient](https://flax.readthedocs.io/en/latest/notebooks/jax_for_the_impatient.html) for a quick intro to JAX with focus on deep learning\n",
        "* [Flax Basics](https://flax.readthedocs.io/en/latest/notebooks/flax_basics.html) as introduction to the Flax framework\n",
        "\n",
        "Throughout this tutorial, we will draw comparisons to PyTorch and also use its data loading library (see our [PyTorch tutorial](https://uvadlc-notebooks.readthedocs.io/en/latest/tutorial_notebooks/tutorial2/Introduction_to_PyTorch.html) for a refresher). JAX is not meant to 'redefine the wheel', so we can combine it framework-agnostic parts from PyTorch (e.g., data loading) and TensorFlow (e.g., logging in TensorBoard). Further, we use [Flax](https://flax.readthedocs.io/en/latest/) as a neural network library in JAX, and [Optax](https://optax.readthedocs.io/en/latest/index.html) to implement common deep learning optimizers. More on them later in the notebook. First, let's get started with some basic JAX operations."
      ]
    },
    {
      "cell_type": "code",
      "execution_count": 1,
      "metadata": {
        "colab": {
          "base_uri": "https://localhost:8080/"
        },
        "id": "namBSPQdJfrD",
        "outputId": "6b05ea32-5e44-487e-ae07-b81f8b543d93"
      },
      "outputs": [
        {
          "output_type": "stream",
          "name": "stderr",
          "text": [
            "<ipython-input-1-a8576aa8cd5f>:11: DeprecationWarning: `set_matplotlib_formats` is deprecated since IPython 7.23, directly use `matplotlib_inline.backend_inline.set_matplotlib_formats()`\n",
            "  set_matplotlib_formats('svg', 'pdf') # For export\n"
          ]
        }
      ],
      "source": [
        "## Standard libraries\n",
        "import os\n",
        "import math\n",
        "import numpy as np\n",
        "import time\n",
        "\n",
        "## Imports for plotting\n",
        "import matplotlib.pyplot as plt\n",
        "%matplotlib inline\n",
        "from IPython.display import set_matplotlib_formats\n",
        "set_matplotlib_formats('svg', 'pdf') # For export\n",
        "from matplotlib.colors import to_rgba\n",
        "import seaborn as sns\n",
        "sns.set()\n",
        "\n",
        "## Progress bar\n",
        "from tqdm.auto import tqdm"
      ]
    },
    {
      "cell_type": "markdown",
      "metadata": {
        "id": "Tt6n_KtuJfrE"
      },
      "source": [
        "## JAX as NumPy on accelerators\n",
        "\n",
        "Every deep learning framework has its own API for dealing with data arrays. For example, PyTorch uses `torch.Tensor` as data arrays on which it defines several operations like matrix multiplication, taking the mean of the elements, etc. In JAX, this basic API strongly resembles the one of [NumPy](https://numpy.org/), and even has the same name in JAX (`jax.numpy`). So, for now, let's think of JAX as NumPy that runs on accelerators. As a first step, let's import JAX and its NumPy API:"
      ]
    },
    {
      "cell_type": "code",
      "execution_count": 2,
      "metadata": {
        "colab": {
          "base_uri": "https://localhost:8080/"
        },
        "id": "So9mVGDtJfrE",
        "outputId": "97a3e6a9-7846-40d0-a348-52230c94d63a"
      },
      "outputs": [
        {
          "output_type": "stream",
          "name": "stdout",
          "text": [
            "Using jax 0.4.33\n"
          ]
        }
      ],
      "source": [
        "import jax\n",
        "import jax.numpy as jnp\n",
        "print(\"Using jax\", jax.__version__)"
      ]
    },
    {
      "cell_type": "markdown",
      "metadata": {
        "id": "oMv6QjtcJfrF"
      },
      "source": [
        "At the current time of writing (June 2022), the newest JAX version is `0.3.13` which supports most of the common NumPy functionalities. The NumPy API of JAX is usually imported as `jnp`, to keep a resemblance to NumPy's import as `np`. In the following subsections, we will discuss the main differences between the classical NumPy API and the one of JAX."
      ]
    },
    {
      "cell_type": "markdown",
      "metadata": {
        "id": "9bh0PdXwJfrG"
      },
      "source": [
        "### Device Arrays\n",
        "\n",
        "As a first test, let's create some arbitrary arrays like we would do in NumPy. For instance, let's create an array of zeros with shape `[2,5]`:"
      ]
    },
    {
      "cell_type": "code",
      "execution_count": 3,
      "metadata": {
        "colab": {
          "base_uri": "https://localhost:8080/"
        },
        "id": "pVd5rSSUJfrG",
        "outputId": "79a07205-c853-411b-a432-40953eed369e"
      },
      "outputs": [
        {
          "output_type": "stream",
          "name": "stdout",
          "text": [
            "[[0. 0. 0. 0. 0.]\n",
            " [0. 0. 0. 0. 0.]]\n"
          ]
        }
      ],
      "source": [
        "a = jnp.zeros((2, 5), dtype=jnp.float32)\n",
        "print(a)"
      ]
    },
    {
      "cell_type": "markdown",
      "metadata": {
        "id": "vAnEF5-HJfrG"
      },
      "source": [
        "Similarly, we can create an array with values of 0 to 5 by using `arange`:"
      ]
    },
    {
      "cell_type": "code",
      "execution_count": 4,
      "metadata": {
        "colab": {
          "base_uri": "https://localhost:8080/"
        },
        "id": "Jv6FnrHRJfrG",
        "outputId": "0c304634-69d9-41c3-85f8-3849271bb87a"
      },
      "outputs": [
        {
          "output_type": "stream",
          "name": "stdout",
          "text": [
            "[0 1 2 3 4 5]\n"
          ]
        }
      ],
      "source": [
        "b = jnp.arange(6)\n",
        "print(b)"
      ]
    },
    {
      "cell_type": "markdown",
      "metadata": {
        "id": "GKDHHqhEJfrG"
      },
      "source": [
        "You might now wonder whether the arrays `a` and `b` are simply NumPy arrays. To check that, let's print out the class of `b`:"
      ]
    },
    {
      "cell_type": "code",
      "execution_count": 5,
      "metadata": {
        "colab": {
          "base_uri": "https://localhost:8080/"
        },
        "id": "-tJ_4C07JfrG",
        "outputId": "4adcc37b-5d6a-4c30-f81a-e20ab1b55b76"
      },
      "outputs": [
        {
          "output_type": "execute_result",
          "data": {
            "text/plain": [
              "jaxlib.xla_extension.ArrayImpl"
            ]
          },
          "metadata": {},
          "execution_count": 5
        }
      ],
      "source": [
        "b.__class__"
      ]
    },
    {
      "cell_type": "markdown",
      "metadata": {
        "id": "h780mRqSJfrI"
      },
      "source": [
        "Instead of a simple NumPy array, it shows the type `DeviceArray` which is what JAX uses to represent arrays. In contrast to NumPy, JAX can execute the same code on different backends – CPU, GPU and TPU. A `DeviceArray` therefore represents an array which is on one of the backends. Similar to PyTorch, we can check the device of an array by calling `.device()`:"
      ]
    },
    {
      "cell_type": "code",
      "execution_count": 6,
      "metadata": {
        "colab": {
          "base_uri": "https://localhost:8080/"
        },
        "id": "28HKzmsYJfrI",
        "outputId": "580dc68e-1ea0-4941-b96e-96cc9beeb601"
      },
      "outputs": [
        {
          "output_type": "execute_result",
          "data": {
            "text/plain": [
              "CudaDevice(id=0)"
            ]
          },
          "metadata": {},
          "execution_count": 6
        }
      ],
      "source": [
        "b.device"
      ]
    },
    {
      "cell_type": "markdown",
      "metadata": {
        "id": "9fIOXpCuJfrI"
      },
      "source": [
        "As you can see, the array `b` is already natively on a GPU although we did not specify this explicitly as you would do in PyTorch (on Colab, remember to select a GPU in your runtime environment). In order to change the device of an array, we can use `jax.device_get`:"
      ]
    },
    {
      "cell_type": "code",
      "execution_count": 7,
      "metadata": {
        "colab": {
          "base_uri": "https://localhost:8080/"
        },
        "id": "is_d784HJfrJ",
        "outputId": "b7e10c9a-faf1-434d-86b7-aca54ea7b466"
      },
      "outputs": [
        {
          "output_type": "stream",
          "name": "stdout",
          "text": [
            "<class 'numpy.ndarray'>\n"
          ]
        }
      ],
      "source": [
        "b_cpu = jax.device_get(b)\n",
        "print(b_cpu.__class__)"
      ]
    },
    {
      "cell_type": "markdown",
      "metadata": {
        "id": "O_2l6BoZJfrK"
      },
      "source": [
        "Unsurprisingly, a simple CPU-based array is nothing else than a NumPy array, which allows for a simple conversion between the two frameworks! To explicitly push a NumPy array to the accelerator, you can use `jax.device_put`:"
      ]
    },
    {
      "cell_type": "code",
      "execution_count": 8,
      "metadata": {
        "colab": {
          "base_uri": "https://localhost:8080/"
        },
        "id": "Di-ByPdKJfrK",
        "outputId": "42dfa6ba-90b3-42d0-86b1-ca4ca4916696"
      },
      "outputs": [
        {
          "output_type": "stream",
          "name": "stdout",
          "text": [
            "Device put: <class 'jaxlib.xla_extension.ArrayImpl'> on cuda:0\n"
          ]
        }
      ],
      "source": [
        "b_gpu = jax.device_put(b_cpu)\n",
        "print(f'Device put: {b_gpu.__class__} on {b_gpu.device}')"
      ]
    },
    {
      "cell_type": "markdown",
      "metadata": {
        "id": "AAzfBf6AJfrK"
      },
      "source": [
        "Nicely enough, JAX will handle any device clash itself when you try to perform operations on a NumPy array and a DeviceArray by modeling the output as DeviceArray again:"
      ]
    },
    {
      "cell_type": "code",
      "execution_count": 9,
      "metadata": {
        "colab": {
          "base_uri": "https://localhost:8080/"
        },
        "id": "YlcgHLiGJfrK",
        "outputId": "1c82ce75-afda-45a3-cfed-0047a7ef4fae"
      },
      "outputs": [
        {
          "output_type": "execute_result",
          "data": {
            "text/plain": [
              "Array([ 0,  2,  4,  6,  8, 10], dtype=int32)"
            ]
          },
          "metadata": {},
          "execution_count": 9
        }
      ],
      "source": [
        "b_cpu + b_gpu"
      ]
    },
    {
      "cell_type": "markdown",
      "metadata": {
        "id": "Q2p7CHtjJfrK"
      },
      "source": [
        "Finally, we can also print all our available devices using `jax.devices()`:"
      ]
    },
    {
      "cell_type": "code",
      "execution_count": 10,
      "metadata": {
        "colab": {
          "base_uri": "https://localhost:8080/"
        },
        "id": "uCAt-Cr_JfrK",
        "outputId": "3f3ae6e9-e65a-48b7-8be9-1bc52dedd53a"
      },
      "outputs": [
        {
          "output_type": "execute_result",
          "data": {
            "text/plain": [
              "[CudaDevice(id=0)]"
            ]
          },
          "metadata": {},
          "execution_count": 10
        }
      ],
      "source": [
        "jax.devices()"
      ]
    },
    {
      "cell_type": "markdown",
      "metadata": {
        "id": "DHv3rghlJfrK"
      },
      "source": [
        "A technical detail of running operations on DeviceArrays is that when a JAX function is called, the corresponding operation takes place asynchronously on the accelerator when possible. For instance, if we call `out = jnp.matmul(b, b)`, JAX first returns a placeholder array for `out` which may not be filled with the values as soon as the function calls finishes. This way, Python will not block the execution of follow-up statements, but instead only does it whenever we strictly need the value of `out`, for instance for printing or putting it on CPU. PyTorch uses a very similar principle to allow asynchronous computation. For more details, see [JAX - Asynchronous Dispatch](https://jax.readthedocs.io/en/latest/async_dispatch.html)."
      ]
    },
    {
      "cell_type": "markdown",
      "metadata": {
        "id": "l9IZkQk7JfrK"
      },
      "source": [
        "### Immutable tensors\n",
        "\n",
        "When we would like to change a NumPy array in-place, like replacing the first element of `b` with `1` instead of `0`, we could simply write `b[0]=1`. However, in JAX, this is not possible. A `DeviceArray` object is *immutable*, which means that no in-place operations are possible. The reason for this goes back to our discussion in the introduction: JAX requires programs to be \"pure\" functions, i.e. no effects on variables outside of the function are allowed. Allowing in-place operations of variables would make the program analysis for JAX's just-in-time compilation difficult. Instead, we can use the expression `b.at[0].set(1)` which, analogous to the in-place operation, returns a new array which is identical to `b`, except that its value at the first position is 1. Let's try that out below:"
      ]
    },
    {
      "cell_type": "code",
      "execution_count": 11,
      "metadata": {
        "colab": {
          "base_uri": "https://localhost:8080/"
        },
        "id": "kzjkUj3uJfrK",
        "outputId": "23c11d18-7b8a-4ffe-f505-724dc4c30d0b"
      },
      "outputs": [
        {
          "output_type": "stream",
          "name": "stdout",
          "text": [
            "Original array: [0 1 2 3 4 5]\n",
            "Changed array: [1 1 2 3 4 5]\n"
          ]
        }
      ],
      "source": [
        "b_new = b.at[0].set(1)\n",
        "print('Original array:', b)\n",
        "print('Changed array:', b_new)"
      ]
    },
    {
      "cell_type": "markdown",
      "metadata": {
        "id": "T8jq2VKSJfrL"
      },
      "source": [
        "However, we said that JAX is very efficient. Isn't creating a new array in this case the opposite? While it is indeed less efficient, it can made much more efficient with JAX's just-in-time compilation. The compiler can recognize unnecessary array duplications, and replace them with in-place operations again. More on the just-in-time compilation later!"
      ]
    },
    {
      "cell_type": "markdown",
      "metadata": {
        "id": "gmW20ZZGJfrL"
      },
      "source": [
        "### Pseudo Random Numbers in JAX\n",
        "\n",
        "In machine learning, we come across several situations where we need to generate pseudo random numbers: randomly shuffling a dataset, sampling a dropout mask for regularization, training a VAE by sampling from the approximate posterior, etc. In libraries like NumPy and PyTorch, the random number generator are controlled by a seed, which we set initially to obtain the same samples every time we run the code (this is why the numbers are not truly random, hence \"pseudo\"-random). However, if we call `np.random.normal()` 5 times consecutively, we will get 5 different numbers since every execution changes the state/seed of the pseudo random number generation (PRNG). In JAX, if we would try to generate a random number with this approach, a function creating pseudo-random number would have an effect outside of it. To prevent this, JAX takes a different approach by explicitly passing and iterating the PRNG state. First, let's create a PRNG for the seed 42:"
      ]
    },
    {
      "cell_type": "code",
      "execution_count": 12,
      "metadata": {
        "id": "7F3ORQA2JfrL"
      },
      "outputs": [],
      "source": [
        "rng = jax.random.PRNGKey(42)"
      ]
    },
    {
      "cell_type": "markdown",
      "metadata": {
        "id": "ViTIgla6JfrL"
      },
      "source": [
        "Now, we can use this PRNG state to generate random numbers. Since with this state, the random number generation becomes deterministic, we sample the same number every time. This is not the case in NumPy if we set the seed once before both operations:"
      ]
    },
    {
      "cell_type": "code",
      "execution_count": 13,
      "metadata": {
        "colab": {
          "base_uri": "https://localhost:8080/"
        },
        "id": "nZaSU1R_JfrL",
        "outputId": "2f6ceeca-24b8-48f5-e2aa-9d8ab5e1356a"
      },
      "outputs": [
        {
          "output_type": "stream",
          "name": "stdout",
          "text": [
            "JAX - Random number 1: -0.18471177\n",
            "JAX - Random number 2: -0.18471177\n",
            "NumPy - Random number 1: 0.4967141530112327\n",
            "NumPy - Random number 2: -0.13826430117118466\n"
          ]
        }
      ],
      "source": [
        "# A non-desirable way of generating pseudo-random numbers...\n",
        "jax_random_number_1 = jax.random.normal(rng)\n",
        "jax_random_number_2 = jax.random.normal(rng)\n",
        "print('JAX - Random number 1:', jax_random_number_1)\n",
        "print('JAX - Random number 2:', jax_random_number_2)\n",
        "\n",
        "# Typical random numbers in NumPy\n",
        "np.random.seed(42)\n",
        "np_random_number_1 = np.random.normal()\n",
        "np_random_number_2 = np.random.normal()\n",
        "print('NumPy - Random number 1:', np_random_number_1)\n",
        "print('NumPy - Random number 2:', np_random_number_2)"
      ]
    },
    {
      "cell_type": "markdown",
      "metadata": {
        "id": "dH92GUAkJfrM"
      },
      "source": [
        "Usually, we want to have a behavior like NumPy where we get a different random number every time we sample. To achieve this, we can *split* the PRNG state to get usable subkeys every time we need a new pseudo-random number. We can do this with `jax.random.split(...)`:"
      ]
    },
    {
      "cell_type": "code",
      "execution_count": 14,
      "metadata": {
        "colab": {
          "base_uri": "https://localhost:8080/"
        },
        "id": "VmVhMP35JfrM",
        "outputId": "643b4c45-ef6a-4ce8-d736-2a38ccda1226"
      },
      "outputs": [
        {
          "output_type": "stream",
          "name": "stdout",
          "text": [
            "JAX new - Random number 1: 0.107961535\n",
            "JAX new - Random number 2: -1.2226542\n"
          ]
        }
      ],
      "source": [
        "rng, subkey1, subkey2 = jax.random.split(rng, num=3)  # We create 3 new keys\n",
        "jax_random_number_1 = jax.random.normal(subkey1)\n",
        "jax_random_number_2 = jax.random.normal(subkey2)\n",
        "print('JAX new - Random number 1:', jax_random_number_1)\n",
        "print('JAX new - Random number 2:', jax_random_number_2)"
      ]
    },
    {
      "cell_type": "markdown",
      "metadata": {
        "id": "eUaj4M2NJfrN"
      },
      "source": [
        "Every time you run this cell, you will obtain different random numbers for both operations since we create new PRNG states before sampling. In general, you want to split the PRNG key every time before generating a pseudo-number, to prevent accidentally obtaining the exact same numbers (for instance, sampling the exact same dropout mask every time you run the network makes dropout itself quite useless...). For a deeper dive into the ideas behind the random number generation in JAX, see JAX's tutorial on [Pseudo Random Numbers](https://jax.readthedocs.io/en/latest/jax-101/05-random-numbers.html)."
      ]
    },
    {
      "cell_type": "markdown",
      "metadata": {
        "id": "4p0XU9dAJfrN"
      },
      "source": [
        "## Function transformations with Jaxpr\n",
        "\n",
        "Rosalia Schneider and Vladimir Mikulik summarize the key points of JAX in the [JAX 101 tutorial](https://jax.readthedocs.io/en/latest/jax-101/01-jax-basics.html) as follows:\n",
        "\n",
        "> The most important difference, and in some sense the root of all the rest, is that JAX is designed to be functional, as in functional programming. The reason behind this is that the kinds of program transformations that JAX enables are much more feasible in functional-style programs. [...] The important feature of functional programming to grok when working with JAX is very simple: don’t write code with side-effects.\n",
        "\n",
        "Essentially, we want to write our main code of JAX in functions that do not affect anything else besides its outputs. For instance, we do not want to change input arrays in-place, or access global variables. While this might seem limiting at first, you get used to this quite quickly and most JAX functions that need to fulfill these constraints can be written this way without problems. Note that not all possible functions in training a neural network need to fulfill the constraints. For instance, loading or saving of models, the logging, or the data generation can be done in naive functions. Only the network execution, which we want to do very efficiently on our accelerator (GPU or TPU), should strictly follow these constraints.\n",
        "\n",
        "What does make JAX functions so special, and how can we think about them? A good way of gaining understanding in how JAX handles function is to understand its intermediate representation: jaxpr. Conceptually, you can think of any operation that JAX does on a function, as first trace-specializing the Python function to be transformed into a small and well-behaved intermediate form. This means that we check which operations are performed on which array, and what shapes the arrays are. Based on this representation, JAX then interprets the function with transformation-specific interpretation rules, which includes automatic differentiation or compiling a function in XLA to efficiently use the accelerator.\n",
        "\n",
        "To illustrate this intermediate representation, let's consider the same simple function we used in the [PyTorch tutorial](https://uvadlc-notebooks.readthedocs.io/en/latest/tutorial_notebooks/tutorial2/Introduction_to_PyTorch.html) to discuss the concept of dynamic computation graphs:\n",
        "\n",
        "$$ y = \\frac{1}{|x|}\\sum_{i}\\left[\\left(x_i+2\\right)^2+3\\right]$$\n",
        "\n",
        "Using common NumPy operations in JAX, we can write it as follows:"
      ]
    },
    {
      "cell_type": "code",
      "execution_count": 15,
      "metadata": {
        "colab": {
          "base_uri": "https://localhost:8080/"
        },
        "id": "O8ni10SoJfrN",
        "outputId": "7b021383-f906-4612-faa9-6b0943aca7b1"
      },
      "outputs": [
        {
          "output_type": "stream",
          "name": "stdout",
          "text": [
            "Input [0. 1. 2.]\n",
            "Output 12.666667\n"
          ]
        }
      ],
      "source": [
        "def simple_graph(x):\n",
        "    x = x + 2\n",
        "    x = x ** 2\n",
        "    x = x + 3\n",
        "    y = x.mean()\n",
        "    return y\n",
        "\n",
        "inp = jnp.arange(3, dtype=jnp.float32)\n",
        "print('Input', inp)\n",
        "print('Output', simple_graph(inp))"
      ]
    },
    {
      "cell_type": "markdown",
      "metadata": {
        "id": "NWlifp-IJfrN"
      },
      "source": [
        "To view the jaxpr representation of this function, we can use `jax.make_jaxpr`. Since the tracing depends on the shape of the input, we need to pass an input to the function (here of shape `[3]`):"
      ]
    },
    {
      "cell_type": "code",
      "execution_count": 16,
      "metadata": {
        "colab": {
          "base_uri": "https://localhost:8080/"
        },
        "id": "929Hb7NiJfrN",
        "outputId": "ed33a86d-a7a2-488d-bfa8-9caa2f1376c0"
      },
      "outputs": [
        {
          "output_type": "execute_result",
          "data": {
            "text/plain": [
              "{ lambda ; a:f32[3]. let\n",
              "    b:f32[3] = add a 2.0\n",
              "    c:f32[3] = integer_pow[y=2] b\n",
              "    d:f32[3] = add c 3.0\n",
              "    e:f32[] = reduce_sum[axes=(0,)] d\n",
              "    f:f32[] = div e 3.0\n",
              "  in (f,) }"
            ]
          },
          "metadata": {},
          "execution_count": 16
        }
      ],
      "source": [
        "jax.make_jaxpr(simple_graph)(inp)"
      ]
    },
    {
      "cell_type": "markdown",
      "metadata": {
        "id": "4fFpqyR7JfrN"
      },
      "source": [
        "A jaxpr representation follows the structure:\n",
        "\n",
        "```python\n",
        "jaxpr ::= { lambda Var* ; Var+.\n",
        "            let Eqn*\n",
        "            in  [Expr+] }\n",
        "```\n",
        "where `Var*` are constants and `Var+` are input arguments. In the cell above, this is `a:f32[3]`, i.e. an array of shape 3 with type `jnp.float32` (`inp`). The list of equations, `Eqn*`, define the intermediate results of the function. You can see that each operation in `simple_graph` is translated to a corresponding equation, like `x = x + 2` is translated to `b:f32[3] = add a 2.0`. Furthermore, you see the specialization of the operations on the input shape, like `x.mean()` being replacing in `e` and `f` with summing and dividing by 3. Finally, `Expr+` in the jaxpr representation are the outputs of the functions. In the example, this is `f`, i.e. the final result of the function.\n",
        "Based on these atomic operations, JAX offers all kind of function transformations, of which we will discuss the most important ones later in this section.\n",
        "Hence, you can consider the jaxpr representation is an intermediate compilation stage of JAX. What happens if we actually try to look at the jaxpr representation of a function with side-effect? Let's consider the following function, which, as an illustrative example, appends the input to a global list:"
      ]
    },
    {
      "cell_type": "code",
      "execution_count": 17,
      "metadata": {
        "colab": {
          "base_uri": "https://localhost:8080/"
        },
        "id": "Tsoz6mvOJfrN",
        "outputId": "e0271f09-4137-44f2-abba-458476cabca4"
      },
      "outputs": [
        {
          "output_type": "execute_result",
          "data": {
            "text/plain": [
              "{ lambda ; a:f32[3]. let\n",
              "    b:f32[3] = integer_pow[y=2] a\n",
              "    c:f32[] = reduce_sum[axes=(0,)] b\n",
              "    d:f32[] = sqrt c\n",
              "  in (d,) }"
            ]
          },
          "metadata": {},
          "execution_count": 17
        }
      ],
      "source": [
        "global_list = []\n",
        "\n",
        "# Invalid function with side-effect\n",
        "def norm(x):\n",
        "    global_list.append(x)\n",
        "    x = x ** 2\n",
        "    n = x.sum()\n",
        "    n = jnp.sqrt(n)\n",
        "    return n\n",
        "\n",
        "jax.make_jaxpr(norm)(inp)"
      ]
    },
    {
      "cell_type": "markdown",
      "metadata": {
        "id": "k7jKfJV8JfrO"
      },
      "source": [
        "As you can see, the jaxpr representation of the function does not contain any operation for `global_list.append(x)`. This is because jaxpr only understand side-effect-free code, and cannot represent such effects. Thus, we need to stick with pure functions without any side effects, to prevent any unwanted errors in our functions. If you are interested in learning more about the jaxpr representation, check out the JAX [documentation](https://jax.readthedocs.io/en/latest/jaxpr.html) on it. But for this tutorial, we just need the basics as discussed above."
      ]
    },
    {
      "cell_type": "markdown",
      "metadata": {
        "id": "v0DC1X8IJfrO"
      },
      "source": [
        "### Automatic differentiation\n",
        "\n",
        "The intermediate jaxpr representation defines a computation graph, on which we can perform an essential operation of deep learning framework: automatic differentiation. In frameworks like PyTorch with a dynamic computation graph, we would compute the gradients based on the loss tensor itself, e.g. by calling `loss.backward()`. However, JAX directly works with functions. Instead of backpropagating gradients through tensors, JAX takes as input a function, and outputs another function which directly calculates the gradients for it. While this might seem quite different to what you are used to from other frameworks, it is quite intuitive: your gradient of parameters is really a function of parameters and data.\n",
        "\n",
        "The transformation that allows us to do this is `jax.grad`, which takes as input the function, and returns another function representing the gradient calculation of the (first) input with respect to the output:"
      ]
    },
    {
      "cell_type": "code",
      "execution_count": 18,
      "metadata": {
        "colab": {
          "base_uri": "https://localhost:8080/"
        },
        "id": "W92-Miw_JfrO",
        "outputId": "be8aa566-8e79-46c4-d881-1389724e46fc"
      },
      "outputs": [
        {
          "output_type": "stream",
          "name": "stdout",
          "text": [
            "Gradient [1.3333334 2.        2.6666667]\n"
          ]
        }
      ],
      "source": [
        "grad_function = jax.grad(simple_graph)\n",
        "gradients = grad_function(inp)\n",
        "print('Gradient', gradients)"
      ]
    },
    {
      "cell_type": "markdown",
      "metadata": {
        "id": "i2qlRF69JfrO"
      },
      "source": [
        "The gradient we get here is exactly the one we would obtain when doing the calculation by hand. Moreover, we can also print the jaxpr representation of the gradient function:"
      ]
    },
    {
      "cell_type": "code",
      "execution_count": 19,
      "metadata": {
        "colab": {
          "base_uri": "https://localhost:8080/"
        },
        "id": "I0AjhTwmJfrO",
        "outputId": "7a3cd714-f767-45dd-9cd0-e7f9b449d37d"
      },
      "outputs": [
        {
          "output_type": "execute_result",
          "data": {
            "text/plain": [
              "{ lambda ; a:f32[3]. let\n",
              "    b:f32[3] = add a 2.0\n",
              "    c:f32[3] = integer_pow[y=2] b\n",
              "    d:f32[3] = integer_pow[y=1] b\n",
              "    e:f32[3] = mul 2.0 d\n",
              "    f:f32[3] = add c 3.0\n",
              "    g:f32[] = reduce_sum[axes=(0,)] f\n",
              "    _:f32[] = div g 3.0\n",
              "    h:f32[] = div 1.0 3.0\n",
              "    i:f32[3] = broadcast_in_dim[broadcast_dimensions=() shape=(3,)] h\n",
              "    j:f32[3] = mul i e\n",
              "  in (j,) }"
            ]
          },
          "metadata": {},
          "execution_count": 19
        }
      ],
      "source": [
        "jax.make_jaxpr(grad_function)(inp)"
      ]
    },
    {
      "cell_type": "markdown",
      "metadata": {
        "id": "selRPbGXJfrO"
      },
      "source": [
        "This shows an unique property of JAX: we can print out the exact computation graph for determining the gradients. Compared to the original function, you can see new equations like `d:f32[3] = integer_pow[y=1] b` and `e:f32[3] = mul 2.0 d`, which model the intermediate gradient of $\\partial b_i^2/\\partial b_i = 2b_i$. Furthermore, the return value `j` is the multiplication of `e` with $1/3$, which maps to the gradient being:\n",
        "\n",
        "$$ \\frac{\\partial y}{\\partial x_i} = \\frac{2}{3}(x_i + 2)$$\n",
        "\n",
        "Hence, we can not only use JAX to estimate the gradients at a certain input value, but actually return the analytical gradient function which is quite a nice feature and highlights the properties of JAX!"
      ]
    },
    {
      "cell_type": "markdown",
      "metadata": {
        "id": "4Pw0uhaRJfrO"
      },
      "source": [
        "Often, we do not only want the gradients, but also the actual output of the function, for instance for logging the loss. This can be efficiently done using `jax.value_and_grad`:"
      ]
    },
    {
      "cell_type": "code",
      "execution_count": 20,
      "metadata": {
        "colab": {
          "base_uri": "https://localhost:8080/"
        },
        "id": "1wWRPVsBJfrO",
        "outputId": "07532010-8b37-4215-b402-95fb9f1233de"
      },
      "outputs": [
        {
          "output_type": "execute_result",
          "data": {
            "text/plain": [
              "(Array(12.666667, dtype=float32),\n",
              " Array([1.3333334, 2.       , 2.6666667], dtype=float32))"
            ]
          },
          "metadata": {},
          "execution_count": 20
        }
      ],
      "source": [
        "val_grad_function = jax.value_and_grad(simple_graph)\n",
        "val_grad_function(inp)"
      ]
    },
    {
      "cell_type": "markdown",
      "metadata": {
        "id": "JzQmBIKYJfrP"
      },
      "source": [
        "Further, we can specialize the gradient function to consider multiple input arguments, and add extra outputs that we may not want to differentiate (for instance the accuracy in classification). We will visit the most important ones in the network training later in this section, and refer to other great resources for more details ([JAX Quickstart](https://jax.readthedocs.io/en/latest/notebooks/quickstart.html#taking-derivatives-with-grad), [Autodiff cookbook](https://jax.readthedocs.io/en/latest/notebooks/autodiff_cookbook.html), [Advanced autodiff](https://jax.readthedocs.io/en/latest/jax-101/04-advanced-autodiff.html)).\n",
        "\n",
        "To train neural networks, we need to determine the gradient for every parameter in the network with respect to the loss. Listing all parameters as input arguments quickly gets annoying and infeasible. JAX offers an elegant data structure to summarize all parameters: a pytree ([documentation](https://jax.readthedocs.io/en/latest/pytrees.html)). A pytree is a container-like object which structures its elements as a tree. For instance, a linear neural network might have its parameters organized similar to:\n",
        "\n",
        "```python\n",
        "params = {\n",
        "    'linear1': {\n",
        "        'weights': ...,\n",
        "        'bias': ...\n",
        "    },\n",
        "    ...\n",
        "}\n",
        "```\n",
        "JAX offers functions to process pytrees efficiently, such as obtaining all leafs (i.e. all parameters in a network) or applying a function on each element. We will come back to these structures when training a full network."
      ]
    },
    {
      "cell_type": "markdown",
      "metadata": {
        "id": "QvD59gTzJfrP"
      },
      "source": [
        "### Speeding up computation with Just-In-Time compilation\n",
        "\n",
        "Interestingly, from the previous code cell, you can see in the jaxpr representation of the gradient function that calculating the array `f` and scalar `g` are unnecessary. Intuitively, the gradient of taking the mean is independent of the actual output of the mean, hence we could drop `f` and `g` without any drawback. Finding such cases to improve efficiency and optimizing the code to take full advantage of the available accelerator hardware is one of the big selling points of JAX. It achieves that by *compiling functions just-in-time* with [XLA](https://www.tensorflow.org/xla) (Accelerated Linear Algebra), using their jaxpr representation. Thereby, XLA fuses operations to reduce execution time of short-lived operations and eliminates intermediate storage buffers where not needed. For more details, see the [XLA documentation](https://docs.w3cub.com/tensorflow~guide/performance/xla/index).\n",
        "\n",
        "To compile a function, JAX provides the `jax.jit` transformation. We can either apply the transformation directly on a function (as we will do in the next cell), or use the decorator `@jax.jit` before a function."
      ]
    },
    {
      "cell_type": "code",
      "execution_count": 21,
      "metadata": {
        "id": "xPzfHcemJfrP"
      },
      "outputs": [],
      "source": [
        "jitted_function = jax.jit(simple_graph)"
      ]
    },
    {
      "cell_type": "markdown",
      "metadata": {
        "id": "KyQ7WV2YJfrP"
      },
      "source": [
        "The `jitted_function` takes the same input arguments as the original function `simple_graph`. Since the jaxpr representation of a function depends on the input shape, the compilation is started once we put the first input in. However, note that this also means that for every different shape we want to run the function, a new XLA compilation is needed. This is why it is recommended to use padding in cases where your input shape strongly varies (we revisit this topic in the final section of this tutorial). For now, let's create an array with 1000 random values, on which we apply the jitted function:"
      ]
    },
    {
      "cell_type": "code",
      "execution_count": 22,
      "metadata": {
        "id": "tZftW4iYJfrP"
      },
      "outputs": [],
      "source": [
        "# Create a new random subkey for generating new random values\n",
        "rng, normal_rng = jax.random.split(rng)\n",
        "large_input = jax.random.normal(normal_rng, (1000,))\n",
        "# Run the jitted function once to start compilation\n",
        "_ = jitted_function(large_input)"
      ]
    },
    {
      "cell_type": "markdown",
      "metadata": {
        "id": "iCYQ2pOOJfrP"
      },
      "source": [
        "The output is not any different from what you would get from the non-jitted function. However, how is it about the runtime? Let's time both the original and the jitted function. Due to the asynchronous execution on the GPU, we add `.block_until_ready()` on the output, which blocks the Python execution until the accelerator (here GPU) finished computing the result and hence get an accurate time estimate."
      ]
    },
    {
      "cell_type": "code",
      "execution_count": 23,
      "metadata": {
        "colab": {
          "base_uri": "https://localhost:8080/"
        },
        "id": "vkvFQOlJJfrP",
        "outputId": "51b65a7d-7dee-4d0e-c614-f0524a3f9608"
      },
      "outputs": [
        {
          "output_type": "stream",
          "name": "stdout",
          "text": [
            "1.45 ms ± 512 µs per loop (mean ± std. dev. of 7 runs, 1000 loops each)\n"
          ]
        }
      ],
      "source": [
        "%%timeit\n",
        "simple_graph(large_input).block_until_ready()"
      ]
    },
    {
      "cell_type": "code",
      "execution_count": 24,
      "metadata": {
        "colab": {
          "base_uri": "https://localhost:8080/"
        },
        "id": "MzX0sTJXJfrP",
        "outputId": "dc44eee1-9ca0-4e03-da88-8d7e7785c3b6"
      },
      "outputs": [
        {
          "output_type": "stream",
          "name": "stdout",
          "text": [
            "133 µs ± 35.1 µs per loop (mean ± std. dev. of 7 runs, 10000 loops each)\n"
          ]
        }
      ],
      "source": [
        "%%timeit\n",
        "jitted_function(large_input).block_until_ready()"
      ]
    },
    {
      "cell_type": "markdown",
      "metadata": {
        "id": "WJM3WDDfJfrT"
      },
      "source": [
        "We see that the compiled function is almost 10-15x faster! This is quite an improvement in performance, and shows the potential of compiling functions with XLA. Furthermore, we can also apply multiple transformations on the same function in JAX, such as applying `jax.jit` on a gradient function:"
      ]
    },
    {
      "cell_type": "code",
      "execution_count": 25,
      "metadata": {
        "id": "ecjQ3oqHJfrT"
      },
      "outputs": [],
      "source": [
        "jitted_grad_function = jax.jit(grad_function)\n",
        "_ = jitted_grad_function(large_input)  # Apply once to compile"
      ]
    },
    {
      "cell_type": "markdown",
      "metadata": {
        "id": "rfVi5nwdJfrU"
      },
      "source": [
        "Let's time the functions once more:"
      ]
    },
    {
      "cell_type": "code",
      "execution_count": 26,
      "metadata": {
        "colab": {
          "base_uri": "https://localhost:8080/"
        },
        "id": "qRoFaaNUJfrU",
        "outputId": "e4be63b6-1286-42e5-ed7f-c1bd1c599637"
      },
      "outputs": [
        {
          "output_type": "stream",
          "name": "stdout",
          "text": [
            "5.52 ms ± 361 µs per loop (mean ± std. dev. of 7 runs, 1 loop each)\n"
          ]
        }
      ],
      "source": [
        "%%timeit\n",
        "grad_function(large_input).block_until_ready()"
      ]
    },
    {
      "cell_type": "code",
      "execution_count": 27,
      "metadata": {
        "colab": {
          "base_uri": "https://localhost:8080/"
        },
        "id": "DZxqrMF4JfrU",
        "outputId": "c2aa7111-3a24-4482-8e7d-dc6a16616715"
      },
      "outputs": [
        {
          "output_type": "stream",
          "name": "stdout",
          "text": [
            "112 µs ± 18.9 µs per loop (mean ± std. dev. of 7 runs, 10000 loops each)\n"
          ]
        }
      ],
      "source": [
        "%%timeit\n",
        "jitted_grad_function(large_input).block_until_ready()"
      ]
    },
    {
      "cell_type": "markdown",
      "metadata": {
        "id": "de1vGdm9JfrU"
      },
      "source": [
        "Once more, the jitted function is much faster than the original one. Intuitively, this shows the potential speed up we can gain by using `jax.jit` to compile the whole training step of a network. Generally, we want to jit the largest possible chunk of computation to give the compiler maximum freedom.\n",
        "\n",
        "There are situations in which applying jit to a function is not straight-forward, for instance, if an input argument cannot be traced, or you need to use loops that depend on input arguments. To keep the tutorial simple, and since most neural network training functions do not run into these issues, we do not discuss such special cases here. Instead, we refer to the section on just-in-time compilation in the great tutorials of [JAX 101 Tutorial](https://jax.readthedocs.io/en/latest/jax-101/02-jitting.html), [JAX Quickstart](https://jax.readthedocs.io/en/latest/notebooks/quickstart.html#using-jit-to-speed-up-functions), and [Thinking in JAX](https://jax.readthedocs.io/en/latest/notebooks/thinking_in_jax.html#to-jit-or-not-to-jit)."
      ]
    },
    {
      "cell_type": "markdown",
      "metadata": {
        "id": "FGbx6IEtJfrU"
      },
      "source": [
        "## Implementing a Neural Network with Flax\n",
        "\n",
        "With having reviewed the basics of JAX, we are now ready to implement our own neural network. Technically, we could implement our own neural network from scratch with JAX (see [here](https://jax.readthedocs.io/en/latest/notebooks/Neural_Network_and_Data_Loading.html) for an example), but we do not really want to do that every time. Similarly to PyTorch's `torch.nn` package, there exist neural network libraries based on JAX which provide such basic functionality. A (non-exclusive) collection of them are:\n",
        "\n",
        "* [Flax](https://flax.readthedocs.io/en/latest/index.html), started by the Google Brain Team, focuses on flexibility and clarity.\n",
        "* [Haiku](https://dm-haiku.readthedocs.io/en/latest/), from DeepMind, focuses on simplicity and compositionality.\n",
        "* [Trax](https://github.com/google/trax), maintained by the Google Brain Team, provides solutions for common training tasks\n",
        "* [Equinox](https://github.com/patrick-kidger/equinox), created by Patrick Kidger and Cristian Garcia, implements neural networks as callable PyTrees\n",
        "* [Jraph](https://github.com/deepmind/jraph), from DeepMind, is a graph neural network library (similar to PyTorch Geometric)\n",
        "\n",
        "For this tutorial series, we will use Flax due to its flexibility, intuitive API, and larger community. However, this should not mean that the other libraries are necessarily worse, and we recommend giving them a try as well to find the best library for yourself!\n",
        "\n",
        "We will introduce the libraries and all additional parts you might need to train a neural network in Flax, using a simple example classifier on a simple yet well known example: XOR. Given two binary inputs $x_1$ and $x_2$, the label to predict is $1$ if either $x_1$ or $x_2$ is $1$ while the other is $0$, or the label is $0$ in all other cases. The example became famous by the fact that a single neuron, i.e. a linear classifier, cannot learn this simple function. Hence, we will learn how to build a small neural network that can learn this function.\n",
        "To make it a little bit more interesting, we move the XOR into continuous space and introduce some gaussian noise on the binary inputs. Our desired separation of an XOR dataset could look as follows:\n",
        "\n",
        "<center style=\"width: 100%\"><img src=\"https://github.com/phlippe/uvadlc_notebooks/blob/master/docs/tutorial_notebooks/tutorial2/continuous_xor.svg?raw=1\" width=\"350px\"></center>"
      ]
    },
    {
      "cell_type": "markdown",
      "metadata": {
        "id": "2_f0pfKvJfrU"
      },
      "source": [
        "### The model\n",
        "\n",
        "The package `flax.linen` defines a series of useful classes like linear networks layers, convolutions, activation functions etc. A full list can be found [here](https://flax.readthedocs.io/en/latest/flax.linen.html). In case you need a certain network layer, check the documentation of the package first before writing the layer yourself as the package likely contains the code for it already. We import it below:"
      ]
    },
    {
      "cell_type": "code",
      "execution_count": 28,
      "metadata": {
        "id": "InvuwDCJJfrU"
      },
      "outputs": [],
      "source": [
        "try:\n",
        "    import flax\n",
        "except ModuleNotFoundError: # Install flax if missing\n",
        "    !pip install --quiet flax\n",
        "    import flax\n",
        "\n",
        "from flax import linen as nn"
      ]
    },
    {
      "cell_type": "markdown",
      "metadata": {
        "id": "INkooH-nJfrU"
      },
      "source": [
        "#### nn.Module\n",
        "\n",
        "Similar to PyTorch, a neural network is built up out of modules. Modules can contain other modules, and a neural network is considered to be a module itself as well. The basic template of a module is as follows:"
      ]
    },
    {
      "cell_type": "code",
      "execution_count": 29,
      "metadata": {
        "id": "HcCQvrsPJfrV"
      },
      "outputs": [],
      "source": [
        "class MyModule(nn.Module):\n",
        "    # Some dataclass attributes, like hidden dimension, number of layers, etc. of the form:\n",
        "    # varname : vartype\n",
        "\n",
        "    def setup(self):\n",
        "        # Flax uses \"lazy\" initialization. This function is called once before you\n",
        "        # call the model, or try to access attributes. In here, define your submodules etc.\n",
        "        pass\n",
        "\n",
        "    def __call__(self, x):\n",
        "        # Function for performing the calculation of the module.\n",
        "        pass"
      ]
    },
    {
      "cell_type": "markdown",
      "metadata": {
        "id": "Uul3v_lJJfrV"
      },
      "source": [
        "The main, obvious difference to PyTorch is that Flax uses lazy initialization. The function `setup` is called once on a module instance before any other methods are called, or when you try to access a attribute of *self* defined in setup. Additional object attributes are defined below the class name. However, in contrast to PyTorch, the parameters are not part of the module. Instead, we can create a set of parameters of the module by calling its `init()` function. This function takes as input a PRNG state for sampling pseudo-random numbers and an example input to the model, and returns a set of parameters for the module as a pytree. Further, since the init function requires an input to the network, we can infer the input shape for all modules and do not need to explicitly define it during the module creation. This becomes more clear in the example we show in a second.\n",
        "\n",
        "The `__call__` method represents the `forward` function in PyTorch, and performs the actual computation of the module. It can take additional arguments if needed, like whether we are training or validation."
      ]
    },
    {
      "cell_type": "markdown",
      "metadata": {
        "id": "kHwf4gDsJfrV"
      },
      "source": [
        "#### Simple classifier\n",
        "\n",
        "To get an intuition behind how we work with modules in Flax, let's define our own small neural network. We will use a minimal network with a input layer, one hidden layer with tanh as activation function, and a output layer. In other words, our networks should look something like this:\n",
        "\n",
        "<center width=\"100%\"><img src=\"https://github.com/phlippe/uvadlc_notebooks/blob/master/docs/tutorial_notebooks/tutorial2/small_neural_network.svg?raw=1\" width=\"300px\"></center>\n",
        "\n",
        "The input neurons are shown in blue, which represent the coordinates $x_1$ and $x_2$ of a data point. The hidden neurons including a tanh activation are shown in white, and the output neuron in red.\n",
        "In Flax, we can define this as follows:"
      ]
    },
    {
      "cell_type": "code",
      "execution_count": 30,
      "metadata": {
        "id": "Ro3Idj_VJfrV"
      },
      "outputs": [],
      "source": [
        "class SimpleClassifier(nn.Module):\n",
        "    num_hidden : int   # Number of hidden neurons\n",
        "    num_outputs : int  # Number of output neurons\n",
        "\n",
        "    def setup(self):\n",
        "        # Create the modules we need to build the network\n",
        "        # nn.Dense is a linear layer\n",
        "        self.linear1 = nn.Dense(features=self.num_hidden)\n",
        "        self.linear2 = nn.Dense(features=self.num_outputs)\n",
        "\n",
        "    def __call__(self, x):\n",
        "        # Perform the calculation of the model to determine the prediction\n",
        "        x = self.linear1(x)\n",
        "        x = nn.tanh(x)\n",
        "        x = self.linear2(x)\n",
        "        return x"
      ]
    },
    {
      "cell_type": "markdown",
      "metadata": {
        "id": "O8IvdqndJfrV"
      },
      "source": [
        "One thing you may notice is that usually, all layers that we define in `setup` are also used in the `__call__` function. To reduce the code overhead, Flax provides an alternative, more compact network creation with `nn.compact`. With that, we can remove the setup function and instead our model as:"
      ]
    },
    {
      "cell_type": "code",
      "execution_count": 31,
      "metadata": {
        "id": "XuOkQ5F5JfrV"
      },
      "outputs": [],
      "source": [
        "class SimpleClassifierCompact(nn.Module):\n",
        "    num_hidden : int   # Number of hidden neurons\n",
        "    num_outputs : int  # Number of output neurons\n",
        "\n",
        "    @nn.compact  # Tells Flax to look for defined submodules\n",
        "    def __call__(self, x):\n",
        "        # Perform the calculation of the model to determine the prediction\n",
        "        # while defining necessary layers\n",
        "        x = nn.Dense(features=self.num_hidden)(x)\n",
        "        x = nn.tanh(x)\n",
        "        x = nn.Dense(features=self.num_outputs)(x)\n",
        "        return x"
      ]
    },
    {
      "cell_type": "markdown",
      "metadata": {
        "id": "g0WuSbUkJfrV"
      },
      "source": [
        "The `nn.compact` annotation of the `__call__` method signals Flax to look for submodules that we define in the forward pass. These are automatically recognized as such, so that we can use them for initialization etc. Which of the two model definition you use is often up to you (see the [Flax documentation](https://flax.readthedocs.io/en/latest/design_notes/setup_or_nncompact.html) for some pros and cons for both methods). In the following tutorials, we will mostly use the compact version, but occasionally come back to the explicit setup function where necessary. For instance, if we define more functions on a module besides `__call__` and want to reuse some modules, it is recommended to use the setup version."
      ]
    },
    {
      "cell_type": "markdown",
      "metadata": {
        "id": "rNBBzp40JfrV"
      },
      "source": [
        "For the examples in this notebook, we will use a tiny neural network with two input neurons and eight hidden neurons. As we perform binary classification, we will use a single output neuron. Note that we do not apply a sigmoid on the output yet. This is because other functions, especially the loss, are more efficient and precise to calculate on the original outputs instead of the sigmoid output. We will discuss the detailed reason later.\n",
        "\n",
        "Now, let's create an instance of this network:"
      ]
    },
    {
      "cell_type": "code",
      "execution_count": 32,
      "metadata": {
        "colab": {
          "base_uri": "https://localhost:8080/"
        },
        "id": "TfQUggqQJfrV",
        "outputId": "79becc44-24f6-463a-dd7a-d5b585297dfb"
      },
      "outputs": [
        {
          "output_type": "stream",
          "name": "stdout",
          "text": [
            "SimpleClassifier(\n",
            "    # attributes\n",
            "    num_hidden = 8\n",
            "    num_outputs = 1\n",
            ")\n"
          ]
        }
      ],
      "source": [
        "model = SimpleClassifier(num_hidden=8, num_outputs=1)\n",
        "# Printing the model shows its attributes\n",
        "print(model)"
      ]
    },
    {
      "cell_type": "markdown",
      "metadata": {
        "id": "jA6fsui6JfrZ"
      },
      "source": [
        "At this stage, the model has no parameters initialized. To do this, let's create a random input of our dataset, and apply the init function:"
      ]
    },
    {
      "cell_type": "code",
      "execution_count": 33,
      "metadata": {
        "colab": {
          "base_uri": "https://localhost:8080/"
        },
        "id": "uAetL6KZJfrZ",
        "outputId": "cfcb6276-c3f1-434a-a6ba-63fa518081ff"
      },
      "outputs": [
        {
          "output_type": "stream",
          "name": "stdout",
          "text": [
            "{'params': {'linear1': {'kernel': Array([[ 0.31476855, -0.46477693, -0.7862043 , -0.48842615, -0.65373844,\n",
            "         0.38925457,  0.30380553,  0.04179859],\n",
            "       [-0.3298236 ,  1.1110365 ,  0.5490939 , -0.8168818 ,  0.40057254,\n",
            "        -0.86659884,  1.2087965 ,  1.0364623 ]], dtype=float32), 'bias': Array([0., 0., 0., 0., 0., 0., 0., 0.], dtype=float32)}, 'linear2': {'kernel': Array([[-0.27971816],\n",
            "       [-0.74667764],\n",
            "       [ 0.2979161 ],\n",
            "       [-0.2626724 ],\n",
            "       [-0.5084385 ],\n",
            "       [ 0.04573096],\n",
            "       [-0.47257012],\n",
            "       [ 0.504585  ]], dtype=float32), 'bias': Array([0.], dtype=float32)}}}\n"
          ]
        }
      ],
      "source": [
        "rng, inp_rng, init_rng = jax.random.split(rng, 3)\n",
        "inp = jax.random.normal(inp_rng, (8, 2))  # Batch size 8, input size 2\n",
        "# Initialize the model\n",
        "params = model.init(init_rng, inp)\n",
        "print(params)"
      ]
    },
    {
      "cell_type": "markdown",
      "metadata": {
        "id": "Mr_gEUTLJfrb"
      },
      "source": [
        "Now, we have parameters with which we can apply the network. We see that the parameters follow the same structure as defined in our module, and each linear layer contains one `kernel`, i.e. the weights, and a bias parameter. With this, we could apply the model on an input using the `apply` function:"
      ]
    },
    {
      "cell_type": "code",
      "execution_count": 34,
      "metadata": {
        "colab": {
          "base_uri": "https://localhost:8080/"
        },
        "id": "HQq0MbC7Jfrb",
        "outputId": "be1eadad-8cb0-4107-f642-bf03fe7ca7ec"
      },
      "outputs": [
        {
          "output_type": "execute_result",
          "data": {
            "text/plain": [
              "Array([[-0.48368227],\n",
              "       [ 0.04365468],\n",
              "       [ 0.0666853 ],\n",
              "       [-0.34203658],\n",
              "       [ 0.48351493],\n",
              "       [ 0.3742488 ],\n",
              "       [ 0.14232664],\n",
              "       [-0.5916515 ]], dtype=float32)"
            ]
          },
          "metadata": {},
          "execution_count": 34
        }
      ],
      "source": [
        "model.apply(params, inp)"
      ]
    },
    {
      "cell_type": "markdown",
      "metadata": {
        "id": "vx4rZp6cJfrd"
      },
      "source": [
        "The model returns an output array of shape `[8,1]`, which corresponds to the one output neuron in the model for all 8 batch elements. With that, we now know how to initialize a model, and run a model. Next, let's look at the data."
      ]
    },
    {
      "cell_type": "markdown",
      "metadata": {
        "id": "ssJpQW9YJfrd"
      },
      "source": [
        "### The data\n",
        "\n",
        "As mentioned before, JAX is not meant to 'reinvent the wheel' for every part of the deep learning pipeline. Hence, JAX and Flax do not natively provide a data loading functionality, but instead refer to other available libraries like Tensorflow and PyTorch. Here, let's use again the package `torch.utils.data` library."
      ]
    },
    {
      "cell_type": "code",
      "execution_count": 35,
      "metadata": {
        "id": "fzWKzjMbJfrd"
      },
      "outputs": [],
      "source": [
        "import torch.utils.data as data"
      ]
    },
    {
      "cell_type": "markdown",
      "metadata": {
        "id": "zljL9UPeJfre"
      },
      "source": [
        "The data package defines two classes which are the standard interface for handling data in PyTorch: `data.Dataset`, and `data.DataLoader`. The dataset class provides an uniform interface to access the training/test data, while the data loader makes sure to efficiently load and stack the data points from the dataset into batches during training."
      ]
    },
    {
      "cell_type": "markdown",
      "metadata": {
        "id": "AO6_QR9tJfre"
      },
      "source": [
        "#### The dataset class\n",
        "\n",
        "The dataset class summarizes the basic functionality of a dataset in a natural way. To define a dataset in PyTorch, we simply specify two functions: `__getitem__`, and `__len__`. The get-item function has to return the $i$-th data point in the dataset, while the len function returns the size of the dataset. For the XOR dataset, we can define the dataset class as follows:"
      ]
    },
    {
      "cell_type": "code",
      "execution_count": 36,
      "metadata": {
        "id": "0DPaypruJfre"
      },
      "outputs": [],
      "source": [
        "class XORDataset(data.Dataset):\n",
        "\n",
        "    def __init__(self, size, seed, std=0.1):\n",
        "        \"\"\"\n",
        "        Inputs:\n",
        "            size - Number of data points we want to generate\n",
        "            seed - The seed to use to create the PRNG state with which we want to generate the data points\n",
        "            std - Standard deviation of the noise (see generate_continuous_xor function)\n",
        "        \"\"\"\n",
        "        super().__init__()\n",
        "        self.size = size\n",
        "        self.np_rng = np.random.RandomState(seed=seed)\n",
        "        self.std = std\n",
        "        self.generate_continuous_xor()\n",
        "\n",
        "    def generate_continuous_xor(self):\n",
        "        # Each data point in the XOR dataset has two variables, x and y, that can be either 0 or 1\n",
        "        # The label is their XOR combination, i.e. 1 if only x or only y is 1 while the other is 0.\n",
        "        # If x=y, the label is 0.\n",
        "        data = self.np_rng.randint(low=0, high=2, size=(self.size, 2)).astype(np.float32)\n",
        "        label = (data.sum(axis=1) == 1).astype(np.int32)\n",
        "        # To make it slightly more challenging, we add a bit of gaussian noise to the data points.\n",
        "        data += self.np_rng.normal(loc=0.0, scale=self.std, size=data.shape)\n",
        "\n",
        "        self.data = data\n",
        "        self.label = label\n",
        "\n",
        "    def __len__(self):\n",
        "        # Number of data point we have. Alternatively self.data.shape[0], or self.label.shape[0]\n",
        "        return self.size\n",
        "\n",
        "    def __getitem__(self, idx):\n",
        "        # Return the idx-th data point of the dataset\n",
        "        # If we have multiple things to return (data point and label), we can return them as tuple\n",
        "        data_point = self.data[idx]\n",
        "        data_label = self.label[idx]\n",
        "        return data_point, data_label"
      ]
    },
    {
      "cell_type": "markdown",
      "metadata": {
        "id": "oxIO4kRrJfre"
      },
      "source": [
        "Note that in contrast to our [PyTorch tutorial](https://uvadlc-notebooks.readthedocs.io/en/latest/tutorial_notebooks/tutorial2/Introduction_to_PyTorch.html#The-data), we use NumPy to generate the random data. Similar to JAX, NumPy also allows the pseudo-number generation based on a PRNG state. Hence, for better reproducibility, we are doing the same here. Let's try to create such a dataset and inspect it:"
      ]
    },
    {
      "cell_type": "code",
      "execution_count": 37,
      "metadata": {
        "colab": {
          "base_uri": "https://localhost:8080/"
        },
        "id": "8DyXMlHfJfre",
        "outputId": "eda71659-c1be-4f65-83ed-5293daed02e9"
      },
      "outputs": [
        {
          "output_type": "stream",
          "name": "stdout",
          "text": [
            "Size of dataset: 200\n",
            "Data point 0: (array([-0.06800247,  1.0232254 ], dtype=float32), 1)\n"
          ]
        }
      ],
      "source": [
        "dataset = XORDataset(size=200, seed=42)\n",
        "print(\"Size of dataset:\", len(dataset))\n",
        "print(\"Data point 0:\", dataset[0])"
      ]
    },
    {
      "cell_type": "markdown",
      "metadata": {
        "id": "-Ef1nRjwJfre"
      },
      "source": [
        "To better relate to the dataset, we visualize the samples below."
      ]
    },
    {
      "cell_type": "code",
      "execution_count": 38,
      "metadata": {
        "id": "647TY3ciJfre"
      },
      "outputs": [],
      "source": [
        "def visualize_samples(data, label):\n",
        "    data_0 = data[label == 0]\n",
        "    data_1 = data[label == 1]\n",
        "\n",
        "    plt.figure(figsize=(4,4))\n",
        "    plt.scatter(data_0[:,0], data_0[:,1], edgecolor=\"#333\", label=\"Class 0\")\n",
        "    plt.scatter(data_1[:,0], data_1[:,1], edgecolor=\"#333\", label=\"Class 1\")\n",
        "    plt.title(\"Dataset samples\")\n",
        "    plt.ylabel(r\"$x_2$\")\n",
        "    plt.xlabel(r\"$x_1$\")\n",
        "    plt.legend()"
      ]
    },
    {
      "cell_type": "code",
      "execution_count": 39,
      "metadata": {
        "colab": {
          "base_uri": "https://localhost:8080/",
          "height": 425
        },
        "id": "PwcKMUW4Jfre",
        "outputId": "3e2ae24f-a123-4a6a-cc46-86037445ac4a"
      },
      "outputs": [
        {
          "output_type": "display_data",
          "data": {
            "text/plain": [
              "<Figure size 400x400 with 1 Axes>"
            ],
            "image/svg+xml": "<?xml version=\"1.0\" encoding=\"utf-8\" standalone=\"no\"?>\n<!DOCTYPE svg PUBLIC \"-//W3C//DTD SVG 1.1//EN\"\n  \"http://www.w3.org/Graphics/SVG/1.1/DTD/svg11.dtd\">\n<svg xmlns:xlink=\"http://www.w3.org/1999/xlink\" width=\"289.424844pt\" height=\"287.037813pt\" viewBox=\"0 0 289.424844 287.037813\" xmlns=\"http://www.w3.org/2000/svg\" version=\"1.1\">\n <metadata>\n  <rdf:RDF xmlns:dc=\"http://purl.org/dc/elements/1.1/\" xmlns:cc=\"http://creativecommons.org/ns#\" xmlns:rdf=\"http://www.w3.org/1999/02/22-rdf-syntax-ns#\">\n   <cc:Work>\n    <dc:type rdf:resource=\"http://purl.org/dc/dcmitype/StillImage\"/>\n    <dc:date>2024-12-16T17:59:57.694937</dc:date>\n    <dc:format>image/svg+xml</dc:format>\n    <dc:creator>\n     <cc:Agent>\n      <dc:title>Matplotlib v3.8.0, https://matplotlib.org/</dc:title>\n     </cc:Agent>\n    </dc:creator>\n   </cc:Work>\n  </rdf:RDF>\n </metadata>\n <defs>\n  <style type=\"text/css\">*{stroke-linejoin: round; stroke-linecap: butt}</style>\n </defs>\n <g id=\"figure_1\">\n  <g id=\"patch_1\">\n   <path d=\"M 0 287.037813 \nL 289.424844 287.037813 \nL 289.424844 0 \nL 0 0 \nz\n\" style=\"fill: #ffffff\"/>\n  </g>\n  <g id=\"axes_1\">\n   <g id=\"patch_2\">\n    <path d=\"M 59.024844 244.078125 \nL 282.224844 244.078125 \nL 282.224844 22.318125 \nL 59.024844 22.318125 \nz\n\" style=\"fill: #eaeaf2\"/>\n   </g>\n   <g id=\"matplotlib.axis_1\">\n    <g id=\"xtick_1\">\n     <g id=\"line2d_1\">\n      <path d=\"M 98.338694 244.078125 \nL 98.338694 22.318125 \n\" clip-path=\"url(#pe53537daa6)\" style=\"fill: none; stroke: #ffffff; stroke-linecap: round\"/>\n     </g>\n     <g id=\"text_1\">\n      <!-- 0.0 -->\n      <g style=\"fill: #262626\" transform=\"translate(89.591975 261.936406) scale(0.11 -0.11)\">\n       <defs>\n        <path id=\"DejaVuSans-30\" d=\"M 2034 4250 \nQ 1547 4250 1301 3770 \nQ 1056 3291 1056 2328 \nQ 1056 1369 1301 889 \nQ 1547 409 2034 409 \nQ 2525 409 2770 889 \nQ 3016 1369 3016 2328 \nQ 3016 3291 2770 3770 \nQ 2525 4250 2034 4250 \nz\nM 2034 4750 \nQ 2819 4750 3233 4129 \nQ 3647 3509 3647 2328 \nQ 3647 1150 3233 529 \nQ 2819 -91 2034 -91 \nQ 1250 -91 836 529 \nQ 422 1150 422 2328 \nQ 422 3509 836 4129 \nQ 1250 4750 2034 4750 \nz\n\" transform=\"scale(0.015625)\"/>\n        <path id=\"DejaVuSans-2e\" d=\"M 684 794 \nL 1344 794 \nL 1344 0 \nL 684 0 \nL 684 794 \nz\n\" transform=\"scale(0.015625)\"/>\n       </defs>\n       <use xlink:href=\"#DejaVuSans-30\"/>\n       <use xlink:href=\"#DejaVuSans-2e\" x=\"63.623047\"/>\n       <use xlink:href=\"#DejaVuSans-30\" x=\"95.410156\"/>\n      </g>\n     </g>\n    </g>\n    <g id=\"xtick_2\">\n     <g id=\"line2d_2\">\n      <path d=\"M 168.880926 244.078125 \nL 168.880926 22.318125 \n\" clip-path=\"url(#pe53537daa6)\" style=\"fill: none; stroke: #ffffff; stroke-linecap: round\"/>\n     </g>\n     <g id=\"text_2\">\n      <!-- 0.5 -->\n      <g style=\"fill: #262626\" transform=\"translate(160.134208 261.936406) scale(0.11 -0.11)\">\n       <defs>\n        <path id=\"DejaVuSans-35\" d=\"M 691 4666 \nL 3169 4666 \nL 3169 4134 \nL 1269 4134 \nL 1269 2991 \nQ 1406 3038 1543 3061 \nQ 1681 3084 1819 3084 \nQ 2600 3084 3056 2656 \nQ 3513 2228 3513 1497 \nQ 3513 744 3044 326 \nQ 2575 -91 1722 -91 \nQ 1428 -91 1123 -41 \nQ 819 9 494 109 \nL 494 744 \nQ 775 591 1075 516 \nQ 1375 441 1709 441 \nQ 2250 441 2565 725 \nQ 2881 1009 2881 1497 \nQ 2881 1984 2565 2268 \nQ 2250 2553 1709 2553 \nQ 1456 2553 1204 2497 \nQ 953 2441 691 2322 \nL 691 4666 \nz\n\" transform=\"scale(0.015625)\"/>\n       </defs>\n       <use xlink:href=\"#DejaVuSans-30\"/>\n       <use xlink:href=\"#DejaVuSans-2e\" x=\"63.623047\"/>\n       <use xlink:href=\"#DejaVuSans-35\" x=\"95.410156\"/>\n      </g>\n     </g>\n    </g>\n    <g id=\"xtick_3\">\n     <g id=\"line2d_3\">\n      <path d=\"M 239.423158 244.078125 \nL 239.423158 22.318125 \n\" clip-path=\"url(#pe53537daa6)\" style=\"fill: none; stroke: #ffffff; stroke-linecap: round\"/>\n     </g>\n     <g id=\"text_3\">\n      <!-- 1.0 -->\n      <g style=\"fill: #262626\" transform=\"translate(230.67644 261.936406) scale(0.11 -0.11)\">\n       <defs>\n        <path id=\"DejaVuSans-31\" d=\"M 794 531 \nL 1825 531 \nL 1825 4091 \nL 703 3866 \nL 703 4441 \nL 1819 4666 \nL 2450 4666 \nL 2450 531 \nL 3481 531 \nL 3481 0 \nL 794 0 \nL 794 531 \nz\n\" transform=\"scale(0.015625)\"/>\n       </defs>\n       <use xlink:href=\"#DejaVuSans-31\"/>\n       <use xlink:href=\"#DejaVuSans-2e\" x=\"63.623047\"/>\n       <use xlink:href=\"#DejaVuSans-30\" x=\"95.410156\"/>\n      </g>\n     </g>\n    </g>\n    <g id=\"text_4\">\n     <!-- $x_1$ -->\n     <g style=\"fill: #262626\" transform=\"translate(164.204844 277.342188) scale(0.12 -0.12)\">\n      <defs>\n       <path id=\"DejaVuSans-Oblique-78\" d=\"M 3841 3500 \nL 2234 1784 \nL 3219 0 \nL 2559 0 \nL 1819 1388 \nL 531 0 \nL -166 0 \nL 1556 1844 \nL 641 3500 \nL 1300 3500 \nL 1972 2234 \nL 3144 3500 \nL 3841 3500 \nz\n\" transform=\"scale(0.015625)\"/>\n      </defs>\n      <use xlink:href=\"#DejaVuSans-Oblique-78\" transform=\"translate(0 0.3125)\"/>\n      <use xlink:href=\"#DejaVuSans-31\" transform=\"translate(59.179688 -16.09375) scale(0.7)\"/>\n     </g>\n    </g>\n   </g>\n   <g id=\"matplotlib.axis_2\">\n    <g id=\"ytick_1\">\n     <g id=\"line2d_4\">\n      <path d=\"M 59.024844 234.65645 \nL 282.224844 234.65645 \n\" clip-path=\"url(#pe53537daa6)\" style=\"fill: none; stroke: #ffffff; stroke-linecap: round\"/>\n     </g>\n     <g id=\"text_5\">\n      <!-- −0.2 -->\n      <g style=\"fill: #262626\" transform=\"translate(22.81375 238.835591) scale(0.11 -0.11)\">\n       <defs>\n        <path id=\"DejaVuSans-2212\" d=\"M 678 2272 \nL 4684 2272 \nL 4684 1741 \nL 678 1741 \nL 678 2272 \nz\n\" transform=\"scale(0.015625)\"/>\n        <path id=\"DejaVuSans-32\" d=\"M 1228 531 \nL 3431 531 \nL 3431 0 \nL 469 0 \nL 469 531 \nQ 828 903 1448 1529 \nQ 2069 2156 2228 2338 \nQ 2531 2678 2651 2914 \nQ 2772 3150 2772 3378 \nQ 2772 3750 2511 3984 \nQ 2250 4219 1831 4219 \nQ 1534 4219 1204 4116 \nQ 875 4013 500 3803 \nL 500 4441 \nQ 881 4594 1212 4672 \nQ 1544 4750 1819 4750 \nQ 2544 4750 2975 4387 \nQ 3406 4025 3406 3419 \nQ 3406 3131 3298 2873 \nQ 3191 2616 2906 2266 \nQ 2828 2175 2409 1742 \nQ 1991 1309 1228 531 \nz\n\" transform=\"scale(0.015625)\"/>\n       </defs>\n       <use xlink:href=\"#DejaVuSans-2212\"/>\n       <use xlink:href=\"#DejaVuSans-30\" x=\"83.789062\"/>\n       <use xlink:href=\"#DejaVuSans-2e\" x=\"147.412109\"/>\n       <use xlink:href=\"#DejaVuSans-32\" x=\"179.199219\"/>\n      </g>\n     </g>\n    </g>\n    <g id=\"ytick_2\">\n     <g id=\"line2d_5\">\n      <path d=\"M 59.024844 207.176015 \nL 282.224844 207.176015 \n\" clip-path=\"url(#pe53537daa6)\" style=\"fill: none; stroke: #ffffff; stroke-linecap: round\"/>\n     </g>\n     <g id=\"text_6\">\n      <!-- 0.0 -->\n      <g style=\"fill: #262626\" transform=\"translate(32.031406 211.355155) scale(0.11 -0.11)\">\n       <use xlink:href=\"#DejaVuSans-30\"/>\n       <use xlink:href=\"#DejaVuSans-2e\" x=\"63.623047\"/>\n       <use xlink:href=\"#DejaVuSans-30\" x=\"95.410156\"/>\n      </g>\n     </g>\n    </g>\n    <g id=\"ytick_3\">\n     <g id=\"line2d_6\">\n      <path d=\"M 59.024844 179.695579 \nL 282.224844 179.695579 \n\" clip-path=\"url(#pe53537daa6)\" style=\"fill: none; stroke: #ffffff; stroke-linecap: round\"/>\n     </g>\n     <g id=\"text_7\">\n      <!-- 0.2 -->\n      <g style=\"fill: #262626\" transform=\"translate(32.031406 183.87472) scale(0.11 -0.11)\">\n       <use xlink:href=\"#DejaVuSans-30\"/>\n       <use xlink:href=\"#DejaVuSans-2e\" x=\"63.623047\"/>\n       <use xlink:href=\"#DejaVuSans-32\" x=\"95.410156\"/>\n      </g>\n     </g>\n    </g>\n    <g id=\"ytick_4\">\n     <g id=\"line2d_7\">\n      <path d=\"M 59.024844 152.215144 \nL 282.224844 152.215144 \n\" clip-path=\"url(#pe53537daa6)\" style=\"fill: none; stroke: #ffffff; stroke-linecap: round\"/>\n     </g>\n     <g id=\"text_8\">\n      <!-- 0.4 -->\n      <g style=\"fill: #262626\" transform=\"translate(32.031406 156.394284) scale(0.11 -0.11)\">\n       <defs>\n        <path id=\"DejaVuSans-34\" d=\"M 2419 4116 \nL 825 1625 \nL 2419 1625 \nL 2419 4116 \nz\nM 2253 4666 \nL 3047 4666 \nL 3047 1625 \nL 3713 1625 \nL 3713 1100 \nL 3047 1100 \nL 3047 0 \nL 2419 0 \nL 2419 1100 \nL 313 1100 \nL 313 1709 \nL 2253 4666 \nz\n\" transform=\"scale(0.015625)\"/>\n       </defs>\n       <use xlink:href=\"#DejaVuSans-30\"/>\n       <use xlink:href=\"#DejaVuSans-2e\" x=\"63.623047\"/>\n       <use xlink:href=\"#DejaVuSans-34\" x=\"95.410156\"/>\n      </g>\n     </g>\n    </g>\n    <g id=\"ytick_5\">\n     <g id=\"line2d_8\">\n      <path d=\"M 59.024844 124.734708 \nL 282.224844 124.734708 \n\" clip-path=\"url(#pe53537daa6)\" style=\"fill: none; stroke: #ffffff; stroke-linecap: round\"/>\n     </g>\n     <g id=\"text_9\">\n      <!-- 0.6 -->\n      <g style=\"fill: #262626\" transform=\"translate(32.031406 128.913849) scale(0.11 -0.11)\">\n       <defs>\n        <path id=\"DejaVuSans-36\" d=\"M 2113 2584 \nQ 1688 2584 1439 2293 \nQ 1191 2003 1191 1497 \nQ 1191 994 1439 701 \nQ 1688 409 2113 409 \nQ 2538 409 2786 701 \nQ 3034 994 3034 1497 \nQ 3034 2003 2786 2293 \nQ 2538 2584 2113 2584 \nz\nM 3366 4563 \nL 3366 3988 \nQ 3128 4100 2886 4159 \nQ 2644 4219 2406 4219 \nQ 1781 4219 1451 3797 \nQ 1122 3375 1075 2522 \nQ 1259 2794 1537 2939 \nQ 1816 3084 2150 3084 \nQ 2853 3084 3261 2657 \nQ 3669 2231 3669 1497 \nQ 3669 778 3244 343 \nQ 2819 -91 2113 -91 \nQ 1303 -91 875 529 \nQ 447 1150 447 2328 \nQ 447 3434 972 4092 \nQ 1497 4750 2381 4750 \nQ 2619 4750 2861 4703 \nQ 3103 4656 3366 4563 \nz\n\" transform=\"scale(0.015625)\"/>\n       </defs>\n       <use xlink:href=\"#DejaVuSans-30\"/>\n       <use xlink:href=\"#DejaVuSans-2e\" x=\"63.623047\"/>\n       <use xlink:href=\"#DejaVuSans-36\" x=\"95.410156\"/>\n      </g>\n     </g>\n    </g>\n    <g id=\"ytick_6\">\n     <g id=\"line2d_9\">\n      <path d=\"M 59.024844 97.254273 \nL 282.224844 97.254273 \n\" clip-path=\"url(#pe53537daa6)\" style=\"fill: none; stroke: #ffffff; stroke-linecap: round\"/>\n     </g>\n     <g id=\"text_10\">\n      <!-- 0.8 -->\n      <g style=\"fill: #262626\" transform=\"translate(32.031406 101.433413) scale(0.11 -0.11)\">\n       <defs>\n        <path id=\"DejaVuSans-38\" d=\"M 2034 2216 \nQ 1584 2216 1326 1975 \nQ 1069 1734 1069 1313 \nQ 1069 891 1326 650 \nQ 1584 409 2034 409 \nQ 2484 409 2743 651 \nQ 3003 894 3003 1313 \nQ 3003 1734 2745 1975 \nQ 2488 2216 2034 2216 \nz\nM 1403 2484 \nQ 997 2584 770 2862 \nQ 544 3141 544 3541 \nQ 544 4100 942 4425 \nQ 1341 4750 2034 4750 \nQ 2731 4750 3128 4425 \nQ 3525 4100 3525 3541 \nQ 3525 3141 3298 2862 \nQ 3072 2584 2669 2484 \nQ 3125 2378 3379 2068 \nQ 3634 1759 3634 1313 \nQ 3634 634 3220 271 \nQ 2806 -91 2034 -91 \nQ 1263 -91 848 271 \nQ 434 634 434 1313 \nQ 434 1759 690 2068 \nQ 947 2378 1403 2484 \nz\nM 1172 3481 \nQ 1172 3119 1398 2916 \nQ 1625 2713 2034 2713 \nQ 2441 2713 2670 2916 \nQ 2900 3119 2900 3481 \nQ 2900 3844 2670 4047 \nQ 2441 4250 2034 4250 \nQ 1625 4250 1398 4047 \nQ 1172 3844 1172 3481 \nz\n\" transform=\"scale(0.015625)\"/>\n       </defs>\n       <use xlink:href=\"#DejaVuSans-30\"/>\n       <use xlink:href=\"#DejaVuSans-2e\" x=\"63.623047\"/>\n       <use xlink:href=\"#DejaVuSans-38\" x=\"95.410156\"/>\n      </g>\n     </g>\n    </g>\n    <g id=\"ytick_7\">\n     <g id=\"line2d_10\">\n      <path d=\"M 59.024844 69.773837 \nL 282.224844 69.773837 \n\" clip-path=\"url(#pe53537daa6)\" style=\"fill: none; stroke: #ffffff; stroke-linecap: round\"/>\n     </g>\n     <g id=\"text_11\">\n      <!-- 1.0 -->\n      <g style=\"fill: #262626\" transform=\"translate(32.031406 73.952978) scale(0.11 -0.11)\">\n       <use xlink:href=\"#DejaVuSans-31\"/>\n       <use xlink:href=\"#DejaVuSans-2e\" x=\"63.623047\"/>\n       <use xlink:href=\"#DejaVuSans-30\" x=\"95.410156\"/>\n      </g>\n     </g>\n    </g>\n    <g id=\"ytick_8\">\n     <g id=\"line2d_11\">\n      <path d=\"M 59.024844 42.293402 \nL 282.224844 42.293402 \n\" clip-path=\"url(#pe53537daa6)\" style=\"fill: none; stroke: #ffffff; stroke-linecap: round\"/>\n     </g>\n     <g id=\"text_12\">\n      <!-- 1.2 -->\n      <g style=\"fill: #262626\" transform=\"translate(32.031406 46.472542) scale(0.11 -0.11)\">\n       <use xlink:href=\"#DejaVuSans-31\"/>\n       <use xlink:href=\"#DejaVuSans-2e\" x=\"63.623047\"/>\n       <use xlink:href=\"#DejaVuSans-32\" x=\"95.410156\"/>\n      </g>\n     </g>\n    </g>\n    <g id=\"text_13\">\n     <!-- $x_2$ -->\n     <g style=\"fill: #262626\" transform=\"translate(16.318125 139.618125) rotate(-90) scale(0.12 -0.12)\">\n      <use xlink:href=\"#DejaVuSans-Oblique-78\" transform=\"translate(0 0.3125)\"/>\n      <use xlink:href=\"#DejaVuSans-32\" transform=\"translate(59.179688 -16.09375) scale(0.7)\"/>\n     </g>\n    </g>\n   </g>\n   <g id=\"PathCollection_1\">\n    <defs>\n     <path id=\"m8d99d0ca8a\" d=\"M 0 3 \nC 0.795609 3 1.55874 2.683901 2.12132 2.12132 \nC 2.683901 1.55874 3 0.795609 3 0 \nC 3 -0.795609 2.683901 -1.55874 2.12132 -2.12132 \nC 1.55874 -2.683901 0.795609 -3 0 -3 \nC -0.795609 -3 -1.55874 -2.683901 -2.12132 -2.12132 \nC -2.683901 -1.55874 -3 -0.795609 -3 0 \nC -3 0.795609 -2.683901 1.55874 -2.12132 2.12132 \nC -1.55874 2.683901 -0.795609 3 0 3 \nz\n\" style=\"stroke: #333333\"/>\n    </defs>\n    <g clip-path=\"url(#pe53537daa6)\">\n     <use xlink:href=\"#m8d99d0ca8a\" x=\"102.473492\" y=\"216.991358\" style=\"fill: #4c72b0; stroke: #333333\"/>\n     <use xlink:href=\"#m8d99d0ca8a\" x=\"81.531253\" y=\"198.154825\" style=\"fill: #4c72b0; stroke: #333333\"/>\n     <use xlink:href=\"#m8d99d0ca8a\" x=\"114.684678\" y=\"218.452369\" style=\"fill: #4c72b0; stroke: #333333\"/>\n     <use xlink:href=\"#m8d99d0ca8a\" x=\"111.930435\" y=\"201.504315\" style=\"fill: #4c72b0; stroke: #333333\"/>\n     <use xlink:href=\"#m8d99d0ca8a\" x=\"235.961113\" y=\"80.130332\" style=\"fill: #4c72b0; stroke: #333333\"/>\n     <use xlink:href=\"#m8d99d0ca8a\" x=\"243.326835\" y=\"58.408153\" style=\"fill: #4c72b0; stroke: #333333\"/>\n     <use xlink:href=\"#m8d99d0ca8a\" x=\"239.606599\" y=\"49.801958\" style=\"fill: #4c72b0; stroke: #333333\"/>\n     <use xlink:href=\"#m8d99d0ca8a\" x=\"235.689266\" y=\"32.398125\" style=\"fill: #4c72b0; stroke: #333333\"/>\n     <use xlink:href=\"#m8d99d0ca8a\" x=\"248.250356\" y=\"81.551371\" style=\"fill: #4c72b0; stroke: #333333\"/>\n     <use xlink:href=\"#m8d99d0ca8a\" x=\"83.230065\" y=\"200.546739\" style=\"fill: #4c72b0; stroke: #333333\"/>\n     <use xlink:href=\"#m8d99d0ca8a\" x=\"236.270449\" y=\"59.963315\" style=\"fill: #4c72b0; stroke: #333333\"/>\n     <use xlink:href=\"#m8d99d0ca8a\" x=\"92.039062\" y=\"195.408909\" style=\"fill: #4c72b0; stroke: #333333\"/>\n     <use xlink:href=\"#m8d99d0ca8a\" x=\"101.359224\" y=\"224.292737\" style=\"fill: #4c72b0; stroke: #333333\"/>\n     <use xlink:href=\"#m8d99d0ca8a\" x=\"241.866478\" y=\"64.479487\" style=\"fill: #4c72b0; stroke: #333333\"/>\n     <use xlink:href=\"#m8d99d0ca8a\" x=\"226.953301\" y=\"67.66162\" style=\"fill: #4c72b0; stroke: #333333\"/>\n     <use xlink:href=\"#m8d99d0ca8a\" x=\"244.470986\" y=\"62.068538\" style=\"fill: #4c72b0; stroke: #333333\"/>\n     <use xlink:href=\"#m8d99d0ca8a\" x=\"106.393072\" y=\"191.573095\" style=\"fill: #4c72b0; stroke: #333333\"/>\n     <use xlink:href=\"#m8d99d0ca8a\" x=\"111.798177\" y=\"198.225757\" style=\"fill: #4c72b0; stroke: #333333\"/>\n     <use xlink:href=\"#m8d99d0ca8a\" x=\"93.890735\" y=\"196.747613\" style=\"fill: #4c72b0; stroke: #333333\"/>\n     <use xlink:href=\"#m8d99d0ca8a\" x=\"272.079389\" y=\"95.430466\" style=\"fill: #4c72b0; stroke: #333333\"/>\n     <use xlink:href=\"#m8d99d0ca8a\" x=\"249.105227\" y=\"91.932902\" style=\"fill: #4c72b0; stroke: #333333\"/>\n     <use xlink:href=\"#m8d99d0ca8a\" x=\"229.331339\" y=\"60.436015\" style=\"fill: #4c72b0; stroke: #333333\"/>\n     <use xlink:href=\"#m8d99d0ca8a\" x=\"69.767078\" y=\"204.614092\" style=\"fill: #4c72b0; stroke: #333333\"/>\n     <use xlink:href=\"#m8d99d0ca8a\" x=\"228.241923\" y=\"71.350342\" style=\"fill: #4c72b0; stroke: #333333\"/>\n     <use xlink:href=\"#m8d99d0ca8a\" x=\"246.547744\" y=\"57.878174\" style=\"fill: #4c72b0; stroke: #333333\"/>\n     <use xlink:href=\"#m8d99d0ca8a\" x=\"222.488843\" y=\"74.369957\" style=\"fill: #4c72b0; stroke: #333333\"/>\n     <use xlink:href=\"#m8d99d0ca8a\" x=\"232.722418\" y=\"78.750727\" style=\"fill: #4c72b0; stroke: #333333\"/>\n     <use xlink:href=\"#m8d99d0ca8a\" x=\"264.330969\" y=\"64.209305\" style=\"fill: #4c72b0; stroke: #333333\"/>\n     <use xlink:href=\"#m8d99d0ca8a\" x=\"217.987207\" y=\"76.427319\" style=\"fill: #4c72b0; stroke: #333333\"/>\n     <use xlink:href=\"#m8d99d0ca8a\" x=\"257.297305\" y=\"79.497367\" style=\"fill: #4c72b0; stroke: #333333\"/>\n     <use xlink:href=\"#m8d99d0ca8a\" x=\"245.684766\" y=\"59.130199\" style=\"fill: #4c72b0; stroke: #333333\"/>\n     <use xlink:href=\"#m8d99d0ca8a\" x=\"235.859815\" y=\"86.918651\" style=\"fill: #4c72b0; stroke: #333333\"/>\n     <use xlink:href=\"#m8d99d0ca8a\" x=\"241.024708\" y=\"60.676025\" style=\"fill: #4c72b0; stroke: #333333\"/>\n     <use xlink:href=\"#m8d99d0ca8a\" x=\"128.432482\" y=\"233.998125\" style=\"fill: #4c72b0; stroke: #333333\"/>\n     <use xlink:href=\"#m8d99d0ca8a\" x=\"96.197242\" y=\"199.092408\" style=\"fill: #4c72b0; stroke: #333333\"/>\n     <use xlink:href=\"#m8d99d0ca8a\" x=\"102.303053\" y=\"215.732042\" style=\"fill: #4c72b0; stroke: #333333\"/>\n     <use xlink:href=\"#m8d99d0ca8a\" x=\"95.402413\" y=\"213.949955\" style=\"fill: #4c72b0; stroke: #333333\"/>\n     <use xlink:href=\"#m8d99d0ca8a\" x=\"244.460087\" y=\"79.294563\" style=\"fill: #4c72b0; stroke: #333333\"/>\n     <use xlink:href=\"#m8d99d0ca8a\" x=\"109.806916\" y=\"198.524777\" style=\"fill: #4c72b0; stroke: #333333\"/>\n     <use xlink:href=\"#m8d99d0ca8a\" x=\"108.881846\" y=\"198.789394\" style=\"fill: #4c72b0; stroke: #333333\"/>\n     <use xlink:href=\"#m8d99d0ca8a\" x=\"98.043805\" y=\"205.563911\" style=\"fill: #4c72b0; stroke: #333333\"/>\n     <use xlink:href=\"#m8d99d0ca8a\" x=\"109.984037\" y=\"195.998214\" style=\"fill: #4c72b0; stroke: #333333\"/>\n     <use xlink:href=\"#m8d99d0ca8a\" x=\"257.841436\" y=\"69.485245\" style=\"fill: #4c72b0; stroke: #333333\"/>\n     <use xlink:href=\"#m8d99d0ca8a\" x=\"255.762307\" y=\"58.896216\" style=\"fill: #4c72b0; stroke: #333333\"/>\n     <use xlink:href=\"#m8d99d0ca8a\" x=\"107.144055\" y=\"198.54241\" style=\"fill: #4c72b0; stroke: #333333\"/>\n     <use xlink:href=\"#m8d99d0ca8a\" x=\"98.165911\" y=\"219.504485\" style=\"fill: #4c72b0; stroke: #333333\"/>\n     <use xlink:href=\"#m8d99d0ca8a\" x=\"99.408179\" y=\"216.480364\" style=\"fill: #4c72b0; stroke: #333333\"/>\n     <use xlink:href=\"#m8d99d0ca8a\" x=\"86.692211\" y=\"211.591926\" style=\"fill: #4c72b0; stroke: #333333\"/>\n     <use xlink:href=\"#m8d99d0ca8a\" x=\"101.794792\" y=\"214.141524\" style=\"fill: #4c72b0; stroke: #333333\"/>\n     <use xlink:href=\"#m8d99d0ca8a\" x=\"91.693076\" y=\"203.987598\" style=\"fill: #4c72b0; stroke: #333333\"/>\n     <use xlink:href=\"#m8d99d0ca8a\" x=\"229.28703\" y=\"72.706648\" style=\"fill: #4c72b0; stroke: #333333\"/>\n     <use xlink:href=\"#m8d99d0ca8a\" x=\"102.725117\" y=\"186.904299\" style=\"fill: #4c72b0; stroke: #333333\"/>\n     <use xlink:href=\"#m8d99d0ca8a\" x=\"98.070405\" y=\"220.950986\" style=\"fill: #4c72b0; stroke: #333333\"/>\n     <use xlink:href=\"#m8d99d0ca8a\" x=\"243.976217\" y=\"81.140168\" style=\"fill: #4c72b0; stroke: #333333\"/>\n     <use xlink:href=\"#m8d99d0ca8a\" x=\"96.804258\" y=\"201.656408\" style=\"fill: #4c72b0; stroke: #333333\"/>\n     <use xlink:href=\"#m8d99d0ca8a\" x=\"108.075554\" y=\"212.688871\" style=\"fill: #4c72b0; stroke: #333333\"/>\n     <use xlink:href=\"#m8d99d0ca8a\" x=\"101.500291\" y=\"207.002992\" style=\"fill: #4c72b0; stroke: #333333\"/>\n     <use xlink:href=\"#m8d99d0ca8a\" x=\"118.812076\" y=\"193.995425\" style=\"fill: #4c72b0; stroke: #333333\"/>\n     <use xlink:href=\"#m8d99d0ca8a\" x=\"269.801212\" y=\"80.317363\" style=\"fill: #4c72b0; stroke: #333333\"/>\n     <use xlink:href=\"#m8d99d0ca8a\" x=\"251.730254\" y=\"67.254685\" style=\"fill: #4c72b0; stroke: #333333\"/>\n     <use xlink:href=\"#m8d99d0ca8a\" x=\"86.491523\" y=\"215.4118\" style=\"fill: #4c72b0; stroke: #333333\"/>\n     <use xlink:href=\"#m8d99d0ca8a\" x=\"209.458287\" y=\"76.997829\" style=\"fill: #4c72b0; stroke: #333333\"/>\n     <use xlink:href=\"#m8d99d0ca8a\" x=\"228.712978\" y=\"67.707401\" style=\"fill: #4c72b0; stroke: #333333\"/>\n     <use xlink:href=\"#m8d99d0ca8a\" x=\"244.24481\" y=\"43.994844\" style=\"fill: #4c72b0; stroke: #333333\"/>\n     <use xlink:href=\"#m8d99d0ca8a\" x=\"252.832157\" y=\"77.700621\" style=\"fill: #4c72b0; stroke: #333333\"/>\n     <use xlink:href=\"#m8d99d0ca8a\" x=\"96.722715\" y=\"190.168149\" style=\"fill: #4c72b0; stroke: #333333\"/>\n     <use xlink:href=\"#m8d99d0ca8a\" x=\"75.843797\" y=\"215.411558\" style=\"fill: #4c72b0; stroke: #333333\"/>\n     <use xlink:href=\"#m8d99d0ca8a\" x=\"83.276228\" y=\"209.13234\" style=\"fill: #4c72b0; stroke: #333333\"/>\n     <use xlink:href=\"#m8d99d0ca8a\" x=\"103.027129\" y=\"217.460382\" style=\"fill: #4c72b0; stroke: #333333\"/>\n     <use xlink:href=\"#m8d99d0ca8a\" x=\"256.061207\" y=\"68.846112\" style=\"fill: #4c72b0; stroke: #333333\"/>\n     <use xlink:href=\"#m8d99d0ca8a\" x=\"127.412645\" y=\"183.057249\" style=\"fill: #4c72b0; stroke: #333333\"/>\n     <use xlink:href=\"#m8d99d0ca8a\" x=\"235.910657\" y=\"56.424237\" style=\"fill: #4c72b0; stroke: #333333\"/>\n     <use xlink:href=\"#m8d99d0ca8a\" x=\"248.528417\" y=\"50.968547\" style=\"fill: #4c72b0; stroke: #333333\"/>\n     <use xlink:href=\"#m8d99d0ca8a\" x=\"235.622244\" y=\"59.914651\" style=\"fill: #4c72b0; stroke: #333333\"/>\n     <use xlink:href=\"#m8d99d0ca8a\" x=\"74.306614\" y=\"207.939252\" style=\"fill: #4c72b0; stroke: #333333\"/>\n     <use xlink:href=\"#m8d99d0ca8a\" x=\"69.170298\" y=\"208.400543\" style=\"fill: #4c72b0; stroke: #333333\"/>\n     <use xlink:href=\"#m8d99d0ca8a\" x=\"244.595292\" y=\"82.687993\" style=\"fill: #4c72b0; stroke: #333333\"/>\n     <use xlink:href=\"#m8d99d0ca8a\" x=\"84.431631\" y=\"200.250305\" style=\"fill: #4c72b0; stroke: #333333\"/>\n     <use xlink:href=\"#m8d99d0ca8a\" x=\"231.61203\" y=\"86.232943\" style=\"fill: #4c72b0; stroke: #333333\"/>\n     <use xlink:href=\"#m8d99d0ca8a\" x=\"267.14238\" y=\"69.289312\" style=\"fill: #4c72b0; stroke: #333333\"/>\n     <use xlink:href=\"#m8d99d0ca8a\" x=\"90.854147\" y=\"215.087882\" style=\"fill: #4c72b0; stroke: #333333\"/>\n     <use xlink:href=\"#m8d99d0ca8a\" x=\"262.631098\" y=\"73.195645\" style=\"fill: #4c72b0; stroke: #333333\"/>\n     <use xlink:href=\"#m8d99d0ca8a\" x=\"247.557481\" y=\"65.497185\" style=\"fill: #4c72b0; stroke: #333333\"/>\n     <use xlink:href=\"#m8d99d0ca8a\" x=\"141.776921\" y=\"191.792812\" style=\"fill: #4c72b0; stroke: #333333\"/>\n     <use xlink:href=\"#m8d99d0ca8a\" x=\"237.618441\" y=\"82.903172\" style=\"fill: #4c72b0; stroke: #333333\"/>\n     <use xlink:href=\"#m8d99d0ca8a\" x=\"75.674232\" y=\"204.38038\" style=\"fill: #4c72b0; stroke: #333333\"/>\n     <use xlink:href=\"#m8d99d0ca8a\" x=\"230.301022\" y=\"84.634538\" style=\"fill: #4c72b0; stroke: #333333\"/>\n     <use xlink:href=\"#m8d99d0ca8a\" x=\"122.141642\" y=\"195.062092\" style=\"fill: #4c72b0; stroke: #333333\"/>\n     <use xlink:href=\"#m8d99d0ca8a\" x=\"239.310676\" y=\"49.439084\" style=\"fill: #4c72b0; stroke: #333333\"/>\n     <use xlink:href=\"#m8d99d0ca8a\" x=\"83.704763\" y=\"209.791309\" style=\"fill: #4c72b0; stroke: #333333\"/>\n     <use xlink:href=\"#m8d99d0ca8a\" x=\"240.107725\" y=\"81.191273\" style=\"fill: #4c72b0; stroke: #333333\"/>\n     <use xlink:href=\"#m8d99d0ca8a\" x=\"102.15442\" y=\"207.866297\" style=\"fill: #4c72b0; stroke: #333333\"/>\n     <use xlink:href=\"#m8d99d0ca8a\" x=\"105.405857\" y=\"220.607836\" style=\"fill: #4c72b0; stroke: #333333\"/>\n     <use xlink:href=\"#m8d99d0ca8a\" x=\"240.824583\" y=\"59.449618\" style=\"fill: #4c72b0; stroke: #333333\"/>\n     <use xlink:href=\"#m8d99d0ca8a\" x=\"74.78598\" y=\"199.710127\" style=\"fill: #4c72b0; stroke: #333333\"/>\n     <use xlink:href=\"#m8d99d0ca8a\" x=\"230.074568\" y=\"61.933685\" style=\"fill: #4c72b0; stroke: #333333\"/>\n     <use xlink:href=\"#m8d99d0ca8a\" x=\"228.654761\" y=\"94.573313\" style=\"fill: #4c72b0; stroke: #333333\"/>\n     <use xlink:href=\"#m8d99d0ca8a\" x=\"238.490871\" y=\"86.413463\" style=\"fill: #4c72b0; stroke: #333333\"/>\n     <use xlink:href=\"#m8d99d0ca8a\" x=\"112.535922\" y=\"215.102634\" style=\"fill: #4c72b0; stroke: #333333\"/>\n     <use xlink:href=\"#m8d99d0ca8a\" x=\"110.129012\" y=\"222.698433\" style=\"fill: #4c72b0; stroke: #333333\"/>\n     <use xlink:href=\"#m8d99d0ca8a\" x=\"105.813408\" y=\"187.368548\" style=\"fill: #4c72b0; stroke: #333333\"/>\n     <use xlink:href=\"#m8d99d0ca8a\" x=\"204.552098\" y=\"80.723348\" style=\"fill: #4c72b0; stroke: #333333\"/>\n     <use xlink:href=\"#m8d99d0ca8a\" x=\"244.659455\" y=\"78.072725\" style=\"fill: #4c72b0; stroke: #333333\"/>\n    </g>\n   </g>\n   <g id=\"PathCollection_2\">\n    <defs>\n     <path id=\"m1225973cca\" d=\"M 0 3 \nC 0.795609 3 1.55874 2.683901 2.12132 2.12132 \nC 2.683901 1.55874 3 0.795609 3 0 \nC 3 -0.795609 2.683901 -1.55874 2.12132 -2.12132 \nC 1.55874 -2.683901 0.795609 -3 0 -3 \nC -0.795609 -3 -1.55874 -2.683901 -2.12132 -2.12132 \nC -2.683901 -1.55874 -3 -0.795609 -3 0 \nC -3 0.795609 -2.683901 1.55874 -2.12132 2.12132 \nC -1.55874 2.683901 -0.795609 3 0 3 \nz\n\" style=\"stroke: #333333\"/>\n    </defs>\n    <g clip-path=\"url(#pe53537daa6)\">\n     <use xlink:href=\"#m1225973cca\" x=\"88.744602\" y=\"66.582613\" style=\"fill: #dd8452; stroke: #333333\"/>\n     <use xlink:href=\"#m1225973cca\" x=\"124.661874\" y=\"63.263267\" style=\"fill: #dd8452; stroke: #333333\"/>\n     <use xlink:href=\"#m1225973cca\" x=\"84.58745\" y=\"58.95913\" style=\"fill: #dd8452; stroke: #333333\"/>\n     <use xlink:href=\"#m1225973cca\" x=\"251.021149\" y=\"181.113666\" style=\"fill: #dd8452; stroke: #333333\"/>\n     <use xlink:href=\"#m1225973cca\" x=\"226.873488\" y=\"218.385425\" style=\"fill: #dd8452; stroke: #333333\"/>\n     <use xlink:href=\"#m1225973cca\" x=\"238.335375\" y=\"202.488512\" style=\"fill: #dd8452; stroke: #333333\"/>\n     <use xlink:href=\"#m1225973cca\" x=\"246.099798\" y=\"208.1767\" style=\"fill: #dd8452; stroke: #333333\"/>\n     <use xlink:href=\"#m1225973cca\" x=\"227.476216\" y=\"227.990346\" style=\"fill: #dd8452; stroke: #333333\"/>\n     <use xlink:href=\"#m1225973cca\" x=\"240.244393\" y=\"222.880676\" style=\"fill: #dd8452; stroke: #333333\"/>\n     <use xlink:href=\"#m1225973cca\" x=\"113.618865\" y=\"55.294371\" style=\"fill: #dd8452; stroke: #333333\"/>\n     <use xlink:href=\"#m1225973cca\" x=\"78.901919\" y=\"82.659755\" style=\"fill: #dd8452; stroke: #333333\"/>\n     <use xlink:href=\"#m1225973cca\" x=\"105.605042\" y=\"62.714304\" style=\"fill: #dd8452; stroke: #333333\"/>\n     <use xlink:href=\"#m1225973cca\" x=\"246.689676\" y=\"154.238644\" style=\"fill: #dd8452; stroke: #333333\"/>\n     <use xlink:href=\"#m1225973cca\" x=\"87.435332\" y=\"73.027779\" style=\"fill: #dd8452; stroke: #333333\"/>\n     <use xlink:href=\"#m1225973cca\" x=\"232.575432\" y=\"206.051046\" style=\"fill: #dd8452; stroke: #333333\"/>\n     <use xlink:href=\"#m1225973cca\" x=\"91.680469\" y=\"54.811418\" style=\"fill: #dd8452; stroke: #333333\"/>\n     <use xlink:href=\"#m1225973cca\" x=\"99.245585\" y=\"84.582287\" style=\"fill: #dd8452; stroke: #333333\"/>\n     <use xlink:href=\"#m1225973cca\" x=\"88.034356\" y=\"66.799643\" style=\"fill: #dd8452; stroke: #333333\"/>\n     <use xlink:href=\"#m1225973cca\" x=\"98.981642\" y=\"78.726968\" style=\"fill: #dd8452; stroke: #333333\"/>\n     <use xlink:href=\"#m1225973cca\" x=\"128.586414\" y=\"61.063649\" style=\"fill: #dd8452; stroke: #333333\"/>\n     <use xlink:href=\"#m1225973cca\" x=\"230.086383\" y=\"195.463394\" style=\"fill: #dd8452; stroke: #333333\"/>\n     <use xlink:href=\"#m1225973cca\" x=\"221.634047\" y=\"194.564391\" style=\"fill: #dd8452; stroke: #333333\"/>\n     <use xlink:href=\"#m1225973cca\" x=\"128.279021\" y=\"55.587534\" style=\"fill: #dd8452; stroke: #333333\"/>\n     <use xlink:href=\"#m1225973cca\" x=\"226.345612\" y=\"207.993906\" style=\"fill: #dd8452; stroke: #333333\"/>\n     <use xlink:href=\"#m1225973cca\" x=\"193.693914\" y=\"221.251324\" style=\"fill: #dd8452; stroke: #333333\"/>\n     <use xlink:href=\"#m1225973cca\" x=\"121.369482\" y=\"89.42429\" style=\"fill: #dd8452; stroke: #333333\"/>\n     <use xlink:href=\"#m1225973cca\" x=\"92.13035\" y=\"67.977435\" style=\"fill: #dd8452; stroke: #333333\"/>\n     <use xlink:href=\"#m1225973cca\" x=\"259.757291\" y=\"226.905074\" style=\"fill: #dd8452; stroke: #333333\"/>\n     <use xlink:href=\"#m1225973cca\" x=\"255.833584\" y=\"207.03541\" style=\"fill: #dd8452; stroke: #333333\"/>\n     <use xlink:href=\"#m1225973cca\" x=\"225.575598\" y=\"200.826612\" style=\"fill: #dd8452; stroke: #333333\"/>\n     <use xlink:href=\"#m1225973cca\" x=\"101.147117\" y=\"78.020949\" style=\"fill: #dd8452; stroke: #333333\"/>\n     <use xlink:href=\"#m1225973cca\" x=\"240.407954\" y=\"212.470307\" style=\"fill: #dd8452; stroke: #333333\"/>\n     <use xlink:href=\"#m1225973cca\" x=\"261.799386\" y=\"224.183869\" style=\"fill: #dd8452; stroke: #333333\"/>\n     <use xlink:href=\"#m1225973cca\" x=\"231.108137\" y=\"195.502297\" style=\"fill: #dd8452; stroke: #333333\"/>\n     <use xlink:href=\"#m1225973cca\" x=\"252.115114\" y=\"202.953652\" style=\"fill: #dd8452; stroke: #333333\"/>\n     <use xlink:href=\"#m1225973cca\" x=\"86.642862\" y=\"77.470848\" style=\"fill: #dd8452; stroke: #333333\"/>\n     <use xlink:href=\"#m1225973cca\" x=\"116.364561\" y=\"77.902156\" style=\"fill: #dd8452; stroke: #333333\"/>\n     <use xlink:href=\"#m1225973cca\" x=\"106.057388\" y=\"72.552008\" style=\"fill: #dd8452; stroke: #333333\"/>\n     <use xlink:href=\"#m1225973cca\" x=\"95.267551\" y=\"54.676401\" style=\"fill: #dd8452; stroke: #333333\"/>\n     <use xlink:href=\"#m1225973cca\" x=\"249.044462\" y=\"211.439147\" style=\"fill: #dd8452; stroke: #333333\"/>\n     <use xlink:href=\"#m1225973cca\" x=\"243.996635\" y=\"208.964208\" style=\"fill: #dd8452; stroke: #333333\"/>\n     <use xlink:href=\"#m1225973cca\" x=\"99.707157\" y=\"61.596248\" style=\"fill: #dd8452; stroke: #333333\"/>\n     <use xlink:href=\"#m1225973cca\" x=\"227.879332\" y=\"178.426158\" style=\"fill: #dd8452; stroke: #333333\"/>\n     <use xlink:href=\"#m1225973cca\" x=\"84.145352\" y=\"86.457049\" style=\"fill: #dd8452; stroke: #333333\"/>\n     <use xlink:href=\"#m1225973cca\" x=\"253.180588\" y=\"209.196615\" style=\"fill: #dd8452; stroke: #333333\"/>\n     <use xlink:href=\"#m1225973cca\" x=\"245.24898\" y=\"214.921713\" style=\"fill: #dd8452; stroke: #333333\"/>\n     <use xlink:href=\"#m1225973cca\" x=\"86.738442\" y=\"66.425516\" style=\"fill: #dd8452; stroke: #333333\"/>\n     <use xlink:href=\"#m1225973cca\" x=\"77.908473\" y=\"89.112693\" style=\"fill: #dd8452; stroke: #333333\"/>\n     <use xlink:href=\"#m1225973cca\" x=\"110.43894\" y=\"71.971425\" style=\"fill: #dd8452; stroke: #333333\"/>\n     <use xlink:href=\"#m1225973cca\" x=\"239.161966\" y=\"211.142247\" style=\"fill: #dd8452; stroke: #333333\"/>\n     <use xlink:href=\"#m1225973cca\" x=\"246.750324\" y=\"186.115848\" style=\"fill: #dd8452; stroke: #333333\"/>\n     <use xlink:href=\"#m1225973cca\" x=\"240.801222\" y=\"217.797338\" style=\"fill: #dd8452; stroke: #333333\"/>\n     <use xlink:href=\"#m1225973cca\" x=\"239.768965\" y=\"200.333409\" style=\"fill: #dd8452; stroke: #333333\"/>\n     <use xlink:href=\"#m1225973cca\" x=\"129.233412\" y=\"80.880027\" style=\"fill: #dd8452; stroke: #333333\"/>\n     <use xlink:href=\"#m1225973cca\" x=\"85.663459\" y=\"63.014756\" style=\"fill: #dd8452; stroke: #333333\"/>\n     <use xlink:href=\"#m1225973cca\" x=\"220.796717\" y=\"182.011372\" style=\"fill: #dd8452; stroke: #333333\"/>\n     <use xlink:href=\"#m1225973cca\" x=\"256.063225\" y=\"213.62259\" style=\"fill: #dd8452; stroke: #333333\"/>\n     <use xlink:href=\"#m1225973cca\" x=\"74.169028\" y=\"51.171343\" style=\"fill: #dd8452; stroke: #333333\"/>\n     <use xlink:href=\"#m1225973cca\" x=\"239.497143\" y=\"206.530491\" style=\"fill: #dd8452; stroke: #333333\"/>\n     <use xlink:href=\"#m1225973cca\" x=\"233.07343\" y=\"198.617921\" style=\"fill: #dd8452; stroke: #333333\"/>\n     <use xlink:href=\"#m1225973cca\" x=\"100.035879\" y=\"62.705328\" style=\"fill: #dd8452; stroke: #333333\"/>\n     <use xlink:href=\"#m1225973cca\" x=\"249.462942\" y=\"222.628842\" style=\"fill: #dd8452; stroke: #333333\"/>\n     <use xlink:href=\"#m1225973cca\" x=\"76.694727\" y=\"52.218279\" style=\"fill: #dd8452; stroke: #333333\"/>\n     <use xlink:href=\"#m1225973cca\" x=\"120.223039\" y=\"68.184441\" style=\"fill: #dd8452; stroke: #333333\"/>\n     <use xlink:href=\"#m1225973cca\" x=\"84.725124\" y=\"60.347335\" style=\"fill: #dd8452; stroke: #333333\"/>\n     <use xlink:href=\"#m1225973cca\" x=\"113.271419\" y=\"93.939299\" style=\"fill: #dd8452; stroke: #333333\"/>\n     <use xlink:href=\"#m1225973cca\" x=\"81.644755\" y=\"97.793332\" style=\"fill: #dd8452; stroke: #333333\"/>\n     <use xlink:href=\"#m1225973cca\" x=\"260.619075\" y=\"206.157936\" style=\"fill: #dd8452; stroke: #333333\"/>\n     <use xlink:href=\"#m1225973cca\" x=\"262.400398\" y=\"226.138909\" style=\"fill: #dd8452; stroke: #333333\"/>\n     <use xlink:href=\"#m1225973cca\" x=\"103.757261\" y=\"70.223073\" style=\"fill: #dd8452; stroke: #333333\"/>\n     <use xlink:href=\"#m1225973cca\" x=\"79.934655\" y=\"60.572391\" style=\"fill: #dd8452; stroke: #333333\"/>\n     <use xlink:href=\"#m1225973cca\" x=\"232.173291\" y=\"221.729839\" style=\"fill: #dd8452; stroke: #333333\"/>\n     <use xlink:href=\"#m1225973cca\" x=\"97.45439\" y=\"56.649981\" style=\"fill: #dd8452; stroke: #333333\"/>\n     <use xlink:href=\"#m1225973cca\" x=\"90.857583\" y=\"80.668083\" style=\"fill: #dd8452; stroke: #333333\"/>\n     <use xlink:href=\"#m1225973cca\" x=\"237.913128\" y=\"221.400469\" style=\"fill: #dd8452; stroke: #333333\"/>\n     <use xlink:href=\"#m1225973cca\" x=\"229.551115\" y=\"204.235884\" style=\"fill: #dd8452; stroke: #333333\"/>\n     <use xlink:href=\"#m1225973cca\" x=\"237.838386\" y=\"210.212185\" style=\"fill: #dd8452; stroke: #333333\"/>\n     <use xlink:href=\"#m1225973cca\" x=\"107.003632\" y=\"59.365508\" style=\"fill: #dd8452; stroke: #333333\"/>\n     <use xlink:href=\"#m1225973cca\" x=\"94.458142\" y=\"101.402736\" style=\"fill: #dd8452; stroke: #333333\"/>\n     <use xlink:href=\"#m1225973cca\" x=\"218.046165\" y=\"188.394864\" style=\"fill: #dd8452; stroke: #333333\"/>\n     <use xlink:href=\"#m1225973cca\" x=\"228.752224\" y=\"226.71809\" style=\"fill: #dd8452; stroke: #333333\"/>\n     <use xlink:href=\"#m1225973cca\" x=\"99.430241\" y=\"81.608069\" style=\"fill: #dd8452; stroke: #333333\"/>\n     <use xlink:href=\"#m1225973cca\" x=\"119.827609\" y=\"62.369088\" style=\"fill: #dd8452; stroke: #333333\"/>\n     <use xlink:href=\"#m1225973cca\" x=\"85.985081\" y=\"88.773807\" style=\"fill: #dd8452; stroke: #333333\"/>\n     <use xlink:href=\"#m1225973cca\" x=\"252.490084\" y=\"180.940214\" style=\"fill: #dd8452; stroke: #333333\"/>\n     <use xlink:href=\"#m1225973cca\" x=\"219.691543\" y=\"199.440695\" style=\"fill: #dd8452; stroke: #333333\"/>\n     <use xlink:href=\"#m1225973cca\" x=\"89.159138\" y=\"76.467048\" style=\"fill: #dd8452; stroke: #333333\"/>\n     <use xlink:href=\"#m1225973cca\" x=\"231.065401\" y=\"219.047436\" style=\"fill: #dd8452; stroke: #333333\"/>\n     <use xlink:href=\"#m1225973cca\" x=\"236.051975\" y=\"219.646137\" style=\"fill: #dd8452; stroke: #333333\"/>\n     <use xlink:href=\"#m1225973cca\" x=\"90.201347\" y=\"59.394599\" style=\"fill: #dd8452; stroke: #333333\"/>\n     <use xlink:href=\"#m1225973cca\" x=\"75.3766\" y=\"69.113132\" style=\"fill: #dd8452; stroke: #333333\"/>\n     <use xlink:href=\"#m1225973cca\" x=\"243.087439\" y=\"219.601522\" style=\"fill: #dd8452; stroke: #333333\"/>\n     <use xlink:href=\"#m1225973cca\" x=\"248.432703\" y=\"230.005661\" style=\"fill: #dd8452; stroke: #333333\"/>\n     <use xlink:href=\"#m1225973cca\" x=\"230.22676\" y=\"206.524746\" style=\"fill: #dd8452; stroke: #333333\"/>\n     <use xlink:href=\"#m1225973cca\" x=\"86.199598\" y=\"75.057713\" style=\"fill: #dd8452; stroke: #333333\"/>\n     <use xlink:href=\"#m1225973cca\" x=\"106.480285\" y=\"72.563728\" style=\"fill: #dd8452; stroke: #333333\"/>\n     <use xlink:href=\"#m1225973cca\" x=\"240.64481\" y=\"209.315054\" style=\"fill: #dd8452; stroke: #333333\"/>\n    </g>\n   </g>\n   <g id=\"patch_3\">\n    <path d=\"M 59.024844 244.078125 \nL 59.024844 22.318125 \n\" style=\"fill: none; stroke: #ffffff; stroke-width: 1.25; stroke-linejoin: miter; stroke-linecap: square\"/>\n   </g>\n   <g id=\"patch_4\">\n    <path d=\"M 282.224844 244.078125 \nL 282.224844 22.318125 \n\" style=\"fill: none; stroke: #ffffff; stroke-width: 1.25; stroke-linejoin: miter; stroke-linecap: square\"/>\n   </g>\n   <g id=\"patch_5\">\n    <path d=\"M 59.024844 244.078125 \nL 282.224844 244.078125 \n\" style=\"fill: none; stroke: #ffffff; stroke-width: 1.25; stroke-linejoin: miter; stroke-linecap: square\"/>\n   </g>\n   <g id=\"patch_6\">\n    <path d=\"M 59.024844 22.318125 \nL 282.224844 22.318125 \n\" style=\"fill: none; stroke: #ffffff; stroke-width: 1.25; stroke-linejoin: miter; stroke-linecap: square\"/>\n   </g>\n   <g id=\"text_14\">\n    <!-- Dataset samples -->\n    <g style=\"fill: #262626\" transform=\"translate(120.282031 16.318125) scale(0.12 -0.12)\">\n     <defs>\n      <path id=\"DejaVuSans-44\" d=\"M 1259 4147 \nL 1259 519 \nL 2022 519 \nQ 2988 519 3436 956 \nQ 3884 1394 3884 2338 \nQ 3884 3275 3436 3711 \nQ 2988 4147 2022 4147 \nL 1259 4147 \nz\nM 628 4666 \nL 1925 4666 \nQ 3281 4666 3915 4102 \nQ 4550 3538 4550 2338 \nQ 4550 1131 3912 565 \nQ 3275 0 1925 0 \nL 628 0 \nL 628 4666 \nz\n\" transform=\"scale(0.015625)\"/>\n      <path id=\"DejaVuSans-61\" d=\"M 2194 1759 \nQ 1497 1759 1228 1600 \nQ 959 1441 959 1056 \nQ 959 750 1161 570 \nQ 1363 391 1709 391 \nQ 2188 391 2477 730 \nQ 2766 1069 2766 1631 \nL 2766 1759 \nL 2194 1759 \nz\nM 3341 1997 \nL 3341 0 \nL 2766 0 \nL 2766 531 \nQ 2569 213 2275 61 \nQ 1981 -91 1556 -91 \nQ 1019 -91 701 211 \nQ 384 513 384 1019 \nQ 384 1609 779 1909 \nQ 1175 2209 1959 2209 \nL 2766 2209 \nL 2766 2266 \nQ 2766 2663 2505 2880 \nQ 2244 3097 1772 3097 \nQ 1472 3097 1187 3025 \nQ 903 2953 641 2809 \nL 641 3341 \nQ 956 3463 1253 3523 \nQ 1550 3584 1831 3584 \nQ 2591 3584 2966 3190 \nQ 3341 2797 3341 1997 \nz\n\" transform=\"scale(0.015625)\"/>\n      <path id=\"DejaVuSans-74\" d=\"M 1172 4494 \nL 1172 3500 \nL 2356 3500 \nL 2356 3053 \nL 1172 3053 \nL 1172 1153 \nQ 1172 725 1289 603 \nQ 1406 481 1766 481 \nL 2356 481 \nL 2356 0 \nL 1766 0 \nQ 1100 0 847 248 \nQ 594 497 594 1153 \nL 594 3053 \nL 172 3053 \nL 172 3500 \nL 594 3500 \nL 594 4494 \nL 1172 4494 \nz\n\" transform=\"scale(0.015625)\"/>\n      <path id=\"DejaVuSans-73\" d=\"M 2834 3397 \nL 2834 2853 \nQ 2591 2978 2328 3040 \nQ 2066 3103 1784 3103 \nQ 1356 3103 1142 2972 \nQ 928 2841 928 2578 \nQ 928 2378 1081 2264 \nQ 1234 2150 1697 2047 \nL 1894 2003 \nQ 2506 1872 2764 1633 \nQ 3022 1394 3022 966 \nQ 3022 478 2636 193 \nQ 2250 -91 1575 -91 \nQ 1294 -91 989 -36 \nQ 684 19 347 128 \nL 347 722 \nQ 666 556 975 473 \nQ 1284 391 1588 391 \nQ 1994 391 2212 530 \nQ 2431 669 2431 922 \nQ 2431 1156 2273 1281 \nQ 2116 1406 1581 1522 \nL 1381 1569 \nQ 847 1681 609 1914 \nQ 372 2147 372 2553 \nQ 372 3047 722 3315 \nQ 1072 3584 1716 3584 \nQ 2034 3584 2315 3537 \nQ 2597 3491 2834 3397 \nz\n\" transform=\"scale(0.015625)\"/>\n      <path id=\"DejaVuSans-65\" d=\"M 3597 1894 \nL 3597 1613 \nL 953 1613 \nQ 991 1019 1311 708 \nQ 1631 397 2203 397 \nQ 2534 397 2845 478 \nQ 3156 559 3463 722 \nL 3463 178 \nQ 3153 47 2828 -22 \nQ 2503 -91 2169 -91 \nQ 1331 -91 842 396 \nQ 353 884 353 1716 \nQ 353 2575 817 3079 \nQ 1281 3584 2069 3584 \nQ 2775 3584 3186 3129 \nQ 3597 2675 3597 1894 \nz\nM 3022 2063 \nQ 3016 2534 2758 2815 \nQ 2500 3097 2075 3097 \nQ 1594 3097 1305 2825 \nQ 1016 2553 972 2059 \nL 3022 2063 \nz\n\" transform=\"scale(0.015625)\"/>\n      <path id=\"DejaVuSans-20\" transform=\"scale(0.015625)\"/>\n      <path id=\"DejaVuSans-6d\" d=\"M 3328 2828 \nQ 3544 3216 3844 3400 \nQ 4144 3584 4550 3584 \nQ 5097 3584 5394 3201 \nQ 5691 2819 5691 2113 \nL 5691 0 \nL 5113 0 \nL 5113 2094 \nQ 5113 2597 4934 2840 \nQ 4756 3084 4391 3084 \nQ 3944 3084 3684 2787 \nQ 3425 2491 3425 1978 \nL 3425 0 \nL 2847 0 \nL 2847 2094 \nQ 2847 2600 2669 2842 \nQ 2491 3084 2119 3084 \nQ 1678 3084 1418 2786 \nQ 1159 2488 1159 1978 \nL 1159 0 \nL 581 0 \nL 581 3500 \nL 1159 3500 \nL 1159 2956 \nQ 1356 3278 1631 3431 \nQ 1906 3584 2284 3584 \nQ 2666 3584 2933 3390 \nQ 3200 3197 3328 2828 \nz\n\" transform=\"scale(0.015625)\"/>\n      <path id=\"DejaVuSans-70\" d=\"M 1159 525 \nL 1159 -1331 \nL 581 -1331 \nL 581 3500 \nL 1159 3500 \nL 1159 2969 \nQ 1341 3281 1617 3432 \nQ 1894 3584 2278 3584 \nQ 2916 3584 3314 3078 \nQ 3713 2572 3713 1747 \nQ 3713 922 3314 415 \nQ 2916 -91 2278 -91 \nQ 1894 -91 1617 61 \nQ 1341 213 1159 525 \nz\nM 3116 1747 \nQ 3116 2381 2855 2742 \nQ 2594 3103 2138 3103 \nQ 1681 3103 1420 2742 \nQ 1159 2381 1159 1747 \nQ 1159 1113 1420 752 \nQ 1681 391 2138 391 \nQ 2594 391 2855 752 \nQ 3116 1113 3116 1747 \nz\n\" transform=\"scale(0.015625)\"/>\n      <path id=\"DejaVuSans-6c\" d=\"M 603 4863 \nL 1178 4863 \nL 1178 0 \nL 603 0 \nL 603 4863 \nz\n\" transform=\"scale(0.015625)\"/>\n     </defs>\n     <use xlink:href=\"#DejaVuSans-44\"/>\n     <use xlink:href=\"#DejaVuSans-61\" x=\"77.001953\"/>\n     <use xlink:href=\"#DejaVuSans-74\" x=\"138.28125\"/>\n     <use xlink:href=\"#DejaVuSans-61\" x=\"177.490234\"/>\n     <use xlink:href=\"#DejaVuSans-73\" x=\"238.769531\"/>\n     <use xlink:href=\"#DejaVuSans-65\" x=\"290.869141\"/>\n     <use xlink:href=\"#DejaVuSans-74\" x=\"352.392578\"/>\n     <use xlink:href=\"#DejaVuSans-20\" x=\"391.601562\"/>\n     <use xlink:href=\"#DejaVuSans-73\" x=\"423.388672\"/>\n     <use xlink:href=\"#DejaVuSans-61\" x=\"475.488281\"/>\n     <use xlink:href=\"#DejaVuSans-6d\" x=\"536.767578\"/>\n     <use xlink:href=\"#DejaVuSans-70\" x=\"634.179688\"/>\n     <use xlink:href=\"#DejaVuSans-6c\" x=\"697.65625\"/>\n     <use xlink:href=\"#DejaVuSans-65\" x=\"725.439453\"/>\n     <use xlink:href=\"#DejaVuSans-73\" x=\"786.962891\"/>\n    </g>\n   </g>\n   <g id=\"legend_1\">\n    <g id=\"patch_7\">\n     <path d=\"M 199.891562 150.994063 \nL 274.524844 150.994063 \nQ 276.724844 150.994063 276.724844 148.794063 \nL 276.724844 117.602188 \nQ 276.724844 115.402188 274.524844 115.402188 \nL 199.891562 115.402188 \nQ 197.691562 115.402188 197.691562 117.602188 \nL 197.691562 148.794063 \nQ 197.691562 150.994063 199.891562 150.994063 \nz\n\" style=\"fill: #eaeaf2; opacity: 0.8; stroke: #cccccc; stroke-linejoin: miter\"/>\n    </g>\n    <g id=\"PathCollection_3\">\n     <g>\n      <use xlink:href=\"#m8d99d0ca8a\" x=\"213.091562\" y=\"125.272969\" style=\"fill: #4c72b0; stroke: #333333\"/>\n     </g>\n    </g>\n    <g id=\"text_15\">\n     <!-- Class 0 -->\n     <g style=\"fill: #262626\" transform=\"translate(232.891562 128.160469) scale(0.11 -0.11)\">\n      <defs>\n       <path id=\"DejaVuSans-43\" d=\"M 4122 4306 \nL 4122 3641 \nQ 3803 3938 3442 4084 \nQ 3081 4231 2675 4231 \nQ 1875 4231 1450 3742 \nQ 1025 3253 1025 2328 \nQ 1025 1406 1450 917 \nQ 1875 428 2675 428 \nQ 3081 428 3442 575 \nQ 3803 722 4122 1019 \nL 4122 359 \nQ 3791 134 3420 21 \nQ 3050 -91 2638 -91 \nQ 1578 -91 968 557 \nQ 359 1206 359 2328 \nQ 359 3453 968 4101 \nQ 1578 4750 2638 4750 \nQ 3056 4750 3426 4639 \nQ 3797 4528 4122 4306 \nz\n\" transform=\"scale(0.015625)\"/>\n      </defs>\n      <use xlink:href=\"#DejaVuSans-43\"/>\n      <use xlink:href=\"#DejaVuSans-6c\" x=\"69.824219\"/>\n      <use xlink:href=\"#DejaVuSans-61\" x=\"97.607422\"/>\n      <use xlink:href=\"#DejaVuSans-73\" x=\"158.886719\"/>\n      <use xlink:href=\"#DejaVuSans-73\" x=\"210.986328\"/>\n      <use xlink:href=\"#DejaVuSans-20\" x=\"263.085938\"/>\n      <use xlink:href=\"#DejaVuSans-30\" x=\"294.873047\"/>\n     </g>\n    </g>\n    <g id=\"PathCollection_4\">\n     <g>\n      <use xlink:href=\"#m1225973cca\" x=\"213.091562\" y=\"141.418906\" style=\"fill: #dd8452; stroke: #333333\"/>\n     </g>\n    </g>\n    <g id=\"text_16\">\n     <!-- Class 1 -->\n     <g style=\"fill: #262626\" transform=\"translate(232.891562 144.306406) scale(0.11 -0.11)\">\n      <use xlink:href=\"#DejaVuSans-43\"/>\n      <use xlink:href=\"#DejaVuSans-6c\" x=\"69.824219\"/>\n      <use xlink:href=\"#DejaVuSans-61\" x=\"97.607422\"/>\n      <use xlink:href=\"#DejaVuSans-73\" x=\"158.886719\"/>\n      <use xlink:href=\"#DejaVuSans-73\" x=\"210.986328\"/>\n      <use xlink:href=\"#DejaVuSans-20\" x=\"263.085938\"/>\n      <use xlink:href=\"#DejaVuSans-31\" x=\"294.873047\"/>\n     </g>\n    </g>\n   </g>\n  </g>\n </g>\n <defs>\n  <clipPath id=\"pe53537daa6\">\n   <rect x=\"59.024844\" y=\"22.318125\" width=\"223.2\" height=\"221.76\"/>\n  </clipPath>\n </defs>\n</svg>\n",
            "application/pdf": "[encoded data removed]"
          },
          "metadata": {}
        }
      ],
      "source": [
        "visualize_samples(dataset.data, dataset.label)\n",
        "plt.show()"
      ]
    },
    {
      "cell_type": "markdown",
      "metadata": {
        "id": "N2w1XZe_Jfre"
      },
      "source": [
        "#### The data loader class\n",
        "\n",
        "The class `torch.utils.data.DataLoader` represents a Python iterable over a dataset with support for automatic batching, multi-process data loading and many more features. The data loader communicates with the dataset using the function `__getitem__`, and stacks its outputs as tensors over the first dimension to form a batch.\n",
        "In contrast to the dataset class, we usually don't have to define our own data loader class, but can just create an object of it with the dataset as input. Additionally, we can configure our data loader with the following input arguments (only a selection, see full list [here](https://pytorch.org/docs/stable/data.html#torch.utils.data.DataLoader)):\n",
        "\n",
        "* `batch_size`: Number of samples to stack per batch\n",
        "* `shuffle`: If True, the data is returned in a random order. This is important during training for introducing stochasticity.\n",
        "* `num_workers`: Number of subprocesses to use for data loading. The default, 0, means that the data will be loaded in the main process which can slow down training for datasets where loading a data point takes a considerable amount of time (e.g. large images). More workers are recommended for those, but can cause issues on Windows computers. For tiny datasets as ours, 0 workers are usually faster.\n",
        "* `persistent_workers`: If True, workers will not be shutdown after an iteration over the dataset has finished. This can be useful if the time per epoch is small, or if you face issues with workers being killed during training.\n",
        "* `drop_last`: If True, the last batch is dropped in case it is smaller than the specified batch size. This occurs when the dataset size is not a multiple of the batch size. Only potentially helpful during training to keep a consistent batch size.\n",
        "* `collate_fn`: A function that defines how the elements per batch are combined. By default, PyTorch stacks them as PyTorch tensors. For JAX, we will change it to NumPy arrays.\n",
        "\n",
        "Let's create a simple data loader below with a function that stacks batch elements as NumPy array instead of PyTorch Tensors:"
      ]
    },
    {
      "cell_type": "code",
      "execution_count": 40,
      "metadata": {
        "id": "x0Yxad_gJfre"
      },
      "outputs": [],
      "source": [
        "# This collate function is taken from the JAX tutorial with PyTorch Data Loading\n",
        "# https://jax.readthedocs.io/en/latest/notebooks/Neural_Network_and_Data_Loading.html\n",
        "def numpy_collate(batch):\n",
        "    if isinstance(batch[0], np.ndarray):\n",
        "        return np.stack(batch)\n",
        "    elif isinstance(batch[0], (tuple,list)):\n",
        "        transposed = zip(*batch)\n",
        "        return [numpy_collate(samples) for samples in transposed]\n",
        "    else:\n",
        "        return np.array(batch)\n",
        "\n",
        "data_loader = data.DataLoader(dataset, batch_size=8, shuffle=True, collate_fn=numpy_collate)"
      ]
    },
    {
      "cell_type": "code",
      "execution_count": 41,
      "metadata": {
        "colab": {
          "base_uri": "https://localhost:8080/"
        },
        "id": "U9ULRGeFJfre",
        "outputId": "a45cdc36-87fa-405b-dc51-366fbb79daf2"
      },
      "outputs": [
        {
          "output_type": "stream",
          "name": "stdout",
          "text": [
            "Data inputs (8, 2) \n",
            " [[ 0.10062928 -0.05768919]\n",
            " [ 1.0357788   1.0560784 ]\n",
            " [ 1.0341756   1.1876171 ]\n",
            " [ 1.0576557   1.0311251 ]\n",
            " [-0.16694053  0.05433602]\n",
            " [ 0.05708905  0.11355656]\n",
            " [ 0.09633762  0.04127809]\n",
            " [-0.15944277 -0.0599375 ]]\n",
            "Data labels (8,) \n",
            " [0 0 0 0 0 0 0 0]\n"
          ]
        }
      ],
      "source": [
        "# next(iter(...)) catches the first batch of the data loader\n",
        "# If shuffle is True, this will return a different batch every time we run this cell\n",
        "# For iterating over the whole dataset, we can simple use \"for batch in data_loader: ...\"\n",
        "data_inputs, data_labels = next(iter(data_loader))\n",
        "\n",
        "# The shape of the outputs are [batch_size, d_1,...,d_N] where d_1,...,d_N are the\n",
        "# dimensions of the data point returned from the dataset class\n",
        "print(\"Data inputs\", data_inputs.shape, \"\\n\", data_inputs)\n",
        "print(\"Data labels\", data_labels.shape, \"\\n\", data_labels)"
      ]
    },
    {
      "cell_type": "markdown",
      "metadata": {
        "id": "Vrp7CufTJfre"
      },
      "source": [
        "### Optimization\n",
        "\n",
        "After defining the model and the dataset, it is time to prepare the optimization of the model. During training, we will perform the following steps:\n",
        "\n",
        "1. Get a batch from the data loader\n",
        "2. Obtain the predictions from the model for the batch\n",
        "3. Calculate the loss based on the difference between predictions and labels\n",
        "4. Backpropagation: calculate the gradients for every parameter with respect to the loss\n",
        "5. Update the parameters of the model in the direction of the gradients\n",
        "\n",
        "We have seen how we can do step 1, 2 and 4 in JAX and Flax. Now, we will look at step 3 and 5."
      ]
    },
    {
      "cell_type": "markdown",
      "metadata": {
        "id": "UTbIiRHnJfre"
      },
      "source": [
        "#### Stochastic Gradient Descent\n",
        "\n",
        "For updating the parameters, Flax does not directly provide support for optimizers, but instead refers to another package called `optax` ([documentation](https://optax.readthedocs.io/en/latest/index.html)). Optax is an optimization library for JAX, which offers most common deep learning optimizers (SGD, Adam, Adagrad, RMSProp, etc.) and utilities (gradient clipping, weight decay, etc.)."
      ]
    },
    {
      "cell_type": "code",
      "execution_count": 42,
      "metadata": {
        "id": "0LHu_KdJJfre"
      },
      "outputs": [],
      "source": [
        "try:\n",
        "    import optax\n",
        "except ModuleNotFoundError: # Install optax if missing\n",
        "    !pip install --quiet optax\n",
        "    import optax"
      ]
    },
    {
      "cell_type": "markdown",
      "metadata": {
        "id": "1b4BhARkJfre"
      },
      "source": [
        "For now, we will use the simplest optimizer, namely `optax.sgd`. Stochastic Gradient Descent updates parameters by multiplying the gradients with a small constant, called learning rate, and subtracting those from the parameters (hence minimizing the loss). Therefore, we slowly move towards the direction of minimizing the loss. A good default value of the learning rate for a small network as ours is 0.1. Remember that we again aim to write functional code. Hence, the optimizer does not take as input the parameters, but only the optimizer hyperparameters."
      ]
    },
    {
      "cell_type": "code",
      "execution_count": 43,
      "metadata": {
        "id": "CFRxPsb-Jfrf"
      },
      "outputs": [],
      "source": [
        "# Input to the optimizer are optimizer settings like learning rate\n",
        "optimizer = optax.sgd(learning_rate=0.1)"
      ]
    },
    {
      "cell_type": "markdown",
      "metadata": {
        "id": "4LO5s9sTJfrf"
      },
      "source": [
        "Since JAX calculates gradients via function transformations, we do not have functions like `backward()`, `optimizer.step()` or `optimizer.backward()` as in PyTorch. Instead, a optimizer is a function on the parameters and gradients. To simplify this step and bundle important parts of the training procedure, Flax offers the `flax.training` package. As a first step, we can create a `TrainState` which bundles the parameters, the optimizer, and the forward step of the model:"
      ]
    },
    {
      "cell_type": "code",
      "execution_count": 44,
      "metadata": {
        "id": "JbwaVcDXJfrf"
      },
      "outputs": [],
      "source": [
        "from flax.training import train_state\n",
        "\n",
        "model_state = train_state.TrainState.create(apply_fn=model.apply,\n",
        "                                            params=params,\n",
        "                                            tx=optimizer)"
      ]
    },
    {
      "cell_type": "markdown",
      "metadata": {
        "id": "qJIc0Lb8Jfrf"
      },
      "source": [
        "With this state object, it is easier to handle the training."
      ]
    },
    {
      "cell_type": "markdown",
      "metadata": {
        "id": "MiYZ3XA7Jfrf"
      },
      "source": [
        "#### Loss function\n",
        "\n",
        "For performing gradient updates, we need a function that can calculate the loss for a batch. Afterwards, we can apply JAX's gradient transformation to obtain a gradient function of it. In our setting, which is binary classification, we can use Binary Cross Entropy (BCE) which is defined as follows:\n",
        "\n",
        "$$\\mathcal{L}_{BCE} = -\\sum_i \\left[ y_i \\log x_i + (1 - y_i) \\log (1 - x_i) \\right]$$\n",
        "\n",
        "where $y$ are our labels, and $x$ our predictions, both in the range of $[0,1]$. Similar to PyTorch, Optax already provides a function for this: `optax.sigmoid_binary_cross_entropy(logits, labels)`. We calculate the loss on the logits instead of the sigmoid outputs for numerical stability. Let's write a function that takes as input a state (for the forward function), parameters, and a batch, and return the binary cross entropy loss and accuracy:"
      ]
    },
    {
      "cell_type": "code",
      "execution_count": 45,
      "metadata": {
        "id": "TpJtymqvJfrf"
      },
      "outputs": [],
      "source": [
        "def calculate_loss_acc(state, params, batch):\n",
        "    data_input, labels = batch\n",
        "    # Obtain the logits and predictions of the model for the input data\n",
        "    logits = state.apply_fn(params, data_input).squeeze(axis=-1)\n",
        "    pred_labels = (logits > 0).astype(jnp.float32)\n",
        "    # Calculate the loss and accuracy\n",
        "    loss = optax.sigmoid_binary_cross_entropy(logits, labels).mean()\n",
        "    acc = (pred_labels == labels).mean()\n",
        "    return loss, acc"
      ]
    },
    {
      "cell_type": "markdown",
      "metadata": {
        "id": "Hco7IGd4Jfrf"
      },
      "source": [
        "Note that we explicitly add the parameters here as an input argument since we want to calculate the gradients with respect to them later. An example execution of the function would look like:"
      ]
    },
    {
      "cell_type": "code",
      "execution_count": 46,
      "metadata": {
        "colab": {
          "base_uri": "https://localhost:8080/"
        },
        "id": "hnna6AV0Jfrf",
        "outputId": "ac3443d9-2bd9-4a17-cf04-679d5f3db789"
      },
      "outputs": [
        {
          "output_type": "execute_result",
          "data": {
            "text/plain": [
              "(Array(0.697261, dtype=float32), Array(0.625, dtype=float32))"
            ]
          },
          "metadata": {},
          "execution_count": 46
        }
      ],
      "source": [
        "batch = next(iter(data_loader))\n",
        "calculate_loss_acc(model_state, model_state.params, batch)"
      ]
    },
    {
      "cell_type": "markdown",
      "metadata": {
        "id": "Im-xXBxqJfrf"
      },
      "source": [
        "### Creating an efficient training and validation step\n",
        "\n",
        "With this loss function and the optimizer, we are now ready to create an efficient training and validation/test step. First, let's consider the training. As input to each training step, we have a training state and a batch. We then want to calculate the loss for the input and take the gradients of it. Finally, we update the parameters with our optimizer and return the new state. All this can be summarized in the following function:"
      ]
    },
    {
      "cell_type": "code",
      "execution_count": 47,
      "metadata": {
        "id": "OeEtAnmJJfrf"
      },
      "outputs": [],
      "source": [
        "@jax.jit  # Jit the function for efficiency\n",
        "def train_step(state, batch):\n",
        "    # Gradient function\n",
        "    grad_fn = jax.value_and_grad(calculate_loss_acc,  # Function to calculate the loss\n",
        "                                 argnums=1,  # Parameters are second argument of the function\n",
        "                                 has_aux=True  # Function has additional outputs, here accuracy\n",
        "                                )\n",
        "    # Determine gradients for current model, parameters and batch\n",
        "    (loss, acc), grads = grad_fn(state, state.params, batch)\n",
        "    # Perform parameter update with gradients and optimizer\n",
        "    state = state.apply_gradients(grads=grads)\n",
        "    # Return state and any other value we might want\n",
        "    return state, loss, acc"
      ]
    },
    {
      "cell_type": "markdown",
      "metadata": {
        "id": "iQoE8a-NJfrf"
      },
      "source": [
        "By using the transformation `jax.jit`, the whole gradient calculation and application is optimized in XLA, providing an efficient function for updating the model.\n",
        "\n",
        "Next, let's look at the evaluation function. Here, we do not need to calculate gradients, but only want to get the accuracy of the model for the batch. This becomes a simpler version of the training step:"
      ]
    },
    {
      "cell_type": "code",
      "execution_count": 48,
      "metadata": {
        "id": "Pca3gcQrJfrf"
      },
      "outputs": [],
      "source": [
        "@jax.jit  # Jit the function for efficiency\n",
        "def eval_step(state, batch):\n",
        "    # Determine the accuracy\n",
        "    _, acc = calculate_loss_acc(state, state.params, batch)\n",
        "    return acc"
      ]
    },
    {
      "cell_type": "markdown",
      "metadata": {
        "id": "Ok7FjkF1Jfrf"
      },
      "source": [
        "These two functions provide us now efficient utilities to train our model."
      ]
    },
    {
      "cell_type": "markdown",
      "metadata": {
        "id": "dEm0PDUkJfrf"
      },
      "source": [
        "### Training\n",
        "\n",
        "Finally, we are ready to train our model. As a first step, we create a slightly larger dataset and specify a data loader with a larger batch size."
      ]
    },
    {
      "cell_type": "code",
      "execution_count": 49,
      "metadata": {
        "id": "e0WQhH8fJfrf"
      },
      "outputs": [],
      "source": [
        "train_dataset = XORDataset(size=2500, seed=42)\n",
        "train_data_loader = data.DataLoader(train_dataset, batch_size=128, shuffle=True, collate_fn=numpy_collate)"
      ]
    },
    {
      "cell_type": "markdown",
      "metadata": {
        "id": "9tUSm9BAJfrf"
      },
      "source": [
        "Now, we can write a small training function. In contrast to PyTorch, we do not need to explicitly push our model to GPU, since the parameters are already automatically created on GPU. Further, since the model itself is stateless, we do not have a `train()` or `eval()` function to switch between modes of e.g. dropout. When necessary, we can add an argument `train : bool` to the model forward pass. For this simple network here, however, this is not necessary.\n",
        "\n",
        "Following the PyTorch tutorial, let's write a function here that trains a model for several epochs:"
      ]
    },
    {
      "cell_type": "code",
      "execution_count": 50,
      "metadata": {
        "id": "uLLcTkxPJfrf"
      },
      "outputs": [],
      "source": [
        "def train_model(state, data_loader, num_epochs=100):\n",
        "    # Training loop\n",
        "    for epoch in tqdm(range(num_epochs)):\n",
        "        for batch in data_loader:\n",
        "            state, loss, acc = train_step(state, batch)\n",
        "            # We could use the loss and accuracy for logging here, e.g. in TensorBoard\n",
        "            # For simplicity, we skip this part here\n",
        "    return state"
      ]
    },
    {
      "cell_type": "code",
      "execution_count": 51,
      "metadata": {
        "colab": {
          "base_uri": "https://localhost:8080/",
          "height": 69,
          "referenced_widgets": [
            "a7c6cb74f55c44dea0f298ba78293570",
            "d303f182701e44b6b259776860b7a5ce",
            "d903852accae489babfe9dd874c0bf10",
            "8cc763e1a8274d978a7a2e1a9d4ce6b5",
            "107c3959150b4796a8a5385080b0c2fe",
            "6f66eca6ba8946d790936f87767553c6",
            "8a83a23ca7b943fa92cbc78210176a55",
            "a20ed2e9ec3c40c6add30f775af21ca7",
            "9ad79b114f5d4e4cad081a690122aff6",
            "27a25d1c2b7e4487ad2686a229ce1a95",
            "ca72ae9375f64ad4bcce7045aee99f15"
          ]
        },
        "id": "oZPpJZ2KJfrf",
        "outputId": "b6ad4ce8-de21-4e37-c7b8-c960fc4d8454"
      },
      "outputs": [
        {
          "output_type": "display_data",
          "data": {
            "text/plain": [
              "  0%|          | 0/100 [00:00<?, ?it/s]"
            ],
            "application/vnd.jupyter.widget-view+json": {
              "version_major": 2,
              "version_minor": 0,
              "model_id": "a7c6cb74f55c44dea0f298ba78293570"
            }
          },
          "metadata": {}
        }
      ],
      "source": [
        "trained_model_state = train_model(model_state, train_data_loader, num_epochs=100)"
      ]
    },
    {
      "cell_type": "markdown",
      "metadata": {
        "id": "WMjmCekGJfrf"
      },
      "source": [
        "Training this model for 100 epochs does take barely a second... This shows the impressive speed JAX can reach, especially for small models!"
      ]
    },
    {
      "cell_type": "markdown",
      "metadata": {
        "id": "zAw7JOHgJfrf"
      },
      "source": [
        "#### Saving a model\n",
        "\n",
        "After we finished training a model, we save the model to disk so that we can load the same weights at a later time. In JAX, this means we want to save the `state.params` dictionary. Luckily, the `flax.training` package again provides us with nice utilities for that, which uses TensorFlow as underlying framework."
      ]
    },
    {
      "cell_type": "code",
      "execution_count": 52,
      "metadata": {
        "id": "9VB89GC9Jfrg"
      },
      "outputs": [],
      "source": [
        "from flax.training import checkpoints"
      ]
    },
    {
      "cell_type": "markdown",
      "metadata": {
        "id": "g6ifRhukJfrg"
      },
      "source": [
        "To save the whole model state, we can write:"
      ]
    },
    {
      "cell_type": "code",
      "execution_count": 53,
      "metadata": {
        "colab": {
          "base_uri": "https://localhost:8080/",
          "height": 395
        },
        "id": "SGzgepsfJfrg",
        "outputId": "60b4c705-d5e5-4460-8a9c-e0e41823f01e"
      },
      "outputs": [
        {
          "output_type": "stream",
          "name": "stderr",
          "text": [
            "WARNING:absl:The `aggregate` option is deprecated and will be ignored.\n"
          ]
        },
        {
          "output_type": "error",
          "ename": "ValueError",
          "evalue": "Checkpoint path should be absolute. Got my_checkpoints/my_model100.orbax-checkpoint-tmp-0",
          "traceback": [
            "\u001b[0;31m---------------------------------------------------------------------------\u001b[0m",
            "\u001b[0;31mValueError\u001b[0m                                Traceback (most recent call last)",
            "\u001b[0;32m<ipython-input-53-0f760b5e6eb8>\u001b[0m in \u001b[0;36m<cell line: 1>\u001b[0;34m()\u001b[0m\n\u001b[0;32m----> 1\u001b[0;31m checkpoints.save_checkpoint(ckpt_dir='my_checkpoints/',  # Folder to save checkpoint in\n\u001b[0m\u001b[1;32m      2\u001b[0m                             \u001b[0mtarget\u001b[0m\u001b[0;34m=\u001b[0m\u001b[0mtrained_model_state\u001b[0m\u001b[0;34m,\u001b[0m  \u001b[0;31m# What to save. To only save parameters, use model_state.params\u001b[0m\u001b[0;34m\u001b[0m\u001b[0;34m\u001b[0m\u001b[0m\n\u001b[1;32m      3\u001b[0m                             \u001b[0mstep\u001b[0m\u001b[0;34m=\u001b[0m\u001b[0;36m100\u001b[0m\u001b[0;34m,\u001b[0m  \u001b[0;31m# Training step or other metric to save best model on\u001b[0m\u001b[0;34m\u001b[0m\u001b[0;34m\u001b[0m\u001b[0m\n\u001b[1;32m      4\u001b[0m                             \u001b[0mprefix\u001b[0m\u001b[0;34m=\u001b[0m\u001b[0;34m'my_model'\u001b[0m\u001b[0;34m,\u001b[0m  \u001b[0;31m# Checkpoint file name prefix\u001b[0m\u001b[0;34m\u001b[0m\u001b[0;34m\u001b[0m\u001b[0m\n\u001b[1;32m      5\u001b[0m                             \u001b[0moverwrite\u001b[0m\u001b[0;34m=\u001b[0m\u001b[0;32mTrue\u001b[0m   \u001b[0;31m# Overwrite existing checkpoint files\u001b[0m\u001b[0;34m\u001b[0m\u001b[0;34m\u001b[0m\u001b[0m\n",
            "\u001b[0;32m/usr/local/lib/python3.10/dist-packages/flax/training/checkpoints.py\u001b[0m in \u001b[0;36msave_checkpoint\u001b[0;34m(ckpt_dir, target, step, prefix, keep, overwrite, keep_every_n_steps, async_manager, orbax_checkpointer)\u001b[0m\n\u001b[1;32m    695\u001b[0m \u001b[0;34m\u001b[0m\u001b[0m\n\u001b[1;32m    696\u001b[0m     \u001b[0msave_args\u001b[0m \u001b[0;34m=\u001b[0m \u001b[0morbax_utils\u001b[0m\u001b[0;34m.\u001b[0m\u001b[0msave_args_from_target\u001b[0m\u001b[0;34m(\u001b[0m\u001b[0mtarget\u001b[0m\u001b[0;34m)\u001b[0m\u001b[0;34m\u001b[0m\u001b[0;34m\u001b[0m\u001b[0m\n\u001b[0;32m--> 697\u001b[0;31m     orbax_checkpointer.save(\n\u001b[0m\u001b[1;32m    698\u001b[0m       \u001b[0mckpt_path\u001b[0m\u001b[0;34m,\u001b[0m \u001b[0mtarget\u001b[0m\u001b[0;34m,\u001b[0m \u001b[0msave_args\u001b[0m\u001b[0;34m=\u001b[0m\u001b[0msave_args\u001b[0m\u001b[0;34m,\u001b[0m \u001b[0mforce\u001b[0m\u001b[0;34m=\u001b[0m\u001b[0moverwrite\u001b[0m\u001b[0;34m\u001b[0m\u001b[0;34m\u001b[0m\u001b[0m\n\u001b[1;32m    699\u001b[0m     )\n",
            "\u001b[0;32m/usr/local/lib/python3.10/dist-packages/orbax/checkpoint/checkpointer.py\u001b[0m in \u001b[0;36msave\u001b[0;34m(self, directory, force, *args, **kwargs)\u001b[0m\n\u001b[1;32m    202\u001b[0m     \u001b[0mckpt_args\u001b[0m \u001b[0;34m=\u001b[0m \u001b[0mconstruct_checkpoint_args\u001b[0m\u001b[0;34m(\u001b[0m\u001b[0mself\u001b[0m\u001b[0;34m.\u001b[0m\u001b[0m_handler\u001b[0m\u001b[0;34m,\u001b[0m \u001b[0;32mTrue\u001b[0m\u001b[0;34m,\u001b[0m \u001b[0;34m*\u001b[0m\u001b[0margs\u001b[0m\u001b[0;34m,\u001b[0m \u001b[0;34m**\u001b[0m\u001b[0mkwargs\u001b[0m\u001b[0;34m)\u001b[0m\u001b[0;34m\u001b[0m\u001b[0;34m\u001b[0m\u001b[0m\n\u001b[1;32m    203\u001b[0m     \u001b[0mtmpdir\u001b[0m \u001b[0;34m=\u001b[0m \u001b[0masyncio\u001b[0m\u001b[0;34m.\u001b[0m\u001b[0mrun\u001b[0m\u001b[0;34m(\u001b[0m\u001b[0mself\u001b[0m\u001b[0;34m.\u001b[0m\u001b[0mcreate_temporary_path\u001b[0m\u001b[0;34m(\u001b[0m\u001b[0mdirectory\u001b[0m\u001b[0;34m)\u001b[0m\u001b[0;34m)\u001b[0m\u001b[0;34m\u001b[0m\u001b[0;34m\u001b[0m\u001b[0m\n\u001b[0;32m--> 204\u001b[0;31m     \u001b[0mself\u001b[0m\u001b[0;34m.\u001b[0m\u001b[0m_handler\u001b[0m\u001b[0;34m.\u001b[0m\u001b[0msave\u001b[0m\u001b[0;34m(\u001b[0m\u001b[0mtmpdir\u001b[0m\u001b[0;34m.\u001b[0m\u001b[0mget\u001b[0m\u001b[0;34m(\u001b[0m\u001b[0;34m)\u001b[0m\u001b[0;34m,\u001b[0m \u001b[0margs\u001b[0m\u001b[0;34m=\u001b[0m\u001b[0mckpt_args\u001b[0m\u001b[0;34m)\u001b[0m\u001b[0;34m\u001b[0m\u001b[0;34m\u001b[0m\u001b[0m\n\u001b[0m\u001b[1;32m    205\u001b[0m     multihost.sync_global_processes(\n\u001b[1;32m    206\u001b[0m         multihost.unique_barrier_key(\n",
            "\u001b[0;32m/usr/local/lib/python3.10/dist-packages/orbax/checkpoint/_src/handlers/pytree_checkpoint_handler.py\u001b[0m in \u001b[0;36msave\u001b[0;34m(self, directory, item, save_args, args)\u001b[0m\n\u001b[1;32m    564\u001b[0m     \u001b[0;34m\"\"\"Saves the provided item. See async_save.\"\"\"\u001b[0m\u001b[0;34m\u001b[0m\u001b[0;34m\u001b[0m\u001b[0m\n\u001b[1;32m    565\u001b[0m     \u001b[0margs\u001b[0m \u001b[0;34m=\u001b[0m \u001b[0m_get_impl_save_args\u001b[0m\u001b[0;34m(\u001b[0m\u001b[0mitem\u001b[0m\u001b[0;34m,\u001b[0m \u001b[0msave_args\u001b[0m\u001b[0;34m,\u001b[0m \u001b[0margs\u001b[0m\u001b[0;34m)\u001b[0m\u001b[0;34m\u001b[0m\u001b[0;34m\u001b[0m\u001b[0m\n\u001b[0;32m--> 566\u001b[0;31m     \u001b[0mself\u001b[0m\u001b[0;34m.\u001b[0m\u001b[0m_handler_impl\u001b[0m\u001b[0;34m.\u001b[0m\u001b[0msave\u001b[0m\u001b[0;34m(\u001b[0m\u001b[0mdirectory\u001b[0m\u001b[0;34m,\u001b[0m \u001b[0margs\u001b[0m\u001b[0;34m=\u001b[0m\u001b[0margs\u001b[0m\u001b[0;34m)\u001b[0m\u001b[0;34m\u001b[0m\u001b[0;34m\u001b[0m\u001b[0m\n\u001b[0m\u001b[1;32m    567\u001b[0m \u001b[0;34m\u001b[0m\u001b[0m\n\u001b[1;32m    568\u001b[0m   async def _maybe_deserialize(\n",
            "\u001b[0;32m/usr/local/lib/python3.10/dist-packages/orbax/checkpoint/_src/handlers/base_pytree_checkpoint_handler.py\u001b[0m in \u001b[0;36msave\u001b[0;34m(self, directory, *args, **kwargs)\u001b[0m\n\u001b[1;32m    499\u001b[0m           \u001b[0mf\u001b[0m\u001b[0;34m.\u001b[0m\u001b[0mresult\u001b[0m\u001b[0;34m(\u001b[0m\u001b[0;34m)\u001b[0m  \u001b[0;31m# Block on result.\u001b[0m\u001b[0;34m\u001b[0m\u001b[0;34m\u001b[0m\u001b[0m\n\u001b[1;32m    500\u001b[0m \u001b[0;34m\u001b[0m\u001b[0m\n\u001b[0;32m--> 501\u001b[0;31m     \u001b[0masyncio\u001b[0m\u001b[0;34m.\u001b[0m\u001b[0mrun\u001b[0m\u001b[0;34m(\u001b[0m\u001b[0masync_save\u001b[0m\u001b[0;34m(\u001b[0m\u001b[0mdirectory\u001b[0m\u001b[0;34m,\u001b[0m \u001b[0;34m*\u001b[0m\u001b[0margs\u001b[0m\u001b[0;34m,\u001b[0m \u001b[0;34m**\u001b[0m\u001b[0mkwargs\u001b[0m\u001b[0;34m)\u001b[0m\u001b[0;34m)\u001b[0m\u001b[0;34m\u001b[0m\u001b[0;34m\u001b[0m\u001b[0m\n\u001b[0m\u001b[1;32m    502\u001b[0m \u001b[0;34m\u001b[0m\u001b[0m\n\u001b[1;32m    503\u001b[0m   async def _maybe_deserialize(\n",
            "\u001b[0;32m/usr/local/lib/python3.10/dist-packages/nest_asyncio.py\u001b[0m in \u001b[0;36mrun\u001b[0;34m(main, debug)\u001b[0m\n\u001b[1;32m     28\u001b[0m         \u001b[0mtask\u001b[0m \u001b[0;34m=\u001b[0m \u001b[0masyncio\u001b[0m\u001b[0;34m.\u001b[0m\u001b[0mensure_future\u001b[0m\u001b[0;34m(\u001b[0m\u001b[0mmain\u001b[0m\u001b[0;34m)\u001b[0m\u001b[0;34m\u001b[0m\u001b[0;34m\u001b[0m\u001b[0m\n\u001b[1;32m     29\u001b[0m         \u001b[0;32mtry\u001b[0m\u001b[0;34m:\u001b[0m\u001b[0;34m\u001b[0m\u001b[0;34m\u001b[0m\u001b[0m\n\u001b[0;32m---> 30\u001b[0;31m             \u001b[0;32mreturn\u001b[0m \u001b[0mloop\u001b[0m\u001b[0;34m.\u001b[0m\u001b[0mrun_until_complete\u001b[0m\u001b[0;34m(\u001b[0m\u001b[0mtask\u001b[0m\u001b[0;34m)\u001b[0m\u001b[0;34m\u001b[0m\u001b[0;34m\u001b[0m\u001b[0m\n\u001b[0m\u001b[1;32m     31\u001b[0m         \u001b[0;32mfinally\u001b[0m\u001b[0;34m:\u001b[0m\u001b[0;34m\u001b[0m\u001b[0;34m\u001b[0m\u001b[0m\n\u001b[1;32m     32\u001b[0m             \u001b[0;32mif\u001b[0m \u001b[0;32mnot\u001b[0m \u001b[0mtask\u001b[0m\u001b[0;34m.\u001b[0m\u001b[0mdone\u001b[0m\u001b[0;34m(\u001b[0m\u001b[0;34m)\u001b[0m\u001b[0;34m:\u001b[0m\u001b[0;34m\u001b[0m\u001b[0;34m\u001b[0m\u001b[0m\n",
            "\u001b[0;32m/usr/local/lib/python3.10/dist-packages/nest_asyncio.py\u001b[0m in \u001b[0;36mrun_until_complete\u001b[0;34m(self, future)\u001b[0m\n\u001b[1;32m     96\u001b[0m                 raise RuntimeError(\n\u001b[1;32m     97\u001b[0m                     'Event loop stopped before Future completed.')\n\u001b[0;32m---> 98\u001b[0;31m             \u001b[0;32mreturn\u001b[0m \u001b[0mf\u001b[0m\u001b[0;34m.\u001b[0m\u001b[0mresult\u001b[0m\u001b[0;34m(\u001b[0m\u001b[0;34m)\u001b[0m\u001b[0;34m\u001b[0m\u001b[0;34m\u001b[0m\u001b[0m\n\u001b[0m\u001b[1;32m     99\u001b[0m \u001b[0;34m\u001b[0m\u001b[0m\n\u001b[1;32m    100\u001b[0m     \u001b[0;32mdef\u001b[0m \u001b[0m_run_once\u001b[0m\u001b[0;34m(\u001b[0m\u001b[0mself\u001b[0m\u001b[0;34m)\u001b[0m\u001b[0;34m:\u001b[0m\u001b[0;34m\u001b[0m\u001b[0;34m\u001b[0m\u001b[0m\n",
            "\u001b[0;32m/usr/lib/python3.10/asyncio/futures.py\u001b[0m in \u001b[0;36mresult\u001b[0;34m(self)\u001b[0m\n\u001b[1;32m    199\u001b[0m         \u001b[0mself\u001b[0m\u001b[0;34m.\u001b[0m\u001b[0m__log_traceback\u001b[0m \u001b[0;34m=\u001b[0m \u001b[0;32mFalse\u001b[0m\u001b[0;34m\u001b[0m\u001b[0;34m\u001b[0m\u001b[0m\n\u001b[1;32m    200\u001b[0m         \u001b[0;32mif\u001b[0m \u001b[0mself\u001b[0m\u001b[0;34m.\u001b[0m\u001b[0m_exception\u001b[0m \u001b[0;32mis\u001b[0m \u001b[0;32mnot\u001b[0m \u001b[0;32mNone\u001b[0m\u001b[0;34m:\u001b[0m\u001b[0;34m\u001b[0m\u001b[0;34m\u001b[0m\u001b[0m\n\u001b[0;32m--> 201\u001b[0;31m             \u001b[0;32mraise\u001b[0m \u001b[0mself\u001b[0m\u001b[0;34m.\u001b[0m\u001b[0m_exception\u001b[0m\u001b[0;34m.\u001b[0m\u001b[0mwith_traceback\u001b[0m\u001b[0;34m(\u001b[0m\u001b[0mself\u001b[0m\u001b[0;34m.\u001b[0m\u001b[0m_exception_tb\u001b[0m\u001b[0;34m)\u001b[0m\u001b[0;34m\u001b[0m\u001b[0;34m\u001b[0m\u001b[0m\n\u001b[0m\u001b[1;32m    202\u001b[0m         \u001b[0;32mreturn\u001b[0m \u001b[0mself\u001b[0m\u001b[0;34m.\u001b[0m\u001b[0m_result\u001b[0m\u001b[0;34m\u001b[0m\u001b[0;34m\u001b[0m\u001b[0m\n\u001b[1;32m    203\u001b[0m \u001b[0;34m\u001b[0m\u001b[0m\n",
            "\u001b[0;32m/usr/lib/python3.10/asyncio/tasks.py\u001b[0m in \u001b[0;36m__step\u001b[0;34m(***failed resolving arguments***)\u001b[0m\n\u001b[1;32m    230\u001b[0m                 \u001b[0;31m# We use the `send` method directly, because coroutines\u001b[0m\u001b[0;34m\u001b[0m\u001b[0;34m\u001b[0m\u001b[0m\n\u001b[1;32m    231\u001b[0m                 \u001b[0;31m# don't have `__iter__` and `__next__` methods.\u001b[0m\u001b[0;34m\u001b[0m\u001b[0;34m\u001b[0m\u001b[0m\n\u001b[0;32m--> 232\u001b[0;31m                 \u001b[0mresult\u001b[0m \u001b[0;34m=\u001b[0m \u001b[0mcoro\u001b[0m\u001b[0;34m.\u001b[0m\u001b[0msend\u001b[0m\u001b[0;34m(\u001b[0m\u001b[0;32mNone\u001b[0m\u001b[0;34m)\u001b[0m\u001b[0;34m\u001b[0m\u001b[0;34m\u001b[0m\u001b[0m\n\u001b[0m\u001b[1;32m    233\u001b[0m             \u001b[0;32melse\u001b[0m\u001b[0;34m:\u001b[0m\u001b[0;34m\u001b[0m\u001b[0;34m\u001b[0m\u001b[0m\n\u001b[1;32m    234\u001b[0m                 \u001b[0mresult\u001b[0m \u001b[0;34m=\u001b[0m \u001b[0mcoro\u001b[0m\u001b[0;34m.\u001b[0m\u001b[0mthrow\u001b[0m\u001b[0;34m(\u001b[0m\u001b[0mexc\u001b[0m\u001b[0;34m)\u001b[0m\u001b[0;34m\u001b[0m\u001b[0;34m\u001b[0m\u001b[0m\n",
            "\u001b[0;32m/usr/local/lib/python3.10/dist-packages/orbax/checkpoint/_src/handlers/base_pytree_checkpoint_handler.py\u001b[0m in \u001b[0;36masync_save\u001b[0;34m(*args, **kwargs)\u001b[0m\n\u001b[1;32m    497\u001b[0m       \u001b[0;32mif\u001b[0m \u001b[0mcommit_futures\u001b[0m\u001b[0;34m:\u001b[0m  \u001b[0;31m# May be None.\u001b[0m\u001b[0;34m\u001b[0m\u001b[0;34m\u001b[0m\u001b[0m\n\u001b[1;32m    498\u001b[0m         \u001b[0;32mfor\u001b[0m \u001b[0mf\u001b[0m \u001b[0;32min\u001b[0m \u001b[0mcommit_futures\u001b[0m\u001b[0;34m:\u001b[0m\u001b[0;34m\u001b[0m\u001b[0;34m\u001b[0m\u001b[0m\n\u001b[0;32m--> 499\u001b[0;31m           \u001b[0mf\u001b[0m\u001b[0;34m.\u001b[0m\u001b[0mresult\u001b[0m\u001b[0;34m(\u001b[0m\u001b[0;34m)\u001b[0m  \u001b[0;31m# Block on result.\u001b[0m\u001b[0;34m\u001b[0m\u001b[0;34m\u001b[0m\u001b[0m\n\u001b[0m\u001b[1;32m    500\u001b[0m \u001b[0;34m\u001b[0m\u001b[0m\n\u001b[1;32m    501\u001b[0m     \u001b[0masyncio\u001b[0m\u001b[0;34m.\u001b[0m\u001b[0mrun\u001b[0m\u001b[0;34m(\u001b[0m\u001b[0masync_save\u001b[0m\u001b[0;34m(\u001b[0m\u001b[0mdirectory\u001b[0m\u001b[0;34m,\u001b[0m \u001b[0;34m*\u001b[0m\u001b[0margs\u001b[0m\u001b[0;34m,\u001b[0m \u001b[0;34m**\u001b[0m\u001b[0mkwargs\u001b[0m\u001b[0;34m)\u001b[0m\u001b[0;34m)\u001b[0m\u001b[0;34m\u001b[0m\u001b[0;34m\u001b[0m\u001b[0m\n",
            "\u001b[0;32m/usr/local/lib/python3.10/dist-packages/orbax/checkpoint/future.py\u001b[0m in \u001b[0;36mresult\u001b[0;34m(self, timeout)\u001b[0m\n\u001b[1;32m     76\u001b[0m     \u001b[0mtime_remaining\u001b[0m \u001b[0;34m=\u001b[0m \u001b[0mtimeout\u001b[0m\u001b[0;34m\u001b[0m\u001b[0;34m\u001b[0m\u001b[0m\n\u001b[1;32m     77\u001b[0m     \u001b[0;32mfor\u001b[0m \u001b[0mk\u001b[0m\u001b[0;34m,\u001b[0m \u001b[0mf\u001b[0m \u001b[0;32min\u001b[0m \u001b[0menumerate\u001b[0m\u001b[0;34m(\u001b[0m\u001b[0mself\u001b[0m\u001b[0;34m.\u001b[0m\u001b[0m_futures\u001b[0m\u001b[0;34m)\u001b[0m\u001b[0;34m:\u001b[0m\u001b[0;34m\u001b[0m\u001b[0;34m\u001b[0m\u001b[0m\n\u001b[0;32m---> 78\u001b[0;31m       \u001b[0mf\u001b[0m\u001b[0;34m.\u001b[0m\u001b[0mresult\u001b[0m\u001b[0;34m(\u001b[0m\u001b[0mtimeout\u001b[0m\u001b[0;34m=\u001b[0m\u001b[0mtime_remaining\u001b[0m\u001b[0;34m)\u001b[0m\u001b[0;34m\u001b[0m\u001b[0;34m\u001b[0m\u001b[0m\n\u001b[0m\u001b[1;32m     79\u001b[0m       \u001b[0;32mif\u001b[0m \u001b[0mtime_remaining\u001b[0m \u001b[0;32mis\u001b[0m \u001b[0;32mnot\u001b[0m \u001b[0;32mNone\u001b[0m\u001b[0;34m:\u001b[0m\u001b[0;34m\u001b[0m\u001b[0;34m\u001b[0m\u001b[0m\n\u001b[1;32m     80\u001b[0m         \u001b[0mtime_elapsed\u001b[0m \u001b[0;34m=\u001b[0m \u001b[0mtime\u001b[0m\u001b[0;34m.\u001b[0m\u001b[0mtime\u001b[0m\u001b[0;34m(\u001b[0m\u001b[0;34m)\u001b[0m \u001b[0;34m-\u001b[0m \u001b[0mstart\u001b[0m\u001b[0;34m\u001b[0m\u001b[0;34m\u001b[0m\u001b[0m\n",
            "\u001b[0;32m/usr/local/lib/python3.10/dist-packages/orbax/checkpoint/type_handlers.py\u001b[0m in \u001b[0;36mresult\u001b[0;34m(self, timeout)\u001b[0m\n\u001b[1;32m    470\u001b[0m \u001b[0;34m\u001b[0m\u001b[0m\n\u001b[1;32m    471\u001b[0m   \u001b[0;32mdef\u001b[0m \u001b[0mresult\u001b[0m\u001b[0;34m(\u001b[0m\u001b[0mself\u001b[0m\u001b[0;34m,\u001b[0m \u001b[0mtimeout\u001b[0m\u001b[0;34m:\u001b[0m \u001b[0mOptional\u001b[0m\u001b[0;34m[\u001b[0m\u001b[0mint\u001b[0m\u001b[0;34m]\u001b[0m \u001b[0;34m=\u001b[0m \u001b[0;32mNone\u001b[0m\u001b[0;34m)\u001b[0m \u001b[0;34m->\u001b[0m \u001b[0mAny\u001b[0m\u001b[0;34m:\u001b[0m\u001b[0;34m\u001b[0m\u001b[0;34m\u001b[0m\u001b[0m\n\u001b[0;32m--> 472\u001b[0;31m     \u001b[0;32mreturn\u001b[0m \u001b[0mself\u001b[0m\u001b[0;34m.\u001b[0m\u001b[0m_t\u001b[0m\u001b[0;34m.\u001b[0m\u001b[0mjoin\u001b[0m\u001b[0;34m(\u001b[0m\u001b[0mtimeout\u001b[0m\u001b[0;34m=\u001b[0m\u001b[0mtimeout\u001b[0m\u001b[0;34m)\u001b[0m\u001b[0;34m\u001b[0m\u001b[0;34m\u001b[0m\u001b[0m\n\u001b[0m\u001b[1;32m    473\u001b[0m \u001b[0;34m\u001b[0m\u001b[0m\n\u001b[1;32m    474\u001b[0m \u001b[0;34m\u001b[0m\u001b[0m\n",
            "\u001b[0;32m/usr/local/lib/python3.10/dist-packages/orbax/checkpoint/future.py\u001b[0m in \u001b[0;36mjoin\u001b[0;34m(self, timeout)\u001b[0m\n\u001b[1;32m     60\u001b[0m     \u001b[0msuper\u001b[0m\u001b[0;34m(\u001b[0m\u001b[0;34m)\u001b[0m\u001b[0;34m.\u001b[0m\u001b[0mjoin\u001b[0m\u001b[0;34m(\u001b[0m\u001b[0mtimeout\u001b[0m\u001b[0;34m=\u001b[0m\u001b[0mtimeout\u001b[0m\u001b[0;34m)\u001b[0m\u001b[0;34m\u001b[0m\u001b[0;34m\u001b[0m\u001b[0m\n\u001b[1;32m     61\u001b[0m     \u001b[0;32mif\u001b[0m \u001b[0mself\u001b[0m\u001b[0;34m.\u001b[0m\u001b[0m_exception\u001b[0m \u001b[0;32mis\u001b[0m \u001b[0;32mnot\u001b[0m \u001b[0;32mNone\u001b[0m\u001b[0;34m:\u001b[0m\u001b[0;34m\u001b[0m\u001b[0;34m\u001b[0m\u001b[0m\n\u001b[0;32m---> 62\u001b[0;31m       \u001b[0;32mraise\u001b[0m \u001b[0mself\u001b[0m\u001b[0;34m.\u001b[0m\u001b[0m_exception\u001b[0m\u001b[0;34m\u001b[0m\u001b[0;34m\u001b[0m\u001b[0m\n\u001b[0m\u001b[1;32m     63\u001b[0m \u001b[0;34m\u001b[0m\u001b[0m\n\u001b[1;32m     64\u001b[0m \u001b[0;34m\u001b[0m\u001b[0m\n",
            "\u001b[0;32m/usr/local/lib/python3.10/dist-packages/orbax/checkpoint/future.py\u001b[0m in \u001b[0;36mrun\u001b[0;34m(self)\u001b[0m\n\u001b[1;32m     53\u001b[0m   \u001b[0;32mdef\u001b[0m \u001b[0mrun\u001b[0m\u001b[0;34m(\u001b[0m\u001b[0mself\u001b[0m\u001b[0;34m)\u001b[0m\u001b[0;34m:\u001b[0m\u001b[0;34m\u001b[0m\u001b[0;34m\u001b[0m\u001b[0m\n\u001b[1;32m     54\u001b[0m     \u001b[0;32mtry\u001b[0m\u001b[0;34m:\u001b[0m\u001b[0;34m\u001b[0m\u001b[0;34m\u001b[0m\u001b[0m\n\u001b[0;32m---> 55\u001b[0;31m       \u001b[0msuper\u001b[0m\u001b[0;34m(\u001b[0m\u001b[0;34m)\u001b[0m\u001b[0;34m.\u001b[0m\u001b[0mrun\u001b[0m\u001b[0;34m(\u001b[0m\u001b[0;34m)\u001b[0m\u001b[0;34m\u001b[0m\u001b[0;34m\u001b[0m\u001b[0m\n\u001b[0m\u001b[1;32m     56\u001b[0m     \u001b[0;32mexcept\u001b[0m \u001b[0mException\u001b[0m \u001b[0;32mas\u001b[0m \u001b[0me\u001b[0m\u001b[0;34m:\u001b[0m  \u001b[0;31m# pylint: disable=broad-exception-caught\u001b[0m\u001b[0;34m\u001b[0m\u001b[0;34m\u001b[0m\u001b[0m\n\u001b[1;32m     57\u001b[0m       \u001b[0mself\u001b[0m\u001b[0;34m.\u001b[0m\u001b[0m_exception\u001b[0m \u001b[0;34m=\u001b[0m \u001b[0me\u001b[0m\u001b[0;34m\u001b[0m\u001b[0;34m\u001b[0m\u001b[0m\n",
            "\u001b[0;32m/usr/lib/python3.10/threading.py\u001b[0m in \u001b[0;36mrun\u001b[0;34m(self)\u001b[0m\n\u001b[1;32m    951\u001b[0m         \u001b[0;32mtry\u001b[0m\u001b[0;34m:\u001b[0m\u001b[0;34m\u001b[0m\u001b[0;34m\u001b[0m\u001b[0m\n\u001b[1;32m    952\u001b[0m             \u001b[0;32mif\u001b[0m \u001b[0mself\u001b[0m\u001b[0;34m.\u001b[0m\u001b[0m_target\u001b[0m \u001b[0;32mis\u001b[0m \u001b[0;32mnot\u001b[0m \u001b[0;32mNone\u001b[0m\u001b[0;34m:\u001b[0m\u001b[0;34m\u001b[0m\u001b[0;34m\u001b[0m\u001b[0m\n\u001b[0;32m--> 953\u001b[0;31m                 \u001b[0mself\u001b[0m\u001b[0;34m.\u001b[0m\u001b[0m_target\u001b[0m\u001b[0;34m(\u001b[0m\u001b[0;34m*\u001b[0m\u001b[0mself\u001b[0m\u001b[0;34m.\u001b[0m\u001b[0m_args\u001b[0m\u001b[0;34m,\u001b[0m \u001b[0;34m**\u001b[0m\u001b[0mself\u001b[0m\u001b[0;34m.\u001b[0m\u001b[0m_kwargs\u001b[0m\u001b[0;34m)\u001b[0m\u001b[0;34m\u001b[0m\u001b[0;34m\u001b[0m\u001b[0m\n\u001b[0m\u001b[1;32m    954\u001b[0m         \u001b[0;32mfinally\u001b[0m\u001b[0;34m:\u001b[0m\u001b[0;34m\u001b[0m\u001b[0;34m\u001b[0m\u001b[0m\n\u001b[1;32m    955\u001b[0m             \u001b[0;31m# Avoid a refcycle if the thread is running a function with\u001b[0m\u001b[0;34m\u001b[0m\u001b[0;34m\u001b[0m\u001b[0m\n",
            "\u001b[0;32m/usr/local/lib/python3.10/dist-packages/orbax/checkpoint/type_handlers.py\u001b[0m in \u001b[0;36m<lambda>\u001b[0;34m()\u001b[0m\n\u001b[1;32m    465\u001b[0m     self._t = future.ThreadRaisingException(\n\u001b[1;32m    466\u001b[0m         \u001b[0mname\u001b[0m\u001b[0;34m=\u001b[0m\u001b[0mname\u001b[0m\u001b[0;34m,\u001b[0m\u001b[0;34m\u001b[0m\u001b[0;34m\u001b[0m\u001b[0m\n\u001b[0;32m--> 467\u001b[0;31m         \u001b[0mtarget\u001b[0m\u001b[0;34m=\u001b[0m\u001b[0;32mlambda\u001b[0m\u001b[0;34m:\u001b[0m \u001b[0masyncio\u001b[0m\u001b[0;34m.\u001b[0m\u001b[0mrun\u001b[0m\u001b[0;34m(\u001b[0m\u001b[0mcoro\u001b[0m\u001b[0;34m)\u001b[0m\u001b[0;34m,\u001b[0m\u001b[0;34m\u001b[0m\u001b[0;34m\u001b[0m\u001b[0m\n\u001b[0m\u001b[1;32m    468\u001b[0m     )\n\u001b[1;32m    469\u001b[0m     \u001b[0mself\u001b[0m\u001b[0;34m.\u001b[0m\u001b[0m_t\u001b[0m\u001b[0;34m.\u001b[0m\u001b[0mstart\u001b[0m\u001b[0;34m(\u001b[0m\u001b[0;34m)\u001b[0m\u001b[0;34m\u001b[0m\u001b[0;34m\u001b[0m\u001b[0m\n",
            "\u001b[0;32m/usr/local/lib/python3.10/dist-packages/nest_asyncio.py\u001b[0m in \u001b[0;36mrun\u001b[0;34m(main, debug)\u001b[0m\n\u001b[1;32m     28\u001b[0m         \u001b[0mtask\u001b[0m \u001b[0;34m=\u001b[0m \u001b[0masyncio\u001b[0m\u001b[0;34m.\u001b[0m\u001b[0mensure_future\u001b[0m\u001b[0;34m(\u001b[0m\u001b[0mmain\u001b[0m\u001b[0;34m)\u001b[0m\u001b[0;34m\u001b[0m\u001b[0;34m\u001b[0m\u001b[0m\n\u001b[1;32m     29\u001b[0m         \u001b[0;32mtry\u001b[0m\u001b[0;34m:\u001b[0m\u001b[0;34m\u001b[0m\u001b[0;34m\u001b[0m\u001b[0m\n\u001b[0;32m---> 30\u001b[0;31m             \u001b[0;32mreturn\u001b[0m \u001b[0mloop\u001b[0m\u001b[0;34m.\u001b[0m\u001b[0mrun_until_complete\u001b[0m\u001b[0;34m(\u001b[0m\u001b[0mtask\u001b[0m\u001b[0;34m)\u001b[0m\u001b[0;34m\u001b[0m\u001b[0;34m\u001b[0m\u001b[0m\n\u001b[0m\u001b[1;32m     31\u001b[0m         \u001b[0;32mfinally\u001b[0m\u001b[0;34m:\u001b[0m\u001b[0;34m\u001b[0m\u001b[0;34m\u001b[0m\u001b[0m\n\u001b[1;32m     32\u001b[0m             \u001b[0;32mif\u001b[0m \u001b[0;32mnot\u001b[0m \u001b[0mtask\u001b[0m\u001b[0;34m.\u001b[0m\u001b[0mdone\u001b[0m\u001b[0;34m(\u001b[0m\u001b[0;34m)\u001b[0m\u001b[0;34m:\u001b[0m\u001b[0;34m\u001b[0m\u001b[0;34m\u001b[0m\u001b[0m\n",
            "\u001b[0;32m/usr/local/lib/python3.10/dist-packages/nest_asyncio.py\u001b[0m in \u001b[0;36mrun_until_complete\u001b[0;34m(self, future)\u001b[0m\n\u001b[1;32m     96\u001b[0m                 raise RuntimeError(\n\u001b[1;32m     97\u001b[0m                     'Event loop stopped before Future completed.')\n\u001b[0;32m---> 98\u001b[0;31m             \u001b[0;32mreturn\u001b[0m \u001b[0mf\u001b[0m\u001b[0;34m.\u001b[0m\u001b[0mresult\u001b[0m\u001b[0;34m(\u001b[0m\u001b[0;34m)\u001b[0m\u001b[0;34m\u001b[0m\u001b[0;34m\u001b[0m\u001b[0m\n\u001b[0m\u001b[1;32m     99\u001b[0m \u001b[0;34m\u001b[0m\u001b[0m\n\u001b[1;32m    100\u001b[0m     \u001b[0;32mdef\u001b[0m \u001b[0m_run_once\u001b[0m\u001b[0;34m(\u001b[0m\u001b[0mself\u001b[0m\u001b[0;34m)\u001b[0m\u001b[0;34m:\u001b[0m\u001b[0;34m\u001b[0m\u001b[0;34m\u001b[0m\u001b[0m\n",
            "\u001b[0;32m/usr/lib/python3.10/asyncio/futures.py\u001b[0m in \u001b[0;36mresult\u001b[0;34m(self)\u001b[0m\n\u001b[1;32m    199\u001b[0m         \u001b[0mself\u001b[0m\u001b[0;34m.\u001b[0m\u001b[0m__log_traceback\u001b[0m \u001b[0;34m=\u001b[0m \u001b[0;32mFalse\u001b[0m\u001b[0;34m\u001b[0m\u001b[0;34m\u001b[0m\u001b[0m\n\u001b[1;32m    200\u001b[0m         \u001b[0;32mif\u001b[0m \u001b[0mself\u001b[0m\u001b[0;34m.\u001b[0m\u001b[0m_exception\u001b[0m \u001b[0;32mis\u001b[0m \u001b[0;32mnot\u001b[0m \u001b[0;32mNone\u001b[0m\u001b[0;34m:\u001b[0m\u001b[0;34m\u001b[0m\u001b[0;34m\u001b[0m\u001b[0m\n\u001b[0;32m--> 201\u001b[0;31m             \u001b[0;32mraise\u001b[0m \u001b[0mself\u001b[0m\u001b[0;34m.\u001b[0m\u001b[0m_exception\u001b[0m\u001b[0;34m.\u001b[0m\u001b[0mwith_traceback\u001b[0m\u001b[0;34m(\u001b[0m\u001b[0mself\u001b[0m\u001b[0;34m.\u001b[0m\u001b[0m_exception_tb\u001b[0m\u001b[0;34m)\u001b[0m\u001b[0;34m\u001b[0m\u001b[0;34m\u001b[0m\u001b[0m\n\u001b[0m\u001b[1;32m    202\u001b[0m         \u001b[0;32mreturn\u001b[0m \u001b[0mself\u001b[0m\u001b[0;34m.\u001b[0m\u001b[0m_result\u001b[0m\u001b[0;34m\u001b[0m\u001b[0;34m\u001b[0m\u001b[0m\n\u001b[1;32m    203\u001b[0m \u001b[0;34m\u001b[0m\u001b[0m\n",
            "\u001b[0;32m/usr/lib/python3.10/asyncio/tasks.py\u001b[0m in \u001b[0;36m__step\u001b[0;34m(***failed resolving arguments***)\u001b[0m\n\u001b[1;32m    230\u001b[0m                 \u001b[0;31m# We use the `send` method directly, because coroutines\u001b[0m\u001b[0;34m\u001b[0m\u001b[0;34m\u001b[0m\u001b[0m\n\u001b[1;32m    231\u001b[0m                 \u001b[0;31m# don't have `__iter__` and `__next__` methods.\u001b[0m\u001b[0;34m\u001b[0m\u001b[0;34m\u001b[0m\u001b[0m\n\u001b[0;32m--> 232\u001b[0;31m                 \u001b[0mresult\u001b[0m \u001b[0;34m=\u001b[0m \u001b[0mcoro\u001b[0m\u001b[0;34m.\u001b[0m\u001b[0msend\u001b[0m\u001b[0;34m(\u001b[0m\u001b[0;32mNone\u001b[0m\u001b[0;34m)\u001b[0m\u001b[0;34m\u001b[0m\u001b[0;34m\u001b[0m\u001b[0m\n\u001b[0m\u001b[1;32m    233\u001b[0m             \u001b[0;32melse\u001b[0m\u001b[0;34m:\u001b[0m\u001b[0;34m\u001b[0m\u001b[0;34m\u001b[0m\u001b[0m\n\u001b[1;32m    234\u001b[0m                 \u001b[0mresult\u001b[0m \u001b[0;34m=\u001b[0m \u001b[0mcoro\u001b[0m\u001b[0;34m.\u001b[0m\u001b[0mthrow\u001b[0m\u001b[0;34m(\u001b[0m\u001b[0mexc\u001b[0m\u001b[0;34m)\u001b[0m\u001b[0;34m\u001b[0m\u001b[0;34m\u001b[0m\u001b[0m\n",
            "\u001b[0;32m/usr/local/lib/python3.10/dist-packages/orbax/checkpoint/type_handlers.py\u001b[0m in \u001b[0;36m_background_serialize\u001b[0;34m(self, values, infos, args)\u001b[0m\n\u001b[1;32m   1218\u001b[0m         \u001b[0;32mif\u001b[0m \u001b[0mocdbt_transaction\u001b[0m \u001b[0;32mis\u001b[0m \u001b[0;32mNone\u001b[0m\u001b[0;34m:\u001b[0m\u001b[0;34m\u001b[0m\u001b[0;34m\u001b[0m\u001b[0m\n\u001b[1;32m   1219\u001b[0m           \u001b[0mocdbt_transaction\u001b[0m \u001b[0;34m=\u001b[0m \u001b[0mts\u001b[0m\u001b[0;34m.\u001b[0m\u001b[0mTransaction\u001b[0m\u001b[0;34m(\u001b[0m\u001b[0matomic\u001b[0m\u001b[0;34m=\u001b[0m\u001b[0;32mTrue\u001b[0m\u001b[0;34m)\u001b[0m\u001b[0;34m\u001b[0m\u001b[0;34m\u001b[0m\u001b[0m\n\u001b[0;32m-> 1220\u001b[0;31m       tspec = self._get_json_tspec_write(\n\u001b[0m\u001b[1;32m   1221\u001b[0m           \u001b[0minfo\u001b[0m\u001b[0;34m,\u001b[0m\u001b[0;34m\u001b[0m\u001b[0;34m\u001b[0m\u001b[0m\n\u001b[1;32m   1222\u001b[0m           \u001b[0mvalue\u001b[0m\u001b[0;34m,\u001b[0m\u001b[0;34m\u001b[0m\u001b[0;34m\u001b[0m\u001b[0m\n",
            "\u001b[0;32m/usr/local/lib/python3.10/dist-packages/orbax/checkpoint/type_handlers.py\u001b[0m in \u001b[0;36m_get_json_tspec_write\u001b[0;34m(self, info, value, use_ocdbt, process_index, arg)\u001b[0m\n\u001b[1;32m   1088\u001b[0m     \u001b[0;34m\"\"\"Gets Tensorstore spec for writing.\"\"\"\u001b[0m\u001b[0;34m\u001b[0m\u001b[0;34m\u001b[0m\u001b[0m\n\u001b[1;32m   1089\u001b[0m \u001b[0;34m\u001b[0m\u001b[0m\n\u001b[0;32m-> 1090\u001b[0;31m     return get_json_tspec_write(\n\u001b[0m\u001b[1;32m   1091\u001b[0m         \u001b[0minfo\u001b[0m\u001b[0;34m=\u001b[0m\u001b[0minfo\u001b[0m\u001b[0;34m,\u001b[0m\u001b[0;34m\u001b[0m\u001b[0;34m\u001b[0m\u001b[0m\n\u001b[1;32m   1092\u001b[0m         \u001b[0muse_ocdbt\u001b[0m\u001b[0;34m=\u001b[0m\u001b[0muse_ocdbt\u001b[0m\u001b[0;34m,\u001b[0m\u001b[0;34m\u001b[0m\u001b[0;34m\u001b[0m\u001b[0m\n",
            "\u001b[0;32m/usr/local/lib/python3.10/dist-packages/orbax/checkpoint/type_handlers.py\u001b[0m in \u001b[0;36mget_json_tspec_write\u001b[0;34m(info, use_ocdbt, global_shape, local_shape, dtype, process_index, metadata_key, arg)\u001b[0m\n\u001b[1;32m    313\u001b[0m ):\n\u001b[1;32m    314\u001b[0m   \u001b[0;34m\"\"\"Gets Tensorstore spec for writing.\"\"\"\u001b[0m\u001b[0;34m\u001b[0m\u001b[0;34m\u001b[0m\u001b[0m\n\u001b[0;32m--> 315\u001b[0;31m   tspec = _get_json_tspec(\n\u001b[0m\u001b[1;32m    316\u001b[0m       \u001b[0minfo\u001b[0m\u001b[0;34m,\u001b[0m\u001b[0;34m\u001b[0m\u001b[0;34m\u001b[0m\u001b[0m\n\u001b[1;32m    317\u001b[0m       \u001b[0muse_ocdbt\u001b[0m\u001b[0;34m=\u001b[0m\u001b[0muse_ocdbt\u001b[0m\u001b[0;34m,\u001b[0m\u001b[0;34m\u001b[0m\u001b[0;34m\u001b[0m\u001b[0m\n",
            "\u001b[0;32m/usr/local/lib/python3.10/dist-packages/orbax/checkpoint/type_handlers.py\u001b[0m in \u001b[0;36m_get_json_tspec\u001b[0;34m(info, use_ocdbt, process_index, metadata_key)\u001b[0m\n\u001b[1;32m    266\u001b[0m   \u001b[0;32massert\u001b[0m \u001b[0mparent_dir\u001b[0m \u001b[0;32mis\u001b[0m \u001b[0;32mnot\u001b[0m \u001b[0;32mNone\u001b[0m\u001b[0;34m\u001b[0m\u001b[0;34m\u001b[0m\u001b[0m\n\u001b[1;32m    267\u001b[0m   \u001b[0mdirectory\u001b[0m \u001b[0;34m=\u001b[0m \u001b[0mparent_dir\u001b[0m\u001b[0;34m.\u001b[0m\u001b[0mas_posix\u001b[0m\u001b[0;34m(\u001b[0m\u001b[0;34m)\u001b[0m\u001b[0;34m\u001b[0m\u001b[0;34m\u001b[0m\u001b[0m\n\u001b[0;32m--> 268\u001b[0;31m   kvstore_tspec = ts_utils.build_kvstore_tspec(\n\u001b[0m\u001b[1;32m    269\u001b[0m       \u001b[0mdirectory\u001b[0m\u001b[0;34m,\u001b[0m\u001b[0;34m\u001b[0m\u001b[0;34m\u001b[0m\u001b[0m\n\u001b[1;32m    270\u001b[0m       \u001b[0mname\u001b[0m\u001b[0;34m=\u001b[0m\u001b[0minfo\u001b[0m\u001b[0;34m.\u001b[0m\u001b[0mname\u001b[0m\u001b[0;34m,\u001b[0m\u001b[0;34m\u001b[0m\u001b[0;34m\u001b[0m\u001b[0m\n",
            "\u001b[0;32m/usr/local/lib/python3.10/dist-packages/orbax/checkpoint/_src/serialization/tensorstore_utils.py\u001b[0m in \u001b[0;36mbuild_kvstore_tspec\u001b[0;34m(directory, name, use_ocdbt, process_id, ocdbt_target_data_file_size)\u001b[0m\n\u001b[1;32m     90\u001b[0m   \u001b[0;32mif\u001b[0m \u001b[0muse_ocdbt\u001b[0m\u001b[0;34m:\u001b[0m\u001b[0;34m\u001b[0m\u001b[0;34m\u001b[0m\u001b[0m\n\u001b[1;32m     91\u001b[0m     \u001b[0;32mif\u001b[0m \u001b[0;32mnot\u001b[0m \u001b[0mis_gcs_path\u001b[0m \u001b[0;32mand\u001b[0m \u001b[0;32mnot\u001b[0m \u001b[0mos\u001b[0m\u001b[0;34m.\u001b[0m\u001b[0mpath\u001b[0m\u001b[0;34m.\u001b[0m\u001b[0misabs\u001b[0m\u001b[0;34m(\u001b[0m\u001b[0mdirectory\u001b[0m\u001b[0;34m)\u001b[0m\u001b[0;34m:\u001b[0m\u001b[0;34m\u001b[0m\u001b[0;34m\u001b[0m\u001b[0m\n\u001b[0;32m---> 92\u001b[0;31m       \u001b[0;32mraise\u001b[0m \u001b[0mValueError\u001b[0m\u001b[0;34m(\u001b[0m\u001b[0;34mf'Checkpoint path should be absolute. Got {directory}'\u001b[0m\u001b[0;34m)\u001b[0m\u001b[0;34m\u001b[0m\u001b[0;34m\u001b[0m\u001b[0m\n\u001b[0m\u001b[1;32m     93\u001b[0m     \u001b[0;32mif\u001b[0m \u001b[0mprocess_id\u001b[0m \u001b[0;32mis\u001b[0m \u001b[0;32mnot\u001b[0m \u001b[0;32mNone\u001b[0m\u001b[0;34m:\u001b[0m\u001b[0;34m\u001b[0m\u001b[0;34m\u001b[0m\u001b[0m\n\u001b[1;32m     94\u001b[0m       \u001b[0mprocess_id\u001b[0m \u001b[0;34m=\u001b[0m \u001b[0mstr\u001b[0m\u001b[0;34m(\u001b[0m\u001b[0mprocess_id\u001b[0m\u001b[0;34m)\u001b[0m\u001b[0;34m\u001b[0m\u001b[0;34m\u001b[0m\u001b[0m\n",
            "\u001b[0;31mValueError\u001b[0m: Checkpoint path should be absolute. Got my_checkpoints/my_model100.orbax-checkpoint-tmp-0"
          ]
        }
      ],
      "source": [
        "checkpoints.save_checkpoint(ckpt_dir='my_checkpoints/',  # Folder to save checkpoint in\n",
        "                            target=trained_model_state,  # What to save. To only save parameters, use model_state.params\n",
        "                            step=100,  # Training step or other metric to save best model on\n",
        "                            prefix='my_model',  # Checkpoint file name prefix\n",
        "                            overwrite=True   # Overwrite existing checkpoint files\n",
        "                           )"
      ]
    },
    {
      "cell_type": "markdown",
      "metadata": {
        "id": "W84-JQuEJfrg"
      },
      "source": [
        "To load this state dict again, we can use `checkpoints.restore_checkpoint`:"
      ]
    },
    {
      "cell_type": "code",
      "execution_count": null,
      "metadata": {
        "id": "EltuxLAVJfrg"
      },
      "outputs": [],
      "source": [
        "loaded_model_state = checkpoints.restore_checkpoint(\n",
        "                                             ckpt_dir='my_checkpoints/',   # Folder with the checkpoints\n",
        "                                             target=model_state,   # (optional) matching object to rebuild state in\n",
        "                                             prefix='my_model'  # Checkpoint file name prefix\n",
        "                                            )"
      ]
    },
    {
      "cell_type": "markdown",
      "metadata": {
        "id": "QhKxTDnuJfrg"
      },
      "source": [
        "The states `loaded_model_state` and `trained_model_state` have the identical parameter values."
      ]
    },
    {
      "cell_type": "markdown",
      "metadata": {
        "id": "olZjUQ_8Jfrg"
      },
      "source": [
        "### Evaluation\n",
        "\n",
        "Once we have trained a model, it is time to evaluate it on a held-out test set. As our dataset consist of randomly generated data points, we need to first create a test set with a corresponding data loader."
      ]
    },
    {
      "cell_type": "code",
      "execution_count": 54,
      "metadata": {
        "id": "Ps6YRhSIJfrg"
      },
      "outputs": [],
      "source": [
        "test_dataset = XORDataset(size=500, seed=123)\n",
        "# drop_last -> Don't drop the last batch although it is smaller than 128\n",
        "test_data_loader = data.DataLoader(test_dataset,\n",
        "                                   batch_size=128,\n",
        "                                   shuffle=False,\n",
        "                                   drop_last=False,\n",
        "                                   collate_fn=numpy_collate)"
      ]
    },
    {
      "cell_type": "markdown",
      "metadata": {
        "id": "jxHRniVRJfrg"
      },
      "source": [
        "We can use our `eval_step` function to efficiently evaluate our model:"
      ]
    },
    {
      "cell_type": "code",
      "execution_count": 55,
      "metadata": {
        "id": "H6WCiRUoJfrg"
      },
      "outputs": [],
      "source": [
        "def eval_model(state, data_loader):\n",
        "    all_accs, batch_sizes = [], []\n",
        "    for batch in data_loader:\n",
        "        batch_acc = eval_step(state, batch)\n",
        "        all_accs.append(batch_acc)\n",
        "        batch_sizes.append(batch[0].shape[0])\n",
        "    # Weighted average since some batches might be smaller\n",
        "    acc = sum([a*b for a,b in zip(all_accs, batch_sizes)]) / sum(batch_sizes)\n",
        "    print(f\"Accuracy of the model: {100.0*acc:4.2f}%\")"
      ]
    },
    {
      "cell_type": "code",
      "execution_count": 56,
      "metadata": {
        "colab": {
          "base_uri": "https://localhost:8080/"
        },
        "id": "e5Ba2uFlJfrg",
        "outputId": "a3810f02-96c7-414f-8d07-2ffab7ed4d74"
      },
      "outputs": [
        {
          "output_type": "stream",
          "name": "stdout",
          "text": [
            "Accuracy of the model: 100.00%\n"
          ]
        }
      ],
      "source": [
        "eval_model(trained_model_state, test_data_loader)"
      ]
    },
    {
      "cell_type": "markdown",
      "metadata": {
        "id": "Kgw-qDckJfrg"
      },
      "source": [
        "If we trained our model correctly, we should see a score close to 100% accuracy. However, this is only possible because of our simple task, and unfortunately, we usually don't get such high scores on test sets of more complex tasks."
      ]
    },
    {
      "cell_type": "markdown",
      "metadata": {
        "id": "8BDtB1rAJfrg"
      },
      "source": [
        "#### Binding model parameters\n",
        "\n",
        "Once we have trained the model, we might want to do multiple application of the same model and parameters. It can get a bit annoying to always write `model.apply(params, ...)` and keep track of the model and parameters separately. To prevent this, Flax's module can be bound to specific parameters to simplify our application. Specifically, we can bind the instance `model` of our `SimpleClassifier` class to our trained parameter as follows:"
      ]
    },
    {
      "cell_type": "code",
      "execution_count": 57,
      "metadata": {
        "id": "coKjKlbxJfrg"
      },
      "outputs": [],
      "source": [
        "trained_model = model.bind(trained_model_state.params)"
      ]
    },
    {
      "cell_type": "markdown",
      "metadata": {
        "id": "6aXyzRrZJfrg"
      },
      "source": [
        "With the model being binded to the parameters, we can use it as we would any PyTorch module. For instance, to apply it to an input array, we can simply run:"
      ]
    },
    {
      "cell_type": "code",
      "execution_count": 58,
      "metadata": {
        "colab": {
          "base_uri": "https://localhost:8080/"
        },
        "id": "_DlILmM8Jfrg",
        "outputId": "4f1d4409-219f-4d4f-e949-bebbc57c8a13"
      },
      "outputs": [
        {
          "output_type": "execute_result",
          "data": {
            "text/plain": [
              "(8, 1)"
            ]
          },
          "metadata": {},
          "execution_count": 58
        }
      ],
      "source": [
        "data_input, labels = next(iter(data_loader))\n",
        "out = trained_model(data_input)  # No explicit parameter passing necessary anymore\n",
        "out.shape"
      ]
    },
    {
      "cell_type": "markdown",
      "metadata": {
        "id": "Wp22savHJfrg"
      },
      "source": [
        "This can simplify the analysis of models, and provide a more familiar interface to PyTorch users."
      ]
    },
    {
      "cell_type": "markdown",
      "metadata": {
        "id": "imFZ0iccJfrg"
      },
      "source": [
        "#### Visualizing classification boundaries\n",
        "\n",
        "To visualize what our model has learned, we can perform a prediction for every data point in a range of $[-0.5, 1.5]$, and visualize the predicted class as in the sample figure at the beginning of this section. This shows where the model has created decision boundaries, and which points would be classified as $0$, and which as $1$. We therefore get a background image out of blue (class 0) and orange (class 1). The spots where the model is uncertain we will see a blurry overlap. The specific code is less relevant compared to the output figure which should hopefully show us a clear separation of classes:"
      ]
    },
    {
      "cell_type": "code",
      "execution_count": 59,
      "metadata": {
        "scrolled": false,
        "colab": {
          "base_uri": "https://localhost:8080/",
          "height": 425
        },
        "id": "RnYcX5ynJfrg",
        "outputId": "99cb36b3-8d9e-49ce-9b62-cc66b8e93859"
      },
      "outputs": [
        {
          "output_type": "display_data",
          "data": {
            "text/plain": [
              "<Figure size 2000x2000 with 1 Axes>"
            ],
            "image/svg+xml": "<?xml version=\"1.0\" encoding=\"utf-8\" standalone=\"no\"?>\n<!DOCTYPE svg PUBLIC \"-//W3C//DTD SVG 1.1//EN\"\n  \"http://www.w3.org/Graphics/SVG/1.1/DTD/svg11.dtd\">\n<svg xmlns:xlink=\"http://www.w3.org/1999/xlink\" width=\"303.730313pt\" height=\"287.037813pt\" viewBox=\"0 0 303.730313 287.037813\" xmlns=\"http://www.w3.org/2000/svg\" version=\"1.1\">\n <metadata>\n  <rdf:RDF xmlns:dc=\"http://purl.org/dc/elements/1.1/\" xmlns:cc=\"http://creativecommons.org/ns#\" xmlns:rdf=\"http://www.w3.org/1999/02/22-rdf-syntax-ns#\">\n   <cc:Work>\n    <dc:type rdf:resource=\"http://purl.org/dc/dcmitype/StillImage\"/>\n    <dc:date>2024-12-16T18:00:41.644850</dc:date>\n    <dc:format>image/svg+xml</dc:format>\n    <dc:creator>\n     <cc:Agent>\n      <dc:title>Matplotlib v3.8.0, https://matplotlib.org/</dc:title>\n     </cc:Agent>\n    </dc:creator>\n   </cc:Work>\n  </rdf:RDF>\n </metadata>\n <defs>\n  <style type=\"text/css\">*{stroke-linejoin: round; stroke-linecap: butt}</style>\n </defs>\n <g id=\"figure_1\">\n  <g id=\"patch_1\">\n   <path d=\"M 0 287.037813 \nL 303.730313 287.037813 \nL 303.730313 0 \nL 0 0 \nz\n\" style=\"fill: #ffffff\"/>\n  </g>\n  <g id=\"axes_1\">\n   <g id=\"patch_2\">\n    <path d=\"M 66.023594 244.078125 \nL 287.783594 244.078125 \nL 287.783594 22.318125 \nL 66.023594 22.318125 \nz\n\" style=\"fill: #eaeaf2\"/>\n   </g>\n   <g clip-path=\"url(#pa82c4c8729)\">\n    <image xlink:href=\"data:image/png;base64,\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\" id=\"imageb05eb428ae\" transform=\"scale(1 -1) translate(0 -221.904)\" x=\"66.023594\" y=\"-22.174125\" width=\"221.904\" height=\"221.904\"/>\n   </g>\n   <g id=\"matplotlib.axis_1\">\n    <g id=\"xtick_1\">\n     <g id=\"text_1\">\n      <!-- −0.5 -->\n      <g style=\"fill: #262626\" transform=\"translate(52.668047 261.936406) scale(0.11 -0.11)\">\n       <defs>\n        <path id=\"DejaVuSans-2212\" d=\"M 678 2272 \nL 4684 2272 \nL 4684 1741 \nL 678 1741 \nL 678 2272 \nz\n\" transform=\"scale(0.015625)\"/>\n        <path id=\"DejaVuSans-30\" d=\"M 2034 4250 \nQ 1547 4250 1301 3770 \nQ 1056 3291 1056 2328 \nQ 1056 1369 1301 889 \nQ 1547 409 2034 409 \nQ 2525 409 2770 889 \nQ 3016 1369 3016 2328 \nQ 3016 3291 2770 3770 \nQ 2525 4250 2034 4250 \nz\nM 2034 4750 \nQ 2819 4750 3233 4129 \nQ 3647 3509 3647 2328 \nQ 3647 1150 3233 529 \nQ 2819 -91 2034 -91 \nQ 1250 -91 836 529 \nQ 422 1150 422 2328 \nQ 422 3509 836 4129 \nQ 1250 4750 2034 4750 \nz\n\" transform=\"scale(0.015625)\"/>\n        <path id=\"DejaVuSans-2e\" d=\"M 684 794 \nL 1344 794 \nL 1344 0 \nL 684 0 \nL 684 794 \nz\n\" transform=\"scale(0.015625)\"/>\n        <path id=\"DejaVuSans-35\" d=\"M 691 4666 \nL 3169 4666 \nL 3169 4134 \nL 1269 4134 \nL 1269 2991 \nQ 1406 3038 1543 3061 \nQ 1681 3084 1819 3084 \nQ 2600 3084 3056 2656 \nQ 3513 2228 3513 1497 \nQ 3513 744 3044 326 \nQ 2575 -91 1722 -91 \nQ 1428 -91 1123 -41 \nQ 819 9 494 109 \nL 494 744 \nQ 775 591 1075 516 \nQ 1375 441 1709 441 \nQ 2250 441 2565 725 \nQ 2881 1009 2881 1497 \nQ 2881 1984 2565 2268 \nQ 2250 2553 1709 2553 \nQ 1456 2553 1204 2497 \nQ 953 2441 691 2322 \nL 691 4666 \nz\n\" transform=\"scale(0.015625)\"/>\n       </defs>\n       <use xlink:href=\"#DejaVuSans-2212\"/>\n       <use xlink:href=\"#DejaVuSans-30\" x=\"83.789062\"/>\n       <use xlink:href=\"#DejaVuSans-2e\" x=\"147.412109\"/>\n       <use xlink:href=\"#DejaVuSans-35\" x=\"179.199219\"/>\n      </g>\n     </g>\n    </g>\n    <g id=\"xtick_2\">\n     <g id=\"text_2\">\n      <!-- 0.0 -->\n      <g style=\"fill: #262626\" transform=\"translate(112.716875 261.936406) scale(0.11 -0.11)\">\n       <use xlink:href=\"#DejaVuSans-30\"/>\n       <use xlink:href=\"#DejaVuSans-2e\" x=\"63.623047\"/>\n       <use xlink:href=\"#DejaVuSans-30\" x=\"95.410156\"/>\n      </g>\n     </g>\n    </g>\n    <g id=\"xtick_3\">\n     <g id=\"text_3\">\n      <!-- 0.5 -->\n      <g style=\"fill: #262626\" transform=\"translate(168.156875 261.936406) scale(0.11 -0.11)\">\n       <use xlink:href=\"#DejaVuSans-30\"/>\n       <use xlink:href=\"#DejaVuSans-2e\" x=\"63.623047\"/>\n       <use xlink:href=\"#DejaVuSans-35\" x=\"95.410156\"/>\n      </g>\n     </g>\n    </g>\n    <g id=\"xtick_4\">\n     <g id=\"text_4\">\n      <!-- 1.0 -->\n      <g style=\"fill: #262626\" transform=\"translate(223.596875 261.936406) scale(0.11 -0.11)\">\n       <defs>\n        <path id=\"DejaVuSans-31\" d=\"M 794 531 \nL 1825 531 \nL 1825 4091 \nL 703 3866 \nL 703 4441 \nL 1819 4666 \nL 2450 4666 \nL 2450 531 \nL 3481 531 \nL 3481 0 \nL 794 0 \nL 794 531 \nz\n\" transform=\"scale(0.015625)\"/>\n       </defs>\n       <use xlink:href=\"#DejaVuSans-31\"/>\n       <use xlink:href=\"#DejaVuSans-2e\" x=\"63.623047\"/>\n       <use xlink:href=\"#DejaVuSans-30\" x=\"95.410156\"/>\n      </g>\n     </g>\n    </g>\n    <g id=\"xtick_5\">\n     <g id=\"text_5\">\n      <!-- 1.5 -->\n      <g style=\"fill: #262626\" transform=\"translate(279.036875 261.936406) scale(0.11 -0.11)\">\n       <use xlink:href=\"#DejaVuSans-31\"/>\n       <use xlink:href=\"#DejaVuSans-2e\" x=\"63.623047\"/>\n       <use xlink:href=\"#DejaVuSans-35\" x=\"95.410156\"/>\n      </g>\n     </g>\n    </g>\n    <g id=\"text_6\">\n     <!-- $x_1$ -->\n     <g style=\"fill: #262626\" transform=\"translate(170.483594 277.342188) scale(0.12 -0.12)\">\n      <defs>\n       <path id=\"DejaVuSans-Oblique-78\" d=\"M 3841 3500 \nL 2234 1784 \nL 3219 0 \nL 2559 0 \nL 1819 1388 \nL 531 0 \nL -166 0 \nL 1556 1844 \nL 641 3500 \nL 1300 3500 \nL 1972 2234 \nL 3144 3500 \nL 3841 3500 \nz\n\" transform=\"scale(0.015625)\"/>\n      </defs>\n      <use xlink:href=\"#DejaVuSans-Oblique-78\" transform=\"translate(0 0.3125)\"/>\n      <use xlink:href=\"#DejaVuSans-31\" transform=\"translate(59.179688 -16.09375) scale(0.7)\"/>\n     </g>\n    </g>\n   </g>\n   <g id=\"matplotlib.axis_2\">\n    <g id=\"ytick_1\">\n     <g id=\"text_7\">\n      <!-- −0.50 -->\n      <g style=\"fill: #262626\" transform=\"translate(22.81375 248.257266) scale(0.11 -0.11)\">\n       <use xlink:href=\"#DejaVuSans-2212\"/>\n       <use xlink:href=\"#DejaVuSans-30\" x=\"83.789062\"/>\n       <use xlink:href=\"#DejaVuSans-2e\" x=\"147.412109\"/>\n       <use xlink:href=\"#DejaVuSans-35\" x=\"179.199219\"/>\n       <use xlink:href=\"#DejaVuSans-30\" x=\"242.822266\"/>\n      </g>\n     </g>\n    </g>\n    <g id=\"ytick_2\">\n     <g id=\"text_8\">\n      <!-- −0.25 -->\n      <g style=\"fill: #262626\" transform=\"translate(22.81375 220.537266) scale(0.11 -0.11)\">\n       <defs>\n        <path id=\"DejaVuSans-32\" d=\"M 1228 531 \nL 3431 531 \nL 3431 0 \nL 469 0 \nL 469 531 \nQ 828 903 1448 1529 \nQ 2069 2156 2228 2338 \nQ 2531 2678 2651 2914 \nQ 2772 3150 2772 3378 \nQ 2772 3750 2511 3984 \nQ 2250 4219 1831 4219 \nQ 1534 4219 1204 4116 \nQ 875 4013 500 3803 \nL 500 4441 \nQ 881 4594 1212 4672 \nQ 1544 4750 1819 4750 \nQ 2544 4750 2975 4387 \nQ 3406 4025 3406 3419 \nQ 3406 3131 3298 2873 \nQ 3191 2616 2906 2266 \nQ 2828 2175 2409 1742 \nQ 1991 1309 1228 531 \nz\n\" transform=\"scale(0.015625)\"/>\n       </defs>\n       <use xlink:href=\"#DejaVuSans-2212\"/>\n       <use xlink:href=\"#DejaVuSans-30\" x=\"83.789062\"/>\n       <use xlink:href=\"#DejaVuSans-2e\" x=\"147.412109\"/>\n       <use xlink:href=\"#DejaVuSans-32\" x=\"179.199219\"/>\n       <use xlink:href=\"#DejaVuSans-35\" x=\"242.822266\"/>\n      </g>\n     </g>\n    </g>\n    <g id=\"ytick_3\">\n     <g id=\"text_9\">\n      <!-- 0.00 -->\n      <g style=\"fill: #262626\" transform=\"translate(32.031406 192.817266) scale(0.11 -0.11)\">\n       <use xlink:href=\"#DejaVuSans-30\"/>\n       <use xlink:href=\"#DejaVuSans-2e\" x=\"63.623047\"/>\n       <use xlink:href=\"#DejaVuSans-30\" x=\"95.410156\"/>\n       <use xlink:href=\"#DejaVuSans-30\" x=\"159.033203\"/>\n      </g>\n     </g>\n    </g>\n    <g id=\"ytick_4\">\n     <g id=\"text_10\">\n      <!-- 0.25 -->\n      <g style=\"fill: #262626\" transform=\"translate(32.031406 165.097266) scale(0.11 -0.11)\">\n       <use xlink:href=\"#DejaVuSans-30\"/>\n       <use xlink:href=\"#DejaVuSans-2e\" x=\"63.623047\"/>\n       <use xlink:href=\"#DejaVuSans-32\" x=\"95.410156\"/>\n       <use xlink:href=\"#DejaVuSans-35\" x=\"159.033203\"/>\n      </g>\n     </g>\n    </g>\n    <g id=\"ytick_5\">\n     <g id=\"text_11\">\n      <!-- 0.50 -->\n      <g style=\"fill: #262626\" transform=\"translate(32.031406 137.377266) scale(0.11 -0.11)\">\n       <use xlink:href=\"#DejaVuSans-30\"/>\n       <use xlink:href=\"#DejaVuSans-2e\" x=\"63.623047\"/>\n       <use xlink:href=\"#DejaVuSans-35\" x=\"95.410156\"/>\n       <use xlink:href=\"#DejaVuSans-30\" x=\"159.033203\"/>\n      </g>\n     </g>\n    </g>\n    <g id=\"ytick_6\">\n     <g id=\"text_12\">\n      <!-- 0.75 -->\n      <g style=\"fill: #262626\" transform=\"translate(32.031406 109.657266) scale(0.11 -0.11)\">\n       <defs>\n        <path id=\"DejaVuSans-37\" d=\"M 525 4666 \nL 3525 4666 \nL 3525 4397 \nL 1831 0 \nL 1172 0 \nL 2766 4134 \nL 525 4134 \nL 525 4666 \nz\n\" transform=\"scale(0.015625)\"/>\n       </defs>\n       <use xlink:href=\"#DejaVuSans-30\"/>\n       <use xlink:href=\"#DejaVuSans-2e\" x=\"63.623047\"/>\n       <use xlink:href=\"#DejaVuSans-37\" x=\"95.410156\"/>\n       <use xlink:href=\"#DejaVuSans-35\" x=\"159.033203\"/>\n      </g>\n     </g>\n    </g>\n    <g id=\"ytick_7\">\n     <g id=\"text_13\">\n      <!-- 1.00 -->\n      <g style=\"fill: #262626\" transform=\"translate(32.031406 81.937266) scale(0.11 -0.11)\">\n       <use xlink:href=\"#DejaVuSans-31\"/>\n       <use xlink:href=\"#DejaVuSans-2e\" x=\"63.623047\"/>\n       <use xlink:href=\"#DejaVuSans-30\" x=\"95.410156\"/>\n       <use xlink:href=\"#DejaVuSans-30\" x=\"159.033203\"/>\n      </g>\n     </g>\n    </g>\n    <g id=\"ytick_8\">\n     <g id=\"text_14\">\n      <!-- 1.25 -->\n      <g style=\"fill: #262626\" transform=\"translate(32.031406 54.217266) scale(0.11 -0.11)\">\n       <use xlink:href=\"#DejaVuSans-31\"/>\n       <use xlink:href=\"#DejaVuSans-2e\" x=\"63.623047\"/>\n       <use xlink:href=\"#DejaVuSans-32\" x=\"95.410156\"/>\n       <use xlink:href=\"#DejaVuSans-35\" x=\"159.033203\"/>\n      </g>\n     </g>\n    </g>\n    <g id=\"ytick_9\">\n     <g id=\"text_15\">\n      <!-- 1.50 -->\n      <g style=\"fill: #262626\" transform=\"translate(32.031406 26.497266) scale(0.11 -0.11)\">\n       <use xlink:href=\"#DejaVuSans-31\"/>\n       <use xlink:href=\"#DejaVuSans-2e\" x=\"63.623047\"/>\n       <use xlink:href=\"#DejaVuSans-35\" x=\"95.410156\"/>\n       <use xlink:href=\"#DejaVuSans-30\" x=\"159.033203\"/>\n      </g>\n     </g>\n    </g>\n    <g id=\"text_16\">\n     <!-- $x_2$ -->\n     <g style=\"fill: #262626\" transform=\"translate(16.318125 139.618125) rotate(-90) scale(0.12 -0.12)\">\n      <use xlink:href=\"#DejaVuSans-Oblique-78\" transform=\"translate(0 0.3125)\"/>\n      <use xlink:href=\"#DejaVuSans-32\" transform=\"translate(59.179688 -16.09375) scale(0.7)\"/>\n     </g>\n    </g>\n   </g>\n   <g id=\"PathCollection_1\">\n    <defs>\n     <path id=\"m53fb5ec689\" d=\"M 0 3 \nC 0.795609 3 1.55874 2.683901 2.12132 2.12132 \nC 2.683901 1.55874 3 0.795609 3 0 \nC 3 -0.795609 2.683901 -1.55874 2.12132 -2.12132 \nC 1.55874 -2.683901 0.795609 -3 0 -3 \nC -0.795609 -3 -1.55874 -2.683901 -2.12132 -2.12132 \nC -2.683901 -1.55874 -3 -0.795609 -3 0 \nC -3 0.795609 -2.683901 1.55874 -2.12132 2.12132 \nC -1.55874 2.683901 -0.795609 3 0 3 \nz\n\" style=\"stroke: #333333\"/>\n    </defs>\n    <g clip-path=\"url(#pa82c4c8729)\">\n     <use xlink:href=\"#m53fb5ec689\" x=\"124.713181\" y=\"196.558853\" style=\"fill: #4c72b0; stroke: #333333\"/>\n     <use xlink:href=\"#m53fb5ec689\" x=\"108.25442\" y=\"181.358259\" style=\"fill: #4c72b0; stroke: #333333\"/>\n     <use xlink:href=\"#m53fb5ec689\" x=\"134.310102\" y=\"197.737851\" style=\"fill: #4c72b0; stroke: #333333\"/>\n     <use xlink:href=\"#m53fb5ec689\" x=\"132.145509\" y=\"184.06121\" style=\"fill: #4c72b0; stroke: #333333\"/>\n     <use xlink:href=\"#m53fb5ec689\" x=\"229.62273\" y=\"86.115549\" style=\"fill: #4c72b0; stroke: #333333\"/>\n     <use xlink:href=\"#m53fb5ec689\" x=\"235.41154\" y=\"68.586312\" style=\"fill: #4c72b0; stroke: #333333\"/>\n     <use xlink:href=\"#m53fb5ec689\" x=\"232.487762\" y=\"61.641336\" style=\"fill: #4c72b0; stroke: #333333\"/>\n     <use xlink:href=\"#m53fb5ec689\" x=\"229.409082\" y=\"47.596893\" style=\"fill: #4c72b0; stroke: #333333\"/>\n     <use xlink:href=\"#m53fb5ec689\" x=\"239.280996\" y=\"87.26229\" style=\"fill: #4c72b0; stroke: #333333\"/>\n     <use xlink:href=\"#m53fb5ec689\" x=\"109.589538\" y=\"183.288471\" style=\"fill: #4c72b0; stroke: #333333\"/>\n     <use xlink:href=\"#m53fb5ec689\" x=\"229.865841\" y=\"69.841288\" style=\"fill: #4c72b0; stroke: #333333\"/>\n     <use xlink:href=\"#m53fb5ec689\" x=\"116.512636\" y=\"179.142375\" style=\"fill: #4c72b0; stroke: #333333\"/>\n     <use xlink:href=\"#m53fb5ec689\" x=\"123.837465\" y=\"202.450877\" style=\"fill: #4c72b0; stroke: #333333\"/>\n     <use xlink:href=\"#m53fb5ec689\" x=\"234.263828\" y=\"73.485721\" style=\"fill: #4c72b0; stroke: #333333\"/>\n     <use xlink:href=\"#m53fb5ec689\" x=\"222.543381\" y=\"76.053621\" style=\"fill: #4c72b0; stroke: #333333\"/>\n     <use xlink:href=\"#m53fb5ec689\" x=\"236.310743\" y=\"71.540148\" style=\"fill: #4c72b0; stroke: #333333\"/>\n     <use xlink:href=\"#m53fb5ec689\" x=\"127.793628\" y=\"176.046973\" style=\"fill: #4c72b0; stroke: #333333\"/>\n     <use xlink:href=\"#m53fb5ec689\" x=\"132.041565\" y=\"181.415499\" style=\"fill: #4c72b0; stroke: #333333\"/>\n     <use xlink:href=\"#m53fb5ec689\" x=\"117.967889\" y=\"180.222675\" style=\"fill: #4c72b0; stroke: #333333\"/>\n     <use xlink:href=\"#m53fb5ec689\" x=\"258.008523\" y=\"98.46236\" style=\"fill: #4c72b0; stroke: #333333\"/>\n     <use xlink:href=\"#m53fb5ec689\" x=\"239.95285\" y=\"95.639917\" style=\"fill: #4c72b0; stroke: #333333\"/>\n     <use xlink:href=\"#m53fb5ec689\" x=\"224.412309\" y=\"70.222744\" style=\"fill: #4c72b0; stroke: #333333\"/>\n     <use xlink:href=\"#m53fb5ec689\" x=\"99.008812\" y=\"186.57072\" style=\"fill: #4c72b0; stroke: #333333\"/>\n     <use xlink:href=\"#m53fb5ec689\" x=\"223.556125\" y=\"79.030324\" style=\"fill: #4c72b0; stroke: #333333\"/>\n     <use xlink:href=\"#m53fb5ec689\" x=\"237.942892\" y=\"68.158633\" style=\"fill: #4c72b0; stroke: #333333\"/>\n     <use xlink:href=\"#m53fb5ec689\" x=\"219.034709\" y=\"81.467075\" style=\"fill: #4c72b0; stroke: #333333\"/>\n     <use xlink:href=\"#m53fb5ec689\" x=\"227.0774\" y=\"85.002242\" style=\"fill: #4c72b0; stroke: #333333\"/>\n     <use xlink:href=\"#m53fb5ec689\" x=\"251.918946\" y=\"73.267692\" style=\"fill: #4c72b0; stroke: #333333\"/>\n     <use xlink:href=\"#m53fb5ec689\" x=\"215.496818\" y=\"83.127313\" style=\"fill: #4c72b0; stroke: #333333\"/>\n     <use xlink:href=\"#m53fb5ec689\" x=\"246.391103\" y=\"85.604762\" style=\"fill: #4c72b0; stroke: #333333\"/>\n     <use xlink:href=\"#m53fb5ec689\" x=\"237.264667\" y=\"69.168984\" style=\"fill: #4c72b0; stroke: #333333\"/>\n     <use xlink:href=\"#m53fb5ec689\" x=\"229.543118\" y=\"91.593546\" style=\"fill: #4c72b0; stroke: #333333\"/>\n     <use xlink:href=\"#m53fb5ec689\" x=\"233.602271\" y=\"70.416426\" style=\"fill: #4c72b0; stroke: #333333\"/>\n     <use xlink:href=\"#m53fb5ec689\" x=\"145.114668\" y=\"210.282874\" style=\"fill: #4c72b0; stroke: #333333\"/>\n     <use xlink:href=\"#m53fb5ec689\" x=\"119.780601\" y=\"182.114864\" style=\"fill: #4c72b0; stroke: #333333\"/>\n     <use xlink:href=\"#m53fb5ec689\" x=\"124.579232\" y=\"195.542617\" style=\"fill: #4c72b0; stroke: #333333\"/>\n     <use xlink:href=\"#m53fb5ec689\" x=\"119.155934\" y=\"194.104519\" style=\"fill: #4c72b0; stroke: #333333\"/>\n     <use xlink:href=\"#m53fb5ec689\" x=\"236.302178\" y=\"85.441104\" style=\"fill: #4c72b0; stroke: #333333\"/>\n     <use xlink:href=\"#m53fb5ec689\" x=\"130.476609\" y=\"181.656801\" style=\"fill: #4c72b0; stroke: #333333\"/>\n     <use xlink:href=\"#m53fb5ec689\" x=\"129.749585\" y=\"181.87034\" style=\"fill: #4c72b0; stroke: #333333\"/>\n     <use xlink:href=\"#m53fb5ec689\" x=\"121.231837\" y=\"187.337199\" style=\"fill: #4c72b0; stroke: #333333\"/>\n     <use xlink:href=\"#m53fb5ec689\" x=\"130.61581\" y=\"179.61793\" style=\"fill: #4c72b0; stroke: #333333\"/>\n     <use xlink:href=\"#m53fb5ec689\" x=\"246.818743\" y=\"77.525238\" style=\"fill: #4c72b0; stroke: #333333\"/>\n     <use xlink:href=\"#m53fb5ec689\" x=\"245.18473\" y=\"68.980166\" style=\"fill: #4c72b0; stroke: #333333\"/>\n     <use xlink:href=\"#m53fb5ec689\" x=\"128.383834\" y=\"181.67103\" style=\"fill: #4c72b0; stroke: #333333\"/>\n     <use xlink:href=\"#m53fb5ec689\" x=\"121.327802\" y=\"198.586881\" style=\"fill: #4c72b0; stroke: #333333\"/>\n     <use xlink:href=\"#m53fb5ec689\" x=\"122.304115\" y=\"196.146494\" style=\"fill: #4c72b0; stroke: #333333\"/>\n     <use xlink:href=\"#m53fb5ec689\" x=\"112.310481\" y=\"192.201651\" style=\"fill: #4c72b0; stroke: #333333\"/>\n     <use xlink:href=\"#m53fb5ec689\" x=\"124.179783\" y=\"194.259111\" style=\"fill: #4c72b0; stroke: #333333\"/>\n     <use xlink:href=\"#m53fb5ec689\" x=\"116.240721\" y=\"186.065155\" style=\"fill: #4c72b0; stroke: #333333\"/>\n     <use xlink:href=\"#m53fb5ec689\" x=\"224.377487\" y=\"80.124828\" style=\"fill: #4c72b0; stroke: #333333\"/>\n     <use xlink:href=\"#m53fb5ec689\" x=\"124.910937\" y=\"172.279375\" style=\"fill: #4c72b0; stroke: #333333\"/>\n     <use xlink:href=\"#m53fb5ec689\" x=\"121.252742\" y=\"199.75417\" style=\"fill: #4c72b0; stroke: #333333\"/>\n     <use xlink:href=\"#m53fb5ec689\" x=\"235.921898\" y=\"86.93046\" style=\"fill: #4c72b0; stroke: #333333\"/>\n     <use xlink:href=\"#m53fb5ec689\" x=\"120.257661\" y=\"184.183945\" style=\"fill: #4c72b0; stroke: #333333\"/>\n     <use xlink:href=\"#m53fb5ec689\" x=\"129.11591\" y=\"193.086858\" style=\"fill: #4c72b0; stroke: #333333\"/>\n     <use xlink:href=\"#m53fb5ec689\" x=\"123.948331\" y=\"188.4985\" style=\"fill: #4c72b0; stroke: #333333\"/>\n     <use xlink:href=\"#m53fb5ec689\" x=\"137.553874\" y=\"178.00173\" style=\"fill: #4c72b0; stroke: #333333\"/>\n     <use xlink:href=\"#m53fb5ec689\" x=\"256.218076\" y=\"86.266478\" style=\"fill: #4c72b0; stroke: #333333\"/>\n     <use xlink:href=\"#m53fb5ec689\" x=\"242.01589\" y=\"75.725234\" style=\"fill: #4c72b0; stroke: #333333\"/>\n     <use xlink:href=\"#m53fb5ec689\" x=\"112.152758\" y=\"195.284191\" style=\"fill: #4c72b0; stroke: #333333\"/>\n     <use xlink:href=\"#m53fb5ec689\" x=\"208.793836\" y=\"83.5877\" style=\"fill: #4c72b0; stroke: #333333\"/>\n     <use xlink:href=\"#m53fb5ec689\" x=\"223.926333\" y=\"76.090565\" style=\"fill: #4c72b0; stroke: #333333\"/>\n     <use xlink:href=\"#m53fb5ec689\" x=\"236.132988\" y=\"56.955145\" style=\"fill: #4c72b0; stroke: #333333\"/>\n     <use xlink:href=\"#m53fb5ec689\" x=\"242.881889\" y=\"84.154835\" style=\"fill: #4c72b0; stroke: #333333\"/>\n     <use xlink:href=\"#m53fb5ec689\" x=\"120.193576\" y=\"174.913218\" style=\"fill: #4c72b0; stroke: #333333\"/>\n     <use xlink:href=\"#m53fb5ec689\" x=\"103.78458\" y=\"195.283995\" style=\"fill: #4c72b0; stroke: #333333\"/>\n     <use xlink:href=\"#m53fb5ec689\" x=\"109.625818\" y=\"190.216829\" style=\"fill: #4c72b0; stroke: #333333\"/>\n     <use xlink:href=\"#m53fb5ec689\" x=\"125.148291\" y=\"196.937344\" style=\"fill: #4c72b0; stroke: #333333\"/>\n     <use xlink:href=\"#m53fb5ec689\" x=\"245.419639\" y=\"77.009475\" style=\"fill: #4c72b0; stroke: #333333\"/>\n     <use xlink:href=\"#m53fb5ec689\" x=\"144.313166\" y=\"169.174906\" style=\"fill: #4c72b0; stroke: #333333\"/>\n     <use xlink:href=\"#m53fb5ec689\" x=\"229.583076\" y=\"66.985343\" style=\"fill: #4c72b0; stroke: #333333\"/>\n     <use xlink:href=\"#m53fb5ec689\" x=\"239.499528\" y=\"62.582743\" style=\"fill: #4c72b0; stroke: #333333\"/>\n     <use xlink:href=\"#m53fb5ec689\" x=\"229.356409\" y=\"69.802017\" style=\"fill: #4c72b0; stroke: #333333\"/>\n     <use xlink:href=\"#m53fb5ec689\" x=\"102.576489\" y=\"189.254038\" style=\"fill: #4c72b0; stroke: #333333\"/>\n     <use xlink:href=\"#m53fb5ec689\" x=\"98.539796\" y=\"189.626288\" style=\"fill: #4c72b0; stroke: #333333\"/>\n     <use xlink:href=\"#m53fb5ec689\" x=\"236.408436\" y=\"88.179515\" style=\"fill: #4c72b0; stroke: #333333\"/>\n     <use xlink:href=\"#m53fb5ec689\" x=\"110.533863\" y=\"183.049257\" style=\"fill: #4c72b0; stroke: #333333\"/>\n     <use xlink:href=\"#m53fb5ec689\" x=\"226.204733\" y=\"91.040198\" style=\"fill: #4c72b0; stroke: #333333\"/>\n     <use xlink:href=\"#m53fb5ec689\" x=\"254.128467\" y=\"77.367126\" style=\"fill: #4c72b0; stroke: #333333\"/>\n     <use xlink:href=\"#m53fb5ec689\" x=\"115.581397\" y=\"195.022798\" style=\"fill: #4c72b0; stroke: #333333\"/>\n     <use xlink:href=\"#m53fb5ec689\" x=\"250.582997\" y=\"80.519436\" style=\"fill: #4c72b0; stroke: #333333\"/>\n     <use xlink:href=\"#m53fb5ec689\" x=\"238.736457\" y=\"74.306977\" style=\"fill: #4c72b0; stroke: #333333\"/>\n     <use xlink:href=\"#m53fb5ec689\" x=\"155.602225\" y=\"176.224278\" style=\"fill: #4c72b0; stroke: #333333\"/>\n     <use xlink:href=\"#m53fb5ec689\" x=\"230.925244\" y=\"88.353158\" style=\"fill: #4c72b0; stroke: #333333\"/>\n     <use xlink:href=\"#m53fb5ec689\" x=\"103.651317\" y=\"186.38212\" style=\"fill: #4c72b0; stroke: #333333\"/>\n     <use xlink:href=\"#m53fb5ec689\" x=\"225.174396\" y=\"89.750326\" style=\"fill: #4c72b0; stroke: #333333\"/>\n     <use xlink:href=\"#m53fb5ec689\" x=\"140.17062\" y=\"178.862503\" style=\"fill: #4c72b0; stroke: #333333\"/>\n     <use xlink:href=\"#m53fb5ec689\" x=\"232.255192\" y=\"61.348506\" style=\"fill: #4c72b0; stroke: #333333\"/>\n     <use xlink:href=\"#m53fb5ec689\" x=\"109.962609\" y=\"190.7486\" style=\"fill: #4c72b0; stroke: #333333\"/>\n     <use xlink:href=\"#m53fb5ec689\" x=\"232.881603\" y=\"86.9717\" style=\"fill: #4c72b0; stroke: #333333\"/>\n     <use xlink:href=\"#m53fb5ec689\" x=\"124.462419\" y=\"189.195165\" style=\"fill: #4c72b0; stroke: #333333\"/>\n     <use xlink:href=\"#m53fb5ec689\" x=\"127.017763\" y=\"199.477257\" style=\"fill: #4c72b0; stroke: #333333\"/>\n     <use xlink:href=\"#m53fb5ec689\" x=\"233.444991\" y=\"69.426747\" style=\"fill: #4c72b0; stroke: #333333\"/>\n     <use xlink:href=\"#m53fb5ec689\" x=\"102.953228\" y=\"182.613347\" style=\"fill: #4c72b0; stroke: #333333\"/>\n     <use xlink:href=\"#m53fb5ec689\" x=\"224.996423\" y=\"71.431325\" style=\"fill: #4c72b0; stroke: #333333\"/>\n     <use xlink:href=\"#m53fb5ec689\" x=\"223.880579\" y=\"97.77066\" style=\"fill: #4c72b0; stroke: #333333\"/>\n     <use xlink:href=\"#m53fb5ec689\" x=\"231.610898\" y=\"91.185872\" style=\"fill: #4c72b0; stroke: #333333\"/>\n     <use xlink:href=\"#m53fb5ec689\" x=\"132.621368\" y=\"195.034702\" style=\"fill: #4c72b0; stroke: #333333\"/>\n     <use xlink:href=\"#m53fb5ec689\" x=\"130.729748\" y=\"201.164315\" style=\"fill: #4c72b0; stroke: #333333\"/>\n     <use xlink:href=\"#m53fb5ec689\" x=\"127.338063\" y=\"172.654013\" style=\"fill: #4c72b0; stroke: #333333\"/>\n     <use xlink:href=\"#m53fb5ec689\" x=\"204.938002\" y=\"86.594097\" style=\"fill: #4c72b0; stroke: #333333\"/>\n     <use xlink:href=\"#m53fb5ec689\" x=\"236.458863\" y=\"84.455113\" style=\"fill: #4c72b0; stroke: #333333\"/>\n    </g>\n   </g>\n   <g id=\"PathCollection_2\">\n    <defs>\n     <path id=\"mefcc95d631\" d=\"M 0 3 \nC 0.795609 3 1.55874 2.683901 2.12132 2.12132 \nC 2.683901 1.55874 3 0.795609 3 0 \nC 3 -0.795609 2.683901 -1.55874 2.12132 -2.12132 \nC 1.55874 -2.683901 0.795609 -3 0 -3 \nC -0.795609 -3 -1.55874 -2.683901 -2.12132 -2.12132 \nC -2.683901 -1.55874 -3 -0.795609 -3 0 \nC -3 0.795609 -2.683901 1.55874 -2.12132 2.12132 \nC -1.55874 2.683901 -0.795609 3 0 3 \nz\n\" style=\"stroke: #333333\"/>\n    </defs>\n    <g clip-path=\"url(#pa82c4c8729)\">\n     <use xlink:href=\"#mefcc95d631\" x=\"113.92348\" y=\"75.18289\" style=\"fill: #dd8452; stroke: #333333\"/>\n     <use xlink:href=\"#mefcc95d631\" x=\"142.151302\" y=\"72.504264\" style=\"fill: #dd8452; stroke: #333333\"/>\n     <use xlink:href=\"#mefcc95d631\" x=\"110.656323\" y=\"69.030936\" style=\"fill: #dd8452; stroke: #333333\"/>\n     <use xlink:href=\"#mefcc95d631\" x=\"241.458596\" y=\"167.606485\" style=\"fill: #dd8452; stroke: #333333\"/>\n     <use xlink:href=\"#mefcc95d631\" x=\"222.480655\" y=\"197.683829\" style=\"fill: #dd8452; stroke: #333333\"/>\n     <use xlink:href=\"#mefcc95d631\" x=\"231.488691\" y=\"184.855432\" style=\"fill: #dd8452; stroke: #333333\"/>\n     <use xlink:href=\"#mefcc95d631\" x=\"237.590846\" y=\"189.445652\" style=\"fill: #dd8452; stroke: #333333\"/>\n     <use xlink:href=\"#mefcc95d631\" x=\"222.954346\" y=\"205.434752\" style=\"fill: #dd8452; stroke: #333333\"/>\n     <use xlink:href=\"#mefcc95d631\" x=\"232.989012\" y=\"201.31138\" style=\"fill: #dd8452; stroke: #333333\"/>\n     <use xlink:href=\"#mefcc95d631\" x=\"133.472466\" y=\"66.073571\" style=\"fill: #dd8452; stroke: #333333\"/>\n     <use xlink:href=\"#mefcc95d631\" x=\"106.187995\" y=\"88.156727\" style=\"fill: #dd8452; stroke: #333333\"/>\n     <use xlink:href=\"#mefcc95d631\" x=\"127.174305\" y=\"72.061265\" style=\"fill: #dd8452; stroke: #333333\"/>\n     <use xlink:href=\"#mefcc95d631\" x=\"238.054438\" y=\"145.919037\" style=\"fill: #dd8452; stroke: #333333\"/>\n     <use xlink:href=\"#mefcc95d631\" x=\"112.894508\" y=\"80.383972\" style=\"fill: #dd8452; stroke: #333333\"/>\n     <use xlink:href=\"#mefcc95d631\" x=\"226.961882\" y=\"187.730305\" style=\"fill: #dd8452; stroke: #333333\"/>\n     <use xlink:href=\"#mefcc95d631\" x=\"116.230813\" y=\"65.68384\" style=\"fill: #dd8452; stroke: #333333\"/>\n     <use xlink:href=\"#mefcc95d631\" x=\"122.176331\" y=\"89.708161\" style=\"fill: #dd8452; stroke: #333333\"/>\n     <use xlink:href=\"#mefcc95d631\" x=\"113.365289\" y=\"75.358027\" style=\"fill: #dd8452; stroke: #333333\"/>\n     <use xlink:href=\"#mefcc95d631\" x=\"121.968894\" y=\"84.98307\" style=\"fill: #dd8452; stroke: #333333\"/>\n     <use xlink:href=\"#mefcc95d631\" x=\"145.235645\" y=\"70.729228\" style=\"fill: #dd8452; stroke: #333333\"/>\n     <use xlink:href=\"#mefcc95d631\" x=\"225.005708\" y=\"179.186344\" style=\"fill: #dd8452; stroke: #333333\"/>\n     <use xlink:href=\"#mefcc95d631\" x=\"218.362914\" y=\"178.460871\" style=\"fill: #dd8452; stroke: #333333\"/>\n     <use xlink:href=\"#mefcc95d631\" x=\"144.994061\" y=\"66.310145\" style=\"fill: #dd8452; stroke: #333333\"/>\n     <use xlink:href=\"#mefcc95d631\" x=\"222.06579\" y=\"189.298142\" style=\"fill: #dd8452; stroke: #333333\"/>\n     <use xlink:href=\"#mefcc95d631\" x=\"196.404423\" y=\"199.996535\" style=\"fill: #dd8452; stroke: #333333\"/>\n     <use xlink:href=\"#mefcc95d631\" x=\"139.563771\" y=\"93.615532\" style=\"fill: #dd8452; stroke: #333333\"/>\n     <use xlink:href=\"#mefcc95d631\" x=\"116.584381\" y=\"76.308475\" style=\"fill: #dd8452; stroke: #333333\"/>\n     <use xlink:href=\"#mefcc95d631\" x=\"248.324436\" y=\"204.558965\" style=\"fill: #dd8452; stroke: #333333\"/>\n     <use xlink:href=\"#mefcc95d631\" x=\"245.240747\" y=\"188.524661\" style=\"fill: #dd8452; stroke: #333333\"/>\n     <use xlink:href=\"#mefcc95d631\" x=\"221.460628\" y=\"183.514322\" style=\"fill: #dd8452; stroke: #333333\"/>\n     <use xlink:href=\"#mefcc95d631\" x=\"123.670768\" y=\"84.413331\" style=\"fill: #dd8452; stroke: #333333\"/>\n     <use xlink:href=\"#mefcc95d631\" x=\"233.117556\" y=\"192.910482\" style=\"fill: #dd8452; stroke: #333333\"/>\n     <use xlink:href=\"#mefcc95d631\" x=\"249.929344\" y=\"202.363023\" style=\"fill: #dd8452; stroke: #333333\"/>\n     <use xlink:href=\"#mefcc95d631\" x=\"225.808717\" y=\"179.217737\" style=\"fill: #dd8452; stroke: #333333\"/>\n     <use xlink:href=\"#mefcc95d631\" x=\"242.318356\" y=\"185.230788\" style=\"fill: #dd8452; stroke: #333333\"/>\n     <use xlink:href=\"#mefcc95d631\" x=\"112.271697\" y=\"83.969413\" style=\"fill: #dd8452; stroke: #333333\"/>\n     <use xlink:href=\"#mefcc95d631\" x=\"135.630342\" y=\"84.317468\" style=\"fill: #dd8452; stroke: #333333\"/>\n     <use xlink:href=\"#mefcc95d631\" x=\"127.529809\" y=\"80.000037\" style=\"fill: #dd8452; stroke: #333333\"/>\n     <use xlink:href=\"#mefcc95d631\" x=\"119.049944\" y=\"65.574885\" style=\"fill: #dd8452; stroke: #333333\"/>\n     <use xlink:href=\"#mefcc95d631\" x=\"239.905093\" y=\"192.078363\" style=\"fill: #dd8452; stroke: #333333\"/>\n     <use xlink:href=\"#mefcc95d631\" x=\"235.937944\" y=\"190.081151\" style=\"fill: #dd8452; stroke: #333333\"/>\n     <use xlink:href=\"#mefcc95d631\" x=\"122.539085\" y=\"71.159023\" style=\"fill: #dd8452; stroke: #333333\"/>\n     <use xlink:href=\"#mefcc95d631\" x=\"223.27116\" y=\"165.437735\" style=\"fill: #dd8452; stroke: #333333\"/>\n     <use xlink:href=\"#mefcc95d631\" x=\"110.308873\" y=\"91.221045\" style=\"fill: #dd8452; stroke: #333333\"/>\n     <use xlink:href=\"#mefcc95d631\" x=\"243.155725\" y=\"190.268697\" style=\"fill: #dd8452; stroke: #333333\"/>\n     <use xlink:href=\"#mefcc95d631\" x=\"236.922178\" y=\"194.888703\" style=\"fill: #dd8452; stroke: #333333\"/>\n     <use xlink:href=\"#mefcc95d631\" x=\"112.346814\" y=\"75.056117\" style=\"fill: #dd8452; stroke: #333333\"/>\n     <use xlink:href=\"#mefcc95d631\" x=\"105.407234\" y=\"93.364081\" style=\"fill: #dd8452; stroke: #333333\"/>\n     <use xlink:href=\"#mefcc95d631\" x=\"130.973324\" y=\"79.531521\" style=\"fill: #dd8452; stroke: #333333\"/>\n     <use xlink:href=\"#mefcc95d631\" x=\"232.138319\" y=\"191.838772\" style=\"fill: #dd8452; stroke: #333333\"/>\n     <use xlink:href=\"#mefcc95d631\" x=\"238.102102\" y=\"171.643115\" style=\"fill: #dd8452; stroke: #333333\"/>\n     <use xlink:href=\"#mefcc95d631\" x=\"233.426631\" y=\"197.209258\" style=\"fill: #dd8452; stroke: #333333\"/>\n     <use xlink:href=\"#mefcc95d631\" x=\"232.615368\" y=\"183.11632\" style=\"fill: #dd8452; stroke: #333333\"/>\n     <use xlink:href=\"#mefcc95d631\" x=\"145.744129\" y=\"86.720533\" style=\"fill: #dd8452; stroke: #333333\"/>\n     <use xlink:href=\"#mefcc95d631\" x=\"111.501972\" y=\"72.303721\" style=\"fill: #dd8452; stroke: #333333\"/>\n     <use xlink:href=\"#mefcc95d631\" x=\"217.704846\" y=\"168.33091\" style=\"fill: #dd8452; stroke: #333333\"/>\n     <use xlink:href=\"#mefcc95d631\" x=\"245.421225\" y=\"193.840345\" style=\"fill: #dd8452; stroke: #333333\"/>\n     <use xlink:href=\"#mefcc95d631\" x=\"102.468358\" y=\"62.746394\" style=\"fill: #dd8452; stroke: #333333\"/>\n     <use xlink:href=\"#mefcc95d631\" x=\"232.401739\" y=\"188.117204\" style=\"fill: #dd8452; stroke: #333333\"/>\n     <use xlink:href=\"#mefcc95d631\" x=\"227.353265\" y=\"181.731965\" style=\"fill: #dd8452; stroke: #333333\"/>\n     <use xlink:href=\"#mefcc95d631\" x=\"122.797432\" y=\"72.054022\" style=\"fill: #dd8452; stroke: #333333\"/>\n     <use xlink:href=\"#mefcc95d631\" x=\"240.233982\" y=\"201.108157\" style=\"fill: #dd8452; stroke: #333333\"/>\n     <use xlink:href=\"#mefcc95d631\" x=\"104.453336\" y=\"63.591244\" style=\"fill: #dd8452; stroke: #333333\"/>\n     <use xlink:href=\"#mefcc95d631\" x=\"138.662767\" y=\"76.475524\" style=\"fill: #dd8452; stroke: #333333\"/>\n     <use xlink:href=\"#mefcc95d631\" x=\"110.764523\" y=\"70.151182\" style=\"fill: #dd8452; stroke: #333333\"/>\n     <use xlink:href=\"#mefcc95d631\" x=\"133.199404\" y=\"97.259027\" style=\"fill: #dd8452; stroke: #333333\"/>\n     <use xlink:href=\"#mefcc95d631\" x=\"108.343623\" y=\"100.369132\" style=\"fill: #dd8452; stroke: #333333\"/>\n     <use xlink:href=\"#mefcc95d631\" x=\"249.001723\" y=\"187.816562\" style=\"fill: #dd8452; stroke: #333333\"/>\n     <use xlink:href=\"#mefcc95d631\" x=\"250.401686\" y=\"203.94069\" style=\"fill: #dd8452; stroke: #333333\"/>\n     <use xlink:href=\"#mefcc95d631\" x=\"125.722111\" y=\"78.120646\" style=\"fill: #dd8452; stroke: #333333\"/>\n     <use xlink:href=\"#mefcc95d631\" x=\"106.999635\" y=\"70.332796\" style=\"fill: #dd8452; stroke: #333333\"/>\n     <use xlink:href=\"#mefcc95d631\" x=\"226.645835\" y=\"200.382684\" style=\"fill: #dd8452; stroke: #333333\"/>\n     <use xlink:href=\"#mefcc95d631\" x=\"120.768608\" y=\"67.167513\" style=\"fill: #dd8452; stroke: #333333\"/>\n     <use xlink:href=\"#mefcc95d631\" x=\"115.584097\" y=\"86.5495\" style=\"fill: #dd8452; stroke: #333333\"/>\n     <use xlink:href=\"#mefcc95d631\" x=\"231.156842\" y=\"200.116892\" style=\"fill: #dd8452; stroke: #333333\"/>\n     <use xlink:href=\"#mefcc95d631\" x=\"224.585035\" y=\"186.265516\" style=\"fill: #dd8452; stroke: #333333\"/>\n     <use xlink:href=\"#mefcc95d631\" x=\"231.098102\" y=\"191.088236\" style=\"fill: #dd8452; stroke: #333333\"/>\n     <use xlink:href=\"#mefcc95d631\" x=\"128.273474\" y=\"69.358873\" style=\"fill: #dd8452; stroke: #333333\"/>\n     <use xlink:href=\"#mefcc95d631\" x=\"118.41382\" y=\"103.281828\" style=\"fill: #dd8452; stroke: #333333\"/>\n     <use xlink:href=\"#mefcc95d631\" x=\"215.543154\" y=\"173.482223\" style=\"fill: #dd8452; stroke: #333333\"/>\n     <use xlink:href=\"#mefcc95d631\" x=\"223.957177\" y=\"204.408074\" style=\"fill: #dd8452; stroke: #333333\"/>\n     <use xlink:href=\"#mefcc95d631\" x=\"122.321454\" y=\"87.308044\" style=\"fill: #dd8452; stroke: #333333\"/>\n     <use xlink:href=\"#mefcc95d631\" x=\"138.351994\" y=\"71.782684\" style=\"fill: #dd8452; stroke: #333333\"/>\n     <use xlink:href=\"#mefcc95d631\" x=\"111.754739\" y=\"93.090609\" style=\"fill: #dd8452; stroke: #333333\"/>\n     <use xlink:href=\"#mefcc95d631\" x=\"242.61305\" y=\"167.466514\" style=\"fill: #dd8452; stroke: #333333\"/>\n     <use xlink:href=\"#mefcc95d631\" x=\"216.836277\" y=\"182.395922\" style=\"fill: #dd8452; stroke: #333333\"/>\n     <use xlink:href=\"#mefcc95d631\" x=\"114.249269\" y=\"83.159373\" style=\"fill: #dd8452; stroke: #333333\"/>\n     <use xlink:href=\"#mefcc95d631\" x=\"225.77513\" y=\"198.218055\" style=\"fill: #dd8452; stroke: #333333\"/>\n     <use xlink:href=\"#mefcc95d631\" x=\"229.69414\" y=\"198.701191\" style=\"fill: #dd8452; stroke: #333333\"/>\n     <use xlink:href=\"#mefcc95d631\" x=\"115.068353\" y=\"69.382348\" style=\"fill: #dd8452; stroke: #333333\"/>\n     <use xlink:href=\"#mefcc95d631\" x=\"103.417404\" y=\"77.224954\" style=\"fill: #dd8452; stroke: #333333\"/>\n     <use xlink:href=\"#mefcc95d631\" x=\"235.223397\" y=\"198.665188\" style=\"fill: #dd8452; stroke: #333333\"/>\n     <use xlink:href=\"#mefcc95d631\" x=\"239.424305\" y=\"207.061059\" style=\"fill: #dd8452; stroke: #333333\"/>\n     <use xlink:href=\"#mefcc95d631\" x=\"225.116032\" y=\"188.112569\" style=\"fill: #dd8452; stroke: #333333\"/>\n     <use xlink:href=\"#mefcc95d631\" x=\"111.92333\" y=\"82.022076\" style=\"fill: #dd8452; stroke: #333333\"/>\n     <use xlink:href=\"#mefcc95d631\" x=\"127.86217\" y=\"80.009495\" style=\"fill: #dd8452; stroke: #333333\"/>\n     <use xlink:href=\"#mefcc95d631\" x=\"233.303704\" y=\"190.364274\" style=\"fill: #dd8452; stroke: #333333\"/>\n    </g>\n   </g>\n   <g id=\"patch_3\">\n    <path d=\"M 66.023594 244.078125 \nL 66.023594 22.318125 \n\" style=\"fill: none; stroke: #ffffff; stroke-width: 1.25; stroke-linejoin: miter; stroke-linecap: square\"/>\n   </g>\n   <g id=\"patch_4\">\n    <path d=\"M 287.783594 244.078125 \nL 287.783594 22.318125 \n\" style=\"fill: none; stroke: #ffffff; stroke-width: 1.25; stroke-linejoin: miter; stroke-linecap: square\"/>\n   </g>\n   <g id=\"patch_5\">\n    <path d=\"M 66.023594 244.078125 \nL 287.783594 244.078125 \n\" style=\"fill: none; stroke: #ffffff; stroke-width: 1.25; stroke-linejoin: miter; stroke-linecap: square\"/>\n   </g>\n   <g id=\"patch_6\">\n    <path d=\"M 66.023594 22.318125 \nL 287.783594 22.318125 \n\" style=\"fill: none; stroke: #ffffff; stroke-width: 1.25; stroke-linejoin: miter; stroke-linecap: square\"/>\n   </g>\n   <g id=\"text_17\">\n    <!-- Dataset samples -->\n    <g style=\"fill: #262626\" transform=\"translate(126.560781 16.318125) scale(0.12 -0.12)\">\n     <defs>\n      <path id=\"DejaVuSans-44\" d=\"M 1259 4147 \nL 1259 519 \nL 2022 519 \nQ 2988 519 3436 956 \nQ 3884 1394 3884 2338 \nQ 3884 3275 3436 3711 \nQ 2988 4147 2022 4147 \nL 1259 4147 \nz\nM 628 4666 \nL 1925 4666 \nQ 3281 4666 3915 4102 \nQ 4550 3538 4550 2338 \nQ 4550 1131 3912 565 \nQ 3275 0 1925 0 \nL 628 0 \nL 628 4666 \nz\n\" transform=\"scale(0.015625)\"/>\n      <path id=\"DejaVuSans-61\" d=\"M 2194 1759 \nQ 1497 1759 1228 1600 \nQ 959 1441 959 1056 \nQ 959 750 1161 570 \nQ 1363 391 1709 391 \nQ 2188 391 2477 730 \nQ 2766 1069 2766 1631 \nL 2766 1759 \nL 2194 1759 \nz\nM 3341 1997 \nL 3341 0 \nL 2766 0 \nL 2766 531 \nQ 2569 213 2275 61 \nQ 1981 -91 1556 -91 \nQ 1019 -91 701 211 \nQ 384 513 384 1019 \nQ 384 1609 779 1909 \nQ 1175 2209 1959 2209 \nL 2766 2209 \nL 2766 2266 \nQ 2766 2663 2505 2880 \nQ 2244 3097 1772 3097 \nQ 1472 3097 1187 3025 \nQ 903 2953 641 2809 \nL 641 3341 \nQ 956 3463 1253 3523 \nQ 1550 3584 1831 3584 \nQ 2591 3584 2966 3190 \nQ 3341 2797 3341 1997 \nz\n\" transform=\"scale(0.015625)\"/>\n      <path id=\"DejaVuSans-74\" d=\"M 1172 4494 \nL 1172 3500 \nL 2356 3500 \nL 2356 3053 \nL 1172 3053 \nL 1172 1153 \nQ 1172 725 1289 603 \nQ 1406 481 1766 481 \nL 2356 481 \nL 2356 0 \nL 1766 0 \nQ 1100 0 847 248 \nQ 594 497 594 1153 \nL 594 3053 \nL 172 3053 \nL 172 3500 \nL 594 3500 \nL 594 4494 \nL 1172 4494 \nz\n\" transform=\"scale(0.015625)\"/>\n      <path id=\"DejaVuSans-73\" d=\"M 2834 3397 \nL 2834 2853 \nQ 2591 2978 2328 3040 \nQ 2066 3103 1784 3103 \nQ 1356 3103 1142 2972 \nQ 928 2841 928 2578 \nQ 928 2378 1081 2264 \nQ 1234 2150 1697 2047 \nL 1894 2003 \nQ 2506 1872 2764 1633 \nQ 3022 1394 3022 966 \nQ 3022 478 2636 193 \nQ 2250 -91 1575 -91 \nQ 1294 -91 989 -36 \nQ 684 19 347 128 \nL 347 722 \nQ 666 556 975 473 \nQ 1284 391 1588 391 \nQ 1994 391 2212 530 \nQ 2431 669 2431 922 \nQ 2431 1156 2273 1281 \nQ 2116 1406 1581 1522 \nL 1381 1569 \nQ 847 1681 609 1914 \nQ 372 2147 372 2553 \nQ 372 3047 722 3315 \nQ 1072 3584 1716 3584 \nQ 2034 3584 2315 3537 \nQ 2597 3491 2834 3397 \nz\n\" transform=\"scale(0.015625)\"/>\n      <path id=\"DejaVuSans-65\" d=\"M 3597 1894 \nL 3597 1613 \nL 953 1613 \nQ 991 1019 1311 708 \nQ 1631 397 2203 397 \nQ 2534 397 2845 478 \nQ 3156 559 3463 722 \nL 3463 178 \nQ 3153 47 2828 -22 \nQ 2503 -91 2169 -91 \nQ 1331 -91 842 396 \nQ 353 884 353 1716 \nQ 353 2575 817 3079 \nQ 1281 3584 2069 3584 \nQ 2775 3584 3186 3129 \nQ 3597 2675 3597 1894 \nz\nM 3022 2063 \nQ 3016 2534 2758 2815 \nQ 2500 3097 2075 3097 \nQ 1594 3097 1305 2825 \nQ 1016 2553 972 2059 \nL 3022 2063 \nz\n\" transform=\"scale(0.015625)\"/>\n      <path id=\"DejaVuSans-20\" transform=\"scale(0.015625)\"/>\n      <path id=\"DejaVuSans-6d\" d=\"M 3328 2828 \nQ 3544 3216 3844 3400 \nQ 4144 3584 4550 3584 \nQ 5097 3584 5394 3201 \nQ 5691 2819 5691 2113 \nL 5691 0 \nL 5113 0 \nL 5113 2094 \nQ 5113 2597 4934 2840 \nQ 4756 3084 4391 3084 \nQ 3944 3084 3684 2787 \nQ 3425 2491 3425 1978 \nL 3425 0 \nL 2847 0 \nL 2847 2094 \nQ 2847 2600 2669 2842 \nQ 2491 3084 2119 3084 \nQ 1678 3084 1418 2786 \nQ 1159 2488 1159 1978 \nL 1159 0 \nL 581 0 \nL 581 3500 \nL 1159 3500 \nL 1159 2956 \nQ 1356 3278 1631 3431 \nQ 1906 3584 2284 3584 \nQ 2666 3584 2933 3390 \nQ 3200 3197 3328 2828 \nz\n\" transform=\"scale(0.015625)\"/>\n      <path id=\"DejaVuSans-70\" d=\"M 1159 525 \nL 1159 -1331 \nL 581 -1331 \nL 581 3500 \nL 1159 3500 \nL 1159 2969 \nQ 1341 3281 1617 3432 \nQ 1894 3584 2278 3584 \nQ 2916 3584 3314 3078 \nQ 3713 2572 3713 1747 \nQ 3713 922 3314 415 \nQ 2916 -91 2278 -91 \nQ 1894 -91 1617 61 \nQ 1341 213 1159 525 \nz\nM 3116 1747 \nQ 3116 2381 2855 2742 \nQ 2594 3103 2138 3103 \nQ 1681 3103 1420 2742 \nQ 1159 2381 1159 1747 \nQ 1159 1113 1420 752 \nQ 1681 391 2138 391 \nQ 2594 391 2855 752 \nQ 3116 1113 3116 1747 \nz\n\" transform=\"scale(0.015625)\"/>\n      <path id=\"DejaVuSans-6c\" d=\"M 603 4863 \nL 1178 4863 \nL 1178 0 \nL 603 0 \nL 603 4863 \nz\n\" transform=\"scale(0.015625)\"/>\n     </defs>\n     <use xlink:href=\"#DejaVuSans-44\"/>\n     <use xlink:href=\"#DejaVuSans-61\" x=\"77.001953\"/>\n     <use xlink:href=\"#DejaVuSans-74\" x=\"138.28125\"/>\n     <use xlink:href=\"#DejaVuSans-61\" x=\"177.490234\"/>\n     <use xlink:href=\"#DejaVuSans-73\" x=\"238.769531\"/>\n     <use xlink:href=\"#DejaVuSans-65\" x=\"290.869141\"/>\n     <use xlink:href=\"#DejaVuSans-74\" x=\"352.392578\"/>\n     <use xlink:href=\"#DejaVuSans-20\" x=\"391.601562\"/>\n     <use xlink:href=\"#DejaVuSans-73\" x=\"423.388672\"/>\n     <use xlink:href=\"#DejaVuSans-61\" x=\"475.488281\"/>\n     <use xlink:href=\"#DejaVuSans-6d\" x=\"536.767578\"/>\n     <use xlink:href=\"#DejaVuSans-70\" x=\"634.179688\"/>\n     <use xlink:href=\"#DejaVuSans-6c\" x=\"697.65625\"/>\n     <use xlink:href=\"#DejaVuSans-65\" x=\"725.439453\"/>\n     <use xlink:href=\"#DejaVuSans-73\" x=\"786.962891\"/>\n    </g>\n   </g>\n   <g id=\"legend_1\">\n    <g id=\"patch_7\">\n     <path d=\"M 73.723594 150.994063 \nL 148.356875 150.994063 \nQ 150.556875 150.994063 150.556875 148.794063 \nL 150.556875 117.602188 \nQ 150.556875 115.402188 148.356875 115.402188 \nL 73.723594 115.402188 \nQ 71.523594 115.402188 71.523594 117.602188 \nL 71.523594 148.794063 \nQ 71.523594 150.994063 73.723594 150.994063 \nz\n\" style=\"fill: #eaeaf2; opacity: 0.8; stroke: #cccccc; stroke-linejoin: miter\"/>\n    </g>\n    <g id=\"PathCollection_3\">\n     <g>\n      <use xlink:href=\"#m53fb5ec689\" x=\"86.923594\" y=\"125.272969\" style=\"fill: #4c72b0; stroke: #333333\"/>\n     </g>\n    </g>\n    <g id=\"text_18\">\n     <!-- Class 0 -->\n     <g style=\"fill: #262626\" transform=\"translate(106.723594 128.160469) scale(0.11 -0.11)\">\n      <defs>\n       <path id=\"DejaVuSans-43\" d=\"M 4122 4306 \nL 4122 3641 \nQ 3803 3938 3442 4084 \nQ 3081 4231 2675 4231 \nQ 1875 4231 1450 3742 \nQ 1025 3253 1025 2328 \nQ 1025 1406 1450 917 \nQ 1875 428 2675 428 \nQ 3081 428 3442 575 \nQ 3803 722 4122 1019 \nL 4122 359 \nQ 3791 134 3420 21 \nQ 3050 -91 2638 -91 \nQ 1578 -91 968 557 \nQ 359 1206 359 2328 \nQ 359 3453 968 4101 \nQ 1578 4750 2638 4750 \nQ 3056 4750 3426 4639 \nQ 3797 4528 4122 4306 \nz\n\" transform=\"scale(0.015625)\"/>\n      </defs>\n      <use xlink:href=\"#DejaVuSans-43\"/>\n      <use xlink:href=\"#DejaVuSans-6c\" x=\"69.824219\"/>\n      <use xlink:href=\"#DejaVuSans-61\" x=\"97.607422\"/>\n      <use xlink:href=\"#DejaVuSans-73\" x=\"158.886719\"/>\n      <use xlink:href=\"#DejaVuSans-73\" x=\"210.986328\"/>\n      <use xlink:href=\"#DejaVuSans-20\" x=\"263.085938\"/>\n      <use xlink:href=\"#DejaVuSans-30\" x=\"294.873047\"/>\n     </g>\n    </g>\n    <g id=\"PathCollection_4\">\n     <g>\n      <use xlink:href=\"#mefcc95d631\" x=\"86.923594\" y=\"141.418906\" style=\"fill: #dd8452; stroke: #333333\"/>\n     </g>\n    </g>\n    <g id=\"text_19\">\n     <!-- Class 1 -->\n     <g style=\"fill: #262626\" transform=\"translate(106.723594 144.306406) scale(0.11 -0.11)\">\n      <use xlink:href=\"#DejaVuSans-43\"/>\n      <use xlink:href=\"#DejaVuSans-6c\" x=\"69.824219\"/>\n      <use xlink:href=\"#DejaVuSans-61\" x=\"97.607422\"/>\n      <use xlink:href=\"#DejaVuSans-73\" x=\"158.886719\"/>\n      <use xlink:href=\"#DejaVuSans-73\" x=\"210.986328\"/>\n      <use xlink:href=\"#DejaVuSans-20\" x=\"263.085938\"/>\n      <use xlink:href=\"#DejaVuSans-31\" x=\"294.873047\"/>\n     </g>\n    </g>\n   </g>\n  </g>\n </g>\n <defs>\n  <clipPath id=\"pa82c4c8729\">\n   <rect x=\"66.023594\" y=\"22.318125\" width=\"221.76\" height=\"221.76\"/>\n  </clipPath>\n </defs>\n</svg>\n",
            "application/pdf": "[encoded data removed]"
          },
          "metadata": {}
        }
      ],
      "source": [
        "def visualize_classification(model, data, label):\n",
        "    data_0 = data[label == 0]\n",
        "    data_1 = data[label == 1]\n",
        "\n",
        "    fig = plt.figure(figsize=(4,4), dpi=500)\n",
        "    plt.scatter(data_0[:,0], data_0[:,1], edgecolor=\"#333\", label=\"Class 0\")\n",
        "    plt.scatter(data_1[:,0], data_1[:,1], edgecolor=\"#333\", label=\"Class 1\")\n",
        "    plt.title(\"Dataset samples\")\n",
        "    plt.ylabel(r\"$x_2$\")\n",
        "    plt.xlabel(r\"$x_1$\")\n",
        "    plt.legend()\n",
        "\n",
        "    # Let's make use of a lot of operations we have learned above\n",
        "    c0 = np.array(to_rgba(\"C0\"))\n",
        "    c1 = np.array(to_rgba(\"C1\"))\n",
        "    x1 = jnp.arange(-0.5, 1.5, step=0.01)\n",
        "    x2 = jnp.arange(-0.5, 1.5, step=0.01)\n",
        "    xx1, xx2 = jnp.meshgrid(x1, x2, indexing='ij')  # Meshgrid function as in numpy\n",
        "    model_inputs = np.stack([xx1, xx2], axis=-1)\n",
        "    logits = model(model_inputs)\n",
        "    preds = nn.sigmoid(logits)\n",
        "    output_image = (1 - preds) * c0[None,None] + preds * c1[None,None]  # Specifying \"None\" in a dimension creates a new one\n",
        "    output_image = jax.device_get(output_image)  # Convert to numpy array. This only works for tensors on CPU, hence first push to CPU\n",
        "    plt.imshow(output_image, origin='lower', extent=(-0.5, 1.5, -0.5, 1.5))\n",
        "    plt.grid(False)\n",
        "    return fig\n",
        "\n",
        "_ = visualize_classification(trained_model, dataset.data, dataset.label)\n",
        "plt.show()"
      ]
    },
    {
      "cell_type": "markdown",
      "metadata": {
        "id": "K_q-q4GnJfrh"
      },
      "source": [
        "The decision boundaries might not look exactly as in the figure in the preamble of this section, since this has been created with the PyTorch version of the tutorial. Nevertheless, the result on the accuracy metric should be the approximately the same."
      ]
    },
    {
      "cell_type": "markdown",
      "metadata": {
        "id": "XWOkCLGvJfrh"
      },
      "source": [
        "### Conclusion\n",
        "\n",
        "This concludes our tutorial on training a neural network with JAX. While the functional programming perspective of JAX may seem very different to PyTorch at first, it enables a considerable speedup in training, not only for tiny models like here. If you are interested in seeing more practical use cases of JAX, we recommend checking out our other JAX Tutorials, such as:\n",
        "\n",
        "* [Tutorial 5 (JAX): Inception, ResNet and DenseNet](https://uvadlc-notebooks.readthedocs.io/en/latest/tutorial_notebooks/JAX/tutorial5/Inception_ResNet_DenseNet.html) gives an intro to training convolutional classifiers on CIFAR10;\n",
        "* [Tutorial 6 (JAX): Transformers and Multi-Head Attention](https://uvadlc-notebooks.readthedocs.io/en/latest/tutorial_notebooks/JAX/tutorial6/Transformers_and_MHAttention.html) builds a Transformer from scratch with Flax;\n",
        "* [Tutorial 7 (JAX): Graph Neural Networks](https://uvadlc-notebooks.readthedocs.io/en/latest/tutorial_notebooks/JAX/tutorial7/GNN_overview.html) implements basic Graph Neural Network layers;\n",
        "* [Tutorial 9 (JAX): Deep Autoencoders](https://uvadlc-notebooks.readthedocs.io/en/latest/tutorial_notebooks/JAX/tutorial9/AE_CIFAR10.html) shows how to train autoencoders on CIFAR10;\n",
        "* [Tutorial 11 (JAX): Normalizing Flows for image modeling](https://uvadlc-notebooks.readthedocs.io/en/latest/tutorial_notebooks/JAX/tutorial11/NF_image_modeling.html) discusses Normalizing Flows as generative model on images;\n",
        "* [Tutorial 15 (JAX): Vision Transformers](https://uvadlc-notebooks.readthedocs.io/en/latest/tutorial_notebooks/JAX/tutorial15/Vision_Transformer.html) trains a Transformer on image classification for CIFAR10."
      ]
    },
    {
      "cell_type": "markdown",
      "metadata": {
        "id": "L_v81eyWJfrh"
      },
      "source": [
        "## ✨ The Fancy Bits ✨\n",
        "\n",
        "After reading this tutorial, you might wonder why we left out some key advertisement points of JAX: automatic vectorization, easy parallelization on multiple accelerators, etc. The reason why we did not include them in our previous discuss is that for building simple networks, and actual most models in our tutorials, you do not really need these methods. However, since they can be handy at some times, for instance, if you have access to a large cluster or are faced with functions that are annoying to vectorize, we review them here in a separate section: the Fancy Bits of JAX (the title is inspired by JAX's tutorial [🔪 JAX - The Sharp Bits 🔪](https://jax.readthedocs.io/en/latest/notebooks/Common_Gotchas_in_JAX.html))."
      ]
    },
    {
      "cell_type": "markdown",
      "metadata": {
        "id": "OAfOAW-NJfrh"
      },
      "source": [
        "### Automatic Vectorization with vmap\n",
        "\n",
        "In machine learning, we often vectorize methods to efficiently process multiple inputs or batch elements at the same time. Usually, we have to write the code ourselves to support additional dimensions to vectorize over. However, since JAX can already transform functions to run efficiently on accelerators or calculate gradients, it can also automatically vectorize a function. For instance, let's consider a simple linear layer where we write a function for a single input `x` of shape `[c_in]`, a weight matrix `[c_in, c_out]`, and a bias vector `[c_out]`:"
      ]
    },
    {
      "cell_type": "code",
      "execution_count": 60,
      "metadata": {
        "id": "iH0TxznrJfrh"
      },
      "outputs": [],
      "source": [
        "def simple_linear(x, w, b):\n",
        "    # We could already vectorize this function with matmul, but as an example,\n",
        "    # let us use a non-vectorized function with same output\n",
        "    return (x[:,None] * w).sum(axis=0) + b"
      ]
    },
    {
      "cell_type": "code",
      "execution_count": 61,
      "metadata": {
        "colab": {
          "base_uri": "https://localhost:8080/"
        },
        "id": "q6Od4rl7Jfrh",
        "outputId": "f0d69cb1-fc13-471b-bb14-45cd7306f9b8"
      },
      "outputs": [
        {
          "output_type": "execute_result",
          "data": {
            "text/plain": [
              "Array([-0.5393317,  1.4906642,  0.7108946], dtype=float32)"
            ]
          },
          "metadata": {},
          "execution_count": 61
        }
      ],
      "source": [
        "# Example inputs\n",
        "rng, x_rng, w_rng, b_rng = jax.random.split(rng, 4)\n",
        "x_in = jax.random.normal(x_rng, (4,))\n",
        "w_in = jax.random.normal(w_rng, (4, 3))\n",
        "b_in = jax.random.normal(b_rng, (3,))\n",
        "\n",
        "simple_linear(x_in, w_in, b_in)"
      ]
    },
    {
      "cell_type": "markdown",
      "metadata": {
        "id": "1hCsxah-Jfrh"
      },
      "source": [
        "Now, we would like the function to support a batch dimension on `x`, i.e. `[batch, c_in]`. Our naive implementation above does not support this, since we specialized the axis we sum over. So, let's make JAX do the work for us and vectorize the function by using `jax.vmap`:"
      ]
    },
    {
      "cell_type": "code",
      "execution_count": 62,
      "metadata": {
        "id": "y9IUmvdtJfrh"
      },
      "outputs": [],
      "source": [
        "vectorized_linear = jax.vmap(simple_linear,\n",
        "                             in_axes=(0, None, None),  # Which axes to vectorize for each input\n",
        "                             out_axes=0  # Which axes to map to in the output\n",
        "                            )"
      ]
    },
    {
      "cell_type": "markdown",
      "metadata": {
        "id": "BGGJEYxUJfrh"
      },
      "source": [
        "Specifying `None` for the in-axes of the input arguments `w` and `b` means that we do not want to vectorize any of their input dimensions. With this vmap specification, the function `vectorized_linear` now supports an extra batch dimension in `x`! Let's try it out:"
      ]
    },
    {
      "cell_type": "code",
      "execution_count": 63,
      "metadata": {
        "colab": {
          "base_uri": "https://localhost:8080/"
        },
        "id": "0JOohZTsJfrh",
        "outputId": "40317bb5-e305-48c6-e216-730e8ca1aaa4"
      },
      "outputs": [
        {
          "output_type": "execute_result",
          "data": {
            "text/plain": [
              "Array([[-0.5393317,  1.4906642,  0.7108946],\n",
              "       [-0.5393317,  1.4906642,  0.7108946],\n",
              "       [-0.5393317,  1.4906642,  0.7108946],\n",
              "       [-0.5393317,  1.4906642,  0.7108946],\n",
              "       [-0.5393317,  1.4906642,  0.7108946]], dtype=float32)"
            ]
          },
          "metadata": {},
          "execution_count": 63
        }
      ],
      "source": [
        "x_vec_in = jnp.stack([x_in]*5, axis=0)\n",
        "\n",
        "vectorized_linear(x_vec_in, w_in, b_in)"
      ]
    },
    {
      "cell_type": "markdown",
      "metadata": {
        "id": "47u8-DDoJfrh"
      },
      "source": [
        "The new function indeed vectorized our code, calculating $N$ applications of the weights and bias to the input. We can also vectorize the code to run multiple inputs `x` on multiple weights `w` and biases `b` by changing the input argument `in_axes` to `(0, 0, 0)`, or simply `0`. Morever, we can again stack multiple function transformations, such as jitting a vectorized function. Further details on `jax.vmap` can be found in this [tutorial](\n",
        "https://jax.readthedocs.io/en/latest/jax-101/03-vectorization.html\n",
        ") and its [documentation](https://jax.readthedocs.io/en/latest/_autosummary/jax.vmap.html?highlight=vmap)."
      ]
    },
    {
      "cell_type": "markdown",
      "metadata": {
        "id": "O3yzz9_9Jfrh"
      },
      "source": [
        "### Parallel evaluation with pmap\n",
        "\n",
        "`jax.vmap` vectorizes a function on a single accelerator. But what if we have multiple GPUs or TPUs available? In PyTorch, we can parallelize a model over multiple GPUs using `nn.DistributedDataParallel`. In JAX, this is yet another function transformation: `jax.pmap`. Similar to `jax.vmap`, we can specify over which axes each input should be parallelized. In a network training, we usually want to parallelize over an extra batch dimension in the data, while the parameters are identical for all devices. For more details on `jax.pmap`, see [Parallel Evaluation in JAX](https://jax.readthedocs.io/en/latest/jax-101/06-parallelism.html)."
      ]
    },
    {
      "cell_type": "markdown",
      "metadata": {
        "id": "6F6K7aOlJfrh"
      },
      "source": [
        "### Working with PyTrees\n",
        "\n",
        "Network parameters in Flax are stored in a PyTree. We have visited them before, but what we haven't discuss yet is JAX's utilities to operate on pytrees! One common application is to obtain a list of all parameters in the network. This corresponds to extracting all leafs from a PyTree, for which JAX provides the function `jax.tree_leaves`:"
      ]
    },
    {
      "cell_type": "code",
      "execution_count": 65,
      "metadata": {
        "colab": {
          "base_uri": "https://localhost:8080/"
        },
        "id": "DhDWI1q3Jfrh",
        "outputId": "c2b53156-d3e6-4b74-d094-0f72948b4d66"
      },
      "outputs": [
        {
          "output_type": "stream",
          "name": "stdout",
          "text": [
            "We have parameters with the following shapes: (8,), (2, 8), (1,), (8, 1)\n",
            "Overall parameter count: 33\n"
          ]
        }
      ],
      "source": [
        "parameters = jax.tree.leaves(model_state.params)\n",
        "print('We have parameters with the following shapes:', ', '.join([str(p.shape) for p in parameters]))\n",
        "print('Overall parameter count:', sum([np.prod(p.shape) for p in parameters]))"
      ]
    },
    {
      "cell_type": "markdown",
      "metadata": {
        "id": "GwI-VfVvJfrj"
      },
      "source": [
        "We can also create new PyTrees that are the result of applying a function on all elements in the tree using `jax.tree_map`. For instance, let's obtain a PyTree with all parameter shapes:"
      ]
    },
    {
      "cell_type": "code",
      "execution_count": 67,
      "metadata": {
        "colab": {
          "base_uri": "https://localhost:8080/"
        },
        "id": "rZMKbOcfJfrj",
        "outputId": "b0d59c36-c896-4a56-bf69-1b2647c3146d"
      },
      "outputs": [
        {
          "output_type": "execute_result",
          "data": {
            "text/plain": [
              "{'params': {'linear1': {'bias': (8,), 'kernel': (2, 8)},\n",
              "  'linear2': {'bias': (1,), 'kernel': (8, 1)}}}"
            ]
          },
          "metadata": {},
          "execution_count": 67
        }
      ],
      "source": [
        "jax.tree.map(lambda p: p.shape, model_state.params)"
      ]
    },
    {
      "cell_type": "markdown",
      "metadata": {
        "id": "j6SUqeOuJfrj"
      },
      "source": [
        "The nodes of PyTrees do not necessarily need to be NumPy or JAX arrays, but can be arbitrary objects. Overall, PyTrees provide a simple, structured representation of data useful in many applications. More details can be found in JAX's Tutorial [Working with PyTrees](https://jax.readthedocs.io/en/latest/jax-101/05.1-pytrees.html)."
      ]
    },
    {
      "cell_type": "markdown",
      "metadata": {
        "id": "nGQjGHLmJfrj"
      },
      "source": [
        "## 🔪 The Sharp Bits 🔪\n",
        "\n",
        "Since JAX functions need to be written with certain constraints, there are situations where this can get annoying or difficult. A great overview of those, why they are needed, and most importantly, what to do about them, can be found in the original JAX tutorial [🔪 JAX - The Sharp Bits 🔪](https://jax.readthedocs.io/en/latest/notebooks/Common_Gotchas_in_JAX.html). In this final section of the tutorial, we want to visit a few of those points we have not explicitly discussed yet. Furthermore, we also focus on the combination with Flax, and what can be annoying when training models."
      ]
    },
    {
      "cell_type": "markdown",
      "metadata": {
        "id": "fyLFwANcJfrj"
      },
      "source": [
        "### Dynamic shapes\n",
        "\n",
        "JAX has the great advantage of providing just-in-time compilation of functions to speed up the computation. For this, it uses its intermediate representation jaxpr, which is specialized to the shapes of the input arguments. However, this also means that a jitted function is specialized to a certain shape, and running the jitted function with a different input shape requires recompiling the function. For instance, consider the following simple function:"
      ]
    },
    {
      "cell_type": "code",
      "execution_count": 68,
      "metadata": {
        "id": "5NgE8H86Jfrj"
      },
      "outputs": [],
      "source": [
        "def my_function(x):\n",
        "    print('Running the function with shape', x.shape)\n",
        "    return x.mean()\n",
        "\n",
        "jitted_function = jax.jit(my_function)"
      ]
    },
    {
      "cell_type": "markdown",
      "metadata": {
        "id": "tWhaxDI7Jfrj"
      },
      "source": [
        "The print statement is only executed once when the function is compiled, and for all consecutive function calls, this print statement will be ignored since it is not part of the jaxpr representation. Let's run the function now with multiple different input shapes:"
      ]
    },
    {
      "cell_type": "code",
      "execution_count": null,
      "metadata": {
        "id": "MnqDsVCXJfrj",
        "outputId": "e08a26f6-cd66-41fa-ea5b-c71299d90f3b"
      },
      "outputs": [
        {
          "name": "stdout",
          "output_type": "stream",
          "text": [
            "Running the function with shape (1,)\n",
            "Running the function with shape (2,)\n",
            "Running the function with shape (3,)\n",
            "Running the function with shape (4,)\n",
            "Running the function with shape (5,)\n",
            "Running the function with shape (6,)\n",
            "Running the function with shape (7,)\n",
            "Running the function with shape (8,)\n",
            "Running the function with shape (9,)\n",
            "Running the function with shape (10,)\n"
          ]
        }
      ],
      "source": [
        "for i in range(10):\n",
        "    jitted_function(jnp.zeros(i+1,))"
      ]
    },
    {
      "cell_type": "markdown",
      "metadata": {
        "id": "_WM8MIYaJfrj"
      },
      "source": [
        "As we can see, the function is compiled for every different input we give it. This can become inefficient if we actually work with many different shapes. However, running the function again with one of the previous input shapes will not require another compilation:"
      ]
    },
    {
      "cell_type": "code",
      "execution_count": 69,
      "metadata": {
        "colab": {
          "base_uri": "https://localhost:8080/"
        },
        "id": "XKcEfAZTJfrj",
        "outputId": "fd0a4500-331a-4a8c-e41c-a4b12e12fb80"
      },
      "outputs": [
        {
          "output_type": "stream",
          "name": "stdout",
          "text": [
            "Running the function with shape (1,)\n",
            "Running the function with shape (2,)\n",
            "Running the function with shape (3,)\n",
            "Running the function with shape (4,)\n",
            "Running the function with shape (5,)\n",
            "Running the function with shape (6,)\n",
            "Running the function with shape (7,)\n",
            "Running the function with shape (8,)\n",
            "Running the function with shape (9,)\n",
            "Running the function with shape (10,)\n"
          ]
        }
      ],
      "source": [
        "# Running the functions a second time will not print out anything since\n",
        "# the functions are already jitted for the respective input shapes.\n",
        "for i in range(10):\n",
        "    jitted_function(jnp.zeros(i+1,))"
      ]
    },
    {
      "cell_type": "markdown",
      "metadata": {
        "id": "buRZHA6HJfrj"
      },
      "source": [
        "If we have a very limited set of different shapes, we do not see a big performance difference. For instance, in our evaluation, the last batch size is smaller than the previous since we have a limited size of the evaluation dataset. However, for other applications, we might encounter this problem much more often: NLP and time series, and graphs. In these cases, it is recommend to pad the batches to prevent many re-compilations (see Flax's [padding guide](https://flax.readthedocs.io/en/latest/howtos/full_eval.html) for details). We briefly review the two scenarios below.\n",
        "\n",
        "#### NLP and time series\n",
        "\n",
        "In Natural Language Processing, our data consist of sentences which greatly vary in size. Already for batching the elements, we need to apply padding, such that the shape of the batch is determined by the largest sentence in the batch. However, this largest length can vary between batches, especially when we shuffle the dataset before each epoch. In PyTorch, this is not a problem, since the dynamic computation graph allows us to stop the computation whenever we need to. In contrast, JAX would need to recompile the forward pass for every single largest sentence length, which can quickly become very expensive. Padding is needed to reduce the number of compilations, but at the same time introduces unnecessary computation. Hence, we have a tradeoff between number of compilations and extra compute per batch. In the extreme case, PyTorch may even become faster than JAX here.\n",
        "\n",
        "#### Graphs\n",
        "\n",
        "Similar to NLP, graphs can vary in their size. Often, graphs differ in their number of nodes, but especially in the number of edges. Furthermore, when we start batching the graphs, the variation of node sizes and edge count considerably increases. Again, padding is needed to reduce the number of compilations, and we will revisit this topic in Tutorial 7 (TBD)."
      ]
    },
    {
      "cell_type": "markdown",
      "metadata": {
        "id": "jxsZPQUwJfrj"
      },
      "source": [
        "### Debugging in jitted functions\n",
        "\n",
        "During coding, we likely want to debug our model and sometimes print out intermediate values. In JAX, when jitting functions, this is not as straightforward. As we could see from the previous cells, a print statement is only executed once during compilation, and afterwards removed since it is not part of the jaxpr representation. Furthermore, there can be issues when tracking NaNs in your code (see the [sharp bits tutorial](https://jax.readthedocs.io/en/latest/notebooks/Common_Gotchas_in_JAX.html#debugging-nans)), and errors like out-of-bounds indexing are silently handled on accelerators by returning -1 instead of an error (see the corresponding section in the [sharp bits tutorial](https://jax.readthedocs.io/en/latest/notebooks/Common_Gotchas_in_JAX.html#out-of-bounds-indexing)). However, if necessary, one can either run the unjitted version of the forward pass first, and even introduce print statements to the jitted version where needed (see [here](https://github.com/google/jax/issues/196) for a great explanation). Still, it is not as straight-forward as in PyTorch, for example."
      ]
    },
    {
      "cell_type": "markdown",
      "metadata": {
        "id": "uXFeUquUJfrk"
      },
      "source": [
        "### Modules with different train and evaluation functions\n",
        "\n",
        "Certain deep learning layers have different behaviors under evaluation than during training. For instance, dropout randomly masks out a number of neurons during training, but leaves the graph untouched during evaluation. In PyTorch, we can easily switch between the two states via `model.train()` and `model.eval()` without having to manually specify it in the dropout module instance. However, in JAX, we do not have global states in the model, and thus need to pass this information to every module in the forward pass that may need it. In our example above, this was not needed, since the forward pass of the simple classifier is identical during training and evaluation. Alternatively, since the parameters are not bound to a specific model during training, one can also create two models: one training model, and one evaluation model. Nonetheless, one still needs to add the information to every module with changing behaviors, which adds a certain overhead compared to PyTorch. We will discuss two common modules with such behaviors below: dropout and BatchNorm."
      ]
    },
    {
      "cell_type": "markdown",
      "metadata": {
        "id": "hY05Jow0Jfrk"
      },
      "source": [
        "#### Dropout\n",
        "\n",
        "In Flax, [Dropout](https://flax.readthedocs.io/en/latest/_autosummary/flax.linen.Dropout.html) has an argument `deterministic` which turns off dropout when True, and otherwise applies the random masking as intended during training. This deterministic switch can either be defined in the constructor, or in every forward call. Furthermore, dropout has the special case that it is a random operation during training, meaning that it also needs a PRNG state. Fortunately, we do not have to pass this state in every PRNG state, but instead, can simply pass `rngs={'dropout': dropout_rng}` with `dropout_rng` being the PRNG state. For an example, see our [Tutorial 6](https://uvadlc-notebooks.readthedocs.io/en/latest/tutorial_notebooks/JAX/tutorial6/Transformers_and_MHAttention.html) on Transformers in which we use dropout in several occasions."
      ]
    },
    {
      "cell_type": "markdown",
      "metadata": {
        "id": "Zu_9r94CJfrk"
      },
      "source": [
        "#### BatchNorm\n",
        "\n",
        "Batch Normalization transforms the input in two different ways. During training, we determine the mean and standard deviation of the input, and normalize the data with it to a zero mean and standard deviation of one. During evaluation, on the other hand, we take a running statistic over the previous several batches, and use those to estimate the mean and standard deviation. This is necessary to keep the evaluation stable and invariant to the specific batches we choose. Still, in the Flax module ([documentation](https://flax.readthedocs.io/en/latest/_autosummary/flax.linen.BatchNorm.html)), we need to give the argument `use_running_average` (bool) to either the constructor or each forward pass. Furthermore, BatchNorm has a specific property we haven't discussed yet and is a bit tricky in JAX: keeping track of the running average. During every forward pass, we want to record the mean and standard deviation of the current batch, and update our current average over the past batches. However, this requires changing an input tensor, and returning this changed tensor again. In Flax, we can do this by defining the batch statistics as a mutable tensor. Check out our [Tutorial 5](https://uvadlc-notebooks.readthedocs.io/en/latest/tutorial_notebooks/JAX/tutorial5/Inception_ResNet_DenseNet.html) to see BatchNorm being used in practice with Flax."
      ]
    },
    {
      "cell_type": "markdown",
      "metadata": {
        "id": "7VoeI3nTJfrk"
      },
      "source": [
        "---\n",
        "\n",
        "[![Star our repository](https://img.shields.io/static/v1.svg?logo=star&label=⭐&message=Star%20Our%20Repository&color=yellow)](https://github.com/phlippe/uvadlc_notebooks/)  If you found this tutorial helpful, consider ⭐-ing our repository.    \n",
        "[![Ask questions](https://img.shields.io/static/v1.svg?logo=star&label=❔&message=Ask%20Questions&color=9cf)](https://github.com/phlippe/uvadlc_notebooks/issues)  For any questions, typos, or bugs that you found, please raise an issue on GitHub.\n",
        "\n",
        "---"
      ]
    }
  ],
  "metadata": {
    "kernelspec": {
      "display_name": "Python 3",
      "name": "python3"
    },
    "language_info": {
      "codemirror_mode": {
        "name": "ipython",
        "version": 3
      },
      "file_extension": ".py",
      "mimetype": "text/x-python",
      "name": "python",
      "nbconvert_exporter": "python",
      "pygments_lexer": "ipython3",
      "version": "3.8.2"
    },
    "colab": {
      "provenance": [],
      "gpuType": "T4"
    },
    "accelerator": "GPU",
    "widgets": {
      "application/vnd.jupyter.widget-state+json": {
        "a7c6cb74f55c44dea0f298ba78293570": {
          "model_module": "@jupyter-widgets/controls",
          "model_name": "HBoxModel",
          "model_module_version": "1.5.0",
          "state": {
            "_dom_classes": [],
            "_model_module": "@jupyter-widgets/controls",
            "_model_module_version": "1.5.0",
            "_model_name": "HBoxModel",
            "_view_count": null,
            "_view_module": "@jupyter-widgets/controls",
            "_view_module_version": "1.5.0",
            "_view_name": "HBoxView",
            "box_style": "",
            "children": [
              "IPY_MODEL_d303f182701e44b6b259776860b7a5ce",
              "IPY_MODEL_d903852accae489babfe9dd874c0bf10",
              "IPY_MODEL_8cc763e1a8274d978a7a2e1a9d4ce6b5"
            ],
            "layout": "IPY_MODEL_107c3959150b4796a8a5385080b0c2fe"
          }
        },
        "d303f182701e44b6b259776860b7a5ce": {
          "model_module": "@jupyter-widgets/controls",
          "model_name": "HTMLModel",
          "model_module_version": "1.5.0",
          "state": {
            "_dom_classes": [],
            "_model_module": "@jupyter-widgets/controls",
            "_model_module_version": "1.5.0",
            "_model_name": "HTMLModel",
            "_view_count": null,
            "_view_module": "@jupyter-widgets/controls",
            "_view_module_version": "1.5.0",
            "_view_name": "HTMLView",
            "description": "",
            "description_tooltip": null,
            "layout": "IPY_MODEL_6f66eca6ba8946d790936f87767553c6",
            "placeholder": "​",
            "style": "IPY_MODEL_8a83a23ca7b943fa92cbc78210176a55",
            "value": "100%"
          }
        },
        "d903852accae489babfe9dd874c0bf10": {
          "model_module": "@jupyter-widgets/controls",
          "model_name": "FloatProgressModel",
          "model_module_version": "1.5.0",
          "state": {
            "_dom_classes": [],
            "_model_module": "@jupyter-widgets/controls",
            "_model_module_version": "1.5.0",
            "_model_name": "FloatProgressModel",
            "_view_count": null,
            "_view_module": "@jupyter-widgets/controls",
            "_view_module_version": "1.5.0",
            "_view_name": "ProgressView",
            "bar_style": "success",
            "description": "",
            "description_tooltip": null,
            "layout": "IPY_MODEL_a20ed2e9ec3c40c6add30f775af21ca7",
            "max": 100,
            "min": 0,
            "orientation": "horizontal",
            "style": "IPY_MODEL_9ad79b114f5d4e4cad081a690122aff6",
            "value": 100
          }
        },
        "8cc763e1a8274d978a7a2e1a9d4ce6b5": {
          "model_module": "@jupyter-widgets/controls",
          "model_name": "HTMLModel",
          "model_module_version": "1.5.0",
          "state": {
            "_dom_classes": [],
            "_model_module": "@jupyter-widgets/controls",
            "_model_module_version": "1.5.0",
            "_model_name": "HTMLModel",
            "_view_count": null,
            "_view_module": "@jupyter-widgets/controls",
            "_view_module_version": "1.5.0",
            "_view_name": "HTMLView",
            "description": "",
            "description_tooltip": null,
            "layout": "IPY_MODEL_27a25d1c2b7e4487ad2686a229ce1a95",
            "placeholder": "​",
            "style": "IPY_MODEL_ca72ae9375f64ad4bcce7045aee99f15",
            "value": " 100/100 [00:02&lt;00:00, 60.99it/s]"
          }
        },
        "107c3959150b4796a8a5385080b0c2fe": {
          "model_module": "@jupyter-widgets/base",
          "model_name": "LayoutModel",
          "model_module_version": "1.2.0",
          "state": {
            "_model_module": "@jupyter-widgets/base",
            "_model_module_version": "1.2.0",
            "_model_name": "LayoutModel",
            "_view_count": null,
            "_view_module": "@jupyter-widgets/base",
            "_view_module_version": "1.2.0",
            "_view_name": "LayoutView",
            "align_content": null,
            "align_items": null,
            "align_self": null,
            "border": null,
            "bottom": null,
            "display": null,
            "flex": null,
            "flex_flow": null,
            "grid_area": null,
            "grid_auto_columns": null,
            "grid_auto_flow": null,
            "grid_auto_rows": null,
            "grid_column": null,
            "grid_gap": null,
            "grid_row": null,
            "grid_template_areas": null,
            "grid_template_columns": null,
            "grid_template_rows": null,
            "height": null,
            "justify_content": null,
            "justify_items": null,
            "left": null,
            "margin": null,
            "max_height": null,
            "max_width": null,
            "min_height": null,
            "min_width": null,
            "object_fit": null,
            "object_position": null,
            "order": null,
            "overflow": null,
            "overflow_x": null,
            "overflow_y": null,
            "padding": null,
            "right": null,
            "top": null,
            "visibility": null,
            "width": null
          }
        },
        "6f66eca6ba8946d790936f87767553c6": {
          "model_module": "@jupyter-widgets/base",
          "model_name": "LayoutModel",
          "model_module_version": "1.2.0",
          "state": {
            "_model_module": "@jupyter-widgets/base",
            "_model_module_version": "1.2.0",
            "_model_name": "LayoutModel",
            "_view_count": null,
            "_view_module": "@jupyter-widgets/base",
            "_view_module_version": "1.2.0",
            "_view_name": "LayoutView",
            "align_content": null,
            "align_items": null,
            "align_self": null,
            "border": null,
            "bottom": null,
            "display": null,
            "flex": null,
            "flex_flow": null,
            "grid_area": null,
            "grid_auto_columns": null,
            "grid_auto_flow": null,
            "grid_auto_rows": null,
            "grid_column": null,
            "grid_gap": null,
            "grid_row": null,
            "grid_template_areas": null,
            "grid_template_columns": null,
            "grid_template_rows": null,
            "height": null,
            "justify_content": null,
            "justify_items": null,
            "left": null,
            "margin": null,
            "max_height": null,
            "max_width": null,
            "min_height": null,
            "min_width": null,
            "object_fit": null,
            "object_position": null,
            "order": null,
            "overflow": null,
            "overflow_x": null,
            "overflow_y": null,
            "padding": null,
            "right": null,
            "top": null,
            "visibility": null,
            "width": null
          }
        },
        "8a83a23ca7b943fa92cbc78210176a55": {
          "model_module": "@jupyter-widgets/controls",
          "model_name": "DescriptionStyleModel",
          "model_module_version": "1.5.0",
          "state": {
            "_model_module": "@jupyter-widgets/controls",
            "_model_module_version": "1.5.0",
            "_model_name": "DescriptionStyleModel",
            "_view_count": null,
            "_view_module": "@jupyter-widgets/base",
            "_view_module_version": "1.2.0",
            "_view_name": "StyleView",
            "description_width": ""
          }
        },
        "a20ed2e9ec3c40c6add30f775af21ca7": {
          "model_module": "@jupyter-widgets/base",
          "model_name": "LayoutModel",
          "model_module_version": "1.2.0",
          "state": {
            "_model_module": "@jupyter-widgets/base",
            "_model_module_version": "1.2.0",
            "_model_name": "LayoutModel",
            "_view_count": null,
            "_view_module": "@jupyter-widgets/base",
            "_view_module_version": "1.2.0",
            "_view_name": "LayoutView",
            "align_content": null,
            "align_items": null,
            "align_self": null,
            "border": null,
            "bottom": null,
            "display": null,
            "flex": null,
            "flex_flow": null,
            "grid_area": null,
            "grid_auto_columns": null,
            "grid_auto_flow": null,
            "grid_auto_rows": null,
            "grid_column": null,
            "grid_gap": null,
            "grid_row": null,
            "grid_template_areas": null,
            "grid_template_columns": null,
            "grid_template_rows": null,
            "height": null,
            "justify_content": null,
            "justify_items": null,
            "left": null,
            "margin": null,
            "max_height": null,
            "max_width": null,
            "min_height": null,
            "min_width": null,
            "object_fit": null,
            "object_position": null,
            "order": null,
            "overflow": null,
            "overflow_x": null,
            "overflow_y": null,
            "padding": null,
            "right": null,
            "top": null,
            "visibility": null,
            "width": null
          }
        },
        "9ad79b114f5d4e4cad081a690122aff6": {
          "model_module": "@jupyter-widgets/controls",
          "model_name": "ProgressStyleModel",
          "model_module_version": "1.5.0",
          "state": {
            "_model_module": "@jupyter-widgets/controls",
            "_model_module_version": "1.5.0",
            "_model_name": "ProgressStyleModel",
            "_view_count": null,
            "_view_module": "@jupyter-widgets/base",
            "_view_module_version": "1.2.0",
            "_view_name": "StyleView",
            "bar_color": null,
            "description_width": ""
          }
        },
        "27a25d1c2b7e4487ad2686a229ce1a95": {
          "model_module": "@jupyter-widgets/base",
          "model_name": "LayoutModel",
          "model_module_version": "1.2.0",
          "state": {
            "_model_module": "@jupyter-widgets/base",
            "_model_module_version": "1.2.0",
            "_model_name": "LayoutModel",
            "_view_count": null,
            "_view_module": "@jupyter-widgets/base",
            "_view_module_version": "1.2.0",
            "_view_name": "LayoutView",
            "align_content": null,
            "align_items": null,
            "align_self": null,
            "border": null,
            "bottom": null,
            "display": null,
            "flex": null,
            "flex_flow": null,
            "grid_area": null,
            "grid_auto_columns": null,
            "grid_auto_flow": null,
            "grid_auto_rows": null,
            "grid_column": null,
            "grid_gap": null,
            "grid_row": null,
            "grid_template_areas": null,
            "grid_template_columns": null,
            "grid_template_rows": null,
            "height": null,
            "justify_content": null,
            "justify_items": null,
            "left": null,
            "margin": null,
            "max_height": null,
            "max_width": null,
            "min_height": null,
            "min_width": null,
            "object_fit": null,
            "object_position": null,
            "order": null,
            "overflow": null,
            "overflow_x": null,
            "overflow_y": null,
            "padding": null,
            "right": null,
            "top": null,
            "visibility": null,
            "width": null
          }
        },
        "ca72ae9375f64ad4bcce7045aee99f15": {
          "model_module": "@jupyter-widgets/controls",
          "model_name": "DescriptionStyleModel",
          "model_module_version": "1.5.0",
          "state": {
            "_model_module": "@jupyter-widgets/controls",
            "_model_module_version": "1.5.0",
            "_model_name": "DescriptionStyleModel",
            "_view_count": null,
            "_view_module": "@jupyter-widgets/base",
            "_view_module_version": "1.2.0",
            "_view_name": "StyleView",
            "description_width": ""
          }
        }
      }
    }
  },
  "nbformat": 4,
  "nbformat_minor": 0
}