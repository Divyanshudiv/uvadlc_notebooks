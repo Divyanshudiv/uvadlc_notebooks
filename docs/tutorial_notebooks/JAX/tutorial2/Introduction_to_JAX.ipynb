{
  "cells": [
    {
      "cell_type": "markdown",
      "metadata": {
        "id": "64iLYkhiJfq7"
      },
      "source": [
        "# Tutorial 2 (JAX): Introduction to JAX+Flax\n",
        "\n",
        "![Status](https://img.shields.io/static/v1.svg?label=Status&message=Finished&color=green)\n",
        "\n",
        "**Filled notebook:**\n",
        "[![View filled on Github](https://img.shields.io/static/v1.svg?logo=github&label=Repo&message=View%20On%20Github&color=lightgrey)](https://github.com/phlippe/uvadlc_notebooks/blob/master/docs/tutorial_notebooks/JAX/tutorial2/Introduction_to_JAX.ipynb)\n",
        "[![Open filled In Collab](https://colab.research.google.com/assets/colab-badge.svg)](https://colab.research.google.com/github/phlippe/uvadlc_notebooks/blob/master/docs/tutorial_notebooks/JAX/tutorial2/Introduction_to_JAX.ipynb)   \n",
        "**Author:** Phillip Lippe"
      ]
    },
    {
      "cell_type": "markdown",
      "metadata": {
        "id": "FPDr51n3JfrA"
      },
      "source": [
        "Welcome to our JAX tutorial for the Deep Learning course at the University of Amsterdam! The following notebook is meant to give a short introduction to JAX, including writing and training your own neural networks with [Flax](https://flax.readthedocs.io/en/latest/). But why should you learn JAX, if there are already so many other deep learning frameworks like [PyTorch](https://pytorch.org/) and [TensorFlow](https://www.tensorflow.org/)? The short answer: because it can be extremely fast. For instance, a small GoogleNet on CIFAR10, which we discuss in detail in [Tutorial 5](https://uvadlc-notebooks.readthedocs.io/en/latest/tutorial_notebooks/JAX/tutorial5/Inception_ResNet_DenseNet.html), can be trained in JAX 3x faster than in PyTorch with a similar setup. Note that for larger models, larger batch sizes, or smaller GPUs, a considerably smaller speedup is expected, and the code has not been designed for benchmarking. Nonetheless, JAX enables this speedup by compiling functions and numerical programs for accelerators (GPU/TPU) *just in time*, finding the optimal utilization of the hardware. Frameworks with dynamic computation graphs like PyTorch cannot achieve the same efficiency, since they cannot anticipate the next operations before the user calls them. For example, in an Inception block of GoogleNet, we apply multiple convolutional layers in parallel on the same input. JAX can optimize the execution of this layer by compiling the whole forward pass for the available accelerator and fusing operations where possible, reducing memory access and speeding up execution. In contrast, when calling the first convolutional layer in PyTorch, the framework does not know that multiple convolutions on the same feature map will follow. It sends each operation one by one to the GPU, and can only adapt the execution after seeing the next Python calls. Hence, JAX can make more efficient use of the GPU than, for instance, PyTorch.\n",
        "\n",
        "However, everything comes with a price. In order to efficiently compile programs just-in-time in JAX, the functions need to be written with certain constraints. Firstly, the functions are not allowed to have side-effects, meaning that they are not allowed to affect any variable outside of their namespaces. For instance, in-place operations affect a variable even outside of the function. Moreover, stochastic operations such as `torch.rand(...)` change the global state of pseudo random number generators, which is not allowed in functional JAX (we will see later how JAX handles random number generation). Secondly, JAX compiles the functions based on anticipated shapes of all arrays/tensors in the function. This becomes problematic if the shapes or the program flow within the function depends on the values of the tensor. For instance, in the operation `y = x[x>3]`, the shape of `y` depends on how many values of `x` are greater than 3. We will discuss more of these constraints in this notebook. Still, in most common cases of training neural networks, it is straightforward to write functions within these constraints.\n",
        "\n",
        "This tutorial is heavily inspired by many great JAX tutorials before, and a (non-exclusive) list of them are:\n",
        "\n",
        "* [JAX 101](https://jax.readthedocs.io/en/latest/jax-101/index.html) with many subtutorials on individual parts of JAX\n",
        "* [JAX - The Sharp Bits](https://jax.readthedocs.io/en/latest/notebooks/Common_Gotchas_in_JAX.html) discusses the constraints of JAX and how to overcome them\n",
        "* [Jax for the Impatient](https://flax.readthedocs.io/en/latest/notebooks/jax_for_the_impatient.html) for a quick intro to JAX with focus on deep learning\n",
        "* [Flax Basics](https://flax.readthedocs.io/en/latest/notebooks/flax_basics.html) as introduction to the Flax framework\n",
        "\n",
        "Throughout this tutorial, we will draw comparisons to PyTorch and also use its data loading library (see our [PyTorch tutorial](https://uvadlc-notebooks.readthedocs.io/en/latest/tutorial_notebooks/tutorial2/Introduction_to_PyTorch.html) for a refresher). JAX is not meant to 'redefine the wheel', so we can combine it framework-agnostic parts from PyTorch (e.g., data loading) and TensorFlow (e.g., logging in TensorBoard). Further, we use [Flax](https://flax.readthedocs.io/en/latest/) as a neural network library in JAX, and [Optax](https://optax.readthedocs.io/en/latest/index.html) to implement common deep learning optimizers. More on them later in the notebook. First, let's get started with some basic JAX operations."
      ]
    },
    {
      "cell_type": "code",
      "execution_count": 9,
      "metadata": {
        "colab": {
          "base_uri": "https://localhost:8080/"
        },
        "id": "namBSPQdJfrD",
        "outputId": "43f99a6d-4fad-44eb-84a6-b9576a2394ce"
      },
      "outputs": [
        {
          "output_type": "stream",
          "name": "stderr",
          "text": [
            "<ipython-input-9-a8576aa8cd5f>:11: DeprecationWarning: `set_matplotlib_formats` is deprecated since IPython 7.23, directly use `matplotlib_inline.backend_inline.set_matplotlib_formats()`\n",
            "  set_matplotlib_formats('svg', 'pdf') # For export\n"
          ]
        }
      ],
      "source": [
        "## Standard libraries\n",
        "import os\n",
        "import math\n",
        "import numpy as np\n",
        "import time\n",
        "\n",
        "## Imports for plotting\n",
        "import matplotlib.pyplot as plt\n",
        "%matplotlib inline\n",
        "from IPython.display import set_matplotlib_formats\n",
        "set_matplotlib_formats('svg', 'pdf') # For export\n",
        "from matplotlib.colors import to_rgba\n",
        "import seaborn as sns\n",
        "sns.set()\n",
        "\n",
        "## Progress bar\n",
        "from tqdm.auto import tqdm"
      ]
    },
    {
      "cell_type": "markdown",
      "metadata": {
        "id": "Tt6n_KtuJfrE"
      },
      "source": [
        "## JAX as NumPy on accelerators\n",
        "\n",
        "Every deep learning framework has its own API for dealing with data arrays. For example, PyTorch uses `torch.Tensor` as data arrays on which it defines several operations like matrix multiplication, taking the mean of the elements, etc. In JAX, this basic API strongly resembles the one of [NumPy](https://numpy.org/), and even has the same name in JAX (`jax.numpy`). So, for now, let's think of JAX as NumPy that runs on accelerators. As a first step, let's import JAX and its NumPy API:"
      ]
    },
    {
      "cell_type": "code",
      "execution_count": 10,
      "metadata": {
        "colab": {
          "base_uri": "https://localhost:8080/"
        },
        "id": "So9mVGDtJfrE",
        "outputId": "fc405bed-ee3d-4e0a-8308-b2a4cbbf8b8b"
      },
      "outputs": [
        {
          "output_type": "stream",
          "name": "stdout",
          "text": [
            "Using jax 0.4.33\n"
          ]
        }
      ],
      "source": [
        "import jax\n",
        "import jax.numpy as jnp\n",
        "print(\"Using jax\", jax.__version__)"
      ]
    },
    {
      "cell_type": "markdown",
      "metadata": {
        "id": "oMv6QjtcJfrF"
      },
      "source": [
        "At the current time of writing (June 2022), the newest JAX version is `0.3.13` which supports most of the common NumPy functionalities. The NumPy API of JAX is usually imported as `jnp`, to keep a resemblance to NumPy's import as `np`. In the following subsections, we will discuss the main differences between the classical NumPy API and the one of JAX."
      ]
    },
    {
      "cell_type": "markdown",
      "metadata": {
        "id": "9bh0PdXwJfrG"
      },
      "source": [
        "### Device Arrays\n",
        "\n",
        "As a first test, let's create some arbitrary arrays like we would do in NumPy. For instance, let's create an array of zeros with shape `[2,5]`:"
      ]
    },
    {
      "cell_type": "code",
      "execution_count": 11,
      "metadata": {
        "colab": {
          "base_uri": "https://localhost:8080/"
        },
        "id": "pVd5rSSUJfrG",
        "outputId": "b79e0677-50d5-4db4-b62c-06c440150e60"
      },
      "outputs": [
        {
          "output_type": "stream",
          "name": "stdout",
          "text": [
            "[[0. 0. 0. 0. 0.]\n",
            " [0. 0. 0. 0. 0.]]\n"
          ]
        }
      ],
      "source": [
        "a = jnp.zeros((2, 5), dtype=jnp.float32)\n",
        "print(a)"
      ]
    },
    {
      "cell_type": "markdown",
      "metadata": {
        "id": "vAnEF5-HJfrG"
      },
      "source": [
        "Similarly, we can create an array with values of 0 to 5 by using `arange`:"
      ]
    },
    {
      "cell_type": "code",
      "execution_count": 12,
      "metadata": {
        "colab": {
          "base_uri": "https://localhost:8080/"
        },
        "id": "Jv6FnrHRJfrG",
        "outputId": "c8e5fe1f-ff6d-4083-b2e4-5334c3b5e83b"
      },
      "outputs": [
        {
          "output_type": "stream",
          "name": "stdout",
          "text": [
            "[0 1 2 3 4 5]\n"
          ]
        }
      ],
      "source": [
        "b = jnp.arange(6)\n",
        "print(b)"
      ]
    },
    {
      "cell_type": "markdown",
      "metadata": {
        "id": "GKDHHqhEJfrG"
      },
      "source": [
        "You might now wonder whether the arrays `a` and `b` are simply NumPy arrays. To check that, let's print out the class of `b`:"
      ]
    },
    {
      "cell_type": "code",
      "execution_count": 13,
      "metadata": {
        "colab": {
          "base_uri": "https://localhost:8080/"
        },
        "id": "-tJ_4C07JfrG",
        "outputId": "055aee5b-e737-4c68-820f-8f17ed0f3f39"
      },
      "outputs": [
        {
          "output_type": "execute_result",
          "data": {
            "text/plain": [
              "jaxlib.xla_extension.ArrayImpl"
            ]
          },
          "metadata": {},
          "execution_count": 13
        }
      ],
      "source": [
        "b.__class__"
      ]
    },
    {
      "cell_type": "markdown",
      "metadata": {
        "id": "h780mRqSJfrI"
      },
      "source": [
        "Instead of a simple NumPy array, it shows the type `DeviceArray` which is what JAX uses to represent arrays. In contrast to NumPy, JAX can execute the same code on different backends – CPU, GPU and TPU. A `DeviceArray` therefore represents an array which is on one of the backends. Similar to PyTorch, we can check the device of an array by calling `.device()`:"
      ]
    },
    {
      "cell_type": "code",
      "execution_count": 14,
      "metadata": {
        "colab": {
          "base_uri": "https://localhost:8080/"
        },
        "id": "28HKzmsYJfrI",
        "outputId": "2fbf6143-56b1-4a70-937a-a986abb58212"
      },
      "outputs": [
        {
          "output_type": "execute_result",
          "data": {
            "text/plain": [
              "CudaDevice(id=0)"
            ]
          },
          "metadata": {},
          "execution_count": 14
        }
      ],
      "source": [
        "b.device"
      ]
    },
    {
      "cell_type": "markdown",
      "metadata": {
        "id": "9fIOXpCuJfrI"
      },
      "source": [
        "As you can see, the array `b` is already natively on a GPU although we did not specify this explicitly as you would do in PyTorch (on Colab, remember to select a GPU in your runtime environment). In order to change the device of an array, we can use `jax.device_get`:"
      ]
    },
    {
      "cell_type": "code",
      "execution_count": 15,
      "metadata": {
        "colab": {
          "base_uri": "https://localhost:8080/"
        },
        "id": "is_d784HJfrJ",
        "outputId": "ea047c56-c9e9-40fe-abba-4bae93184230"
      },
      "outputs": [
        {
          "output_type": "stream",
          "name": "stdout",
          "text": [
            "<class 'numpy.ndarray'>\n"
          ]
        }
      ],
      "source": [
        "b_cpu = jax.device_get(b)\n",
        "print(b_cpu.__class__)"
      ]
    },
    {
      "cell_type": "markdown",
      "metadata": {
        "id": "O_2l6BoZJfrK"
      },
      "source": [
        "Unsurprisingly, a simple CPU-based array is nothing else than a NumPy array, which allows for a simple conversion between the two frameworks! To explicitly push a NumPy array to the accelerator, you can use `jax.device_put`:"
      ]
    },
    {
      "cell_type": "code",
      "execution_count": 16,
      "metadata": {
        "colab": {
          "base_uri": "https://localhost:8080/"
        },
        "id": "Di-ByPdKJfrK",
        "outputId": "6f43d91a-fca0-4cb6-f52d-f89a900ebaea"
      },
      "outputs": [
        {
          "output_type": "stream",
          "name": "stdout",
          "text": [
            "Device put: <class 'jaxlib.xla_extension.ArrayImpl'> on cuda:0\n"
          ]
        }
      ],
      "source": [
        "b_gpu = jax.device_put(b_cpu)\n",
        "print(f'Device put: {b_gpu.__class__} on {b_gpu.device}')"
      ]
    },
    {
      "cell_type": "markdown",
      "metadata": {
        "id": "AAzfBf6AJfrK"
      },
      "source": [
        "Nicely enough, JAX will handle any device clash itself when you try to perform operations on a NumPy array and a DeviceArray by modeling the output as DeviceArray again:"
      ]
    },
    {
      "cell_type": "code",
      "execution_count": 17,
      "metadata": {
        "colab": {
          "base_uri": "https://localhost:8080/"
        },
        "id": "YlcgHLiGJfrK",
        "outputId": "b51db79c-e8a7-46d0-cfe7-4c14d2dd77e3"
      },
      "outputs": [
        {
          "output_type": "execute_result",
          "data": {
            "text/plain": [
              "Array([ 0,  2,  4,  6,  8, 10], dtype=int32)"
            ]
          },
          "metadata": {},
          "execution_count": 17
        }
      ],
      "source": [
        "b_cpu + b_gpu"
      ]
    },
    {
      "cell_type": "markdown",
      "metadata": {
        "id": "Q2p7CHtjJfrK"
      },
      "source": [
        "Finally, we can also print all our available devices using `jax.devices()`:"
      ]
    },
    {
      "cell_type": "code",
      "execution_count": 18,
      "metadata": {
        "colab": {
          "base_uri": "https://localhost:8080/"
        },
        "id": "uCAt-Cr_JfrK",
        "outputId": "b120550a-c2bf-4f93-bea1-e0677cdf54c1"
      },
      "outputs": [
        {
          "output_type": "execute_result",
          "data": {
            "text/plain": [
              "[CudaDevice(id=0)]"
            ]
          },
          "metadata": {},
          "execution_count": 18
        }
      ],
      "source": [
        "jax.devices()"
      ]
    },
    {
      "cell_type": "markdown",
      "metadata": {
        "id": "DHv3rghlJfrK"
      },
      "source": [
        "A technical detail of running operations on DeviceArrays is that when a JAX function is called, the corresponding operation takes place asynchronously on the accelerator when possible. For instance, if we call `out = jnp.matmul(b, b)`, JAX first returns a placeholder array for `out` which may not be filled with the values as soon as the function calls finishes. This way, Python will not block the execution of follow-up statements, but instead only does it whenever we strictly need the value of `out`, for instance for printing or putting it on CPU. PyTorch uses a very similar principle to allow asynchronous computation. For more details, see [JAX - Asynchronous Dispatch](https://jax.readthedocs.io/en/latest/async_dispatch.html)."
      ]
    },
    {
      "cell_type": "markdown",
      "metadata": {
        "id": "l9IZkQk7JfrK"
      },
      "source": [
        "### Immutable tensors\n",
        "\n",
        "When we would like to change a NumPy array in-place, like replacing the first element of `b` with `1` instead of `0`, we could simply write `b[0]=1`. However, in JAX, this is not possible. A `DeviceArray` object is *immutable*, which means that no in-place operations are possible. The reason for this goes back to our discussion in the introduction: JAX requires programs to be \"pure\" functions, i.e. no effects on variables outside of the function are allowed. Allowing in-place operations of variables would make the program analysis for JAX's just-in-time compilation difficult. Instead, we can use the expression `b.at[0].set(1)` which, analogous to the in-place operation, returns a new array which is identical to `b`, except that its value at the first position is 1. Let's try that out below:"
      ]
    },
    {
      "cell_type": "code",
      "execution_count": 19,
      "metadata": {
        "colab": {
          "base_uri": "https://localhost:8080/"
        },
        "id": "kzjkUj3uJfrK",
        "outputId": "8cc6b3aa-4608-4b56-b43a-1bf2add13cf2"
      },
      "outputs": [
        {
          "output_type": "stream",
          "name": "stdout",
          "text": [
            "Original array: [0 1 2 3 4 5]\n",
            "Changed array: [1 1 2 3 4 5]\n"
          ]
        }
      ],
      "source": [
        "b_new = b.at[0].set(1)\n",
        "print('Original array:', b)\n",
        "print('Changed array:', b_new)"
      ]
    },
    {
      "cell_type": "markdown",
      "metadata": {
        "id": "T8jq2VKSJfrL"
      },
      "source": [
        "However, we said that JAX is very efficient. Isn't creating a new array in this case the opposite? While it is indeed less efficient, it can made much more efficient with JAX's just-in-time compilation. The compiler can recognize unnecessary array duplications, and replace them with in-place operations again. More on the just-in-time compilation later!"
      ]
    },
    {
      "cell_type": "markdown",
      "metadata": {
        "id": "gmW20ZZGJfrL"
      },
      "source": [
        "### Pseudo Random Numbers in JAX\n",
        "\n",
        "In machine learning, we come across several situations where we need to generate pseudo random numbers: randomly shuffling a dataset, sampling a dropout mask for regularization, training a VAE by sampling from the approximate posterior, etc. In libraries like NumPy and PyTorch, the random number generator are controlled by a seed, which we set initially to obtain the same samples every time we run the code (this is why the numbers are not truly random, hence \"pseudo\"-random). However, if we call `np.random.normal()` 5 times consecutively, we will get 5 different numbers since every execution changes the state/seed of the pseudo random number generation (PRNG). In JAX, if we would try to generate a random number with this approach, a function creating pseudo-random number would have an effect outside of it. To prevent this, JAX takes a different approach by explicitly passing and iterating the PRNG state. First, let's create a PRNG for the seed 42:"
      ]
    },
    {
      "cell_type": "code",
      "execution_count": 20,
      "metadata": {
        "id": "7F3ORQA2JfrL"
      },
      "outputs": [],
      "source": [
        "rng = jax.random.PRNGKey(42)"
      ]
    },
    {
      "cell_type": "markdown",
      "metadata": {
        "id": "ViTIgla6JfrL"
      },
      "source": [
        "Now, we can use this PRNG state to generate random numbers. Since with this state, the random number generation becomes deterministic, we sample the same number every time. This is not the case in NumPy if we set the seed once before both operations:"
      ]
    },
    {
      "cell_type": "code",
      "execution_count": 21,
      "metadata": {
        "colab": {
          "base_uri": "https://localhost:8080/"
        },
        "id": "nZaSU1R_JfrL",
        "outputId": "4f8ee5f9-0731-44ad-8fa4-b0865ec6e592"
      },
      "outputs": [
        {
          "output_type": "stream",
          "name": "stdout",
          "text": [
            "JAX - Random number 1: -0.18471177\n",
            "JAX - Random number 2: -0.18471177\n",
            "NumPy - Random number 1: 0.4967141530112327\n",
            "NumPy - Random number 2: -0.13826430117118466\n"
          ]
        }
      ],
      "source": [
        "# A non-desirable way of generating pseudo-random numbers...\n",
        "jax_random_number_1 = jax.random.normal(rng)\n",
        "jax_random_number_2 = jax.random.normal(rng)\n",
        "print('JAX - Random number 1:', jax_random_number_1)\n",
        "print('JAX - Random number 2:', jax_random_number_2)\n",
        "\n",
        "# Typical random numbers in NumPy\n",
        "np.random.seed(42)\n",
        "np_random_number_1 = np.random.normal()\n",
        "np_random_number_2 = np.random.normal()\n",
        "print('NumPy - Random number 1:', np_random_number_1)\n",
        "print('NumPy - Random number 2:', np_random_number_2)"
      ]
    },
    {
      "cell_type": "markdown",
      "metadata": {
        "id": "dH92GUAkJfrM"
      },
      "source": [
        "Usually, we want to have a behavior like NumPy where we get a different random number every time we sample. To achieve this, we can *split* the PRNG state to get usable subkeys every time we need a new pseudo-random number. We can do this with `jax.random.split(...)`:"
      ]
    },
    {
      "cell_type": "code",
      "execution_count": 22,
      "metadata": {
        "colab": {
          "base_uri": "https://localhost:8080/"
        },
        "id": "VmVhMP35JfrM",
        "outputId": "5299876b-d645-40f1-c08a-b14ddc45b907"
      },
      "outputs": [
        {
          "output_type": "stream",
          "name": "stdout",
          "text": [
            "JAX new - Random number 1: 0.107961535\n",
            "JAX new - Random number 2: -1.2226542\n"
          ]
        }
      ],
      "source": [
        "rng, subkey1, subkey2 = jax.random.split(rng, num=3)  # We create 3 new keys\n",
        "jax_random_number_1 = jax.random.normal(subkey1)\n",
        "jax_random_number_2 = jax.random.normal(subkey2)\n",
        "print('JAX new - Random number 1:', jax_random_number_1)\n",
        "print('JAX new - Random number 2:', jax_random_number_2)"
      ]
    },
    {
      "cell_type": "markdown",
      "metadata": {
        "id": "eUaj4M2NJfrN"
      },
      "source": [
        "Every time you run this cell, you will obtain different random numbers for both operations since we create new PRNG states before sampling. In general, you want to split the PRNG key every time before generating a pseudo-number, to prevent accidentally obtaining the exact same numbers (for instance, sampling the exact same dropout mask every time you run the network makes dropout itself quite useless...). For a deeper dive into the ideas behind the random number generation in JAX, see JAX's tutorial on [Pseudo Random Numbers](https://jax.readthedocs.io/en/latest/jax-101/05-random-numbers.html)."
      ]
    },
    {
      "cell_type": "markdown",
      "metadata": {
        "id": "4p0XU9dAJfrN"
      },
      "source": [
        "## Function transformations with Jaxpr\n",
        "\n",
        "Rosalia Schneider and Vladimir Mikulik summarize the key points of JAX in the [JAX 101 tutorial](https://jax.readthedocs.io/en/latest/jax-101/01-jax-basics.html) as follows:\n",
        "\n",
        "> The most important difference, and in some sense the root of all the rest, is that JAX is designed to be functional, as in functional programming. The reason behind this is that the kinds of program transformations that JAX enables are much more feasible in functional-style programs. [...] The important feature of functional programming to grok when working with JAX is very simple: don’t write code with side-effects.\n",
        "\n",
        "Essentially, we want to write our main code of JAX in functions that do not affect anything else besides its outputs. For instance, we do not want to change input arrays in-place, or access global variables. While this might seem limiting at first, you get used to this quite quickly and most JAX functions that need to fulfill these constraints can be written this way without problems. Note that not all possible functions in training a neural network need to fulfill the constraints. For instance, loading or saving of models, the logging, or the data generation can be done in naive functions. Only the network execution, which we want to do very efficiently on our accelerator (GPU or TPU), should strictly follow these constraints.\n",
        "\n",
        "What does make JAX functions so special, and how can we think about them? A good way of gaining understanding in how JAX handles function is to understand its intermediate representation: jaxpr. Conceptually, you can think of any operation that JAX does on a function, as first trace-specializing the Python function to be transformed into a small and well-behaved intermediate form. This means that we check which operations are performed on which array, and what shapes the arrays are. Based on this representation, JAX then interprets the function with transformation-specific interpretation rules, which includes automatic differentiation or compiling a function in XLA to efficiently use the accelerator.\n",
        "\n",
        "To illustrate this intermediate representation, let's consider the same simple function we used in the [PyTorch tutorial](https://uvadlc-notebooks.readthedocs.io/en/latest/tutorial_notebooks/tutorial2/Introduction_to_PyTorch.html) to discuss the concept of dynamic computation graphs:\n",
        "\n",
        "$$ y = \\frac{1}{|x|}\\sum_{i}\\left[\\left(x_i+2\\right)^2+3\\right]$$\n",
        "\n",
        "Using common NumPy operations in JAX, we can write it as follows:"
      ]
    },
    {
      "cell_type": "code",
      "execution_count": 23,
      "metadata": {
        "colab": {
          "base_uri": "https://localhost:8080/"
        },
        "id": "O8ni10SoJfrN",
        "outputId": "92b8564f-5e50-4cc4-a294-303579480748"
      },
      "outputs": [
        {
          "output_type": "stream",
          "name": "stdout",
          "text": [
            "Input [0. 1. 2.]\n",
            "Output 12.666667\n"
          ]
        }
      ],
      "source": [
        "def simple_graph(x):\n",
        "    x = x + 2\n",
        "    x = x ** 2\n",
        "    x = x + 3\n",
        "    y = x.mean()\n",
        "    return y\n",
        "\n",
        "inp = jnp.arange(3, dtype=jnp.float32)\n",
        "print('Input', inp)\n",
        "print('Output', simple_graph(inp))"
      ]
    },
    {
      "cell_type": "markdown",
      "metadata": {
        "id": "NWlifp-IJfrN"
      },
      "source": [
        "To view the jaxpr representation of this function, we can use `jax.make_jaxpr`. Since the tracing depends on the shape of the input, we need to pass an input to the function (here of shape `[3]`):"
      ]
    },
    {
      "cell_type": "code",
      "execution_count": 24,
      "metadata": {
        "colab": {
          "base_uri": "https://localhost:8080/"
        },
        "id": "929Hb7NiJfrN",
        "outputId": "80366b81-1754-4c17-9ecd-ddf3bcabda6a"
      },
      "outputs": [
        {
          "output_type": "execute_result",
          "data": {
            "text/plain": [
              "{ lambda ; a:f32[3]. let\n",
              "    b:f32[3] = add a 2.0\n",
              "    c:f32[3] = integer_pow[y=2] b\n",
              "    d:f32[3] = add c 3.0\n",
              "    e:f32[] = reduce_sum[axes=(0,)] d\n",
              "    f:f32[] = div e 3.0\n",
              "  in (f,) }"
            ]
          },
          "metadata": {},
          "execution_count": 24
        }
      ],
      "source": [
        "jax.make_jaxpr(simple_graph)(inp)"
      ]
    },
    {
      "cell_type": "markdown",
      "metadata": {
        "id": "4fFpqyR7JfrN"
      },
      "source": [
        "A jaxpr representation follows the structure:\n",
        "\n",
        "```python\n",
        "jaxpr ::= { lambda Var* ; Var+.\n",
        "            let Eqn*\n",
        "            in  [Expr+] }\n",
        "```\n",
        "where `Var*` are constants and `Var+` are input arguments. In the cell above, this is `a:f32[3]`, i.e. an array of shape 3 with type `jnp.float32` (`inp`). The list of equations, `Eqn*`, define the intermediate results of the function. You can see that each operation in `simple_graph` is translated to a corresponding equation, like `x = x + 2` is translated to `b:f32[3] = add a 2.0`. Furthermore, you see the specialization of the operations on the input shape, like `x.mean()` being replacing in `e` and `f` with summing and dividing by 3. Finally, `Expr+` in the jaxpr representation are the outputs of the functions. In the example, this is `f`, i.e. the final result of the function.\n",
        "Based on these atomic operations, JAX offers all kind of function transformations, of which we will discuss the most important ones later in this section.\n",
        "Hence, you can consider the jaxpr representation is an intermediate compilation stage of JAX. What happens if we actually try to look at the jaxpr representation of a function with side-effect? Let's consider the following function, which, as an illustrative example, appends the input to a global list:"
      ]
    },
    {
      "cell_type": "code",
      "execution_count": 25,
      "metadata": {
        "colab": {
          "base_uri": "https://localhost:8080/"
        },
        "id": "Tsoz6mvOJfrN",
        "outputId": "28900385-a534-49c3-ce52-57ecc0492a16"
      },
      "outputs": [
        {
          "output_type": "execute_result",
          "data": {
            "text/plain": [
              "{ lambda ; a:f32[3]. let\n",
              "    b:f32[3] = integer_pow[y=2] a\n",
              "    c:f32[] = reduce_sum[axes=(0,)] b\n",
              "    d:f32[] = sqrt c\n",
              "  in (d,) }"
            ]
          },
          "metadata": {},
          "execution_count": 25
        }
      ],
      "source": [
        "global_list = []\n",
        "\n",
        "# Invalid function with side-effect\n",
        "def norm(x):\n",
        "    global_list.append(x)\n",
        "    x = x ** 2\n",
        "    n = x.sum()\n",
        "    n = jnp.sqrt(n)\n",
        "    return n\n",
        "\n",
        "jax.make_jaxpr(norm)(inp)"
      ]
    },
    {
      "cell_type": "markdown",
      "metadata": {
        "id": "k7jKfJV8JfrO"
      },
      "source": [
        "As you can see, the jaxpr representation of the function does not contain any operation for `global_list.append(x)`. This is because jaxpr only understand side-effect-free code, and cannot represent such effects. Thus, we need to stick with pure functions without any side effects, to prevent any unwanted errors in our functions. If you are interested in learning more about the jaxpr representation, check out the JAX [documentation](https://jax.readthedocs.io/en/latest/jaxpr.html) on it. But for this tutorial, we just need the basics as discussed above."
      ]
    },
    {
      "cell_type": "markdown",
      "metadata": {
        "id": "v0DC1X8IJfrO"
      },
      "source": [
        "### Automatic differentiation\n",
        "\n",
        "The intermediate jaxpr representation defines a computation graph, on which we can perform an essential operation of deep learning framework: automatic differentiation. In frameworks like PyTorch with a dynamic computation graph, we would compute the gradients based on the loss tensor itself, e.g. by calling `loss.backward()`. However, JAX directly works with functions. Instead of backpropagating gradients through tensors, JAX takes as input a function, and outputs another function which directly calculates the gradients for it. While this might seem quite different to what you are used to from other frameworks, it is quite intuitive: your gradient of parameters is really a function of parameters and data.\n",
        "\n",
        "The transformation that allows us to do this is `jax.grad`, which takes as input the function, and returns another function representing the gradient calculation of the (first) input with respect to the output:"
      ]
    },
    {
      "cell_type": "code",
      "execution_count": 26,
      "metadata": {
        "colab": {
          "base_uri": "https://localhost:8080/"
        },
        "id": "W92-Miw_JfrO",
        "outputId": "345dc9de-6a62-4495-ebb9-04a94ea570fc"
      },
      "outputs": [
        {
          "output_type": "stream",
          "name": "stdout",
          "text": [
            "Gradient [1.3333334 2.        2.6666667]\n"
          ]
        }
      ],
      "source": [
        "grad_function = jax.grad(simple_graph)\n",
        "gradients = grad_function(inp)\n",
        "print('Gradient', gradients)"
      ]
    },
    {
      "cell_type": "markdown",
      "metadata": {
        "id": "i2qlRF69JfrO"
      },
      "source": [
        "The gradient we get here is exactly the one we would obtain when doing the calculation by hand. Moreover, we can also print the jaxpr representation of the gradient function:"
      ]
    },
    {
      "cell_type": "code",
      "execution_count": 27,
      "metadata": {
        "colab": {
          "base_uri": "https://localhost:8080/"
        },
        "id": "I0AjhTwmJfrO",
        "outputId": "133c0dc7-14fe-46fd-eea1-08e43d630638"
      },
      "outputs": [
        {
          "output_type": "execute_result",
          "data": {
            "text/plain": [
              "{ lambda ; a:f32[3]. let\n",
              "    b:f32[3] = add a 2.0\n",
              "    c:f32[3] = integer_pow[y=2] b\n",
              "    d:f32[3] = integer_pow[y=1] b\n",
              "    e:f32[3] = mul 2.0 d\n",
              "    f:f32[3] = add c 3.0\n",
              "    g:f32[] = reduce_sum[axes=(0,)] f\n",
              "    _:f32[] = div g 3.0\n",
              "    h:f32[] = div 1.0 3.0\n",
              "    i:f32[3] = broadcast_in_dim[broadcast_dimensions=() shape=(3,)] h\n",
              "    j:f32[3] = mul i e\n",
              "  in (j,) }"
            ]
          },
          "metadata": {},
          "execution_count": 27
        }
      ],
      "source": [
        "jax.make_jaxpr(grad_function)(inp)"
      ]
    },
    {
      "cell_type": "markdown",
      "metadata": {
        "id": "selRPbGXJfrO"
      },
      "source": [
        "This shows an unique property of JAX: we can print out the exact computation graph for determining the gradients. Compared to the original function, you can see new equations like `d:f32[3] = integer_pow[y=1] b` and `e:f32[3] = mul 2.0 d`, which model the intermediate gradient of $\\partial b_i^2/\\partial b_i = 2b_i$. Furthermore, the return value `j` is the multiplication of `e` with $1/3$, which maps to the gradient being:\n",
        "\n",
        "$$ \\frac{\\partial y}{\\partial x_i} = \\frac{2}{3}(x_i + 2)$$\n",
        "\n",
        "Hence, we can not only use JAX to estimate the gradients at a certain input value, but actually return the analytical gradient function which is quite a nice feature and highlights the properties of JAX!"
      ]
    },
    {
      "cell_type": "markdown",
      "metadata": {
        "id": "4Pw0uhaRJfrO"
      },
      "source": [
        "Often, we do not only want the gradients, but also the actual output of the function, for instance for logging the loss. This can be efficiently done using `jax.value_and_grad`:"
      ]
    },
    {
      "cell_type": "code",
      "execution_count": 28,
      "metadata": {
        "colab": {
          "base_uri": "https://localhost:8080/"
        },
        "id": "1wWRPVsBJfrO",
        "outputId": "9ac60152-2790-40b4-dea5-c4374216d534"
      },
      "outputs": [
        {
          "output_type": "execute_result",
          "data": {
            "text/plain": [
              "(Array(12.666667, dtype=float32),\n",
              " Array([1.3333334, 2.       , 2.6666667], dtype=float32))"
            ]
          },
          "metadata": {},
          "execution_count": 28
        }
      ],
      "source": [
        "val_grad_function = jax.value_and_grad(simple_graph)\n",
        "val_grad_function(inp)"
      ]
    },
    {
      "cell_type": "markdown",
      "metadata": {
        "id": "JzQmBIKYJfrP"
      },
      "source": [
        "Further, we can specialize the gradient function to consider multiple input arguments, and add extra outputs that we may not want to differentiate (for instance the accuracy in classification). We will visit the most important ones in the network training later in this section, and refer to other great resources for more details ([JAX Quickstart](https://jax.readthedocs.io/en/latest/notebooks/quickstart.html#taking-derivatives-with-grad), [Autodiff cookbook](https://jax.readthedocs.io/en/latest/notebooks/autodiff_cookbook.html), [Advanced autodiff](https://jax.readthedocs.io/en/latest/jax-101/04-advanced-autodiff.html)).\n",
        "\n",
        "To train neural networks, we need to determine the gradient for every parameter in the network with respect to the loss. Listing all parameters as input arguments quickly gets annoying and infeasible. JAX offers an elegant data structure to summarize all parameters: a pytree ([documentation](https://jax.readthedocs.io/en/latest/pytrees.html)). A pytree is a container-like object which structures its elements as a tree. For instance, a linear neural network might have its parameters organized similar to:\n",
        "\n",
        "```python\n",
        "params = {\n",
        "    'linear1': {\n",
        "        'weights': ...,\n",
        "        'bias': ...\n",
        "    },\n",
        "    ...\n",
        "}\n",
        "```\n",
        "JAX offers functions to process pytrees efficiently, such as obtaining all leafs (i.e. all parameters in a network) or applying a function on each element. We will come back to these structures when training a full network."
      ]
    },
    {
      "cell_type": "markdown",
      "metadata": {
        "id": "QvD59gTzJfrP"
      },
      "source": [
        "### Speeding up computation with Just-In-Time compilation\n",
        "\n",
        "Interestingly, from the previous code cell, you can see in the jaxpr representation of the gradient function that calculating the array `f` and scalar `g` are unnecessary. Intuitively, the gradient of taking the mean is independent of the actual output of the mean, hence we could drop `f` and `g` without any drawback. Finding such cases to improve efficiency and optimizing the code to take full advantage of the available accelerator hardware is one of the big selling points of JAX. It achieves that by *compiling functions just-in-time* with [XLA](https://www.tensorflow.org/xla) (Accelerated Linear Algebra), using their jaxpr representation. Thereby, XLA fuses operations to reduce execution time of short-lived operations and eliminates intermediate storage buffers where not needed. For more details, see the [XLA documentation](https://docs.w3cub.com/tensorflow~guide/performance/xla/index).\n",
        "\n",
        "To compile a function, JAX provides the `jax.jit` transformation. We can either apply the transformation directly on a function (as we will do in the next cell), or use the decorator `@jax.jit` before a function."
      ]
    },
    {
      "cell_type": "code",
      "execution_count": 29,
      "metadata": {
        "id": "xPzfHcemJfrP"
      },
      "outputs": [],
      "source": [
        "jitted_function = jax.jit(simple_graph)"
      ]
    },
    {
      "cell_type": "markdown",
      "metadata": {
        "id": "KyQ7WV2YJfrP"
      },
      "source": [
        "The `jitted_function` takes the same input arguments as the original function `simple_graph`. Since the jaxpr representation of a function depends on the input shape, the compilation is started once we put the first input in. However, note that this also means that for every different shape we want to run the function, a new XLA compilation is needed. This is why it is recommended to use padding in cases where your input shape strongly varies (we revisit this topic in the final section of this tutorial). For now, let's create an array with 1000 random values, on which we apply the jitted function:"
      ]
    },
    {
      "cell_type": "code",
      "execution_count": 30,
      "metadata": {
        "id": "tZftW4iYJfrP"
      },
      "outputs": [],
      "source": [
        "# Create a new random subkey for generating new random values\n",
        "rng, normal_rng = jax.random.split(rng)\n",
        "large_input = jax.random.normal(normal_rng, (1000,))\n",
        "# Run the jitted function once to start compilation\n",
        "_ = jitted_function(large_input)"
      ]
    },
    {
      "cell_type": "markdown",
      "metadata": {
        "id": "iCYQ2pOOJfrP"
      },
      "source": [
        "The output is not any different from what you would get from the non-jitted function. However, how is it about the runtime? Let's time both the original and the jitted function. Due to the asynchronous execution on the GPU, we add `.block_until_ready()` on the output, which blocks the Python execution until the accelerator (here GPU) finished computing the result and hence get an accurate time estimate."
      ]
    },
    {
      "cell_type": "code",
      "execution_count": 31,
      "metadata": {
        "colab": {
          "base_uri": "https://localhost:8080/"
        },
        "id": "vkvFQOlJJfrP",
        "outputId": "beea62b5-3384-472f-c62b-f7b91351a3cc"
      },
      "outputs": [
        {
          "output_type": "stream",
          "name": "stdout",
          "text": [
            "839 µs ± 105 µs per loop (mean ± std. dev. of 7 runs, 1000 loops each)\n"
          ]
        }
      ],
      "source": [
        "%%timeit\n",
        "simple_graph(large_input).block_until_ready()"
      ]
    },
    {
      "cell_type": "code",
      "execution_count": 32,
      "metadata": {
        "colab": {
          "base_uri": "https://localhost:8080/"
        },
        "id": "MzX0sTJXJfrP",
        "outputId": "69af215f-8fe8-4e8e-d16a-0fc693a57683"
      },
      "outputs": [
        {
          "output_type": "stream",
          "name": "stdout",
          "text": [
            "101 µs ± 2.13 µs per loop (mean ± std. dev. of 7 runs, 10000 loops each)\n"
          ]
        }
      ],
      "source": [
        "%%timeit\n",
        "jitted_function(large_input).block_until_ready()"
      ]
    },
    {
      "cell_type": "markdown",
      "metadata": {
        "id": "WJM3WDDfJfrT"
      },
      "source": [
        "We see that the compiled function is almost 10-15x faster! This is quite an improvement in performance, and shows the potential of compiling functions with XLA. Furthermore, we can also apply multiple transformations on the same function in JAX, such as applying `jax.jit` on a gradient function:"
      ]
    },
    {
      "cell_type": "code",
      "execution_count": 33,
      "metadata": {
        "id": "ecjQ3oqHJfrT"
      },
      "outputs": [],
      "source": [
        "jitted_grad_function = jax.jit(grad_function)\n",
        "_ = jitted_grad_function(large_input)  # Apply once to compile"
      ]
    },
    {
      "cell_type": "markdown",
      "metadata": {
        "id": "rfVi5nwdJfrU"
      },
      "source": [
        "Let's time the functions once more:"
      ]
    },
    {
      "cell_type": "code",
      "execution_count": 34,
      "metadata": {
        "colab": {
          "base_uri": "https://localhost:8080/"
        },
        "id": "qRoFaaNUJfrU",
        "outputId": "f088c827-f687-4974-849c-ebf63281f6bf"
      },
      "outputs": [
        {
          "output_type": "stream",
          "name": "stdout",
          "text": [
            "6.48 ms ± 867 µs per loop (mean ± std. dev. of 7 runs, 100 loops each)\n"
          ]
        }
      ],
      "source": [
        "%%timeit\n",
        "grad_function(large_input).block_until_ready()"
      ]
    },
    {
      "cell_type": "code",
      "execution_count": 35,
      "metadata": {
        "colab": {
          "base_uri": "https://localhost:8080/"
        },
        "id": "DZxqrMF4JfrU",
        "outputId": "6019bfe7-d95a-49ef-a3ea-1a5c760af2f9"
      },
      "outputs": [
        {
          "output_type": "stream",
          "name": "stdout",
          "text": [
            "99.5 µs ± 3.63 µs per loop (mean ± std. dev. of 7 runs, 10000 loops each)\n"
          ]
        }
      ],
      "source": [
        "%%timeit\n",
        "jitted_grad_function(large_input).block_until_ready()"
      ]
    },
    {
      "cell_type": "markdown",
      "metadata": {
        "id": "de1vGdm9JfrU"
      },
      "source": [
        "Once more, the jitted function is much faster than the original one. Intuitively, this shows the potential speed up we can gain by using `jax.jit` to compile the whole training step of a network. Generally, we want to jit the largest possible chunk of computation to give the compiler maximum freedom.\n",
        "\n",
        "There are situations in which applying jit to a function is not straight-forward, for instance, if an input argument cannot be traced, or you need to use loops that depend on input arguments. To keep the tutorial simple, and since most neural network training functions do not run into these issues, we do not discuss such special cases here. Instead, we refer to the section on just-in-time compilation in the great tutorials of [JAX 101 Tutorial](https://jax.readthedocs.io/en/latest/jax-101/02-jitting.html), [JAX Quickstart](https://jax.readthedocs.io/en/latest/notebooks/quickstart.html#using-jit-to-speed-up-functions), and [Thinking in JAX](https://jax.readthedocs.io/en/latest/notebooks/thinking_in_jax.html#to-jit-or-not-to-jit)."
      ]
    },
    {
      "cell_type": "markdown",
      "metadata": {
        "id": "FGbx6IEtJfrU"
      },
      "source": [
        "## Implementing a Neural Network with Flax\n",
        "\n",
        "With having reviewed the basics of JAX, we are now ready to implement our own neural network. Technically, we could implement our own neural network from scratch with JAX (see [here](https://jax.readthedocs.io/en/latest/notebooks/Neural_Network_and_Data_Loading.html) for an example), but we do not really want to do that every time. Similarly to PyTorch's `torch.nn` package, there exist neural network libraries based on JAX which provide such basic functionality. A (non-exclusive) collection of them are:\n",
        "\n",
        "* [Flax](https://flax.readthedocs.io/en/latest/index.html), started by the Google Brain Team, focuses on flexibility and clarity.\n",
        "* [Haiku](https://dm-haiku.readthedocs.io/en/latest/), from DeepMind, focuses on simplicity and compositionality.\n",
        "* [Trax](https://github.com/google/trax), maintained by the Google Brain Team, provides solutions for common training tasks\n",
        "* [Equinox](https://github.com/patrick-kidger/equinox), created by Patrick Kidger and Cristian Garcia, implements neural networks as callable PyTrees\n",
        "* [Jraph](https://github.com/deepmind/jraph), from DeepMind, is a graph neural network library (similar to PyTorch Geometric)\n",
        "\n",
        "For this tutorial series, we will use Flax due to its flexibility, intuitive API, and larger community. However, this should not mean that the other libraries are necessarily worse, and we recommend giving them a try as well to find the best library for yourself!\n",
        "\n",
        "We will introduce the libraries and all additional parts you might need to train a neural network in Flax, using a simple example classifier on a simple yet well known example: XOR. Given two binary inputs $x_1$ and $x_2$, the label to predict is $1$ if either $x_1$ or $x_2$ is $1$ while the other is $0$, or the label is $0$ in all other cases. The example became famous by the fact that a single neuron, i.e. a linear classifier, cannot learn this simple function. Hence, we will learn how to build a small neural network that can learn this function.\n",
        "To make it a little bit more interesting, we move the XOR into continuous space and introduce some gaussian noise on the binary inputs. Our desired separation of an XOR dataset could look as follows:\n",
        "\n",
        "<center style=\"width: 100%\"><img src=\"https://github.com/phlippe/uvadlc_notebooks/blob/master/docs/tutorial_notebooks/tutorial2/continuous_xor.svg?raw=1\" width=\"350px\"></center>"
      ]
    },
    {
      "cell_type": "markdown",
      "metadata": {
        "id": "2_f0pfKvJfrU"
      },
      "source": [
        "### The model\n",
        "\n",
        "The package `flax.linen` defines a series of useful classes like linear networks layers, convolutions, activation functions etc. A full list can be found [here](https://flax.readthedocs.io/en/latest/flax.linen.html). In case you need a certain network layer, check the documentation of the package first before writing the layer yourself as the package likely contains the code for it already. We import it below:"
      ]
    },
    {
      "cell_type": "code",
      "execution_count": 36,
      "metadata": {
        "id": "InvuwDCJJfrU"
      },
      "outputs": [],
      "source": [
        "try:\n",
        "    import flax\n",
        "except ModuleNotFoundError: # Install flax if missing\n",
        "    !pip install --quiet flax\n",
        "    import flax\n",
        "\n",
        "from flax import linen as nn"
      ]
    },
    {
      "cell_type": "markdown",
      "metadata": {
        "id": "INkooH-nJfrU"
      },
      "source": [
        "#### nn.Module\n",
        "\n",
        "Similar to PyTorch, a neural network is built up out of modules. Modules can contain other modules, and a neural network is considered to be a module itself as well. The basic template of a module is as follows:"
      ]
    },
    {
      "cell_type": "code",
      "execution_count": 37,
      "metadata": {
        "id": "HcCQvrsPJfrV"
      },
      "outputs": [],
      "source": [
        "class MyModule(nn.Module):\n",
        "    # Some dataclass attributes, like hidden dimension, number of layers, etc. of the form:\n",
        "    # varname : vartype\n",
        "\n",
        "    def setup(self):\n",
        "        # Flax uses \"lazy\" initialization. This function is called once before you\n",
        "        # call the model, or try to access attributes. In here, define your submodules etc.\n",
        "        pass\n",
        "\n",
        "    def __call__(self, x):\n",
        "        # Function for performing the calculation of the module.\n",
        "        pass"
      ]
    },
    {
      "cell_type": "markdown",
      "metadata": {
        "id": "Uul3v_lJJfrV"
      },
      "source": [
        "The main, obvious difference to PyTorch is that Flax uses lazy initialization. The function `setup` is called once on a module instance before any other methods are called, or when you try to access a attribute of *self* defined in setup. Additional object attributes are defined below the class name. However, in contrast to PyTorch, the parameters are not part of the module. Instead, we can create a set of parameters of the module by calling its `init()` function. This function takes as input a PRNG state for sampling pseudo-random numbers and an example input to the model, and returns a set of parameters for the module as a pytree. Further, since the init function requires an input to the network, we can infer the input shape for all modules and do not need to explicitly define it during the module creation. This becomes more clear in the example we show in a second.\n",
        "\n",
        "The `__call__` method represents the `forward` function in PyTorch, and performs the actual computation of the module. It can take additional arguments if needed, like whether we are training or validation."
      ]
    },
    {
      "cell_type": "markdown",
      "metadata": {
        "id": "kHwf4gDsJfrV"
      },
      "source": [
        "#### Simple classifier\n",
        "\n",
        "To get an intuition behind how we work with modules in Flax, let's define our own small neural network. We will use a minimal network with a input layer, one hidden layer with tanh as activation function, and a output layer. In other words, our networks should look something like this:\n",
        "\n",
        "<center width=\"100%\"><img src=\"https://github.com/phlippe/uvadlc_notebooks/blob/master/docs/tutorial_notebooks/tutorial2/small_neural_network.svg?raw=1\" width=\"300px\"></center>\n",
        "\n",
        "The input neurons are shown in blue, which represent the coordinates $x_1$ and $x_2$ of a data point. The hidden neurons including a tanh activation are shown in white, and the output neuron in red.\n",
        "In Flax, we can define this as follows:"
      ]
    },
    {
      "cell_type": "code",
      "execution_count": 38,
      "metadata": {
        "id": "Ro3Idj_VJfrV"
      },
      "outputs": [],
      "source": [
        "class SimpleClassifier(nn.Module):\n",
        "    num_hidden : int   # Number of hidden neurons\n",
        "    num_outputs : int  # Number of output neurons\n",
        "\n",
        "    def setup(self):\n",
        "        # Create the modules we need to build the network\n",
        "        # nn.Dense is a linear layer\n",
        "        self.linear1 = nn.Dense(features=self.num_hidden)\n",
        "        self.linear2 = nn.Dense(features=self.num_outputs)\n",
        "\n",
        "    def __call__(self, x):\n",
        "        # Perform the calculation of the model to determine the prediction\n",
        "        x = self.linear1(x)\n",
        "        x = nn.tanh(x)\n",
        "        x = self.linear2(x)\n",
        "        return x"
      ]
    },
    {
      "cell_type": "markdown",
      "metadata": {
        "id": "O8IvdqndJfrV"
      },
      "source": [
        "One thing you may notice is that usually, all layers that we define in `setup` are also used in the `__call__` function. To reduce the code overhead, Flax provides an alternative, more compact network creation with `nn.compact`. With that, we can remove the setup function and instead our model as:"
      ]
    },
    {
      "cell_type": "code",
      "execution_count": null,
      "metadata": {
        "id": "XuOkQ5F5JfrV"
      },
      "outputs": [],
      "source": [
        "class SimpleClassifierCompact(nn.Module):\n",
        "    num_hidden : int   # Number of hidden neurons\n",
        "    num_outputs : int  # Number of output neurons\n",
        "\n",
        "    @nn.compact  # Tells Flax to look for defined submodules\n",
        "    def __call__(self, x):\n",
        "        # Perform the calculation of the model to determine the prediction\n",
        "        # while defining necessary layers\n",
        "        x = nn.Dense(features=self.num_hidden)(x)\n",
        "        x = nn.tanh(x)\n",
        "        x = nn.Dense(features=self.num_outputs)(x)\n",
        "        return x"
      ]
    },
    {
      "cell_type": "markdown",
      "metadata": {
        "id": "g0WuSbUkJfrV"
      },
      "source": [
        "The `nn.compact` annotation of the `__call__` method signals Flax to look for submodules that we define in the forward pass. These are automatically recognized as such, so that we can use them for initialization etc. Which of the two model definition you use is often up to you (see the [Flax documentation](https://flax.readthedocs.io/en/latest/design_notes/setup_or_nncompact.html) for some pros and cons for both methods). In the following tutorials, we will mostly use the compact version, but occasionally come back to the explicit setup function where necessary. For instance, if we define more functions on a module besides `__call__` and want to reuse some modules, it is recommended to use the setup version."
      ]
    },
    {
      "cell_type": "markdown",
      "metadata": {
        "id": "rNBBzp40JfrV"
      },
      "source": [
        "For the examples in this notebook, we will use a tiny neural network with two input neurons and eight hidden neurons. As we perform binary classification, we will use a single output neuron. Note that we do not apply a sigmoid on the output yet. This is because other functions, especially the loss, are more efficient and precise to calculate on the original outputs instead of the sigmoid output. We will discuss the detailed reason later.\n",
        "\n",
        "Now, let's create an instance of this network:"
      ]
    },
    {
      "cell_type": "code",
      "execution_count": 39,
      "metadata": {
        "colab": {
          "base_uri": "https://localhost:8080/"
        },
        "id": "TfQUggqQJfrV",
        "outputId": "6b3e28b5-0da2-45cb-ae96-f80fa31b3a7d"
      },
      "outputs": [
        {
          "output_type": "stream",
          "name": "stdout",
          "text": [
            "SimpleClassifier(\n",
            "    # attributes\n",
            "    num_hidden = 8\n",
            "    num_outputs = 1\n",
            ")\n"
          ]
        }
      ],
      "source": [
        "model = SimpleClassifier(num_hidden=8, num_outputs=1)\n",
        "# Printing the model shows its attributes\n",
        "print(model)"
      ]
    },
    {
      "cell_type": "markdown",
      "metadata": {
        "id": "jA6fsui6JfrZ"
      },
      "source": [
        "At this stage, the model has no parameters initialized. To do this, let's create a random input of our dataset, and apply the init function:"
      ]
    },
    {
      "cell_type": "code",
      "execution_count": 40,
      "metadata": {
        "colab": {
          "base_uri": "https://localhost:8080/"
        },
        "id": "uAetL6KZJfrZ",
        "outputId": "f1f8b183-81e8-44f2-d27d-df889ab73056"
      },
      "outputs": [
        {
          "output_type": "stream",
          "name": "stdout",
          "text": [
            "{'params': {'linear1': {'kernel': Array([[ 0.31476855, -0.46477693, -0.7862043 , -0.48842615, -0.65373844,\n",
            "         0.38925457,  0.30380553,  0.04179859],\n",
            "       [-0.3298236 ,  1.1110365 ,  0.5490939 , -0.8168818 ,  0.40057254,\n",
            "        -0.86659884,  1.2087965 ,  1.0364623 ]], dtype=float32), 'bias': Array([0., 0., 0., 0., 0., 0., 0., 0.], dtype=float32)}, 'linear2': {'kernel': Array([[-0.27971816],\n",
            "       [-0.74667764],\n",
            "       [ 0.2979161 ],\n",
            "       [-0.2626724 ],\n",
            "       [-0.5084385 ],\n",
            "       [ 0.04573096],\n",
            "       [-0.47257012],\n",
            "       [ 0.504585  ]], dtype=float32), 'bias': Array([0.], dtype=float32)}}}\n"
          ]
        }
      ],
      "source": [
        "rng, inp_rng, init_rng = jax.random.split(rng, 3)\n",
        "inp = jax.random.normal(inp_rng, (8, 2))  # Batch size 8, input size 2\n",
        "# Initialize the model\n",
        "params = model.init(init_rng, inp)\n",
        "print(params)"
      ]
    },
    {
      "cell_type": "markdown",
      "metadata": {
        "id": "Mr_gEUTLJfrb"
      },
      "source": [
        "Now, we have parameters with which we can apply the network. We see that the parameters follow the same structure as defined in our module, and each linear layer contains one `kernel`, i.e. the weights, and a bias parameter. With this, we could apply the model on an input using the `apply` function:"
      ]
    },
    {
      "cell_type": "code",
      "execution_count": 41,
      "metadata": {
        "colab": {
          "base_uri": "https://localhost:8080/"
        },
        "id": "HQq0MbC7Jfrb",
        "outputId": "0d0b0854-370d-48a5-d0cf-119b28696bf9"
      },
      "outputs": [
        {
          "output_type": "execute_result",
          "data": {
            "text/plain": [
              "Array([[-0.48368227],\n",
              "       [ 0.04365468],\n",
              "       [ 0.0666853 ],\n",
              "       [-0.34203658],\n",
              "       [ 0.48351493],\n",
              "       [ 0.3742488 ],\n",
              "       [ 0.14232664],\n",
              "       [-0.5916515 ]], dtype=float32)"
            ]
          },
          "metadata": {},
          "execution_count": 41
        }
      ],
      "source": [
        "model.apply(params, inp)"
      ]
    },
    {
      "cell_type": "markdown",
      "metadata": {
        "id": "vx4rZp6cJfrd"
      },
      "source": [
        "The model returns an output array of shape `[8,1]`, which corresponds to the one output neuron in the model for all 8 batch elements. With that, we now know how to initialize a model, and run a model. Next, let's look at the data."
      ]
    },
    {
      "cell_type": "markdown",
      "metadata": {
        "id": "ssJpQW9YJfrd"
      },
      "source": [
        "### The data\n",
        "\n",
        "As mentioned before, JAX is not meant to 'reinvent the wheel' for every part of the deep learning pipeline. Hence, JAX and Flax do not natively provide a data loading functionality, but instead refer to other available libraries like Tensorflow and PyTorch. Here, let's use again the package `torch.utils.data` library."
      ]
    },
    {
      "cell_type": "code",
      "execution_count": 42,
      "metadata": {
        "id": "fzWKzjMbJfrd"
      },
      "outputs": [],
      "source": [
        "import torch.utils.data as data"
      ]
    },
    {
      "cell_type": "markdown",
      "metadata": {
        "id": "zljL9UPeJfre"
      },
      "source": [
        "The data package defines two classes which are the standard interface for handling data in PyTorch: `data.Dataset`, and `data.DataLoader`. The dataset class provides an uniform interface to access the training/test data, while the data loader makes sure to efficiently load and stack the data points from the dataset into batches during training."
      ]
    },
    {
      "cell_type": "markdown",
      "metadata": {
        "id": "AO6_QR9tJfre"
      },
      "source": [
        "#### The dataset class\n",
        "\n",
        "The dataset class summarizes the basic functionality of a dataset in a natural way. To define a dataset in PyTorch, we simply specify two functions: `__getitem__`, and `__len__`. The get-item function has to return the $i$-th data point in the dataset, while the len function returns the size of the dataset. For the XOR dataset, we can define the dataset class as follows:"
      ]
    },
    {
      "cell_type": "code",
      "execution_count": 43,
      "metadata": {
        "id": "0DPaypruJfre"
      },
      "outputs": [],
      "source": [
        "class XORDataset(data.Dataset):\n",
        "\n",
        "    def __init__(self, size, seed, std=0.1):\n",
        "        \"\"\"\n",
        "        Inputs:\n",
        "            size - Number of data points we want to generate\n",
        "            seed - The seed to use to create the PRNG state with which we want to generate the data points\n",
        "            std - Standard deviation of the noise (see generate_continuous_xor function)\n",
        "        \"\"\"\n",
        "        super().__init__()\n",
        "        self.size = size\n",
        "        self.np_rng = np.random.RandomState(seed=seed)\n",
        "        self.std = std\n",
        "        self.generate_continuous_xor()\n",
        "\n",
        "    def generate_continuous_xor(self):\n",
        "        # Each data point in the XOR dataset has two variables, x and y, that can be either 0 or 1\n",
        "        # The label is their XOR combination, i.e. 1 if only x or only y is 1 while the other is 0.\n",
        "        # If x=y, the label is 0.\n",
        "        data = self.np_rng.randint(low=0, high=2, size=(self.size, 2)).astype(np.float32)\n",
        "        label = (data.sum(axis=1) == 1).astype(np.int32)\n",
        "        # To make it slightly more challenging, we add a bit of gaussian noise to the data points.\n",
        "        data += self.np_rng.normal(loc=0.0, scale=self.std, size=data.shape)\n",
        "\n",
        "        self.data = data\n",
        "        self.label = label\n",
        "\n",
        "    def __len__(self):\n",
        "        # Number of data point we have. Alternatively self.data.shape[0], or self.label.shape[0]\n",
        "        return self.size\n",
        "\n",
        "    def __getitem__(self, idx):\n",
        "        # Return the idx-th data point of the dataset\n",
        "        # If we have multiple things to return (data point and label), we can return them as tuple\n",
        "        data_point = self.data[idx]\n",
        "        data_label = self.label[idx]\n",
        "        return data_point, data_label"
      ]
    },
    {
      "cell_type": "markdown",
      "metadata": {
        "id": "oxIO4kRrJfre"
      },
      "source": [
        "Note that in contrast to our [PyTorch tutorial](https://uvadlc-notebooks.readthedocs.io/en/latest/tutorial_notebooks/tutorial2/Introduction_to_PyTorch.html#The-data), we use NumPy to generate the random data. Similar to JAX, NumPy also allows the pseudo-number generation based on a PRNG state. Hence, for better reproducibility, we are doing the same here. Let's try to create such a dataset and inspect it:"
      ]
    },
    {
      "cell_type": "code",
      "execution_count": 44,
      "metadata": {
        "colab": {
          "base_uri": "https://localhost:8080/"
        },
        "id": "8DyXMlHfJfre",
        "outputId": "6ab4368e-31db-4995-d534-51e0d55d2573"
      },
      "outputs": [
        {
          "output_type": "stream",
          "name": "stdout",
          "text": [
            "Size of dataset: 200\n",
            "Data point 0: (array([-0.06800247,  1.0232254 ], dtype=float32), 1)\n"
          ]
        }
      ],
      "source": [
        "dataset = XORDataset(size=200, seed=42)\n",
        "print(\"Size of dataset:\", len(dataset))\n",
        "print(\"Data point 0:\", dataset[0])"
      ]
    },
    {
      "cell_type": "markdown",
      "metadata": {
        "id": "-Ef1nRjwJfre"
      },
      "source": [
        "To better relate to the dataset, we visualize the samples below."
      ]
    },
    {
      "cell_type": "code",
      "execution_count": 45,
      "metadata": {
        "id": "647TY3ciJfre"
      },
      "outputs": [],
      "source": [
        "def visualize_samples(data, label):\n",
        "    data_0 = data[label == 0]\n",
        "    data_1 = data[label == 1]\n",
        "\n",
        "    plt.figure(figsize=(4,4))\n",
        "    plt.scatter(data_0[:,0], data_0[:,1], edgecolor=\"#333\", label=\"Class 0\")\n",
        "    plt.scatter(data_1[:,0], data_1[:,1], edgecolor=\"#333\", label=\"Class 1\")\n",
        "    plt.title(\"Dataset samples\")\n",
        "    plt.ylabel(r\"$x_2$\")\n",
        "    plt.xlabel(r\"$x_1$\")\n",
        "    plt.legend()"
      ]
    },
    {
      "cell_type": "code",
      "execution_count": 46,
      "metadata": {
        "colab": {
          "base_uri": "https://localhost:8080/",
          "height": 425
        },
        "id": "PwcKMUW4Jfre",
        "outputId": "c15a33ff-27e5-4aa1-b034-4ba72986e032"
      },
      "outputs": [
        {
          "output_type": "display_data",
          "data": {
            "text/plain": [
              "<Figure size 400x400 with 1 Axes>"
            ],
            "image/svg+xml": "<?xml version=\"1.0\" encoding=\"utf-8\" standalone=\"no\"?>\n<!DOCTYPE svg PUBLIC \"-//W3C//DTD SVG 1.1//EN\"\n  \"http://www.w3.org/Graphics/SVG/1.1/DTD/svg11.dtd\">\n<svg xmlns:xlink=\"http://www.w3.org/1999/xlink\" width=\"289.424844pt\" height=\"287.037813pt\" viewBox=\"0 0 289.424844 287.037813\" xmlns=\"http://www.w3.org/2000/svg\" version=\"1.1\">\n <metadata>\n  <rdf:RDF xmlns:dc=\"http://purl.org/dc/elements/1.1/\" xmlns:cc=\"http://creativecommons.org/ns#\" xmlns:rdf=\"http://www.w3.org/1999/02/22-rdf-syntax-ns#\">\n   <cc:Work>\n    <dc:type rdf:resource=\"http://purl.org/dc/dcmitype/StillImage\"/>\n    <dc:date>2024-12-15T17:40:29.804696</dc:date>\n    <dc:format>image/svg+xml</dc:format>\n    <dc:creator>\n     <cc:Agent>\n      <dc:title>Matplotlib v3.8.0, https://matplotlib.org/</dc:title>\n     </cc:Agent>\n    </dc:creator>\n   </cc:Work>\n  </rdf:RDF>\n </metadata>\n <defs>\n  <style type=\"text/css\">*{stroke-linejoin: round; stroke-linecap: butt}</style>\n </defs>\n <g id=\"figure_1\">\n  <g id=\"patch_1\">\n   <path d=\"M 0 287.037813 \nL 289.424844 287.037813 \nL 289.424844 0 \nL 0 0 \nz\n\" style=\"fill: #ffffff\"/>\n  </g>\n  <g id=\"axes_1\">\n   <g id=\"patch_2\">\n    <path d=\"M 59.024844 244.078125 \nL 282.224844 244.078125 \nL 282.224844 22.318125 \nL 59.024844 22.318125 \nz\n\" style=\"fill: #eaeaf2\"/>\n   </g>\n   <g id=\"matplotlib.axis_1\">\n    <g id=\"xtick_1\">\n     <g id=\"line2d_1\">\n      <path d=\"M 98.338694 244.078125 \nL 98.338694 22.318125 \n\" clip-path=\"url(#p778be245ae)\" style=\"fill: none; stroke: #ffffff; stroke-linecap: round\"/>\n     </g>\n     <g id=\"text_1\">\n      <!-- 0.0 -->\n      <g style=\"fill: #262626\" transform=\"translate(89.591975 261.936406) scale(0.11 -0.11)\">\n       <defs>\n        <path id=\"DejaVuSans-30\" d=\"M 2034 4250 \nQ 1547 4250 1301 3770 \nQ 1056 3291 1056 2328 \nQ 1056 1369 1301 889 \nQ 1547 409 2034 409 \nQ 2525 409 2770 889 \nQ 3016 1369 3016 2328 \nQ 3016 3291 2770 3770 \nQ 2525 4250 2034 4250 \nz\nM 2034 4750 \nQ 2819 4750 3233 4129 \nQ 3647 3509 3647 2328 \nQ 3647 1150 3233 529 \nQ 2819 -91 2034 -91 \nQ 1250 -91 836 529 \nQ 422 1150 422 2328 \nQ 422 3509 836 4129 \nQ 1250 4750 2034 4750 \nz\n\" transform=\"scale(0.015625)\"/>\n        <path id=\"DejaVuSans-2e\" d=\"M 684 794 \nL 1344 794 \nL 1344 0 \nL 684 0 \nL 684 794 \nz\n\" transform=\"scale(0.015625)\"/>\n       </defs>\n       <use xlink:href=\"#DejaVuSans-30\"/>\n       <use xlink:href=\"#DejaVuSans-2e\" x=\"63.623047\"/>\n       <use xlink:href=\"#DejaVuSans-30\" x=\"95.410156\"/>\n      </g>\n     </g>\n    </g>\n    <g id=\"xtick_2\">\n     <g id=\"line2d_2\">\n      <path d=\"M 168.880926 244.078125 \nL 168.880926 22.318125 \n\" clip-path=\"url(#p778be245ae)\" style=\"fill: none; stroke: #ffffff; stroke-linecap: round\"/>\n     </g>\n     <g id=\"text_2\">\n      <!-- 0.5 -->\n      <g style=\"fill: #262626\" transform=\"translate(160.134208 261.936406) scale(0.11 -0.11)\">\n       <defs>\n        <path id=\"DejaVuSans-35\" d=\"M 691 4666 \nL 3169 4666 \nL 3169 4134 \nL 1269 4134 \nL 1269 2991 \nQ 1406 3038 1543 3061 \nQ 1681 3084 1819 3084 \nQ 2600 3084 3056 2656 \nQ 3513 2228 3513 1497 \nQ 3513 744 3044 326 \nQ 2575 -91 1722 -91 \nQ 1428 -91 1123 -41 \nQ 819 9 494 109 \nL 494 744 \nQ 775 591 1075 516 \nQ 1375 441 1709 441 \nQ 2250 441 2565 725 \nQ 2881 1009 2881 1497 \nQ 2881 1984 2565 2268 \nQ 2250 2553 1709 2553 \nQ 1456 2553 1204 2497 \nQ 953 2441 691 2322 \nL 691 4666 \nz\n\" transform=\"scale(0.015625)\"/>\n       </defs>\n       <use xlink:href=\"#DejaVuSans-30\"/>\n       <use xlink:href=\"#DejaVuSans-2e\" x=\"63.623047\"/>\n       <use xlink:href=\"#DejaVuSans-35\" x=\"95.410156\"/>\n      </g>\n     </g>\n    </g>\n    <g id=\"xtick_3\">\n     <g id=\"line2d_3\">\n      <path d=\"M 239.423158 244.078125 \nL 239.423158 22.318125 \n\" clip-path=\"url(#p778be245ae)\" style=\"fill: none; stroke: #ffffff; stroke-linecap: round\"/>\n     </g>\n     <g id=\"text_3\">\n      <!-- 1.0 -->\n      <g style=\"fill: #262626\" transform=\"translate(230.67644 261.936406) scale(0.11 -0.11)\">\n       <defs>\n        <path id=\"DejaVuSans-31\" d=\"M 794 531 \nL 1825 531 \nL 1825 4091 \nL 703 3866 \nL 703 4441 \nL 1819 4666 \nL 2450 4666 \nL 2450 531 \nL 3481 531 \nL 3481 0 \nL 794 0 \nL 794 531 \nz\n\" transform=\"scale(0.015625)\"/>\n       </defs>\n       <use xlink:href=\"#DejaVuSans-31\"/>\n       <use xlink:href=\"#DejaVuSans-2e\" x=\"63.623047\"/>\n       <use xlink:href=\"#DejaVuSans-30\" x=\"95.410156\"/>\n      </g>\n     </g>\n    </g>\n    <g id=\"text_4\">\n     <!-- $x_1$ -->\n     <g style=\"fill: #262626\" transform=\"translate(164.204844 277.342188) scale(0.12 -0.12)\">\n      <defs>\n       <path id=\"DejaVuSans-Oblique-78\" d=\"M 3841 3500 \nL 2234 1784 \nL 3219 0 \nL 2559 0 \nL 1819 1388 \nL 531 0 \nL -166 0 \nL 1556 1844 \nL 641 3500 \nL 1300 3500 \nL 1972 2234 \nL 3144 3500 \nL 3841 3500 \nz\n\" transform=\"scale(0.015625)\"/>\n      </defs>\n      <use xlink:href=\"#DejaVuSans-Oblique-78\" transform=\"translate(0 0.3125)\"/>\n      <use xlink:href=\"#DejaVuSans-31\" transform=\"translate(59.179688 -16.09375) scale(0.7)\"/>\n     </g>\n    </g>\n   </g>\n   <g id=\"matplotlib.axis_2\">\n    <g id=\"ytick_1\">\n     <g id=\"line2d_4\">\n      <path d=\"M 59.024844 234.65645 \nL 282.224844 234.65645 \n\" clip-path=\"url(#p778be245ae)\" style=\"fill: none; stroke: #ffffff; stroke-linecap: round\"/>\n     </g>\n     <g id=\"text_5\">\n      <!-- −0.2 -->\n      <g style=\"fill: #262626\" transform=\"translate(22.81375 238.835591) scale(0.11 -0.11)\">\n       <defs>\n        <path id=\"DejaVuSans-2212\" d=\"M 678 2272 \nL 4684 2272 \nL 4684 1741 \nL 678 1741 \nL 678 2272 \nz\n\" transform=\"scale(0.015625)\"/>\n        <path id=\"DejaVuSans-32\" d=\"M 1228 531 \nL 3431 531 \nL 3431 0 \nL 469 0 \nL 469 531 \nQ 828 903 1448 1529 \nQ 2069 2156 2228 2338 \nQ 2531 2678 2651 2914 \nQ 2772 3150 2772 3378 \nQ 2772 3750 2511 3984 \nQ 2250 4219 1831 4219 \nQ 1534 4219 1204 4116 \nQ 875 4013 500 3803 \nL 500 4441 \nQ 881 4594 1212 4672 \nQ 1544 4750 1819 4750 \nQ 2544 4750 2975 4387 \nQ 3406 4025 3406 3419 \nQ 3406 3131 3298 2873 \nQ 3191 2616 2906 2266 \nQ 2828 2175 2409 1742 \nQ 1991 1309 1228 531 \nz\n\" transform=\"scale(0.015625)\"/>\n       </defs>\n       <use xlink:href=\"#DejaVuSans-2212\"/>\n       <use xlink:href=\"#DejaVuSans-30\" x=\"83.789062\"/>\n       <use xlink:href=\"#DejaVuSans-2e\" x=\"147.412109\"/>\n       <use xlink:href=\"#DejaVuSans-32\" x=\"179.199219\"/>\n      </g>\n     </g>\n    </g>\n    <g id=\"ytick_2\">\n     <g id=\"line2d_5\">\n      <path d=\"M 59.024844 207.176015 \nL 282.224844 207.176015 \n\" clip-path=\"url(#p778be245ae)\" style=\"fill: none; stroke: #ffffff; stroke-linecap: round\"/>\n     </g>\n     <g id=\"text_6\">\n      <!-- 0.0 -->\n      <g style=\"fill: #262626\" transform=\"translate(32.031406 211.355155) scale(0.11 -0.11)\">\n       <use xlink:href=\"#DejaVuSans-30\"/>\n       <use xlink:href=\"#DejaVuSans-2e\" x=\"63.623047\"/>\n       <use xlink:href=\"#DejaVuSans-30\" x=\"95.410156\"/>\n      </g>\n     </g>\n    </g>\n    <g id=\"ytick_3\">\n     <g id=\"line2d_6\">\n      <path d=\"M 59.024844 179.695579 \nL 282.224844 179.695579 \n\" clip-path=\"url(#p778be245ae)\" style=\"fill: none; stroke: #ffffff; stroke-linecap: round\"/>\n     </g>\n     <g id=\"text_7\">\n      <!-- 0.2 -->\n      <g style=\"fill: #262626\" transform=\"translate(32.031406 183.87472) scale(0.11 -0.11)\">\n       <use xlink:href=\"#DejaVuSans-30\"/>\n       <use xlink:href=\"#DejaVuSans-2e\" x=\"63.623047\"/>\n       <use xlink:href=\"#DejaVuSans-32\" x=\"95.410156\"/>\n      </g>\n     </g>\n    </g>\n    <g id=\"ytick_4\">\n     <g id=\"line2d_7\">\n      <path d=\"M 59.024844 152.215144 \nL 282.224844 152.215144 \n\" clip-path=\"url(#p778be245ae)\" style=\"fill: none; stroke: #ffffff; stroke-linecap: round\"/>\n     </g>\n     <g id=\"text_8\">\n      <!-- 0.4 -->\n      <g style=\"fill: #262626\" transform=\"translate(32.031406 156.394284) scale(0.11 -0.11)\">\n       <defs>\n        <path id=\"DejaVuSans-34\" d=\"M 2419 4116 \nL 825 1625 \nL 2419 1625 \nL 2419 4116 \nz\nM 2253 4666 \nL 3047 4666 \nL 3047 1625 \nL 3713 1625 \nL 3713 1100 \nL 3047 1100 \nL 3047 0 \nL 2419 0 \nL 2419 1100 \nL 313 1100 \nL 313 1709 \nL 2253 4666 \nz\n\" transform=\"scale(0.015625)\"/>\n       </defs>\n       <use xlink:href=\"#DejaVuSans-30\"/>\n       <use xlink:href=\"#DejaVuSans-2e\" x=\"63.623047\"/>\n       <use xlink:href=\"#DejaVuSans-34\" x=\"95.410156\"/>\n      </g>\n     </g>\n    </g>\n    <g id=\"ytick_5\">\n     <g id=\"line2d_8\">\n      <path d=\"M 59.024844 124.734708 \nL 282.224844 124.734708 \n\" clip-path=\"url(#p778be245ae)\" style=\"fill: none; stroke: #ffffff; stroke-linecap: round\"/>\n     </g>\n     <g id=\"text_9\">\n      <!-- 0.6 -->\n      <g style=\"fill: #262626\" transform=\"translate(32.031406 128.913849) scale(0.11 -0.11)\">\n       <defs>\n        <path id=\"DejaVuSans-36\" d=\"M 2113 2584 \nQ 1688 2584 1439 2293 \nQ 1191 2003 1191 1497 \nQ 1191 994 1439 701 \nQ 1688 409 2113 409 \nQ 2538 409 2786 701 \nQ 3034 994 3034 1497 \nQ 3034 2003 2786 2293 \nQ 2538 2584 2113 2584 \nz\nM 3366 4563 \nL 3366 3988 \nQ 3128 4100 2886 4159 \nQ 2644 4219 2406 4219 \nQ 1781 4219 1451 3797 \nQ 1122 3375 1075 2522 \nQ 1259 2794 1537 2939 \nQ 1816 3084 2150 3084 \nQ 2853 3084 3261 2657 \nQ 3669 2231 3669 1497 \nQ 3669 778 3244 343 \nQ 2819 -91 2113 -91 \nQ 1303 -91 875 529 \nQ 447 1150 447 2328 \nQ 447 3434 972 4092 \nQ 1497 4750 2381 4750 \nQ 2619 4750 2861 4703 \nQ 3103 4656 3366 4563 \nz\n\" transform=\"scale(0.015625)\"/>\n       </defs>\n       <use xlink:href=\"#DejaVuSans-30\"/>\n       <use xlink:href=\"#DejaVuSans-2e\" x=\"63.623047\"/>\n       <use xlink:href=\"#DejaVuSans-36\" x=\"95.410156\"/>\n      </g>\n     </g>\n    </g>\n    <g id=\"ytick_6\">\n     <g id=\"line2d_9\">\n      <path d=\"M 59.024844 97.254273 \nL 282.224844 97.254273 \n\" clip-path=\"url(#p778be245ae)\" style=\"fill: none; stroke: #ffffff; stroke-linecap: round\"/>\n     </g>\n     <g id=\"text_10\">\n      <!-- 0.8 -->\n      <g style=\"fill: #262626\" transform=\"translate(32.031406 101.433413) scale(0.11 -0.11)\">\n       <defs>\n        <path id=\"DejaVuSans-38\" d=\"M 2034 2216 \nQ 1584 2216 1326 1975 \nQ 1069 1734 1069 1313 \nQ 1069 891 1326 650 \nQ 1584 409 2034 409 \nQ 2484 409 2743 651 \nQ 3003 894 3003 1313 \nQ 3003 1734 2745 1975 \nQ 2488 2216 2034 2216 \nz\nM 1403 2484 \nQ 997 2584 770 2862 \nQ 544 3141 544 3541 \nQ 544 4100 942 4425 \nQ 1341 4750 2034 4750 \nQ 2731 4750 3128 4425 \nQ 3525 4100 3525 3541 \nQ 3525 3141 3298 2862 \nQ 3072 2584 2669 2484 \nQ 3125 2378 3379 2068 \nQ 3634 1759 3634 1313 \nQ 3634 634 3220 271 \nQ 2806 -91 2034 -91 \nQ 1263 -91 848 271 \nQ 434 634 434 1313 \nQ 434 1759 690 2068 \nQ 947 2378 1403 2484 \nz\nM 1172 3481 \nQ 1172 3119 1398 2916 \nQ 1625 2713 2034 2713 \nQ 2441 2713 2670 2916 \nQ 2900 3119 2900 3481 \nQ 2900 3844 2670 4047 \nQ 2441 4250 2034 4250 \nQ 1625 4250 1398 4047 \nQ 1172 3844 1172 3481 \nz\n\" transform=\"scale(0.015625)\"/>\n       </defs>\n       <use xlink:href=\"#DejaVuSans-30\"/>\n       <use xlink:href=\"#DejaVuSans-2e\" x=\"63.623047\"/>\n       <use xlink:href=\"#DejaVuSans-38\" x=\"95.410156\"/>\n      </g>\n     </g>\n    </g>\n    <g id=\"ytick_7\">\n     <g id=\"line2d_10\">\n      <path d=\"M 59.024844 69.773837 \nL 282.224844 69.773837 \n\" clip-path=\"url(#p778be245ae)\" style=\"fill: none; stroke: #ffffff; stroke-linecap: round\"/>\n     </g>\n     <g id=\"text_11\">\n      <!-- 1.0 -->\n      <g style=\"fill: #262626\" transform=\"translate(32.031406 73.952978) scale(0.11 -0.11)\">\n       <use xlink:href=\"#DejaVuSans-31\"/>\n       <use xlink:href=\"#DejaVuSans-2e\" x=\"63.623047\"/>\n       <use xlink:href=\"#DejaVuSans-30\" x=\"95.410156\"/>\n      </g>\n     </g>\n    </g>\n    <g id=\"ytick_8\">\n     <g id=\"line2d_11\">\n      <path d=\"M 59.024844 42.293402 \nL 282.224844 42.293402 \n\" clip-path=\"url(#p778be245ae)\" style=\"fill: none; stroke: #ffffff; stroke-linecap: round\"/>\n     </g>\n     <g id=\"text_12\">\n      <!-- 1.2 -->\n      <g style=\"fill: #262626\" transform=\"translate(32.031406 46.472542) scale(0.11 -0.11)\">\n       <use xlink:href=\"#DejaVuSans-31\"/>\n       <use xlink:href=\"#DejaVuSans-2e\" x=\"63.623047\"/>\n       <use xlink:href=\"#DejaVuSans-32\" x=\"95.410156\"/>\n      </g>\n     </g>\n    </g>\n    <g id=\"text_13\">\n     <!-- $x_2$ -->\n     <g style=\"fill: #262626\" transform=\"translate(16.318125 139.618125) rotate(-90) scale(0.12 -0.12)\">\n      <use xlink:href=\"#DejaVuSans-Oblique-78\" transform=\"translate(0 0.3125)\"/>\n      <use xlink:href=\"#DejaVuSans-32\" transform=\"translate(59.179688 -16.09375) scale(0.7)\"/>\n     </g>\n    </g>\n   </g>\n   <g id=\"PathCollection_1\">\n    <defs>\n     <path id=\"m5ef3c247e4\" d=\"M 0 3 \nC 0.795609 3 1.55874 2.683901 2.12132 2.12132 \nC 2.683901 1.55874 3 0.795609 3 0 \nC 3 -0.795609 2.683901 -1.55874 2.12132 -2.12132 \nC 1.55874 -2.683901 0.795609 -3 0 -3 \nC -0.795609 -3 -1.55874 -2.683901 -2.12132 -2.12132 \nC -2.683901 -1.55874 -3 -0.795609 -3 0 \nC -3 0.795609 -2.683901 1.55874 -2.12132 2.12132 \nC -1.55874 2.683901 -0.795609 3 0 3 \nz\n\" style=\"stroke: #333333\"/>\n    </defs>\n    <g clip-path=\"url(#p778be245ae)\">\n     <use xlink:href=\"#m5ef3c247e4\" x=\"102.473492\" y=\"216.991358\" style=\"fill: #4c72b0; stroke: #333333\"/>\n     <use xlink:href=\"#m5ef3c247e4\" x=\"81.531253\" y=\"198.154825\" style=\"fill: #4c72b0; stroke: #333333\"/>\n     <use xlink:href=\"#m5ef3c247e4\" x=\"114.684678\" y=\"218.452369\" style=\"fill: #4c72b0; stroke: #333333\"/>\n     <use xlink:href=\"#m5ef3c247e4\" x=\"111.930435\" y=\"201.504315\" style=\"fill: #4c72b0; stroke: #333333\"/>\n     <use xlink:href=\"#m5ef3c247e4\" x=\"235.961113\" y=\"80.130332\" style=\"fill: #4c72b0; stroke: #333333\"/>\n     <use xlink:href=\"#m5ef3c247e4\" x=\"243.326835\" y=\"58.408153\" style=\"fill: #4c72b0; stroke: #333333\"/>\n     <use xlink:href=\"#m5ef3c247e4\" x=\"239.606599\" y=\"49.801958\" style=\"fill: #4c72b0; stroke: #333333\"/>\n     <use xlink:href=\"#m5ef3c247e4\" x=\"235.689266\" y=\"32.398125\" style=\"fill: #4c72b0; stroke: #333333\"/>\n     <use xlink:href=\"#m5ef3c247e4\" x=\"248.250356\" y=\"81.551371\" style=\"fill: #4c72b0; stroke: #333333\"/>\n     <use xlink:href=\"#m5ef3c247e4\" x=\"83.230065\" y=\"200.546739\" style=\"fill: #4c72b0; stroke: #333333\"/>\n     <use xlink:href=\"#m5ef3c247e4\" x=\"236.270449\" y=\"59.963315\" style=\"fill: #4c72b0; stroke: #333333\"/>\n     <use xlink:href=\"#m5ef3c247e4\" x=\"92.039062\" y=\"195.408909\" style=\"fill: #4c72b0; stroke: #333333\"/>\n     <use xlink:href=\"#m5ef3c247e4\" x=\"101.359224\" y=\"224.292737\" style=\"fill: #4c72b0; stroke: #333333\"/>\n     <use xlink:href=\"#m5ef3c247e4\" x=\"241.866478\" y=\"64.479487\" style=\"fill: #4c72b0; stroke: #333333\"/>\n     <use xlink:href=\"#m5ef3c247e4\" x=\"226.953301\" y=\"67.66162\" style=\"fill: #4c72b0; stroke: #333333\"/>\n     <use xlink:href=\"#m5ef3c247e4\" x=\"244.470986\" y=\"62.068538\" style=\"fill: #4c72b0; stroke: #333333\"/>\n     <use xlink:href=\"#m5ef3c247e4\" x=\"106.393072\" y=\"191.573095\" style=\"fill: #4c72b0; stroke: #333333\"/>\n     <use xlink:href=\"#m5ef3c247e4\" x=\"111.798177\" y=\"198.225757\" style=\"fill: #4c72b0; stroke: #333333\"/>\n     <use xlink:href=\"#m5ef3c247e4\" x=\"93.890735\" y=\"196.747613\" style=\"fill: #4c72b0; stroke: #333333\"/>\n     <use xlink:href=\"#m5ef3c247e4\" x=\"272.079389\" y=\"95.430466\" style=\"fill: #4c72b0; stroke: #333333\"/>\n     <use xlink:href=\"#m5ef3c247e4\" x=\"249.105227\" y=\"91.932902\" style=\"fill: #4c72b0; stroke: #333333\"/>\n     <use xlink:href=\"#m5ef3c247e4\" x=\"229.331339\" y=\"60.436015\" style=\"fill: #4c72b0; stroke: #333333\"/>\n     <use xlink:href=\"#m5ef3c247e4\" x=\"69.767078\" y=\"204.614092\" style=\"fill: #4c72b0; stroke: #333333\"/>\n     <use xlink:href=\"#m5ef3c247e4\" x=\"228.241923\" y=\"71.350342\" style=\"fill: #4c72b0; stroke: #333333\"/>\n     <use xlink:href=\"#m5ef3c247e4\" x=\"246.547744\" y=\"57.878174\" style=\"fill: #4c72b0; stroke: #333333\"/>\n     <use xlink:href=\"#m5ef3c247e4\" x=\"222.488843\" y=\"74.369957\" style=\"fill: #4c72b0; stroke: #333333\"/>\n     <use xlink:href=\"#m5ef3c247e4\" x=\"232.722418\" y=\"78.750727\" style=\"fill: #4c72b0; stroke: #333333\"/>\n     <use xlink:href=\"#m5ef3c247e4\" x=\"264.330969\" y=\"64.209305\" style=\"fill: #4c72b0; stroke: #333333\"/>\n     <use xlink:href=\"#m5ef3c247e4\" x=\"217.987207\" y=\"76.427319\" style=\"fill: #4c72b0; stroke: #333333\"/>\n     <use xlink:href=\"#m5ef3c247e4\" x=\"257.297305\" y=\"79.497367\" style=\"fill: #4c72b0; stroke: #333333\"/>\n     <use xlink:href=\"#m5ef3c247e4\" x=\"245.684766\" y=\"59.130199\" style=\"fill: #4c72b0; stroke: #333333\"/>\n     <use xlink:href=\"#m5ef3c247e4\" x=\"235.859815\" y=\"86.918651\" style=\"fill: #4c72b0; stroke: #333333\"/>\n     <use xlink:href=\"#m5ef3c247e4\" x=\"241.024708\" y=\"60.676025\" style=\"fill: #4c72b0; stroke: #333333\"/>\n     <use xlink:href=\"#m5ef3c247e4\" x=\"128.432482\" y=\"233.998125\" style=\"fill: #4c72b0; stroke: #333333\"/>\n     <use xlink:href=\"#m5ef3c247e4\" x=\"96.197242\" y=\"199.092408\" style=\"fill: #4c72b0; stroke: #333333\"/>\n     <use xlink:href=\"#m5ef3c247e4\" x=\"102.303053\" y=\"215.732042\" style=\"fill: #4c72b0; stroke: #333333\"/>\n     <use xlink:href=\"#m5ef3c247e4\" x=\"95.402413\" y=\"213.949955\" style=\"fill: #4c72b0; stroke: #333333\"/>\n     <use xlink:href=\"#m5ef3c247e4\" x=\"244.460087\" y=\"79.294563\" style=\"fill: #4c72b0; stroke: #333333\"/>\n     <use xlink:href=\"#m5ef3c247e4\" x=\"109.806916\" y=\"198.524777\" style=\"fill: #4c72b0; stroke: #333333\"/>\n     <use xlink:href=\"#m5ef3c247e4\" x=\"108.881846\" y=\"198.789394\" style=\"fill: #4c72b0; stroke: #333333\"/>\n     <use xlink:href=\"#m5ef3c247e4\" x=\"98.043805\" y=\"205.563911\" style=\"fill: #4c72b0; stroke: #333333\"/>\n     <use xlink:href=\"#m5ef3c247e4\" x=\"109.984037\" y=\"195.998214\" style=\"fill: #4c72b0; stroke: #333333\"/>\n     <use xlink:href=\"#m5ef3c247e4\" x=\"257.841436\" y=\"69.485245\" style=\"fill: #4c72b0; stroke: #333333\"/>\n     <use xlink:href=\"#m5ef3c247e4\" x=\"255.762307\" y=\"58.896216\" style=\"fill: #4c72b0; stroke: #333333\"/>\n     <use xlink:href=\"#m5ef3c247e4\" x=\"107.144055\" y=\"198.54241\" style=\"fill: #4c72b0; stroke: #333333\"/>\n     <use xlink:href=\"#m5ef3c247e4\" x=\"98.165911\" y=\"219.504485\" style=\"fill: #4c72b0; stroke: #333333\"/>\n     <use xlink:href=\"#m5ef3c247e4\" x=\"99.408179\" y=\"216.480364\" style=\"fill: #4c72b0; stroke: #333333\"/>\n     <use xlink:href=\"#m5ef3c247e4\" x=\"86.692211\" y=\"211.591926\" style=\"fill: #4c72b0; stroke: #333333\"/>\n     <use xlink:href=\"#m5ef3c247e4\" x=\"101.794792\" y=\"214.141524\" style=\"fill: #4c72b0; stroke: #333333\"/>\n     <use xlink:href=\"#m5ef3c247e4\" x=\"91.693076\" y=\"203.987598\" style=\"fill: #4c72b0; stroke: #333333\"/>\n     <use xlink:href=\"#m5ef3c247e4\" x=\"229.28703\" y=\"72.706648\" style=\"fill: #4c72b0; stroke: #333333\"/>\n     <use xlink:href=\"#m5ef3c247e4\" x=\"102.725117\" y=\"186.904299\" style=\"fill: #4c72b0; stroke: #333333\"/>\n     <use xlink:href=\"#m5ef3c247e4\" x=\"98.070405\" y=\"220.950986\" style=\"fill: #4c72b0; stroke: #333333\"/>\n     <use xlink:href=\"#m5ef3c247e4\" x=\"243.976217\" y=\"81.140168\" style=\"fill: #4c72b0; stroke: #333333\"/>\n     <use xlink:href=\"#m5ef3c247e4\" x=\"96.804258\" y=\"201.656408\" style=\"fill: #4c72b0; stroke: #333333\"/>\n     <use xlink:href=\"#m5ef3c247e4\" x=\"108.075554\" y=\"212.688871\" style=\"fill: #4c72b0; stroke: #333333\"/>\n     <use xlink:href=\"#m5ef3c247e4\" x=\"101.500291\" y=\"207.002992\" style=\"fill: #4c72b0; stroke: #333333\"/>\n     <use xlink:href=\"#m5ef3c247e4\" x=\"118.812076\" y=\"193.995425\" style=\"fill: #4c72b0; stroke: #333333\"/>\n     <use xlink:href=\"#m5ef3c247e4\" x=\"269.801212\" y=\"80.317363\" style=\"fill: #4c72b0; stroke: #333333\"/>\n     <use xlink:href=\"#m5ef3c247e4\" x=\"251.730254\" y=\"67.254685\" style=\"fill: #4c72b0; stroke: #333333\"/>\n     <use xlink:href=\"#m5ef3c247e4\" x=\"86.491523\" y=\"215.4118\" style=\"fill: #4c72b0; stroke: #333333\"/>\n     <use xlink:href=\"#m5ef3c247e4\" x=\"209.458287\" y=\"76.997829\" style=\"fill: #4c72b0; stroke: #333333\"/>\n     <use xlink:href=\"#m5ef3c247e4\" x=\"228.712978\" y=\"67.707401\" style=\"fill: #4c72b0; stroke: #333333\"/>\n     <use xlink:href=\"#m5ef3c247e4\" x=\"244.24481\" y=\"43.994844\" style=\"fill: #4c72b0; stroke: #333333\"/>\n     <use xlink:href=\"#m5ef3c247e4\" x=\"252.832157\" y=\"77.700621\" style=\"fill: #4c72b0; stroke: #333333\"/>\n     <use xlink:href=\"#m5ef3c247e4\" x=\"96.722715\" y=\"190.168149\" style=\"fill: #4c72b0; stroke: #333333\"/>\n     <use xlink:href=\"#m5ef3c247e4\" x=\"75.843797\" y=\"215.411558\" style=\"fill: #4c72b0; stroke: #333333\"/>\n     <use xlink:href=\"#m5ef3c247e4\" x=\"83.276228\" y=\"209.13234\" style=\"fill: #4c72b0; stroke: #333333\"/>\n     <use xlink:href=\"#m5ef3c247e4\" x=\"103.027129\" y=\"217.460382\" style=\"fill: #4c72b0; stroke: #333333\"/>\n     <use xlink:href=\"#m5ef3c247e4\" x=\"256.061207\" y=\"68.846112\" style=\"fill: #4c72b0; stroke: #333333\"/>\n     <use xlink:href=\"#m5ef3c247e4\" x=\"127.412645\" y=\"183.057249\" style=\"fill: #4c72b0; stroke: #333333\"/>\n     <use xlink:href=\"#m5ef3c247e4\" x=\"235.910657\" y=\"56.424237\" style=\"fill: #4c72b0; stroke: #333333\"/>\n     <use xlink:href=\"#m5ef3c247e4\" x=\"248.528417\" y=\"50.968547\" style=\"fill: #4c72b0; stroke: #333333\"/>\n     <use xlink:href=\"#m5ef3c247e4\" x=\"235.622244\" y=\"59.914651\" style=\"fill: #4c72b0; stroke: #333333\"/>\n     <use xlink:href=\"#m5ef3c247e4\" x=\"74.306614\" y=\"207.939252\" style=\"fill: #4c72b0; stroke: #333333\"/>\n     <use xlink:href=\"#m5ef3c247e4\" x=\"69.170298\" y=\"208.400543\" style=\"fill: #4c72b0; stroke: #333333\"/>\n     <use xlink:href=\"#m5ef3c247e4\" x=\"244.595292\" y=\"82.687993\" style=\"fill: #4c72b0; stroke: #333333\"/>\n     <use xlink:href=\"#m5ef3c247e4\" x=\"84.431631\" y=\"200.250305\" style=\"fill: #4c72b0; stroke: #333333\"/>\n     <use xlink:href=\"#m5ef3c247e4\" x=\"231.61203\" y=\"86.232943\" style=\"fill: #4c72b0; stroke: #333333\"/>\n     <use xlink:href=\"#m5ef3c247e4\" x=\"267.14238\" y=\"69.289312\" style=\"fill: #4c72b0; stroke: #333333\"/>\n     <use xlink:href=\"#m5ef3c247e4\" x=\"90.854147\" y=\"215.087882\" style=\"fill: #4c72b0; stroke: #333333\"/>\n     <use xlink:href=\"#m5ef3c247e4\" x=\"262.631098\" y=\"73.195645\" style=\"fill: #4c72b0; stroke: #333333\"/>\n     <use xlink:href=\"#m5ef3c247e4\" x=\"247.557481\" y=\"65.497185\" style=\"fill: #4c72b0; stroke: #333333\"/>\n     <use xlink:href=\"#m5ef3c247e4\" x=\"141.776921\" y=\"191.792812\" style=\"fill: #4c72b0; stroke: #333333\"/>\n     <use xlink:href=\"#m5ef3c247e4\" x=\"237.618441\" y=\"82.903172\" style=\"fill: #4c72b0; stroke: #333333\"/>\n     <use xlink:href=\"#m5ef3c247e4\" x=\"75.674232\" y=\"204.38038\" style=\"fill: #4c72b0; stroke: #333333\"/>\n     <use xlink:href=\"#m5ef3c247e4\" x=\"230.301022\" y=\"84.634538\" style=\"fill: #4c72b0; stroke: #333333\"/>\n     <use xlink:href=\"#m5ef3c247e4\" x=\"122.141642\" y=\"195.062092\" style=\"fill: #4c72b0; stroke: #333333\"/>\n     <use xlink:href=\"#m5ef3c247e4\" x=\"239.310676\" y=\"49.439084\" style=\"fill: #4c72b0; stroke: #333333\"/>\n     <use xlink:href=\"#m5ef3c247e4\" x=\"83.704763\" y=\"209.791309\" style=\"fill: #4c72b0; stroke: #333333\"/>\n     <use xlink:href=\"#m5ef3c247e4\" x=\"240.107725\" y=\"81.191273\" style=\"fill: #4c72b0; stroke: #333333\"/>\n     <use xlink:href=\"#m5ef3c247e4\" x=\"102.15442\" y=\"207.866297\" style=\"fill: #4c72b0; stroke: #333333\"/>\n     <use xlink:href=\"#m5ef3c247e4\" x=\"105.405857\" y=\"220.607836\" style=\"fill: #4c72b0; stroke: #333333\"/>\n     <use xlink:href=\"#m5ef3c247e4\" x=\"240.824583\" y=\"59.449618\" style=\"fill: #4c72b0; stroke: #333333\"/>\n     <use xlink:href=\"#m5ef3c247e4\" x=\"74.78598\" y=\"199.710127\" style=\"fill: #4c72b0; stroke: #333333\"/>\n     <use xlink:href=\"#m5ef3c247e4\" x=\"230.074568\" y=\"61.933685\" style=\"fill: #4c72b0; stroke: #333333\"/>\n     <use xlink:href=\"#m5ef3c247e4\" x=\"228.654761\" y=\"94.573313\" style=\"fill: #4c72b0; stroke: #333333\"/>\n     <use xlink:href=\"#m5ef3c247e4\" x=\"238.490871\" y=\"86.413463\" style=\"fill: #4c72b0; stroke: #333333\"/>\n     <use xlink:href=\"#m5ef3c247e4\" x=\"112.535922\" y=\"215.102634\" style=\"fill: #4c72b0; stroke: #333333\"/>\n     <use xlink:href=\"#m5ef3c247e4\" x=\"110.129012\" y=\"222.698433\" style=\"fill: #4c72b0; stroke: #333333\"/>\n     <use xlink:href=\"#m5ef3c247e4\" x=\"105.813408\" y=\"187.368548\" style=\"fill: #4c72b0; stroke: #333333\"/>\n     <use xlink:href=\"#m5ef3c247e4\" x=\"204.552098\" y=\"80.723348\" style=\"fill: #4c72b0; stroke: #333333\"/>\n     <use xlink:href=\"#m5ef3c247e4\" x=\"244.659455\" y=\"78.072725\" style=\"fill: #4c72b0; stroke: #333333\"/>\n    </g>\n   </g>\n   <g id=\"PathCollection_2\">\n    <defs>\n     <path id=\"mc14d1410bd\" d=\"M 0 3 \nC 0.795609 3 1.55874 2.683901 2.12132 2.12132 \nC 2.683901 1.55874 3 0.795609 3 0 \nC 3 -0.795609 2.683901 -1.55874 2.12132 -2.12132 \nC 1.55874 -2.683901 0.795609 -3 0 -3 \nC -0.795609 -3 -1.55874 -2.683901 -2.12132 -2.12132 \nC -2.683901 -1.55874 -3 -0.795609 -3 0 \nC -3 0.795609 -2.683901 1.55874 -2.12132 2.12132 \nC -1.55874 2.683901 -0.795609 3 0 3 \nz\n\" style=\"stroke: #333333\"/>\n    </defs>\n    <g clip-path=\"url(#p778be245ae)\">\n     <use xlink:href=\"#mc14d1410bd\" x=\"88.744602\" y=\"66.582613\" style=\"fill: #dd8452; stroke: #333333\"/>\n     <use xlink:href=\"#mc14d1410bd\" x=\"124.661874\" y=\"63.263267\" style=\"fill: #dd8452; stroke: #333333\"/>\n     <use xlink:href=\"#mc14d1410bd\" x=\"84.58745\" y=\"58.95913\" style=\"fill: #dd8452; stroke: #333333\"/>\n     <use xlink:href=\"#mc14d1410bd\" x=\"251.021149\" y=\"181.113666\" style=\"fill: #dd8452; stroke: #333333\"/>\n     <use xlink:href=\"#mc14d1410bd\" x=\"226.873488\" y=\"218.385425\" style=\"fill: #dd8452; stroke: #333333\"/>\n     <use xlink:href=\"#mc14d1410bd\" x=\"238.335375\" y=\"202.488512\" style=\"fill: #dd8452; stroke: #333333\"/>\n     <use xlink:href=\"#mc14d1410bd\" x=\"246.099798\" y=\"208.1767\" style=\"fill: #dd8452; stroke: #333333\"/>\n     <use xlink:href=\"#mc14d1410bd\" x=\"227.476216\" y=\"227.990346\" style=\"fill: #dd8452; stroke: #333333\"/>\n     <use xlink:href=\"#mc14d1410bd\" x=\"240.244393\" y=\"222.880676\" style=\"fill: #dd8452; stroke: #333333\"/>\n     <use xlink:href=\"#mc14d1410bd\" x=\"113.618865\" y=\"55.294371\" style=\"fill: #dd8452; stroke: #333333\"/>\n     <use xlink:href=\"#mc14d1410bd\" x=\"78.901919\" y=\"82.659755\" style=\"fill: #dd8452; stroke: #333333\"/>\n     <use xlink:href=\"#mc14d1410bd\" x=\"105.605042\" y=\"62.714304\" style=\"fill: #dd8452; stroke: #333333\"/>\n     <use xlink:href=\"#mc14d1410bd\" x=\"246.689676\" y=\"154.238644\" style=\"fill: #dd8452; stroke: #333333\"/>\n     <use xlink:href=\"#mc14d1410bd\" x=\"87.435332\" y=\"73.027779\" style=\"fill: #dd8452; stroke: #333333\"/>\n     <use xlink:href=\"#mc14d1410bd\" x=\"232.575432\" y=\"206.051046\" style=\"fill: #dd8452; stroke: #333333\"/>\n     <use xlink:href=\"#mc14d1410bd\" x=\"91.680469\" y=\"54.811418\" style=\"fill: #dd8452; stroke: #333333\"/>\n     <use xlink:href=\"#mc14d1410bd\" x=\"99.245585\" y=\"84.582287\" style=\"fill: #dd8452; stroke: #333333\"/>\n     <use xlink:href=\"#mc14d1410bd\" x=\"88.034356\" y=\"66.799643\" style=\"fill: #dd8452; stroke: #333333\"/>\n     <use xlink:href=\"#mc14d1410bd\" x=\"98.981642\" y=\"78.726968\" style=\"fill: #dd8452; stroke: #333333\"/>\n     <use xlink:href=\"#mc14d1410bd\" x=\"128.586414\" y=\"61.063649\" style=\"fill: #dd8452; stroke: #333333\"/>\n     <use xlink:href=\"#mc14d1410bd\" x=\"230.086383\" y=\"195.463394\" style=\"fill: #dd8452; stroke: #333333\"/>\n     <use xlink:href=\"#mc14d1410bd\" x=\"221.634047\" y=\"194.564391\" style=\"fill: #dd8452; stroke: #333333\"/>\n     <use xlink:href=\"#mc14d1410bd\" x=\"128.279021\" y=\"55.587534\" style=\"fill: #dd8452; stroke: #333333\"/>\n     <use xlink:href=\"#mc14d1410bd\" x=\"226.345612\" y=\"207.993906\" style=\"fill: #dd8452; stroke: #333333\"/>\n     <use xlink:href=\"#mc14d1410bd\" x=\"193.693914\" y=\"221.251324\" style=\"fill: #dd8452; stroke: #333333\"/>\n     <use xlink:href=\"#mc14d1410bd\" x=\"121.369482\" y=\"89.42429\" style=\"fill: #dd8452; stroke: #333333\"/>\n     <use xlink:href=\"#mc14d1410bd\" x=\"92.13035\" y=\"67.977435\" style=\"fill: #dd8452; stroke: #333333\"/>\n     <use xlink:href=\"#mc14d1410bd\" x=\"259.757291\" y=\"226.905074\" style=\"fill: #dd8452; stroke: #333333\"/>\n     <use xlink:href=\"#mc14d1410bd\" x=\"255.833584\" y=\"207.03541\" style=\"fill: #dd8452; stroke: #333333\"/>\n     <use xlink:href=\"#mc14d1410bd\" x=\"225.575598\" y=\"200.826612\" style=\"fill: #dd8452; stroke: #333333\"/>\n     <use xlink:href=\"#mc14d1410bd\" x=\"101.147117\" y=\"78.020949\" style=\"fill: #dd8452; stroke: #333333\"/>\n     <use xlink:href=\"#mc14d1410bd\" x=\"240.407954\" y=\"212.470307\" style=\"fill: #dd8452; stroke: #333333\"/>\n     <use xlink:href=\"#mc14d1410bd\" x=\"261.799386\" y=\"224.183869\" style=\"fill: #dd8452; stroke: #333333\"/>\n     <use xlink:href=\"#mc14d1410bd\" x=\"231.108137\" y=\"195.502297\" style=\"fill: #dd8452; stroke: #333333\"/>\n     <use xlink:href=\"#mc14d1410bd\" x=\"252.115114\" y=\"202.953652\" style=\"fill: #dd8452; stroke: #333333\"/>\n     <use xlink:href=\"#mc14d1410bd\" x=\"86.642862\" y=\"77.470848\" style=\"fill: #dd8452; stroke: #333333\"/>\n     <use xlink:href=\"#mc14d1410bd\" x=\"116.364561\" y=\"77.902156\" style=\"fill: #dd8452; stroke: #333333\"/>\n     <use xlink:href=\"#mc14d1410bd\" x=\"106.057388\" y=\"72.552008\" style=\"fill: #dd8452; stroke: #333333\"/>\n     <use xlink:href=\"#mc14d1410bd\" x=\"95.267551\" y=\"54.676401\" style=\"fill: #dd8452; stroke: #333333\"/>\n     <use xlink:href=\"#mc14d1410bd\" x=\"249.044462\" y=\"211.439147\" style=\"fill: #dd8452; stroke: #333333\"/>\n     <use xlink:href=\"#mc14d1410bd\" x=\"243.996635\" y=\"208.964208\" style=\"fill: #dd8452; stroke: #333333\"/>\n     <use xlink:href=\"#mc14d1410bd\" x=\"99.707157\" y=\"61.596248\" style=\"fill: #dd8452; stroke: #333333\"/>\n     <use xlink:href=\"#mc14d1410bd\" x=\"227.879332\" y=\"178.426158\" style=\"fill: #dd8452; stroke: #333333\"/>\n     <use xlink:href=\"#mc14d1410bd\" x=\"84.145352\" y=\"86.457049\" style=\"fill: #dd8452; stroke: #333333\"/>\n     <use xlink:href=\"#mc14d1410bd\" x=\"253.180588\" y=\"209.196615\" style=\"fill: #dd8452; stroke: #333333\"/>\n     <use xlink:href=\"#mc14d1410bd\" x=\"245.24898\" y=\"214.921713\" style=\"fill: #dd8452; stroke: #333333\"/>\n     <use xlink:href=\"#mc14d1410bd\" x=\"86.738442\" y=\"66.425516\" style=\"fill: #dd8452; stroke: #333333\"/>\n     <use xlink:href=\"#mc14d1410bd\" x=\"77.908473\" y=\"89.112693\" style=\"fill: #dd8452; stroke: #333333\"/>\n     <use xlink:href=\"#mc14d1410bd\" x=\"110.43894\" y=\"71.971425\" style=\"fill: #dd8452; stroke: #333333\"/>\n     <use xlink:href=\"#mc14d1410bd\" x=\"239.161966\" y=\"211.142247\" style=\"fill: #dd8452; stroke: #333333\"/>\n     <use xlink:href=\"#mc14d1410bd\" x=\"246.750324\" y=\"186.115848\" style=\"fill: #dd8452; stroke: #333333\"/>\n     <use xlink:href=\"#mc14d1410bd\" x=\"240.801222\" y=\"217.797338\" style=\"fill: #dd8452; stroke: #333333\"/>\n     <use xlink:href=\"#mc14d1410bd\" x=\"239.768965\" y=\"200.333409\" style=\"fill: #dd8452; stroke: #333333\"/>\n     <use xlink:href=\"#mc14d1410bd\" x=\"129.233412\" y=\"80.880027\" style=\"fill: #dd8452; stroke: #333333\"/>\n     <use xlink:href=\"#mc14d1410bd\" x=\"85.663459\" y=\"63.014756\" style=\"fill: #dd8452; stroke: #333333\"/>\n     <use xlink:href=\"#mc14d1410bd\" x=\"220.796717\" y=\"182.011372\" style=\"fill: #dd8452; stroke: #333333\"/>\n     <use xlink:href=\"#mc14d1410bd\" x=\"256.063225\" y=\"213.62259\" style=\"fill: #dd8452; stroke: #333333\"/>\n     <use xlink:href=\"#mc14d1410bd\" x=\"74.169028\" y=\"51.171343\" style=\"fill: #dd8452; stroke: #333333\"/>\n     <use xlink:href=\"#mc14d1410bd\" x=\"239.497143\" y=\"206.530491\" style=\"fill: #dd8452; stroke: #333333\"/>\n     <use xlink:href=\"#mc14d1410bd\" x=\"233.07343\" y=\"198.617921\" style=\"fill: #dd8452; stroke: #333333\"/>\n     <use xlink:href=\"#mc14d1410bd\" x=\"100.035879\" y=\"62.705328\" style=\"fill: #dd8452; stroke: #333333\"/>\n     <use xlink:href=\"#mc14d1410bd\" x=\"249.462942\" y=\"222.628842\" style=\"fill: #dd8452; stroke: #333333\"/>\n     <use xlink:href=\"#mc14d1410bd\" x=\"76.694727\" y=\"52.218279\" style=\"fill: #dd8452; stroke: #333333\"/>\n     <use xlink:href=\"#mc14d1410bd\" x=\"120.223039\" y=\"68.184441\" style=\"fill: #dd8452; stroke: #333333\"/>\n     <use xlink:href=\"#mc14d1410bd\" x=\"84.725124\" y=\"60.347335\" style=\"fill: #dd8452; stroke: #333333\"/>\n     <use xlink:href=\"#mc14d1410bd\" x=\"113.271419\" y=\"93.939299\" style=\"fill: #dd8452; stroke: #333333\"/>\n     <use xlink:href=\"#mc14d1410bd\" x=\"81.644755\" y=\"97.793332\" style=\"fill: #dd8452; stroke: #333333\"/>\n     <use xlink:href=\"#mc14d1410bd\" x=\"260.619075\" y=\"206.157936\" style=\"fill: #dd8452; stroke: #333333\"/>\n     <use xlink:href=\"#mc14d1410bd\" x=\"262.400398\" y=\"226.138909\" style=\"fill: #dd8452; stroke: #333333\"/>\n     <use xlink:href=\"#mc14d1410bd\" x=\"103.757261\" y=\"70.223073\" style=\"fill: #dd8452; stroke: #333333\"/>\n     <use xlink:href=\"#mc14d1410bd\" x=\"79.934655\" y=\"60.572391\" style=\"fill: #dd8452; stroke: #333333\"/>\n     <use xlink:href=\"#mc14d1410bd\" x=\"232.173291\" y=\"221.729839\" style=\"fill: #dd8452; stroke: #333333\"/>\n     <use xlink:href=\"#mc14d1410bd\" x=\"97.45439\" y=\"56.649981\" style=\"fill: #dd8452; stroke: #333333\"/>\n     <use xlink:href=\"#mc14d1410bd\" x=\"90.857583\" y=\"80.668083\" style=\"fill: #dd8452; stroke: #333333\"/>\n     <use xlink:href=\"#mc14d1410bd\" x=\"237.913128\" y=\"221.400469\" style=\"fill: #dd8452; stroke: #333333\"/>\n     <use xlink:href=\"#mc14d1410bd\" x=\"229.551115\" y=\"204.235884\" style=\"fill: #dd8452; stroke: #333333\"/>\n     <use xlink:href=\"#mc14d1410bd\" x=\"237.838386\" y=\"210.212185\" style=\"fill: #dd8452; stroke: #333333\"/>\n     <use xlink:href=\"#mc14d1410bd\" x=\"107.003632\" y=\"59.365508\" style=\"fill: #dd8452; stroke: #333333\"/>\n     <use xlink:href=\"#mc14d1410bd\" x=\"94.458142\" y=\"101.402736\" style=\"fill: #dd8452; stroke: #333333\"/>\n     <use xlink:href=\"#mc14d1410bd\" x=\"218.046165\" y=\"188.394864\" style=\"fill: #dd8452; stroke: #333333\"/>\n     <use xlink:href=\"#mc14d1410bd\" x=\"228.752224\" y=\"226.71809\" style=\"fill: #dd8452; stroke: #333333\"/>\n     <use xlink:href=\"#mc14d1410bd\" x=\"99.430241\" y=\"81.608069\" style=\"fill: #dd8452; stroke: #333333\"/>\n     <use xlink:href=\"#mc14d1410bd\" x=\"119.827609\" y=\"62.369088\" style=\"fill: #dd8452; stroke: #333333\"/>\n     <use xlink:href=\"#mc14d1410bd\" x=\"85.985081\" y=\"88.773807\" style=\"fill: #dd8452; stroke: #333333\"/>\n     <use xlink:href=\"#mc14d1410bd\" x=\"252.490084\" y=\"180.940214\" style=\"fill: #dd8452; stroke: #333333\"/>\n     <use xlink:href=\"#mc14d1410bd\" x=\"219.691543\" y=\"199.440695\" style=\"fill: #dd8452; stroke: #333333\"/>\n     <use xlink:href=\"#mc14d1410bd\" x=\"89.159138\" y=\"76.467048\" style=\"fill: #dd8452; stroke: #333333\"/>\n     <use xlink:href=\"#mc14d1410bd\" x=\"231.065401\" y=\"219.047436\" style=\"fill: #dd8452; stroke: #333333\"/>\n     <use xlink:href=\"#mc14d1410bd\" x=\"236.051975\" y=\"219.646137\" style=\"fill: #dd8452; stroke: #333333\"/>\n     <use xlink:href=\"#mc14d1410bd\" x=\"90.201347\" y=\"59.394599\" style=\"fill: #dd8452; stroke: #333333\"/>\n     <use xlink:href=\"#mc14d1410bd\" x=\"75.3766\" y=\"69.113132\" style=\"fill: #dd8452; stroke: #333333\"/>\n     <use xlink:href=\"#mc14d1410bd\" x=\"243.087439\" y=\"219.601522\" style=\"fill: #dd8452; stroke: #333333\"/>\n     <use xlink:href=\"#mc14d1410bd\" x=\"248.432703\" y=\"230.005661\" style=\"fill: #dd8452; stroke: #333333\"/>\n     <use xlink:href=\"#mc14d1410bd\" x=\"230.22676\" y=\"206.524746\" style=\"fill: #dd8452; stroke: #333333\"/>\n     <use xlink:href=\"#mc14d1410bd\" x=\"86.199598\" y=\"75.057713\" style=\"fill: #dd8452; stroke: #333333\"/>\n     <use xlink:href=\"#mc14d1410bd\" x=\"106.480285\" y=\"72.563728\" style=\"fill: #dd8452; stroke: #333333\"/>\n     <use xlink:href=\"#mc14d1410bd\" x=\"240.64481\" y=\"209.315054\" style=\"fill: #dd8452; stroke: #333333\"/>\n    </g>\n   </g>\n   <g id=\"patch_3\">\n    <path d=\"M 59.024844 244.078125 \nL 59.024844 22.318125 \n\" style=\"fill: none; stroke: #ffffff; stroke-width: 1.25; stroke-linejoin: miter; stroke-linecap: square\"/>\n   </g>\n   <g id=\"patch_4\">\n    <path d=\"M 282.224844 244.078125 \nL 282.224844 22.318125 \n\" style=\"fill: none; stroke: #ffffff; stroke-width: 1.25; stroke-linejoin: miter; stroke-linecap: square\"/>\n   </g>\n   <g id=\"patch_5\">\n    <path d=\"M 59.024844 244.078125 \nL 282.224844 244.078125 \n\" style=\"fill: none; stroke: #ffffff; stroke-width: 1.25; stroke-linejoin: miter; stroke-linecap: square\"/>\n   </g>\n   <g id=\"patch_6\">\n    <path d=\"M 59.024844 22.318125 \nL 282.224844 22.318125 \n\" style=\"fill: none; stroke: #ffffff; stroke-width: 1.25; stroke-linejoin: miter; stroke-linecap: square\"/>\n   </g>\n   <g id=\"text_14\">\n    <!-- Dataset samples -->\n    <g style=\"fill: #262626\" transform=\"translate(120.282031 16.318125) scale(0.12 -0.12)\">\n     <defs>\n      <path id=\"DejaVuSans-44\" d=\"M 1259 4147 \nL 1259 519 \nL 2022 519 \nQ 2988 519 3436 956 \nQ 3884 1394 3884 2338 \nQ 3884 3275 3436 3711 \nQ 2988 4147 2022 4147 \nL 1259 4147 \nz\nM 628 4666 \nL 1925 4666 \nQ 3281 4666 3915 4102 \nQ 4550 3538 4550 2338 \nQ 4550 1131 3912 565 \nQ 3275 0 1925 0 \nL 628 0 \nL 628 4666 \nz\n\" transform=\"scale(0.015625)\"/>\n      <path id=\"DejaVuSans-61\" d=\"M 2194 1759 \nQ 1497 1759 1228 1600 \nQ 959 1441 959 1056 \nQ 959 750 1161 570 \nQ 1363 391 1709 391 \nQ 2188 391 2477 730 \nQ 2766 1069 2766 1631 \nL 2766 1759 \nL 2194 1759 \nz\nM 3341 1997 \nL 3341 0 \nL 2766 0 \nL 2766 531 \nQ 2569 213 2275 61 \nQ 1981 -91 1556 -91 \nQ 1019 -91 701 211 \nQ 384 513 384 1019 \nQ 384 1609 779 1909 \nQ 1175 2209 1959 2209 \nL 2766 2209 \nL 2766 2266 \nQ 2766 2663 2505 2880 \nQ 2244 3097 1772 3097 \nQ 1472 3097 1187 3025 \nQ 903 2953 641 2809 \nL 641 3341 \nQ 956 3463 1253 3523 \nQ 1550 3584 1831 3584 \nQ 2591 3584 2966 3190 \nQ 3341 2797 3341 1997 \nz\n\" transform=\"scale(0.015625)\"/>\n      <path id=\"DejaVuSans-74\" d=\"M 1172 4494 \nL 1172 3500 \nL 2356 3500 \nL 2356 3053 \nL 1172 3053 \nL 1172 1153 \nQ 1172 725 1289 603 \nQ 1406 481 1766 481 \nL 2356 481 \nL 2356 0 \nL 1766 0 \nQ 1100 0 847 248 \nQ 594 497 594 1153 \nL 594 3053 \nL 172 3053 \nL 172 3500 \nL 594 3500 \nL 594 4494 \nL 1172 4494 \nz\n\" transform=\"scale(0.015625)\"/>\n      <path id=\"DejaVuSans-73\" d=\"M 2834 3397 \nL 2834 2853 \nQ 2591 2978 2328 3040 \nQ 2066 3103 1784 3103 \nQ 1356 3103 1142 2972 \nQ 928 2841 928 2578 \nQ 928 2378 1081 2264 \nQ 1234 2150 1697 2047 \nL 1894 2003 \nQ 2506 1872 2764 1633 \nQ 3022 1394 3022 966 \nQ 3022 478 2636 193 \nQ 2250 -91 1575 -91 \nQ 1294 -91 989 -36 \nQ 684 19 347 128 \nL 347 722 \nQ 666 556 975 473 \nQ 1284 391 1588 391 \nQ 1994 391 2212 530 \nQ 2431 669 2431 922 \nQ 2431 1156 2273 1281 \nQ 2116 1406 1581 1522 \nL 1381 1569 \nQ 847 1681 609 1914 \nQ 372 2147 372 2553 \nQ 372 3047 722 3315 \nQ 1072 3584 1716 3584 \nQ 2034 3584 2315 3537 \nQ 2597 3491 2834 3397 \nz\n\" transform=\"scale(0.015625)\"/>\n      <path id=\"DejaVuSans-65\" d=\"M 3597 1894 \nL 3597 1613 \nL 953 1613 \nQ 991 1019 1311 708 \nQ 1631 397 2203 397 \nQ 2534 397 2845 478 \nQ 3156 559 3463 722 \nL 3463 178 \nQ 3153 47 2828 -22 \nQ 2503 -91 2169 -91 \nQ 1331 -91 842 396 \nQ 353 884 353 1716 \nQ 353 2575 817 3079 \nQ 1281 3584 2069 3584 \nQ 2775 3584 3186 3129 \nQ 3597 2675 3597 1894 \nz\nM 3022 2063 \nQ 3016 2534 2758 2815 \nQ 2500 3097 2075 3097 \nQ 1594 3097 1305 2825 \nQ 1016 2553 972 2059 \nL 3022 2063 \nz\n\" transform=\"scale(0.015625)\"/>\n      <path id=\"DejaVuSans-20\" transform=\"scale(0.015625)\"/>\n      <path id=\"DejaVuSans-6d\" d=\"M 3328 2828 \nQ 3544 3216 3844 3400 \nQ 4144 3584 4550 3584 \nQ 5097 3584 5394 3201 \nQ 5691 2819 5691 2113 \nL 5691 0 \nL 5113 0 \nL 5113 2094 \nQ 5113 2597 4934 2840 \nQ 4756 3084 4391 3084 \nQ 3944 3084 3684 2787 \nQ 3425 2491 3425 1978 \nL 3425 0 \nL 2847 0 \nL 2847 2094 \nQ 2847 2600 2669 2842 \nQ 2491 3084 2119 3084 \nQ 1678 3084 1418 2786 \nQ 1159 2488 1159 1978 \nL 1159 0 \nL 581 0 \nL 581 3500 \nL 1159 3500 \nL 1159 2956 \nQ 1356 3278 1631 3431 \nQ 1906 3584 2284 3584 \nQ 2666 3584 2933 3390 \nQ 3200 3197 3328 2828 \nz\n\" transform=\"scale(0.015625)\"/>\n      <path id=\"DejaVuSans-70\" d=\"M 1159 525 \nL 1159 -1331 \nL 581 -1331 \nL 581 3500 \nL 1159 3500 \nL 1159 2969 \nQ 1341 3281 1617 3432 \nQ 1894 3584 2278 3584 \nQ 2916 3584 3314 3078 \nQ 3713 2572 3713 1747 \nQ 3713 922 3314 415 \nQ 2916 -91 2278 -91 \nQ 1894 -91 1617 61 \nQ 1341 213 1159 525 \nz\nM 3116 1747 \nQ 3116 2381 2855 2742 \nQ 2594 3103 2138 3103 \nQ 1681 3103 1420 2742 \nQ 1159 2381 1159 1747 \nQ 1159 1113 1420 752 \nQ 1681 391 2138 391 \nQ 2594 391 2855 752 \nQ 3116 1113 3116 1747 \nz\n\" transform=\"scale(0.015625)\"/>\n      <path id=\"DejaVuSans-6c\" d=\"M 603 4863 \nL 1178 4863 \nL 1178 0 \nL 603 0 \nL 603 4863 \nz\n\" transform=\"scale(0.015625)\"/>\n     </defs>\n     <use xlink:href=\"#DejaVuSans-44\"/>\n     <use xlink:href=\"#DejaVuSans-61\" x=\"77.001953\"/>\n     <use xlink:href=\"#DejaVuSans-74\" x=\"138.28125\"/>\n     <use xlink:href=\"#DejaVuSans-61\" x=\"177.490234\"/>\n     <use xlink:href=\"#DejaVuSans-73\" x=\"238.769531\"/>\n     <use xlink:href=\"#DejaVuSans-65\" x=\"290.869141\"/>\n     <use xlink:href=\"#DejaVuSans-74\" x=\"352.392578\"/>\n     <use xlink:href=\"#DejaVuSans-20\" x=\"391.601562\"/>\n     <use xlink:href=\"#DejaVuSans-73\" x=\"423.388672\"/>\n     <use xlink:href=\"#DejaVuSans-61\" x=\"475.488281\"/>\n     <use xlink:href=\"#DejaVuSans-6d\" x=\"536.767578\"/>\n     <use xlink:href=\"#DejaVuSans-70\" x=\"634.179688\"/>\n     <use xlink:href=\"#DejaVuSans-6c\" x=\"697.65625\"/>\n     <use xlink:href=\"#DejaVuSans-65\" x=\"725.439453\"/>\n     <use xlink:href=\"#DejaVuSans-73\" x=\"786.962891\"/>\n    </g>\n   </g>\n   <g id=\"legend_1\">\n    <g id=\"patch_7\">\n     <path d=\"M 199.891562 150.994063 \nL 274.524844 150.994063 \nQ 276.724844 150.994063 276.724844 148.794063 \nL 276.724844 117.602188 \nQ 276.724844 115.402188 274.524844 115.402188 \nL 199.891562 115.402188 \nQ 197.691562 115.402188 197.691562 117.602188 \nL 197.691562 148.794063 \nQ 197.691562 150.994063 199.891562 150.994063 \nz\n\" style=\"fill: #eaeaf2; opacity: 0.8; stroke: #cccccc; stroke-linejoin: miter\"/>\n    </g>\n    <g id=\"PathCollection_3\">\n     <g>\n      <use xlink:href=\"#m5ef3c247e4\" x=\"213.091562\" y=\"125.272969\" style=\"fill: #4c72b0; stroke: #333333\"/>\n     </g>\n    </g>\n    <g id=\"text_15\">\n     <!-- Class 0 -->\n     <g style=\"fill: #262626\" transform=\"translate(232.891562 128.160469) scale(0.11 -0.11)\">\n      <defs>\n       <path id=\"DejaVuSans-43\" d=\"M 4122 4306 \nL 4122 3641 \nQ 3803 3938 3442 4084 \nQ 3081 4231 2675 4231 \nQ 1875 4231 1450 3742 \nQ 1025 3253 1025 2328 \nQ 1025 1406 1450 917 \nQ 1875 428 2675 428 \nQ 3081 428 3442 575 \nQ 3803 722 4122 1019 \nL 4122 359 \nQ 3791 134 3420 21 \nQ 3050 -91 2638 -91 \nQ 1578 -91 968 557 \nQ 359 1206 359 2328 \nQ 359 3453 968 4101 \nQ 1578 4750 2638 4750 \nQ 3056 4750 3426 4639 \nQ 3797 4528 4122 4306 \nz\n\" transform=\"scale(0.015625)\"/>\n      </defs>\n      <use xlink:href=\"#DejaVuSans-43\"/>\n      <use xlink:href=\"#DejaVuSans-6c\" x=\"69.824219\"/>\n      <use xlink:href=\"#DejaVuSans-61\" x=\"97.607422\"/>\n      <use xlink:href=\"#DejaVuSans-73\" x=\"158.886719\"/>\n      <use xlink:href=\"#DejaVuSans-73\" x=\"210.986328\"/>\n      <use xlink:href=\"#DejaVuSans-20\" x=\"263.085938\"/>\n      <use xlink:href=\"#DejaVuSans-30\" x=\"294.873047\"/>\n     </g>\n    </g>\n    <g id=\"PathCollection_4\">\n     <g>\n      <use xlink:href=\"#mc14d1410bd\" x=\"213.091562\" y=\"141.418906\" style=\"fill: #dd8452; stroke: #333333\"/>\n     </g>\n    </g>\n    <g id=\"text_16\">\n     <!-- Class 1 -->\n     <g style=\"fill: #262626\" transform=\"translate(232.891562 144.306406) scale(0.11 -0.11)\">\n      <use xlink:href=\"#DejaVuSans-43\"/>\n      <use xlink:href=\"#DejaVuSans-6c\" x=\"69.824219\"/>\n      <use xlink:href=\"#DejaVuSans-61\" x=\"97.607422\"/>\n      <use xlink:href=\"#DejaVuSans-73\" x=\"158.886719\"/>\n      <use xlink:href=\"#DejaVuSans-73\" x=\"210.986328\"/>\n      <use xlink:href=\"#DejaVuSans-20\" x=\"263.085938\"/>\n      <use xlink:href=\"#DejaVuSans-31\" x=\"294.873047\"/>\n     </g>\n    </g>\n   </g>\n  </g>\n </g>\n <defs>\n  <clipPath id=\"p778be245ae\">\n   <rect x=\"59.024844\" y=\"22.318125\" width=\"223.2\" height=\"221.76\"/>\n  </clipPath>\n </defs>\n</svg>\n",
            "application/pdf": "[encoded data removed]"
          },
          "metadata": {}
        }
      ],
      "source": [
        "visualize_samples(dataset.data, dataset.label)\n",
        "plt.show()"
      ]
    },
    {
      "cell_type": "markdown",
      "metadata": {
        "id": "N2w1XZe_Jfre"
      },
      "source": [
        "#### The data loader class\n",
        "\n",
        "The class `torch.utils.data.DataLoader` represents a Python iterable over a dataset with support for automatic batching, multi-process data loading and many more features. The data loader communicates with the dataset using the function `__getitem__`, and stacks its outputs as tensors over the first dimension to form a batch.\n",
        "In contrast to the dataset class, we usually don't have to define our own data loader class, but can just create an object of it with the dataset as input. Additionally, we can configure our data loader with the following input arguments (only a selection, see full list [here](https://pytorch.org/docs/stable/data.html#torch.utils.data.DataLoader)):\n",
        "\n",
        "* `batch_size`: Number of samples to stack per batch\n",
        "* `shuffle`: If True, the data is returned in a random order. This is important during training for introducing stochasticity.\n",
        "* `num_workers`: Number of subprocesses to use for data loading. The default, 0, means that the data will be loaded in the main process which can slow down training for datasets where loading a data point takes a considerable amount of time (e.g. large images). More workers are recommended for those, but can cause issues on Windows computers. For tiny datasets as ours, 0 workers are usually faster.\n",
        "* `persistent_workers`: If True, workers will not be shutdown after an iteration over the dataset has finished. This can be useful if the time per epoch is small, or if you face issues with workers being killed during training.\n",
        "* `drop_last`: If True, the last batch is dropped in case it is smaller than the specified batch size. This occurs when the dataset size is not a multiple of the batch size. Only potentially helpful during training to keep a consistent batch size.\n",
        "* `collate_fn`: A function that defines how the elements per batch are combined. By default, PyTorch stacks them as PyTorch tensors. For JAX, we will change it to NumPy arrays.\n",
        "\n",
        "Let's create a simple data loader below with a function that stacks batch elements as NumPy array instead of PyTorch Tensors:"
      ]
    },
    {
      "cell_type": "code",
      "execution_count": 47,
      "metadata": {
        "id": "x0Yxad_gJfre"
      },
      "outputs": [],
      "source": [
        "# This collate function is taken from the JAX tutorial with PyTorch Data Loading\n",
        "# https://jax.readthedocs.io/en/latest/notebooks/Neural_Network_and_Data_Loading.html\n",
        "def numpy_collate(batch):\n",
        "    if isinstance(batch[0], np.ndarray):\n",
        "        return np.stack(batch)\n",
        "    elif isinstance(batch[0], (tuple,list)):\n",
        "        transposed = zip(*batch)\n",
        "        return [numpy_collate(samples) for samples in transposed]\n",
        "    else:\n",
        "        return np.array(batch)\n",
        "\n",
        "data_loader = data.DataLoader(dataset, batch_size=8, shuffle=True, collate_fn=numpy_collate)"
      ]
    },
    {
      "cell_type": "code",
      "execution_count": null,
      "metadata": {
        "id": "U9ULRGeFJfre",
        "outputId": "aa8a469d-96c5-4296-c8db-3dcab0093ed2"
      },
      "outputs": [
        {
          "name": "stdout",
          "output_type": "stream",
          "text": [
            "Data inputs (8, 2) \n",
            " [[ 1.0504987   1.0865755 ]\n",
            " [ 0.02809919 -0.06226995]\n",
            " [ 0.06141667  1.0757508 ]\n",
            " [ 0.08356921 -0.11297069]\n",
            " [ 1.0324166  -0.01301431]\n",
            " [ 1.0024511   0.04979983]\n",
            " [ 0.3078881   0.11195749]\n",
            " [ 1.0371146   0.9396015 ]]\n",
            "Data labels (8,) \n",
            " [0 0 1 0 1 1 0 0]\n"
          ]
        }
      ],
      "source": [
        "# next(iter(...)) catches the first batch of the data loader\n",
        "# If shuffle is True, this will return a different batch every time we run this cell\n",
        "# For iterating over the whole dataset, we can simple use \"for batch in data_loader: ...\"\n",
        "data_inputs, data_labels = next(iter(data_loader))\n",
        "\n",
        "# The shape of the outputs are [batch_size, d_1,...,d_N] where d_1,...,d_N are the\n",
        "# dimensions of the data point returned from the dataset class\n",
        "print(\"Data inputs\", data_inputs.shape, \"\\n\", data_inputs)\n",
        "print(\"Data labels\", data_labels.shape, \"\\n\", data_labels)"
      ]
    },
    {
      "cell_type": "markdown",
      "metadata": {
        "id": "Vrp7CufTJfre"
      },
      "source": [
        "### Optimization\n",
        "\n",
        "After defining the model and the dataset, it is time to prepare the optimization of the model. During training, we will perform the following steps:\n",
        "\n",
        "1. Get a batch from the data loader\n",
        "2. Obtain the predictions from the model for the batch\n",
        "3. Calculate the loss based on the difference between predictions and labels\n",
        "4. Backpropagation: calculate the gradients for every parameter with respect to the loss\n",
        "5. Update the parameters of the model in the direction of the gradients\n",
        "\n",
        "We have seen how we can do step 1, 2 and 4 in JAX and Flax. Now, we will look at step 3 and 5."
      ]
    },
    {
      "cell_type": "markdown",
      "metadata": {
        "id": "UTbIiRHnJfre"
      },
      "source": [
        "#### Stochastic Gradient Descent\n",
        "\n",
        "For updating the parameters, Flax does not directly provide support for optimizers, but instead refers to another package called `optax` ([documentation](https://optax.readthedocs.io/en/latest/index.html)). Optax is an optimization library for JAX, which offers most common deep learning optimizers (SGD, Adam, Adagrad, RMSProp, etc.) and utilities (gradient clipping, weight decay, etc.)."
      ]
    },
    {
      "cell_type": "code",
      "execution_count": 48,
      "metadata": {
        "id": "0LHu_KdJJfre"
      },
      "outputs": [],
      "source": [
        "try:\n",
        "    import optax\n",
        "except ModuleNotFoundError: # Install optax if missing\n",
        "    !pip install --quiet optax\n",
        "    import optax"
      ]
    },
    {
      "cell_type": "markdown",
      "metadata": {
        "id": "1b4BhARkJfre"
      },
      "source": [
        "For now, we will use the simplest optimizer, namely `optax.sgd`. Stochastic Gradient Descent updates parameters by multiplying the gradients with a small constant, called learning rate, and subtracting those from the parameters (hence minimizing the loss). Therefore, we slowly move towards the direction of minimizing the loss. A good default value of the learning rate for a small network as ours is 0.1. Remember that we again aim to write functional code. Hence, the optimizer does not take as input the parameters, but only the optimizer hyperparameters."
      ]
    },
    {
      "cell_type": "code",
      "execution_count": 51,
      "metadata": {
        "id": "CFRxPsb-Jfrf"
      },
      "outputs": [],
      "source": [
        "# Input to the optimizer are optimizer settings like learning rate\n",
        "optimizer = optax.sgd(learning_rate=0.1)"
      ]
    },
    {
      "cell_type": "markdown",
      "metadata": {
        "id": "4LO5s9sTJfrf"
      },
      "source": [
        "Since JAX calculates gradients via function transformations, we do not have functions like `backward()`, `optimizer.step()` or `optimizer.backward()` as in PyTorch. Instead, a optimizer is a function on the parameters and gradients. To simplify this step and bundle important parts of the training procedure, Flax offers the `flax.training` package. As a first step, we can create a `TrainState` which bundles the parameters, the optimizer, and the forward step of the model:"
      ]
    },
    {
      "cell_type": "code",
      "execution_count": 52,
      "metadata": {
        "id": "JbwaVcDXJfrf"
      },
      "outputs": [],
      "source": [
        "from flax.training import train_state\n",
        "\n",
        "model_state = train_state.TrainState.create(apply_fn=model.apply,\n",
        "                                            params=params,\n",
        "                                            tx=optimizer)"
      ]
    },
    {
      "cell_type": "markdown",
      "metadata": {
        "id": "qJIc0Lb8Jfrf"
      },
      "source": [
        "With this state object, it is easier to handle the training."
      ]
    },
    {
      "cell_type": "markdown",
      "metadata": {
        "id": "MiYZ3XA7Jfrf"
      },
      "source": [
        "#### Loss function\n",
        "\n",
        "For performing gradient updates, we need a function that can calculate the loss for a batch. Afterwards, we can apply JAX's gradient transformation to obtain a gradient function of it. In our setting, which is binary classification, we can use Binary Cross Entropy (BCE) which is defined as follows:\n",
        "\n",
        "$$\\mathcal{L}_{BCE} = -\\sum_i \\left[ y_i \\log x_i + (1 - y_i) \\log (1 - x_i) \\right]$$\n",
        "\n",
        "where $y$ are our labels, and $x$ our predictions, both in the range of $[0,1]$. Similar to PyTorch, Optax already provides a function for this: `optax.sigmoid_binary_cross_entropy(logits, labels)`. We calculate the loss on the logits instead of the sigmoid outputs for numerical stability. Let's write a function that takes as input a state (for the forward function), parameters, and a batch, and return the binary cross entropy loss and accuracy:"
      ]
    },
    {
      "cell_type": "code",
      "execution_count": 53,
      "metadata": {
        "id": "TpJtymqvJfrf"
      },
      "outputs": [],
      "source": [
        "def calculate_loss_acc(state, params, batch):\n",
        "    data_input, labels = batch\n",
        "    # Obtain the logits and predictions of the model for the input data\n",
        "    logits = state.apply_fn(params, data_input).squeeze(axis=-1)\n",
        "    pred_labels = (logits > 0).astype(jnp.float32)\n",
        "    # Calculate the loss and accuracy\n",
        "    loss = optax.sigmoid_binary_cross_entropy(logits, labels).mean()\n",
        "    acc = (pred_labels == labels).mean()\n",
        "    return loss, acc"
      ]
    },
    {
      "cell_type": "markdown",
      "metadata": {
        "id": "Hco7IGd4Jfrf"
      },
      "source": [
        "Note that we explicitly add the parameters here as an input argument since we want to calculate the gradients with respect to them later. An example execution of the function would look like:"
      ]
    },
    {
      "cell_type": "code",
      "execution_count": 54,
      "metadata": {
        "colab": {
          "base_uri": "https://localhost:8080/"
        },
        "id": "hnna6AV0Jfrf",
        "outputId": "ce20d807-cfe4-404d-dcca-07c6cea9ae42"
      },
      "outputs": [
        {
          "output_type": "execute_result",
          "data": {
            "text/plain": [
              "(Array(0.69840896, dtype=float32), Array(0.75, dtype=float32))"
            ]
          },
          "metadata": {},
          "execution_count": 54
        }
      ],
      "source": [
        "batch = next(iter(data_loader))\n",
        "calculate_loss_acc(model_state, model_state.params, batch)"
      ]
    },
    {
      "cell_type": "markdown",
      "metadata": {
        "id": "Im-xXBxqJfrf"
      },
      "source": [
        "### Creating an efficient training and validation step\n",
        "\n",
        "With this loss function and the optimizer, we are now ready to create an efficient training and validation/test step. First, let's consider the training. As input to each training step, we have a training state and a batch. We then want to calculate the loss for the input and take the gradients of it. Finally, we update the parameters with our optimizer and return the new state. All this can be summarized in the following function:"
      ]
    },
    {
      "cell_type": "code",
      "execution_count": 55,
      "metadata": {
        "id": "OeEtAnmJJfrf"
      },
      "outputs": [],
      "source": [
        "@jax.jit  # Jit the function for efficiency\n",
        "def train_step(state, batch):\n",
        "    # Gradient function\n",
        "    grad_fn = jax.value_and_grad(calculate_loss_acc,  # Function to calculate the loss\n",
        "                                 argnums=1,  # Parameters are second argument of the function\n",
        "                                 has_aux=True  # Function has additional outputs, here accuracy\n",
        "                                )\n",
        "    # Determine gradients for current model, parameters and batch\n",
        "    (loss, acc), grads = grad_fn(state, state.params, batch)\n",
        "    # Perform parameter update with gradients and optimizer\n",
        "    state = state.apply_gradients(grads=grads)\n",
        "    # Return state and any other value we might want\n",
        "    return state, loss, acc"
      ]
    },
    {
      "cell_type": "markdown",
      "metadata": {
        "id": "iQoE8a-NJfrf"
      },
      "source": [
        "By using the transformation `jax.jit`, the whole gradient calculation and application is optimized in XLA, providing an efficient function for updating the model.\n",
        "\n",
        "Next, let's look at the evaluation function. Here, we do not need to calculate gradients, but only want to get the accuracy of the model for the batch. This becomes a simpler version of the training step:"
      ]
    },
    {
      "cell_type": "code",
      "execution_count": 56,
      "metadata": {
        "id": "Pca3gcQrJfrf"
      },
      "outputs": [],
      "source": [
        "@jax.jit  # Jit the function for efficiency\n",
        "def eval_step(state, batch):\n",
        "    # Determine the accuracy\n",
        "    _, acc = calculate_loss_acc(state, state.params, batch)\n",
        "    return acc"
      ]
    },
    {
      "cell_type": "markdown",
      "metadata": {
        "id": "Ok7FjkF1Jfrf"
      },
      "source": [
        "These two functions provide us now efficient utilities to train our model."
      ]
    },
    {
      "cell_type": "markdown",
      "metadata": {
        "id": "dEm0PDUkJfrf"
      },
      "source": [
        "### Training\n",
        "\n",
        "Finally, we are ready to train our model. As a first step, we create a slightly larger dataset and specify a data loader with a larger batch size."
      ]
    },
    {
      "cell_type": "code",
      "execution_count": 57,
      "metadata": {
        "id": "e0WQhH8fJfrf"
      },
      "outputs": [],
      "source": [
        "train_dataset = XORDataset(size=2500, seed=42)\n",
        "train_data_loader = data.DataLoader(train_dataset, batch_size=128, shuffle=True, collate_fn=numpy_collate)"
      ]
    },
    {
      "cell_type": "markdown",
      "metadata": {
        "id": "9tUSm9BAJfrf"
      },
      "source": [
        "Now, we can write a small training function. In contrast to PyTorch, we do not need to explicitly push our model to GPU, since the parameters are already automatically created on GPU. Further, since the model itself is stateless, we do not have a `train()` or `eval()` function to switch between modes of e.g. dropout. When necessary, we can add an argument `train : bool` to the model forward pass. For this simple network here, however, this is not necessary.\n",
        "\n",
        "Following the PyTorch tutorial, let's write a function here that trains a model for several epochs:"
      ]
    },
    {
      "cell_type": "code",
      "execution_count": 58,
      "metadata": {
        "id": "uLLcTkxPJfrf"
      },
      "outputs": [],
      "source": [
        "def train_model(state, data_loader, num_epochs=100):\n",
        "    # Training loop\n",
        "    for epoch in tqdm(range(num_epochs)):\n",
        "        for batch in data_loader:\n",
        "            state, loss, acc = train_step(state, batch)\n",
        "            # We could use the loss and accuracy for logging here, e.g. in TensorBoard\n",
        "            # For simplicity, we skip this part here\n",
        "    return state"
      ]
    },
    {
      "cell_type": "code",
      "execution_count": 59,
      "metadata": {
        "colab": {
          "base_uri": "https://localhost:8080/",
          "height": 69,
          "referenced_widgets": [
            "094457df3fd748c791f65d471c73e536",
            "5455e5d9cefd4281b6e63363222c6f5d",
            "33eec7a417a64dbdab786a816c85c7a8",
            "1cc70ef43aa64a2b97d93bb7fed82ebc",
            "baf8057f2c414055bf2487e12d95455b",
            "c5a5ede29eb74c52b84b822f052a75b8",
            "285303ee08c04d1a8e10d6a1cc796cfe",
            "40e44ec54dbc472b84226bc5346b71c7",
            "bd699b4c43714434af9eba0b163098b8",
            "edb0a68a308a48db8ca89f8aecb2c48b",
            "bde60bbbc744447089d42945203cd6a1"
          ]
        },
        "id": "oZPpJZ2KJfrf",
        "outputId": "f1b4284b-a129-4506-dee1-ce7c4ff941d3"
      },
      "outputs": [
        {
          "output_type": "display_data",
          "data": {
            "text/plain": [
              "  0%|          | 0/100 [00:00<?, ?it/s]"
            ],
            "application/vnd.jupyter.widget-view+json": {
              "version_major": 2,
              "version_minor": 0,
              "model_id": "094457df3fd748c791f65d471c73e536"
            }
          },
          "metadata": {}
        }
      ],
      "source": [
        "trained_model_state = train_model(model_state, train_data_loader, num_epochs=100)"
      ]
    },
    {
      "cell_type": "markdown",
      "metadata": {
        "id": "WMjmCekGJfrf"
      },
      "source": [
        "Training this model for 100 epochs does take barely a second... This shows the impressive speed JAX can reach, especially for small models!"
      ]
    },
    {
      "cell_type": "markdown",
      "metadata": {
        "id": "zAw7JOHgJfrf"
      },
      "source": [
        "#### Saving a model\n",
        "\n",
        "After we finished training a model, we save the model to disk so that we can load the same weights at a later time. In JAX, this means we want to save the `state.params` dictionary. Luckily, the `flax.training` package again provides us with nice utilities for that, which uses TensorFlow as underlying framework."
      ]
    },
    {
      "cell_type": "code",
      "execution_count": 60,
      "metadata": {
        "id": "9VB89GC9Jfrg"
      },
      "outputs": [],
      "source": [
        "from flax.training import checkpoints"
      ]
    },
    {
      "cell_type": "markdown",
      "metadata": {
        "id": "g6ifRhukJfrg"
      },
      "source": [
        "To save the whole model state, we can write:"
      ]
    },
    {
      "cell_type": "code",
      "execution_count": 61,
      "metadata": {
        "colab": {
          "base_uri": "https://localhost:8080/",
          "height": 395
        },
        "id": "SGzgepsfJfrg",
        "outputId": "40eb3d91-ab12-4cf2-fd1b-24ee14121b90"
      },
      "outputs": [
        {
          "output_type": "stream",
          "name": "stderr",
          "text": [
            "WARNING:absl:The `aggregate` option is deprecated and will be ignored.\n"
          ]
        },
        {
          "output_type": "error",
          "ename": "ValueError",
          "evalue": "Checkpoint path should be absolute. Got my_checkpoints/my_model100.orbax-checkpoint-tmp-0",
          "traceback": [
            "\u001b[0;31m---------------------------------------------------------------------------\u001b[0m",
            "\u001b[0;31mValueError\u001b[0m                                Traceback (most recent call last)",
            "\u001b[0;32m<ipython-input-61-0f760b5e6eb8>\u001b[0m in \u001b[0;36m<cell line: 1>\u001b[0;34m()\u001b[0m\n\u001b[0;32m----> 1\u001b[0;31m checkpoints.save_checkpoint(ckpt_dir='my_checkpoints/',  # Folder to save checkpoint in\n\u001b[0m\u001b[1;32m      2\u001b[0m                             \u001b[0mtarget\u001b[0m\u001b[0;34m=\u001b[0m\u001b[0mtrained_model_state\u001b[0m\u001b[0;34m,\u001b[0m  \u001b[0;31m# What to save. To only save parameters, use model_state.params\u001b[0m\u001b[0;34m\u001b[0m\u001b[0;34m\u001b[0m\u001b[0m\n\u001b[1;32m      3\u001b[0m                             \u001b[0mstep\u001b[0m\u001b[0;34m=\u001b[0m\u001b[0;36m100\u001b[0m\u001b[0;34m,\u001b[0m  \u001b[0;31m# Training step or other metric to save best model on\u001b[0m\u001b[0;34m\u001b[0m\u001b[0;34m\u001b[0m\u001b[0m\n\u001b[1;32m      4\u001b[0m                             \u001b[0mprefix\u001b[0m\u001b[0;34m=\u001b[0m\u001b[0;34m'my_model'\u001b[0m\u001b[0;34m,\u001b[0m  \u001b[0;31m# Checkpoint file name prefix\u001b[0m\u001b[0;34m\u001b[0m\u001b[0;34m\u001b[0m\u001b[0m\n\u001b[1;32m      5\u001b[0m                             \u001b[0moverwrite\u001b[0m\u001b[0;34m=\u001b[0m\u001b[0;32mTrue\u001b[0m   \u001b[0;31m# Overwrite existing checkpoint files\u001b[0m\u001b[0;34m\u001b[0m\u001b[0;34m\u001b[0m\u001b[0m\n",
            "\u001b[0;32m/usr/local/lib/python3.10/dist-packages/flax/training/checkpoints.py\u001b[0m in \u001b[0;36msave_checkpoint\u001b[0;34m(ckpt_dir, target, step, prefix, keep, overwrite, keep_every_n_steps, async_manager, orbax_checkpointer)\u001b[0m\n\u001b[1;32m    695\u001b[0m \u001b[0;34m\u001b[0m\u001b[0m\n\u001b[1;32m    696\u001b[0m     \u001b[0msave_args\u001b[0m \u001b[0;34m=\u001b[0m \u001b[0morbax_utils\u001b[0m\u001b[0;34m.\u001b[0m\u001b[0msave_args_from_target\u001b[0m\u001b[0;34m(\u001b[0m\u001b[0mtarget\u001b[0m\u001b[0;34m)\u001b[0m\u001b[0;34m\u001b[0m\u001b[0;34m\u001b[0m\u001b[0m\n\u001b[0;32m--> 697\u001b[0;31m     orbax_checkpointer.save(\n\u001b[0m\u001b[1;32m    698\u001b[0m       \u001b[0mckpt_path\u001b[0m\u001b[0;34m,\u001b[0m \u001b[0mtarget\u001b[0m\u001b[0;34m,\u001b[0m \u001b[0msave_args\u001b[0m\u001b[0;34m=\u001b[0m\u001b[0msave_args\u001b[0m\u001b[0;34m,\u001b[0m \u001b[0mforce\u001b[0m\u001b[0;34m=\u001b[0m\u001b[0moverwrite\u001b[0m\u001b[0;34m\u001b[0m\u001b[0;34m\u001b[0m\u001b[0m\n\u001b[1;32m    699\u001b[0m     )\n",
            "\u001b[0;32m/usr/local/lib/python3.10/dist-packages/orbax/checkpoint/checkpointer.py\u001b[0m in \u001b[0;36msave\u001b[0;34m(self, directory, force, *args, **kwargs)\u001b[0m\n\u001b[1;32m    202\u001b[0m     \u001b[0mckpt_args\u001b[0m \u001b[0;34m=\u001b[0m \u001b[0mconstruct_checkpoint_args\u001b[0m\u001b[0;34m(\u001b[0m\u001b[0mself\u001b[0m\u001b[0;34m.\u001b[0m\u001b[0m_handler\u001b[0m\u001b[0;34m,\u001b[0m \u001b[0;32mTrue\u001b[0m\u001b[0;34m,\u001b[0m \u001b[0;34m*\u001b[0m\u001b[0margs\u001b[0m\u001b[0;34m,\u001b[0m \u001b[0;34m**\u001b[0m\u001b[0mkwargs\u001b[0m\u001b[0;34m)\u001b[0m\u001b[0;34m\u001b[0m\u001b[0;34m\u001b[0m\u001b[0m\n\u001b[1;32m    203\u001b[0m     \u001b[0mtmpdir\u001b[0m \u001b[0;34m=\u001b[0m \u001b[0masyncio\u001b[0m\u001b[0;34m.\u001b[0m\u001b[0mrun\u001b[0m\u001b[0;34m(\u001b[0m\u001b[0mself\u001b[0m\u001b[0;34m.\u001b[0m\u001b[0mcreate_temporary_path\u001b[0m\u001b[0;34m(\u001b[0m\u001b[0mdirectory\u001b[0m\u001b[0;34m)\u001b[0m\u001b[0;34m)\u001b[0m\u001b[0;34m\u001b[0m\u001b[0;34m\u001b[0m\u001b[0m\n\u001b[0;32m--> 204\u001b[0;31m     \u001b[0mself\u001b[0m\u001b[0;34m.\u001b[0m\u001b[0m_handler\u001b[0m\u001b[0;34m.\u001b[0m\u001b[0msave\u001b[0m\u001b[0;34m(\u001b[0m\u001b[0mtmpdir\u001b[0m\u001b[0;34m.\u001b[0m\u001b[0mget\u001b[0m\u001b[0;34m(\u001b[0m\u001b[0;34m)\u001b[0m\u001b[0;34m,\u001b[0m \u001b[0margs\u001b[0m\u001b[0;34m=\u001b[0m\u001b[0mckpt_args\u001b[0m\u001b[0;34m)\u001b[0m\u001b[0;34m\u001b[0m\u001b[0;34m\u001b[0m\u001b[0m\n\u001b[0m\u001b[1;32m    205\u001b[0m     multihost.sync_global_processes(\n\u001b[1;32m    206\u001b[0m         multihost.unique_barrier_key(\n",
            "\u001b[0;32m/usr/local/lib/python3.10/dist-packages/orbax/checkpoint/_src/handlers/pytree_checkpoint_handler.py\u001b[0m in \u001b[0;36msave\u001b[0;34m(self, directory, item, save_args, args)\u001b[0m\n\u001b[1;32m    564\u001b[0m     \u001b[0;34m\"\"\"Saves the provided item. See async_save.\"\"\"\u001b[0m\u001b[0;34m\u001b[0m\u001b[0;34m\u001b[0m\u001b[0m\n\u001b[1;32m    565\u001b[0m     \u001b[0margs\u001b[0m \u001b[0;34m=\u001b[0m \u001b[0m_get_impl_save_args\u001b[0m\u001b[0;34m(\u001b[0m\u001b[0mitem\u001b[0m\u001b[0;34m,\u001b[0m \u001b[0msave_args\u001b[0m\u001b[0;34m,\u001b[0m \u001b[0margs\u001b[0m\u001b[0;34m)\u001b[0m\u001b[0;34m\u001b[0m\u001b[0;34m\u001b[0m\u001b[0m\n\u001b[0;32m--> 566\u001b[0;31m     \u001b[0mself\u001b[0m\u001b[0;34m.\u001b[0m\u001b[0m_handler_impl\u001b[0m\u001b[0;34m.\u001b[0m\u001b[0msave\u001b[0m\u001b[0;34m(\u001b[0m\u001b[0mdirectory\u001b[0m\u001b[0;34m,\u001b[0m \u001b[0margs\u001b[0m\u001b[0;34m=\u001b[0m\u001b[0margs\u001b[0m\u001b[0;34m)\u001b[0m\u001b[0;34m\u001b[0m\u001b[0;34m\u001b[0m\u001b[0m\n\u001b[0m\u001b[1;32m    567\u001b[0m \u001b[0;34m\u001b[0m\u001b[0m\n\u001b[1;32m    568\u001b[0m   async def _maybe_deserialize(\n",
            "\u001b[0;32m/usr/local/lib/python3.10/dist-packages/orbax/checkpoint/_src/handlers/base_pytree_checkpoint_handler.py\u001b[0m in \u001b[0;36msave\u001b[0;34m(self, directory, *args, **kwargs)\u001b[0m\n\u001b[1;32m    499\u001b[0m           \u001b[0mf\u001b[0m\u001b[0;34m.\u001b[0m\u001b[0mresult\u001b[0m\u001b[0;34m(\u001b[0m\u001b[0;34m)\u001b[0m  \u001b[0;31m# Block on result.\u001b[0m\u001b[0;34m\u001b[0m\u001b[0;34m\u001b[0m\u001b[0m\n\u001b[1;32m    500\u001b[0m \u001b[0;34m\u001b[0m\u001b[0m\n\u001b[0;32m--> 501\u001b[0;31m     \u001b[0masyncio\u001b[0m\u001b[0;34m.\u001b[0m\u001b[0mrun\u001b[0m\u001b[0;34m(\u001b[0m\u001b[0masync_save\u001b[0m\u001b[0;34m(\u001b[0m\u001b[0mdirectory\u001b[0m\u001b[0;34m,\u001b[0m \u001b[0;34m*\u001b[0m\u001b[0margs\u001b[0m\u001b[0;34m,\u001b[0m \u001b[0;34m**\u001b[0m\u001b[0mkwargs\u001b[0m\u001b[0;34m)\u001b[0m\u001b[0;34m)\u001b[0m\u001b[0;34m\u001b[0m\u001b[0;34m\u001b[0m\u001b[0m\n\u001b[0m\u001b[1;32m    502\u001b[0m \u001b[0;34m\u001b[0m\u001b[0m\n\u001b[1;32m    503\u001b[0m   async def _maybe_deserialize(\n",
            "\u001b[0;32m/usr/local/lib/python3.10/dist-packages/nest_asyncio.py\u001b[0m in \u001b[0;36mrun\u001b[0;34m(main, debug)\u001b[0m\n\u001b[1;32m     28\u001b[0m         \u001b[0mtask\u001b[0m \u001b[0;34m=\u001b[0m \u001b[0masyncio\u001b[0m\u001b[0;34m.\u001b[0m\u001b[0mensure_future\u001b[0m\u001b[0;34m(\u001b[0m\u001b[0mmain\u001b[0m\u001b[0;34m)\u001b[0m\u001b[0;34m\u001b[0m\u001b[0;34m\u001b[0m\u001b[0m\n\u001b[1;32m     29\u001b[0m         \u001b[0;32mtry\u001b[0m\u001b[0;34m:\u001b[0m\u001b[0;34m\u001b[0m\u001b[0;34m\u001b[0m\u001b[0m\n\u001b[0;32m---> 30\u001b[0;31m             \u001b[0;32mreturn\u001b[0m \u001b[0mloop\u001b[0m\u001b[0;34m.\u001b[0m\u001b[0mrun_until_complete\u001b[0m\u001b[0;34m(\u001b[0m\u001b[0mtask\u001b[0m\u001b[0;34m)\u001b[0m\u001b[0;34m\u001b[0m\u001b[0;34m\u001b[0m\u001b[0m\n\u001b[0m\u001b[1;32m     31\u001b[0m         \u001b[0;32mfinally\u001b[0m\u001b[0;34m:\u001b[0m\u001b[0;34m\u001b[0m\u001b[0;34m\u001b[0m\u001b[0m\n\u001b[1;32m     32\u001b[0m             \u001b[0;32mif\u001b[0m \u001b[0;32mnot\u001b[0m \u001b[0mtask\u001b[0m\u001b[0;34m.\u001b[0m\u001b[0mdone\u001b[0m\u001b[0;34m(\u001b[0m\u001b[0;34m)\u001b[0m\u001b[0;34m:\u001b[0m\u001b[0;34m\u001b[0m\u001b[0;34m\u001b[0m\u001b[0m\n",
            "\u001b[0;32m/usr/local/lib/python3.10/dist-packages/nest_asyncio.py\u001b[0m in \u001b[0;36mrun_until_complete\u001b[0;34m(self, future)\u001b[0m\n\u001b[1;32m     96\u001b[0m                 raise RuntimeError(\n\u001b[1;32m     97\u001b[0m                     'Event loop stopped before Future completed.')\n\u001b[0;32m---> 98\u001b[0;31m             \u001b[0;32mreturn\u001b[0m \u001b[0mf\u001b[0m\u001b[0;34m.\u001b[0m\u001b[0mresult\u001b[0m\u001b[0;34m(\u001b[0m\u001b[0;34m)\u001b[0m\u001b[0;34m\u001b[0m\u001b[0;34m\u001b[0m\u001b[0m\n\u001b[0m\u001b[1;32m     99\u001b[0m \u001b[0;34m\u001b[0m\u001b[0m\n\u001b[1;32m    100\u001b[0m     \u001b[0;32mdef\u001b[0m \u001b[0m_run_once\u001b[0m\u001b[0;34m(\u001b[0m\u001b[0mself\u001b[0m\u001b[0;34m)\u001b[0m\u001b[0;34m:\u001b[0m\u001b[0;34m\u001b[0m\u001b[0;34m\u001b[0m\u001b[0m\n",
            "\u001b[0;32m/usr/lib/python3.10/asyncio/futures.py\u001b[0m in \u001b[0;36mresult\u001b[0;34m(self)\u001b[0m\n\u001b[1;32m    199\u001b[0m         \u001b[0mself\u001b[0m\u001b[0;34m.\u001b[0m\u001b[0m__log_traceback\u001b[0m \u001b[0;34m=\u001b[0m \u001b[0;32mFalse\u001b[0m\u001b[0;34m\u001b[0m\u001b[0;34m\u001b[0m\u001b[0m\n\u001b[1;32m    200\u001b[0m         \u001b[0;32mif\u001b[0m \u001b[0mself\u001b[0m\u001b[0;34m.\u001b[0m\u001b[0m_exception\u001b[0m \u001b[0;32mis\u001b[0m \u001b[0;32mnot\u001b[0m \u001b[0;32mNone\u001b[0m\u001b[0;34m:\u001b[0m\u001b[0;34m\u001b[0m\u001b[0;34m\u001b[0m\u001b[0m\n\u001b[0;32m--> 201\u001b[0;31m             \u001b[0;32mraise\u001b[0m \u001b[0mself\u001b[0m\u001b[0;34m.\u001b[0m\u001b[0m_exception\u001b[0m\u001b[0;34m.\u001b[0m\u001b[0mwith_traceback\u001b[0m\u001b[0;34m(\u001b[0m\u001b[0mself\u001b[0m\u001b[0;34m.\u001b[0m\u001b[0m_exception_tb\u001b[0m\u001b[0;34m)\u001b[0m\u001b[0;34m\u001b[0m\u001b[0;34m\u001b[0m\u001b[0m\n\u001b[0m\u001b[1;32m    202\u001b[0m         \u001b[0;32mreturn\u001b[0m \u001b[0mself\u001b[0m\u001b[0;34m.\u001b[0m\u001b[0m_result\u001b[0m\u001b[0;34m\u001b[0m\u001b[0;34m\u001b[0m\u001b[0m\n\u001b[1;32m    203\u001b[0m \u001b[0;34m\u001b[0m\u001b[0m\n",
            "\u001b[0;32m/usr/lib/python3.10/asyncio/tasks.py\u001b[0m in \u001b[0;36m__step\u001b[0;34m(***failed resolving arguments***)\u001b[0m\n\u001b[1;32m    230\u001b[0m                 \u001b[0;31m# We use the `send` method directly, because coroutines\u001b[0m\u001b[0;34m\u001b[0m\u001b[0;34m\u001b[0m\u001b[0m\n\u001b[1;32m    231\u001b[0m                 \u001b[0;31m# don't have `__iter__` and `__next__` methods.\u001b[0m\u001b[0;34m\u001b[0m\u001b[0;34m\u001b[0m\u001b[0m\n\u001b[0;32m--> 232\u001b[0;31m                 \u001b[0mresult\u001b[0m \u001b[0;34m=\u001b[0m \u001b[0mcoro\u001b[0m\u001b[0;34m.\u001b[0m\u001b[0msend\u001b[0m\u001b[0;34m(\u001b[0m\u001b[0;32mNone\u001b[0m\u001b[0;34m)\u001b[0m\u001b[0;34m\u001b[0m\u001b[0;34m\u001b[0m\u001b[0m\n\u001b[0m\u001b[1;32m    233\u001b[0m             \u001b[0;32melse\u001b[0m\u001b[0;34m:\u001b[0m\u001b[0;34m\u001b[0m\u001b[0;34m\u001b[0m\u001b[0m\n\u001b[1;32m    234\u001b[0m                 \u001b[0mresult\u001b[0m \u001b[0;34m=\u001b[0m \u001b[0mcoro\u001b[0m\u001b[0;34m.\u001b[0m\u001b[0mthrow\u001b[0m\u001b[0;34m(\u001b[0m\u001b[0mexc\u001b[0m\u001b[0;34m)\u001b[0m\u001b[0;34m\u001b[0m\u001b[0;34m\u001b[0m\u001b[0m\n",
            "\u001b[0;32m/usr/local/lib/python3.10/dist-packages/orbax/checkpoint/_src/handlers/base_pytree_checkpoint_handler.py\u001b[0m in \u001b[0;36masync_save\u001b[0;34m(*args, **kwargs)\u001b[0m\n\u001b[1;32m    497\u001b[0m       \u001b[0;32mif\u001b[0m \u001b[0mcommit_futures\u001b[0m\u001b[0;34m:\u001b[0m  \u001b[0;31m# May be None.\u001b[0m\u001b[0;34m\u001b[0m\u001b[0;34m\u001b[0m\u001b[0m\n\u001b[1;32m    498\u001b[0m         \u001b[0;32mfor\u001b[0m \u001b[0mf\u001b[0m \u001b[0;32min\u001b[0m \u001b[0mcommit_futures\u001b[0m\u001b[0;34m:\u001b[0m\u001b[0;34m\u001b[0m\u001b[0;34m\u001b[0m\u001b[0m\n\u001b[0;32m--> 499\u001b[0;31m           \u001b[0mf\u001b[0m\u001b[0;34m.\u001b[0m\u001b[0mresult\u001b[0m\u001b[0;34m(\u001b[0m\u001b[0;34m)\u001b[0m  \u001b[0;31m# Block on result.\u001b[0m\u001b[0;34m\u001b[0m\u001b[0;34m\u001b[0m\u001b[0m\n\u001b[0m\u001b[1;32m    500\u001b[0m \u001b[0;34m\u001b[0m\u001b[0m\n\u001b[1;32m    501\u001b[0m     \u001b[0masyncio\u001b[0m\u001b[0;34m.\u001b[0m\u001b[0mrun\u001b[0m\u001b[0;34m(\u001b[0m\u001b[0masync_save\u001b[0m\u001b[0;34m(\u001b[0m\u001b[0mdirectory\u001b[0m\u001b[0;34m,\u001b[0m \u001b[0;34m*\u001b[0m\u001b[0margs\u001b[0m\u001b[0;34m,\u001b[0m \u001b[0;34m**\u001b[0m\u001b[0mkwargs\u001b[0m\u001b[0;34m)\u001b[0m\u001b[0;34m)\u001b[0m\u001b[0;34m\u001b[0m\u001b[0;34m\u001b[0m\u001b[0m\n",
            "\u001b[0;32m/usr/local/lib/python3.10/dist-packages/orbax/checkpoint/future.py\u001b[0m in \u001b[0;36mresult\u001b[0;34m(self, timeout)\u001b[0m\n\u001b[1;32m     76\u001b[0m     \u001b[0mtime_remaining\u001b[0m \u001b[0;34m=\u001b[0m \u001b[0mtimeout\u001b[0m\u001b[0;34m\u001b[0m\u001b[0;34m\u001b[0m\u001b[0m\n\u001b[1;32m     77\u001b[0m     \u001b[0;32mfor\u001b[0m \u001b[0mk\u001b[0m\u001b[0;34m,\u001b[0m \u001b[0mf\u001b[0m \u001b[0;32min\u001b[0m \u001b[0menumerate\u001b[0m\u001b[0;34m(\u001b[0m\u001b[0mself\u001b[0m\u001b[0;34m.\u001b[0m\u001b[0m_futures\u001b[0m\u001b[0;34m)\u001b[0m\u001b[0;34m:\u001b[0m\u001b[0;34m\u001b[0m\u001b[0;34m\u001b[0m\u001b[0m\n\u001b[0;32m---> 78\u001b[0;31m       \u001b[0mf\u001b[0m\u001b[0;34m.\u001b[0m\u001b[0mresult\u001b[0m\u001b[0;34m(\u001b[0m\u001b[0mtimeout\u001b[0m\u001b[0;34m=\u001b[0m\u001b[0mtime_remaining\u001b[0m\u001b[0;34m)\u001b[0m\u001b[0;34m\u001b[0m\u001b[0;34m\u001b[0m\u001b[0m\n\u001b[0m\u001b[1;32m     79\u001b[0m       \u001b[0;32mif\u001b[0m \u001b[0mtime_remaining\u001b[0m \u001b[0;32mis\u001b[0m \u001b[0;32mnot\u001b[0m \u001b[0;32mNone\u001b[0m\u001b[0;34m:\u001b[0m\u001b[0;34m\u001b[0m\u001b[0;34m\u001b[0m\u001b[0m\n\u001b[1;32m     80\u001b[0m         \u001b[0mtime_elapsed\u001b[0m \u001b[0;34m=\u001b[0m \u001b[0mtime\u001b[0m\u001b[0;34m.\u001b[0m\u001b[0mtime\u001b[0m\u001b[0;34m(\u001b[0m\u001b[0;34m)\u001b[0m \u001b[0;34m-\u001b[0m \u001b[0mstart\u001b[0m\u001b[0;34m\u001b[0m\u001b[0;34m\u001b[0m\u001b[0m\n",
            "\u001b[0;32m/usr/local/lib/python3.10/dist-packages/orbax/checkpoint/type_handlers.py\u001b[0m in \u001b[0;36mresult\u001b[0;34m(self, timeout)\u001b[0m\n\u001b[1;32m    470\u001b[0m \u001b[0;34m\u001b[0m\u001b[0m\n\u001b[1;32m    471\u001b[0m   \u001b[0;32mdef\u001b[0m \u001b[0mresult\u001b[0m\u001b[0;34m(\u001b[0m\u001b[0mself\u001b[0m\u001b[0;34m,\u001b[0m \u001b[0mtimeout\u001b[0m\u001b[0;34m:\u001b[0m \u001b[0mOptional\u001b[0m\u001b[0;34m[\u001b[0m\u001b[0mint\u001b[0m\u001b[0;34m]\u001b[0m \u001b[0;34m=\u001b[0m \u001b[0;32mNone\u001b[0m\u001b[0;34m)\u001b[0m \u001b[0;34m->\u001b[0m \u001b[0mAny\u001b[0m\u001b[0;34m:\u001b[0m\u001b[0;34m\u001b[0m\u001b[0;34m\u001b[0m\u001b[0m\n\u001b[0;32m--> 472\u001b[0;31m     \u001b[0;32mreturn\u001b[0m \u001b[0mself\u001b[0m\u001b[0;34m.\u001b[0m\u001b[0m_t\u001b[0m\u001b[0;34m.\u001b[0m\u001b[0mjoin\u001b[0m\u001b[0;34m(\u001b[0m\u001b[0mtimeout\u001b[0m\u001b[0;34m=\u001b[0m\u001b[0mtimeout\u001b[0m\u001b[0;34m)\u001b[0m\u001b[0;34m\u001b[0m\u001b[0;34m\u001b[0m\u001b[0m\n\u001b[0m\u001b[1;32m    473\u001b[0m \u001b[0;34m\u001b[0m\u001b[0m\n\u001b[1;32m    474\u001b[0m \u001b[0;34m\u001b[0m\u001b[0m\n",
            "\u001b[0;32m/usr/local/lib/python3.10/dist-packages/orbax/checkpoint/future.py\u001b[0m in \u001b[0;36mjoin\u001b[0;34m(self, timeout)\u001b[0m\n\u001b[1;32m     60\u001b[0m     \u001b[0msuper\u001b[0m\u001b[0;34m(\u001b[0m\u001b[0;34m)\u001b[0m\u001b[0;34m.\u001b[0m\u001b[0mjoin\u001b[0m\u001b[0;34m(\u001b[0m\u001b[0mtimeout\u001b[0m\u001b[0;34m=\u001b[0m\u001b[0mtimeout\u001b[0m\u001b[0;34m)\u001b[0m\u001b[0;34m\u001b[0m\u001b[0;34m\u001b[0m\u001b[0m\n\u001b[1;32m     61\u001b[0m     \u001b[0;32mif\u001b[0m \u001b[0mself\u001b[0m\u001b[0;34m.\u001b[0m\u001b[0m_exception\u001b[0m \u001b[0;32mis\u001b[0m \u001b[0;32mnot\u001b[0m \u001b[0;32mNone\u001b[0m\u001b[0;34m:\u001b[0m\u001b[0;34m\u001b[0m\u001b[0;34m\u001b[0m\u001b[0m\n\u001b[0;32m---> 62\u001b[0;31m       \u001b[0;32mraise\u001b[0m \u001b[0mself\u001b[0m\u001b[0;34m.\u001b[0m\u001b[0m_exception\u001b[0m\u001b[0;34m\u001b[0m\u001b[0;34m\u001b[0m\u001b[0m\n\u001b[0m\u001b[1;32m     63\u001b[0m \u001b[0;34m\u001b[0m\u001b[0m\n\u001b[1;32m     64\u001b[0m \u001b[0;34m\u001b[0m\u001b[0m\n",
            "\u001b[0;32m/usr/local/lib/python3.10/dist-packages/orbax/checkpoint/future.py\u001b[0m in \u001b[0;36mrun\u001b[0;34m(self)\u001b[0m\n\u001b[1;32m     53\u001b[0m   \u001b[0;32mdef\u001b[0m \u001b[0mrun\u001b[0m\u001b[0;34m(\u001b[0m\u001b[0mself\u001b[0m\u001b[0;34m)\u001b[0m\u001b[0;34m:\u001b[0m\u001b[0;34m\u001b[0m\u001b[0;34m\u001b[0m\u001b[0m\n\u001b[1;32m     54\u001b[0m     \u001b[0;32mtry\u001b[0m\u001b[0;34m:\u001b[0m\u001b[0;34m\u001b[0m\u001b[0;34m\u001b[0m\u001b[0m\n\u001b[0;32m---> 55\u001b[0;31m       \u001b[0msuper\u001b[0m\u001b[0;34m(\u001b[0m\u001b[0;34m)\u001b[0m\u001b[0;34m.\u001b[0m\u001b[0mrun\u001b[0m\u001b[0;34m(\u001b[0m\u001b[0;34m)\u001b[0m\u001b[0;34m\u001b[0m\u001b[0;34m\u001b[0m\u001b[0m\n\u001b[0m\u001b[1;32m     56\u001b[0m     \u001b[0;32mexcept\u001b[0m \u001b[0mException\u001b[0m \u001b[0;32mas\u001b[0m \u001b[0me\u001b[0m\u001b[0;34m:\u001b[0m  \u001b[0;31m# pylint: disable=broad-exception-caught\u001b[0m\u001b[0;34m\u001b[0m\u001b[0;34m\u001b[0m\u001b[0m\n\u001b[1;32m     57\u001b[0m       \u001b[0mself\u001b[0m\u001b[0;34m.\u001b[0m\u001b[0m_exception\u001b[0m \u001b[0;34m=\u001b[0m \u001b[0me\u001b[0m\u001b[0;34m\u001b[0m\u001b[0;34m\u001b[0m\u001b[0m\n",
            "\u001b[0;32m/usr/lib/python3.10/threading.py\u001b[0m in \u001b[0;36mrun\u001b[0;34m(self)\u001b[0m\n\u001b[1;32m    951\u001b[0m         \u001b[0;32mtry\u001b[0m\u001b[0;34m:\u001b[0m\u001b[0;34m\u001b[0m\u001b[0;34m\u001b[0m\u001b[0m\n\u001b[1;32m    952\u001b[0m             \u001b[0;32mif\u001b[0m \u001b[0mself\u001b[0m\u001b[0;34m.\u001b[0m\u001b[0m_target\u001b[0m \u001b[0;32mis\u001b[0m \u001b[0;32mnot\u001b[0m \u001b[0;32mNone\u001b[0m\u001b[0;34m:\u001b[0m\u001b[0;34m\u001b[0m\u001b[0;34m\u001b[0m\u001b[0m\n\u001b[0;32m--> 953\u001b[0;31m                 \u001b[0mself\u001b[0m\u001b[0;34m.\u001b[0m\u001b[0m_target\u001b[0m\u001b[0;34m(\u001b[0m\u001b[0;34m*\u001b[0m\u001b[0mself\u001b[0m\u001b[0;34m.\u001b[0m\u001b[0m_args\u001b[0m\u001b[0;34m,\u001b[0m \u001b[0;34m**\u001b[0m\u001b[0mself\u001b[0m\u001b[0;34m.\u001b[0m\u001b[0m_kwargs\u001b[0m\u001b[0;34m)\u001b[0m\u001b[0;34m\u001b[0m\u001b[0;34m\u001b[0m\u001b[0m\n\u001b[0m\u001b[1;32m    954\u001b[0m         \u001b[0;32mfinally\u001b[0m\u001b[0;34m:\u001b[0m\u001b[0;34m\u001b[0m\u001b[0;34m\u001b[0m\u001b[0m\n\u001b[1;32m    955\u001b[0m             \u001b[0;31m# Avoid a refcycle if the thread is running a function with\u001b[0m\u001b[0;34m\u001b[0m\u001b[0;34m\u001b[0m\u001b[0m\n",
            "\u001b[0;32m/usr/local/lib/python3.10/dist-packages/orbax/checkpoint/type_handlers.py\u001b[0m in \u001b[0;36m<lambda>\u001b[0;34m()\u001b[0m\n\u001b[1;32m    465\u001b[0m     self._t = future.ThreadRaisingException(\n\u001b[1;32m    466\u001b[0m         \u001b[0mname\u001b[0m\u001b[0;34m=\u001b[0m\u001b[0mname\u001b[0m\u001b[0;34m,\u001b[0m\u001b[0;34m\u001b[0m\u001b[0;34m\u001b[0m\u001b[0m\n\u001b[0;32m--> 467\u001b[0;31m         \u001b[0mtarget\u001b[0m\u001b[0;34m=\u001b[0m\u001b[0;32mlambda\u001b[0m\u001b[0;34m:\u001b[0m \u001b[0masyncio\u001b[0m\u001b[0;34m.\u001b[0m\u001b[0mrun\u001b[0m\u001b[0;34m(\u001b[0m\u001b[0mcoro\u001b[0m\u001b[0;34m)\u001b[0m\u001b[0;34m,\u001b[0m\u001b[0;34m\u001b[0m\u001b[0;34m\u001b[0m\u001b[0m\n\u001b[0m\u001b[1;32m    468\u001b[0m     )\n\u001b[1;32m    469\u001b[0m     \u001b[0mself\u001b[0m\u001b[0;34m.\u001b[0m\u001b[0m_t\u001b[0m\u001b[0;34m.\u001b[0m\u001b[0mstart\u001b[0m\u001b[0;34m(\u001b[0m\u001b[0;34m)\u001b[0m\u001b[0;34m\u001b[0m\u001b[0;34m\u001b[0m\u001b[0m\n",
            "\u001b[0;32m/usr/local/lib/python3.10/dist-packages/nest_asyncio.py\u001b[0m in \u001b[0;36mrun\u001b[0;34m(main, debug)\u001b[0m\n\u001b[1;32m     28\u001b[0m         \u001b[0mtask\u001b[0m \u001b[0;34m=\u001b[0m \u001b[0masyncio\u001b[0m\u001b[0;34m.\u001b[0m\u001b[0mensure_future\u001b[0m\u001b[0;34m(\u001b[0m\u001b[0mmain\u001b[0m\u001b[0;34m)\u001b[0m\u001b[0;34m\u001b[0m\u001b[0;34m\u001b[0m\u001b[0m\n\u001b[1;32m     29\u001b[0m         \u001b[0;32mtry\u001b[0m\u001b[0;34m:\u001b[0m\u001b[0;34m\u001b[0m\u001b[0;34m\u001b[0m\u001b[0m\n\u001b[0;32m---> 30\u001b[0;31m             \u001b[0;32mreturn\u001b[0m \u001b[0mloop\u001b[0m\u001b[0;34m.\u001b[0m\u001b[0mrun_until_complete\u001b[0m\u001b[0;34m(\u001b[0m\u001b[0mtask\u001b[0m\u001b[0;34m)\u001b[0m\u001b[0;34m\u001b[0m\u001b[0;34m\u001b[0m\u001b[0m\n\u001b[0m\u001b[1;32m     31\u001b[0m         \u001b[0;32mfinally\u001b[0m\u001b[0;34m:\u001b[0m\u001b[0;34m\u001b[0m\u001b[0;34m\u001b[0m\u001b[0m\n\u001b[1;32m     32\u001b[0m             \u001b[0;32mif\u001b[0m \u001b[0;32mnot\u001b[0m \u001b[0mtask\u001b[0m\u001b[0;34m.\u001b[0m\u001b[0mdone\u001b[0m\u001b[0;34m(\u001b[0m\u001b[0;34m)\u001b[0m\u001b[0;34m:\u001b[0m\u001b[0;34m\u001b[0m\u001b[0;34m\u001b[0m\u001b[0m\n",
            "\u001b[0;32m/usr/local/lib/python3.10/dist-packages/nest_asyncio.py\u001b[0m in \u001b[0;36mrun_until_complete\u001b[0;34m(self, future)\u001b[0m\n\u001b[1;32m     96\u001b[0m                 raise RuntimeError(\n\u001b[1;32m     97\u001b[0m                     'Event loop stopped before Future completed.')\n\u001b[0;32m---> 98\u001b[0;31m             \u001b[0;32mreturn\u001b[0m \u001b[0mf\u001b[0m\u001b[0;34m.\u001b[0m\u001b[0mresult\u001b[0m\u001b[0;34m(\u001b[0m\u001b[0;34m)\u001b[0m\u001b[0;34m\u001b[0m\u001b[0;34m\u001b[0m\u001b[0m\n\u001b[0m\u001b[1;32m     99\u001b[0m \u001b[0;34m\u001b[0m\u001b[0m\n\u001b[1;32m    100\u001b[0m     \u001b[0;32mdef\u001b[0m \u001b[0m_run_once\u001b[0m\u001b[0;34m(\u001b[0m\u001b[0mself\u001b[0m\u001b[0;34m)\u001b[0m\u001b[0;34m:\u001b[0m\u001b[0;34m\u001b[0m\u001b[0;34m\u001b[0m\u001b[0m\n",
            "\u001b[0;32m/usr/lib/python3.10/asyncio/futures.py\u001b[0m in \u001b[0;36mresult\u001b[0;34m(self)\u001b[0m\n\u001b[1;32m    199\u001b[0m         \u001b[0mself\u001b[0m\u001b[0;34m.\u001b[0m\u001b[0m__log_traceback\u001b[0m \u001b[0;34m=\u001b[0m \u001b[0;32mFalse\u001b[0m\u001b[0;34m\u001b[0m\u001b[0;34m\u001b[0m\u001b[0m\n\u001b[1;32m    200\u001b[0m         \u001b[0;32mif\u001b[0m \u001b[0mself\u001b[0m\u001b[0;34m.\u001b[0m\u001b[0m_exception\u001b[0m \u001b[0;32mis\u001b[0m \u001b[0;32mnot\u001b[0m \u001b[0;32mNone\u001b[0m\u001b[0;34m:\u001b[0m\u001b[0;34m\u001b[0m\u001b[0;34m\u001b[0m\u001b[0m\n\u001b[0;32m--> 201\u001b[0;31m             \u001b[0;32mraise\u001b[0m \u001b[0mself\u001b[0m\u001b[0;34m.\u001b[0m\u001b[0m_exception\u001b[0m\u001b[0;34m.\u001b[0m\u001b[0mwith_traceback\u001b[0m\u001b[0;34m(\u001b[0m\u001b[0mself\u001b[0m\u001b[0;34m.\u001b[0m\u001b[0m_exception_tb\u001b[0m\u001b[0;34m)\u001b[0m\u001b[0;34m\u001b[0m\u001b[0;34m\u001b[0m\u001b[0m\n\u001b[0m\u001b[1;32m    202\u001b[0m         \u001b[0;32mreturn\u001b[0m \u001b[0mself\u001b[0m\u001b[0;34m.\u001b[0m\u001b[0m_result\u001b[0m\u001b[0;34m\u001b[0m\u001b[0;34m\u001b[0m\u001b[0m\n\u001b[1;32m    203\u001b[0m \u001b[0;34m\u001b[0m\u001b[0m\n",
            "\u001b[0;32m/usr/lib/python3.10/asyncio/tasks.py\u001b[0m in \u001b[0;36m__step\u001b[0;34m(***failed resolving arguments***)\u001b[0m\n\u001b[1;32m    230\u001b[0m                 \u001b[0;31m# We use the `send` method directly, because coroutines\u001b[0m\u001b[0;34m\u001b[0m\u001b[0;34m\u001b[0m\u001b[0m\n\u001b[1;32m    231\u001b[0m                 \u001b[0;31m# don't have `__iter__` and `__next__` methods.\u001b[0m\u001b[0;34m\u001b[0m\u001b[0;34m\u001b[0m\u001b[0m\n\u001b[0;32m--> 232\u001b[0;31m                 \u001b[0mresult\u001b[0m \u001b[0;34m=\u001b[0m \u001b[0mcoro\u001b[0m\u001b[0;34m.\u001b[0m\u001b[0msend\u001b[0m\u001b[0;34m(\u001b[0m\u001b[0;32mNone\u001b[0m\u001b[0;34m)\u001b[0m\u001b[0;34m\u001b[0m\u001b[0;34m\u001b[0m\u001b[0m\n\u001b[0m\u001b[1;32m    233\u001b[0m             \u001b[0;32melse\u001b[0m\u001b[0;34m:\u001b[0m\u001b[0;34m\u001b[0m\u001b[0;34m\u001b[0m\u001b[0m\n\u001b[1;32m    234\u001b[0m                 \u001b[0mresult\u001b[0m \u001b[0;34m=\u001b[0m \u001b[0mcoro\u001b[0m\u001b[0;34m.\u001b[0m\u001b[0mthrow\u001b[0m\u001b[0;34m(\u001b[0m\u001b[0mexc\u001b[0m\u001b[0;34m)\u001b[0m\u001b[0;34m\u001b[0m\u001b[0;34m\u001b[0m\u001b[0m\n",
            "\u001b[0;32m/usr/local/lib/python3.10/dist-packages/orbax/checkpoint/type_handlers.py\u001b[0m in \u001b[0;36m_background_serialize\u001b[0;34m(self, values, infos, args)\u001b[0m\n\u001b[1;32m   1218\u001b[0m         \u001b[0;32mif\u001b[0m \u001b[0mocdbt_transaction\u001b[0m \u001b[0;32mis\u001b[0m \u001b[0;32mNone\u001b[0m\u001b[0;34m:\u001b[0m\u001b[0;34m\u001b[0m\u001b[0;34m\u001b[0m\u001b[0m\n\u001b[1;32m   1219\u001b[0m           \u001b[0mocdbt_transaction\u001b[0m \u001b[0;34m=\u001b[0m \u001b[0mts\u001b[0m\u001b[0;34m.\u001b[0m\u001b[0mTransaction\u001b[0m\u001b[0;34m(\u001b[0m\u001b[0matomic\u001b[0m\u001b[0;34m=\u001b[0m\u001b[0;32mTrue\u001b[0m\u001b[0;34m)\u001b[0m\u001b[0;34m\u001b[0m\u001b[0;34m\u001b[0m\u001b[0m\n\u001b[0;32m-> 1220\u001b[0;31m       tspec = self._get_json_tspec_write(\n\u001b[0m\u001b[1;32m   1221\u001b[0m           \u001b[0minfo\u001b[0m\u001b[0;34m,\u001b[0m\u001b[0;34m\u001b[0m\u001b[0;34m\u001b[0m\u001b[0m\n\u001b[1;32m   1222\u001b[0m           \u001b[0mvalue\u001b[0m\u001b[0;34m,\u001b[0m\u001b[0;34m\u001b[0m\u001b[0;34m\u001b[0m\u001b[0m\n",
            "\u001b[0;32m/usr/local/lib/python3.10/dist-packages/orbax/checkpoint/type_handlers.py\u001b[0m in \u001b[0;36m_get_json_tspec_write\u001b[0;34m(self, info, value, use_ocdbt, process_index, arg)\u001b[0m\n\u001b[1;32m   1088\u001b[0m     \u001b[0;34m\"\"\"Gets Tensorstore spec for writing.\"\"\"\u001b[0m\u001b[0;34m\u001b[0m\u001b[0;34m\u001b[0m\u001b[0m\n\u001b[1;32m   1089\u001b[0m \u001b[0;34m\u001b[0m\u001b[0m\n\u001b[0;32m-> 1090\u001b[0;31m     return get_json_tspec_write(\n\u001b[0m\u001b[1;32m   1091\u001b[0m         \u001b[0minfo\u001b[0m\u001b[0;34m=\u001b[0m\u001b[0minfo\u001b[0m\u001b[0;34m,\u001b[0m\u001b[0;34m\u001b[0m\u001b[0;34m\u001b[0m\u001b[0m\n\u001b[1;32m   1092\u001b[0m         \u001b[0muse_ocdbt\u001b[0m\u001b[0;34m=\u001b[0m\u001b[0muse_ocdbt\u001b[0m\u001b[0;34m,\u001b[0m\u001b[0;34m\u001b[0m\u001b[0;34m\u001b[0m\u001b[0m\n",
            "\u001b[0;32m/usr/local/lib/python3.10/dist-packages/orbax/checkpoint/type_handlers.py\u001b[0m in \u001b[0;36mget_json_tspec_write\u001b[0;34m(info, use_ocdbt, global_shape, local_shape, dtype, process_index, metadata_key, arg)\u001b[0m\n\u001b[1;32m    313\u001b[0m ):\n\u001b[1;32m    314\u001b[0m   \u001b[0;34m\"\"\"Gets Tensorstore spec for writing.\"\"\"\u001b[0m\u001b[0;34m\u001b[0m\u001b[0;34m\u001b[0m\u001b[0m\n\u001b[0;32m--> 315\u001b[0;31m   tspec = _get_json_tspec(\n\u001b[0m\u001b[1;32m    316\u001b[0m       \u001b[0minfo\u001b[0m\u001b[0;34m,\u001b[0m\u001b[0;34m\u001b[0m\u001b[0;34m\u001b[0m\u001b[0m\n\u001b[1;32m    317\u001b[0m       \u001b[0muse_ocdbt\u001b[0m\u001b[0;34m=\u001b[0m\u001b[0muse_ocdbt\u001b[0m\u001b[0;34m,\u001b[0m\u001b[0;34m\u001b[0m\u001b[0;34m\u001b[0m\u001b[0m\n",
            "\u001b[0;32m/usr/local/lib/python3.10/dist-packages/orbax/checkpoint/type_handlers.py\u001b[0m in \u001b[0;36m_get_json_tspec\u001b[0;34m(info, use_ocdbt, process_index, metadata_key)\u001b[0m\n\u001b[1;32m    266\u001b[0m   \u001b[0;32massert\u001b[0m \u001b[0mparent_dir\u001b[0m \u001b[0;32mis\u001b[0m \u001b[0;32mnot\u001b[0m \u001b[0;32mNone\u001b[0m\u001b[0;34m\u001b[0m\u001b[0;34m\u001b[0m\u001b[0m\n\u001b[1;32m    267\u001b[0m   \u001b[0mdirectory\u001b[0m \u001b[0;34m=\u001b[0m \u001b[0mparent_dir\u001b[0m\u001b[0;34m.\u001b[0m\u001b[0mas_posix\u001b[0m\u001b[0;34m(\u001b[0m\u001b[0;34m)\u001b[0m\u001b[0;34m\u001b[0m\u001b[0;34m\u001b[0m\u001b[0m\n\u001b[0;32m--> 268\u001b[0;31m   kvstore_tspec = ts_utils.build_kvstore_tspec(\n\u001b[0m\u001b[1;32m    269\u001b[0m       \u001b[0mdirectory\u001b[0m\u001b[0;34m,\u001b[0m\u001b[0;34m\u001b[0m\u001b[0;34m\u001b[0m\u001b[0m\n\u001b[1;32m    270\u001b[0m       \u001b[0mname\u001b[0m\u001b[0;34m=\u001b[0m\u001b[0minfo\u001b[0m\u001b[0;34m.\u001b[0m\u001b[0mname\u001b[0m\u001b[0;34m,\u001b[0m\u001b[0;34m\u001b[0m\u001b[0;34m\u001b[0m\u001b[0m\n",
            "\u001b[0;32m/usr/local/lib/python3.10/dist-packages/orbax/checkpoint/_src/serialization/tensorstore_utils.py\u001b[0m in \u001b[0;36mbuild_kvstore_tspec\u001b[0;34m(directory, name, use_ocdbt, process_id, ocdbt_target_data_file_size)\u001b[0m\n\u001b[1;32m     90\u001b[0m   \u001b[0;32mif\u001b[0m \u001b[0muse_ocdbt\u001b[0m\u001b[0;34m:\u001b[0m\u001b[0;34m\u001b[0m\u001b[0;34m\u001b[0m\u001b[0m\n\u001b[1;32m     91\u001b[0m     \u001b[0;32mif\u001b[0m \u001b[0;32mnot\u001b[0m \u001b[0mis_gcs_path\u001b[0m \u001b[0;32mand\u001b[0m \u001b[0;32mnot\u001b[0m \u001b[0mos\u001b[0m\u001b[0;34m.\u001b[0m\u001b[0mpath\u001b[0m\u001b[0;34m.\u001b[0m\u001b[0misabs\u001b[0m\u001b[0;34m(\u001b[0m\u001b[0mdirectory\u001b[0m\u001b[0;34m)\u001b[0m\u001b[0;34m:\u001b[0m\u001b[0;34m\u001b[0m\u001b[0;34m\u001b[0m\u001b[0m\n\u001b[0;32m---> 92\u001b[0;31m       \u001b[0;32mraise\u001b[0m \u001b[0mValueError\u001b[0m\u001b[0;34m(\u001b[0m\u001b[0;34mf'Checkpoint path should be absolute. Got {directory}'\u001b[0m\u001b[0;34m)\u001b[0m\u001b[0;34m\u001b[0m\u001b[0;34m\u001b[0m\u001b[0m\n\u001b[0m\u001b[1;32m     93\u001b[0m     \u001b[0;32mif\u001b[0m \u001b[0mprocess_id\u001b[0m \u001b[0;32mis\u001b[0m \u001b[0;32mnot\u001b[0m \u001b[0;32mNone\u001b[0m\u001b[0;34m:\u001b[0m\u001b[0;34m\u001b[0m\u001b[0;34m\u001b[0m\u001b[0m\n\u001b[1;32m     94\u001b[0m       \u001b[0mprocess_id\u001b[0m \u001b[0;34m=\u001b[0m \u001b[0mstr\u001b[0m\u001b[0;34m(\u001b[0m\u001b[0mprocess_id\u001b[0m\u001b[0;34m)\u001b[0m\u001b[0;34m\u001b[0m\u001b[0;34m\u001b[0m\u001b[0m\n",
            "\u001b[0;31mValueError\u001b[0m: Checkpoint path should be absolute. Got my_checkpoints/my_model100.orbax-checkpoint-tmp-0"
          ]
        }
      ],
      "source": [
        "checkpoints.save_checkpoint(ckpt_dir='my_checkpoints/',  # Folder to save checkpoint in\n",
        "                            target=trained_model_state,  # What to save. To only save parameters, use model_state.params\n",
        "                            step=100,  # Training step or other metric to save best model on\n",
        "                            prefix='my_model',  # Checkpoint file name prefix\n",
        "                            overwrite=True   # Overwrite existing checkpoint files\n",
        "                           )"
      ]
    },
    {
      "cell_type": "markdown",
      "metadata": {
        "id": "W84-JQuEJfrg"
      },
      "source": [
        "To load this state dict again, we can use `checkpoints.restore_checkpoint`:"
      ]
    },
    {
      "cell_type": "code",
      "execution_count": null,
      "metadata": {
        "id": "EltuxLAVJfrg"
      },
      "outputs": [],
      "source": [
        "loaded_model_state = checkpoints.restore_checkpoint(\n",
        "                                             ckpt_dir='my_checkpoints/',   # Folder with the checkpoints\n",
        "                                             target=model_state,   # (optional) matching object to rebuild state in\n",
        "                                             prefix='my_model'  # Checkpoint file name prefix\n",
        "                                            )"
      ]
    },
    {
      "cell_type": "markdown",
      "metadata": {
        "id": "QhKxTDnuJfrg"
      },
      "source": [
        "The states `loaded_model_state` and `trained_model_state` have the identical parameter values."
      ]
    },
    {
      "cell_type": "markdown",
      "metadata": {
        "id": "olZjUQ_8Jfrg"
      },
      "source": [
        "### Evaluation\n",
        "\n",
        "Once we have trained a model, it is time to evaluate it on a held-out test set. As our dataset consist of randomly generated data points, we need to first create a test set with a corresponding data loader."
      ]
    },
    {
      "cell_type": "code",
      "execution_count": 62,
      "metadata": {
        "id": "Ps6YRhSIJfrg"
      },
      "outputs": [],
      "source": [
        "test_dataset = XORDataset(size=500, seed=123)\n",
        "# drop_last -> Don't drop the last batch although it is smaller than 128\n",
        "test_data_loader = data.DataLoader(test_dataset,\n",
        "                                   batch_size=128,\n",
        "                                   shuffle=False,\n",
        "                                   drop_last=False,\n",
        "                                   collate_fn=numpy_collate)"
      ]
    },
    {
      "cell_type": "markdown",
      "metadata": {
        "id": "jxHRniVRJfrg"
      },
      "source": [
        "We can use our `eval_step` function to efficiently evaluate our model:"
      ]
    },
    {
      "cell_type": "code",
      "execution_count": 63,
      "metadata": {
        "id": "H6WCiRUoJfrg"
      },
      "outputs": [],
      "source": [
        "def eval_model(state, data_loader):\n",
        "    all_accs, batch_sizes = [], []\n",
        "    for batch in data_loader:\n",
        "        batch_acc = eval_step(state, batch)\n",
        "        all_accs.append(batch_acc)\n",
        "        batch_sizes.append(batch[0].shape[0])\n",
        "    # Weighted average since some batches might be smaller\n",
        "    acc = sum([a*b for a,b in zip(all_accs, batch_sizes)]) / sum(batch_sizes)\n",
        "    print(f\"Accuracy of the model: {100.0*acc:4.2f}%\")"
      ]
    },
    {
      "cell_type": "code",
      "execution_count": 64,
      "metadata": {
        "colab": {
          "base_uri": "https://localhost:8080/"
        },
        "id": "e5Ba2uFlJfrg",
        "outputId": "42a36847-5393-418c-8edb-1fd02a45d85d"
      },
      "outputs": [
        {
          "output_type": "stream",
          "name": "stdout",
          "text": [
            "Accuracy of the model: 100.00%\n"
          ]
        }
      ],
      "source": [
        "eval_model(trained_model_state, test_data_loader)"
      ]
    },
    {
      "cell_type": "markdown",
      "metadata": {
        "id": "Kgw-qDckJfrg"
      },
      "source": [
        "If we trained our model correctly, we should see a score close to 100% accuracy. However, this is only possible because of our simple task, and unfortunately, we usually don't get such high scores on test sets of more complex tasks."
      ]
    },
    {
      "cell_type": "markdown",
      "metadata": {
        "id": "8BDtB1rAJfrg"
      },
      "source": [
        "#### Binding model parameters\n",
        "\n",
        "Once we have trained the model, we might want to do multiple application of the same model and parameters. It can get a bit annoying to always write `model.apply(params, ...)` and keep track of the model and parameters separately. To prevent this, Flax's module can be bound to specific parameters to simplify our application. Specifically, we can bind the instance `model` of our `SimpleClassifier` class to our trained parameter as follows:"
      ]
    },
    {
      "cell_type": "code",
      "execution_count": 65,
      "metadata": {
        "id": "coKjKlbxJfrg"
      },
      "outputs": [],
      "source": [
        "trained_model = model.bind(trained_model_state.params)"
      ]
    },
    {
      "cell_type": "markdown",
      "metadata": {
        "id": "6aXyzRrZJfrg"
      },
      "source": [
        "With the model being binded to the parameters, we can use it as we would any PyTorch module. For instance, to apply it to an input array, we can simply run:"
      ]
    },
    {
      "cell_type": "code",
      "execution_count": 66,
      "metadata": {
        "colab": {
          "base_uri": "https://localhost:8080/"
        },
        "id": "_DlILmM8Jfrg",
        "outputId": "e13bd70e-27e1-4249-ae83-f6578b8a0e28"
      },
      "outputs": [
        {
          "output_type": "execute_result",
          "data": {
            "text/plain": [
              "(8, 1)"
            ]
          },
          "metadata": {},
          "execution_count": 66
        }
      ],
      "source": [
        "data_input, labels = next(iter(data_loader))\n",
        "out = trained_model(data_input)  # No explicit parameter passing necessary anymore\n",
        "out.shape"
      ]
    },
    {
      "cell_type": "markdown",
      "metadata": {
        "id": "Wp22savHJfrg"
      },
      "source": [
        "This can simplify the analysis of models, and provide a more familiar interface to PyTorch users."
      ]
    },
    {
      "cell_type": "markdown",
      "metadata": {
        "id": "imFZ0iccJfrg"
      },
      "source": [
        "#### Visualizing classification boundaries\n",
        "\n",
        "To visualize what our model has learned, we can perform a prediction for every data point in a range of $[-0.5, 1.5]$, and visualize the predicted class as in the sample figure at the beginning of this section. This shows where the model has created decision boundaries, and which points would be classified as $0$, and which as $1$. We therefore get a background image out of blue (class 0) and orange (class 1). The spots where the model is uncertain we will see a blurry overlap. The specific code is less relevant compared to the output figure which should hopefully show us a clear separation of classes:"
      ]
    },
    {
      "cell_type": "code",
      "execution_count": 67,
      "metadata": {
        "scrolled": false,
        "colab": {
          "base_uri": "https://localhost:8080/",
          "height": 425
        },
        "id": "RnYcX5ynJfrg",
        "outputId": "4d03eec1-7c11-4820-9a8d-7e381fad48ca"
      },
      "outputs": [
        {
          "output_type": "display_data",
          "data": {
            "text/plain": [
              "<Figure size 2000x2000 with 1 Axes>"
            ],
            "image/svg+xml": "<?xml version=\"1.0\" encoding=\"utf-8\" standalone=\"no\"?>\n<!DOCTYPE svg PUBLIC \"-//W3C//DTD SVG 1.1//EN\"\n  \"http://www.w3.org/Graphics/SVG/1.1/DTD/svg11.dtd\">\n<svg xmlns:xlink=\"http://www.w3.org/1999/xlink\" width=\"303.730313pt\" height=\"287.037813pt\" viewBox=\"0 0 303.730313 287.037813\" xmlns=\"http://www.w3.org/2000/svg\" version=\"1.1\">\n <metadata>\n  <rdf:RDF xmlns:dc=\"http://purl.org/dc/elements/1.1/\" xmlns:cc=\"http://creativecommons.org/ns#\" xmlns:rdf=\"http://www.w3.org/1999/02/22-rdf-syntax-ns#\">\n   <cc:Work>\n    <dc:type rdf:resource=\"http://purl.org/dc/dcmitype/StillImage\"/>\n    <dc:date>2024-12-15T17:56:46.431799</dc:date>\n    <dc:format>image/svg+xml</dc:format>\n    <dc:creator>\n     <cc:Agent>\n      <dc:title>Matplotlib v3.8.0, https://matplotlib.org/</dc:title>\n     </cc:Agent>\n    </dc:creator>\n   </cc:Work>\n  </rdf:RDF>\n </metadata>\n <defs>\n  <style type=\"text/css\">*{stroke-linejoin: round; stroke-linecap: butt}</style>\n </defs>\n <g id=\"figure_1\">\n  <g id=\"patch_1\">\n   <path d=\"M 0 287.037813 \nL 303.730313 287.037813 \nL 303.730313 0 \nL 0 0 \nz\n\" style=\"fill: #ffffff\"/>\n  </g>\n  <g id=\"axes_1\">\n   <g id=\"patch_2\">\n    <path d=\"M 66.023594 244.078125 \nL 287.783594 244.078125 \nL 287.783594 22.318125 \nL 66.023594 22.318125 \nz\n\" style=\"fill: #eaeaf2\"/>\n   </g>\n   <g clip-path=\"url(#p2e867b39ef)\">\n    <image xlink:href=\"data:image/png;base64,\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\" id=\"imagea505521ff9\" transform=\"scale(1 -1) translate(0 -221.904)\" x=\"66.023594\" y=\"-22.174125\" width=\"221.904\" height=\"221.904\"/>\n   </g>\n   <g id=\"matplotlib.axis_1\">\n    <g id=\"xtick_1\">\n     <g id=\"text_1\">\n      <!-- −0.5 -->\n      <g style=\"fill: #262626\" transform=\"translate(52.668047 261.936406) scale(0.11 -0.11)\">\n       <defs>\n        <path id=\"DejaVuSans-2212\" d=\"M 678 2272 \nL 4684 2272 \nL 4684 1741 \nL 678 1741 \nL 678 2272 \nz\n\" transform=\"scale(0.015625)\"/>\n        <path id=\"DejaVuSans-30\" d=\"M 2034 4250 \nQ 1547 4250 1301 3770 \nQ 1056 3291 1056 2328 \nQ 1056 1369 1301 889 \nQ 1547 409 2034 409 \nQ 2525 409 2770 889 \nQ 3016 1369 3016 2328 \nQ 3016 3291 2770 3770 \nQ 2525 4250 2034 4250 \nz\nM 2034 4750 \nQ 2819 4750 3233 4129 \nQ 3647 3509 3647 2328 \nQ 3647 1150 3233 529 \nQ 2819 -91 2034 -91 \nQ 1250 -91 836 529 \nQ 422 1150 422 2328 \nQ 422 3509 836 4129 \nQ 1250 4750 2034 4750 \nz\n\" transform=\"scale(0.015625)\"/>\n        <path id=\"DejaVuSans-2e\" d=\"M 684 794 \nL 1344 794 \nL 1344 0 \nL 684 0 \nL 684 794 \nz\n\" transform=\"scale(0.015625)\"/>\n        <path id=\"DejaVuSans-35\" d=\"M 691 4666 \nL 3169 4666 \nL 3169 4134 \nL 1269 4134 \nL 1269 2991 \nQ 1406 3038 1543 3061 \nQ 1681 3084 1819 3084 \nQ 2600 3084 3056 2656 \nQ 3513 2228 3513 1497 \nQ 3513 744 3044 326 \nQ 2575 -91 1722 -91 \nQ 1428 -91 1123 -41 \nQ 819 9 494 109 \nL 494 744 \nQ 775 591 1075 516 \nQ 1375 441 1709 441 \nQ 2250 441 2565 725 \nQ 2881 1009 2881 1497 \nQ 2881 1984 2565 2268 \nQ 2250 2553 1709 2553 \nQ 1456 2553 1204 2497 \nQ 953 2441 691 2322 \nL 691 4666 \nz\n\" transform=\"scale(0.015625)\"/>\n       </defs>\n       <use xlink:href=\"#DejaVuSans-2212\"/>\n       <use xlink:href=\"#DejaVuSans-30\" x=\"83.789062\"/>\n       <use xlink:href=\"#DejaVuSans-2e\" x=\"147.412109\"/>\n       <use xlink:href=\"#DejaVuSans-35\" x=\"179.199219\"/>\n      </g>\n     </g>\n    </g>\n    <g id=\"xtick_2\">\n     <g id=\"text_2\">\n      <!-- 0.0 -->\n      <g style=\"fill: #262626\" transform=\"translate(112.716875 261.936406) scale(0.11 -0.11)\">\n       <use xlink:href=\"#DejaVuSans-30\"/>\n       <use xlink:href=\"#DejaVuSans-2e\" x=\"63.623047\"/>\n       <use xlink:href=\"#DejaVuSans-30\" x=\"95.410156\"/>\n      </g>\n     </g>\n    </g>\n    <g id=\"xtick_3\">\n     <g id=\"text_3\">\n      <!-- 0.5 -->\n      <g style=\"fill: #262626\" transform=\"translate(168.156875 261.936406) scale(0.11 -0.11)\">\n       <use xlink:href=\"#DejaVuSans-30\"/>\n       <use xlink:href=\"#DejaVuSans-2e\" x=\"63.623047\"/>\n       <use xlink:href=\"#DejaVuSans-35\" x=\"95.410156\"/>\n      </g>\n     </g>\n    </g>\n    <g id=\"xtick_4\">\n     <g id=\"text_4\">\n      <!-- 1.0 -->\n      <g style=\"fill: #262626\" transform=\"translate(223.596875 261.936406) scale(0.11 -0.11)\">\n       <defs>\n        <path id=\"DejaVuSans-31\" d=\"M 794 531 \nL 1825 531 \nL 1825 4091 \nL 703 3866 \nL 703 4441 \nL 1819 4666 \nL 2450 4666 \nL 2450 531 \nL 3481 531 \nL 3481 0 \nL 794 0 \nL 794 531 \nz\n\" transform=\"scale(0.015625)\"/>\n       </defs>\n       <use xlink:href=\"#DejaVuSans-31\"/>\n       <use xlink:href=\"#DejaVuSans-2e\" x=\"63.623047\"/>\n       <use xlink:href=\"#DejaVuSans-30\" x=\"95.410156\"/>\n      </g>\n     </g>\n    </g>\n    <g id=\"xtick_5\">\n     <g id=\"text_5\">\n      <!-- 1.5 -->\n      <g style=\"fill: #262626\" transform=\"translate(279.036875 261.936406) scale(0.11 -0.11)\">\n       <use xlink:href=\"#DejaVuSans-31\"/>\n       <use xlink:href=\"#DejaVuSans-2e\" x=\"63.623047\"/>\n       <use xlink:href=\"#DejaVuSans-35\" x=\"95.410156\"/>\n      </g>\n     </g>\n    </g>\n    <g id=\"text_6\">\n     <!-- $x_1$ -->\n     <g style=\"fill: #262626\" transform=\"translate(170.483594 277.342188) scale(0.12 -0.12)\">\n      <defs>\n       <path id=\"DejaVuSans-Oblique-78\" d=\"M 3841 3500 \nL 2234 1784 \nL 3219 0 \nL 2559 0 \nL 1819 1388 \nL 531 0 \nL -166 0 \nL 1556 1844 \nL 641 3500 \nL 1300 3500 \nL 1972 2234 \nL 3144 3500 \nL 3841 3500 \nz\n\" transform=\"scale(0.015625)\"/>\n      </defs>\n      <use xlink:href=\"#DejaVuSans-Oblique-78\" transform=\"translate(0 0.3125)\"/>\n      <use xlink:href=\"#DejaVuSans-31\" transform=\"translate(59.179688 -16.09375) scale(0.7)\"/>\n     </g>\n    </g>\n   </g>\n   <g id=\"matplotlib.axis_2\">\n    <g id=\"ytick_1\">\n     <g id=\"text_7\">\n      <!-- −0.50 -->\n      <g style=\"fill: #262626\" transform=\"translate(22.81375 248.257266) scale(0.11 -0.11)\">\n       <use xlink:href=\"#DejaVuSans-2212\"/>\n       <use xlink:href=\"#DejaVuSans-30\" x=\"83.789062\"/>\n       <use xlink:href=\"#DejaVuSans-2e\" x=\"147.412109\"/>\n       <use xlink:href=\"#DejaVuSans-35\" x=\"179.199219\"/>\n       <use xlink:href=\"#DejaVuSans-30\" x=\"242.822266\"/>\n      </g>\n     </g>\n    </g>\n    <g id=\"ytick_2\">\n     <g id=\"text_8\">\n      <!-- −0.25 -->\n      <g style=\"fill: #262626\" transform=\"translate(22.81375 220.537266) scale(0.11 -0.11)\">\n       <defs>\n        <path id=\"DejaVuSans-32\" d=\"M 1228 531 \nL 3431 531 \nL 3431 0 \nL 469 0 \nL 469 531 \nQ 828 903 1448 1529 \nQ 2069 2156 2228 2338 \nQ 2531 2678 2651 2914 \nQ 2772 3150 2772 3378 \nQ 2772 3750 2511 3984 \nQ 2250 4219 1831 4219 \nQ 1534 4219 1204 4116 \nQ 875 4013 500 3803 \nL 500 4441 \nQ 881 4594 1212 4672 \nQ 1544 4750 1819 4750 \nQ 2544 4750 2975 4387 \nQ 3406 4025 3406 3419 \nQ 3406 3131 3298 2873 \nQ 3191 2616 2906 2266 \nQ 2828 2175 2409 1742 \nQ 1991 1309 1228 531 \nz\n\" transform=\"scale(0.015625)\"/>\n       </defs>\n       <use xlink:href=\"#DejaVuSans-2212\"/>\n       <use xlink:href=\"#DejaVuSans-30\" x=\"83.789062\"/>\n       <use xlink:href=\"#DejaVuSans-2e\" x=\"147.412109\"/>\n       <use xlink:href=\"#DejaVuSans-32\" x=\"179.199219\"/>\n       <use xlink:href=\"#DejaVuSans-35\" x=\"242.822266\"/>\n      </g>\n     </g>\n    </g>\n    <g id=\"ytick_3\">\n     <g id=\"text_9\">\n      <!-- 0.00 -->\n      <g style=\"fill: #262626\" transform=\"translate(32.031406 192.817266) scale(0.11 -0.11)\">\n       <use xlink:href=\"#DejaVuSans-30\"/>\n       <use xlink:href=\"#DejaVuSans-2e\" x=\"63.623047\"/>\n       <use xlink:href=\"#DejaVuSans-30\" x=\"95.410156\"/>\n       <use xlink:href=\"#DejaVuSans-30\" x=\"159.033203\"/>\n      </g>\n     </g>\n    </g>\n    <g id=\"ytick_4\">\n     <g id=\"text_10\">\n      <!-- 0.25 -->\n      <g style=\"fill: #262626\" transform=\"translate(32.031406 165.097266) scale(0.11 -0.11)\">\n       <use xlink:href=\"#DejaVuSans-30\"/>\n       <use xlink:href=\"#DejaVuSans-2e\" x=\"63.623047\"/>\n       <use xlink:href=\"#DejaVuSans-32\" x=\"95.410156\"/>\n       <use xlink:href=\"#DejaVuSans-35\" x=\"159.033203\"/>\n      </g>\n     </g>\n    </g>\n    <g id=\"ytick_5\">\n     <g id=\"text_11\">\n      <!-- 0.50 -->\n      <g style=\"fill: #262626\" transform=\"translate(32.031406 137.377266) scale(0.11 -0.11)\">\n       <use xlink:href=\"#DejaVuSans-30\"/>\n       <use xlink:href=\"#DejaVuSans-2e\" x=\"63.623047\"/>\n       <use xlink:href=\"#DejaVuSans-35\" x=\"95.410156\"/>\n       <use xlink:href=\"#DejaVuSans-30\" x=\"159.033203\"/>\n      </g>\n     </g>\n    </g>\n    <g id=\"ytick_6\">\n     <g id=\"text_12\">\n      <!-- 0.75 -->\n      <g style=\"fill: #262626\" transform=\"translate(32.031406 109.657266) scale(0.11 -0.11)\">\n       <defs>\n        <path id=\"DejaVuSans-37\" d=\"M 525 4666 \nL 3525 4666 \nL 3525 4397 \nL 1831 0 \nL 1172 0 \nL 2766 4134 \nL 525 4134 \nL 525 4666 \nz\n\" transform=\"scale(0.015625)\"/>\n       </defs>\n       <use xlink:href=\"#DejaVuSans-30\"/>\n       <use xlink:href=\"#DejaVuSans-2e\" x=\"63.623047\"/>\n       <use xlink:href=\"#DejaVuSans-37\" x=\"95.410156\"/>\n       <use xlink:href=\"#DejaVuSans-35\" x=\"159.033203\"/>\n      </g>\n     </g>\n    </g>\n    <g id=\"ytick_7\">\n     <g id=\"text_13\">\n      <!-- 1.00 -->\n      <g style=\"fill: #262626\" transform=\"translate(32.031406 81.937266) scale(0.11 -0.11)\">\n       <use xlink:href=\"#DejaVuSans-31\"/>\n       <use xlink:href=\"#DejaVuSans-2e\" x=\"63.623047\"/>\n       <use xlink:href=\"#DejaVuSans-30\" x=\"95.410156\"/>\n       <use xlink:href=\"#DejaVuSans-30\" x=\"159.033203\"/>\n      </g>\n     </g>\n    </g>\n    <g id=\"ytick_8\">\n     <g id=\"text_14\">\n      <!-- 1.25 -->\n      <g style=\"fill: #262626\" transform=\"translate(32.031406 54.217266) scale(0.11 -0.11)\">\n       <use xlink:href=\"#DejaVuSans-31\"/>\n       <use xlink:href=\"#DejaVuSans-2e\" x=\"63.623047\"/>\n       <use xlink:href=\"#DejaVuSans-32\" x=\"95.410156\"/>\n       <use xlink:href=\"#DejaVuSans-35\" x=\"159.033203\"/>\n      </g>\n     </g>\n    </g>\n    <g id=\"ytick_9\">\n     <g id=\"text_15\">\n      <!-- 1.50 -->\n      <g style=\"fill: #262626\" transform=\"translate(32.031406 26.497266) scale(0.11 -0.11)\">\n       <use xlink:href=\"#DejaVuSans-31\"/>\n       <use xlink:href=\"#DejaVuSans-2e\" x=\"63.623047\"/>\n       <use xlink:href=\"#DejaVuSans-35\" x=\"95.410156\"/>\n       <use xlink:href=\"#DejaVuSans-30\" x=\"159.033203\"/>\n      </g>\n     </g>\n    </g>\n    <g id=\"text_16\">\n     <!-- $x_2$ -->\n     <g style=\"fill: #262626\" transform=\"translate(16.318125 139.618125) rotate(-90) scale(0.12 -0.12)\">\n      <use xlink:href=\"#DejaVuSans-Oblique-78\" transform=\"translate(0 0.3125)\"/>\n      <use xlink:href=\"#DejaVuSans-32\" transform=\"translate(59.179688 -16.09375) scale(0.7)\"/>\n     </g>\n    </g>\n   </g>\n   <g id=\"PathCollection_1\">\n    <defs>\n     <path id=\"m663aa3e462\" d=\"M 0 3 \nC 0.795609 3 1.55874 2.683901 2.12132 2.12132 \nC 2.683901 1.55874 3 0.795609 3 0 \nC 3 -0.795609 2.683901 -1.55874 2.12132 -2.12132 \nC 1.55874 -2.683901 0.795609 -3 0 -3 \nC -0.795609 -3 -1.55874 -2.683901 -2.12132 -2.12132 \nC -2.683901 -1.55874 -3 -0.795609 -3 0 \nC -3 0.795609 -2.683901 1.55874 -2.12132 2.12132 \nC -1.55874 2.683901 -0.795609 3 0 3 \nz\n\" style=\"stroke: #333333\"/>\n    </defs>\n    <g clip-path=\"url(#p2e867b39ef)\">\n     <use xlink:href=\"#m663aa3e462\" x=\"124.713181\" y=\"196.558853\" style=\"fill: #4c72b0; stroke: #333333\"/>\n     <use xlink:href=\"#m663aa3e462\" x=\"108.25442\" y=\"181.358259\" style=\"fill: #4c72b0; stroke: #333333\"/>\n     <use xlink:href=\"#m663aa3e462\" x=\"134.310102\" y=\"197.737851\" style=\"fill: #4c72b0; stroke: #333333\"/>\n     <use xlink:href=\"#m663aa3e462\" x=\"132.145509\" y=\"184.06121\" style=\"fill: #4c72b0; stroke: #333333\"/>\n     <use xlink:href=\"#m663aa3e462\" x=\"229.62273\" y=\"86.115549\" style=\"fill: #4c72b0; stroke: #333333\"/>\n     <use xlink:href=\"#m663aa3e462\" x=\"235.41154\" y=\"68.586312\" style=\"fill: #4c72b0; stroke: #333333\"/>\n     <use xlink:href=\"#m663aa3e462\" x=\"232.487762\" y=\"61.641336\" style=\"fill: #4c72b0; stroke: #333333\"/>\n     <use xlink:href=\"#m663aa3e462\" x=\"229.409082\" y=\"47.596893\" style=\"fill: #4c72b0; stroke: #333333\"/>\n     <use xlink:href=\"#m663aa3e462\" x=\"239.280996\" y=\"87.26229\" style=\"fill: #4c72b0; stroke: #333333\"/>\n     <use xlink:href=\"#m663aa3e462\" x=\"109.589538\" y=\"183.288471\" style=\"fill: #4c72b0; stroke: #333333\"/>\n     <use xlink:href=\"#m663aa3e462\" x=\"229.865841\" y=\"69.841288\" style=\"fill: #4c72b0; stroke: #333333\"/>\n     <use xlink:href=\"#m663aa3e462\" x=\"116.512636\" y=\"179.142375\" style=\"fill: #4c72b0; stroke: #333333\"/>\n     <use xlink:href=\"#m663aa3e462\" x=\"123.837465\" y=\"202.450877\" style=\"fill: #4c72b0; stroke: #333333\"/>\n     <use xlink:href=\"#m663aa3e462\" x=\"234.263828\" y=\"73.485721\" style=\"fill: #4c72b0; stroke: #333333\"/>\n     <use xlink:href=\"#m663aa3e462\" x=\"222.543381\" y=\"76.053621\" style=\"fill: #4c72b0; stroke: #333333\"/>\n     <use xlink:href=\"#m663aa3e462\" x=\"236.310743\" y=\"71.540148\" style=\"fill: #4c72b0; stroke: #333333\"/>\n     <use xlink:href=\"#m663aa3e462\" x=\"127.793628\" y=\"176.046973\" style=\"fill: #4c72b0; stroke: #333333\"/>\n     <use xlink:href=\"#m663aa3e462\" x=\"132.041565\" y=\"181.415499\" style=\"fill: #4c72b0; stroke: #333333\"/>\n     <use xlink:href=\"#m663aa3e462\" x=\"117.967889\" y=\"180.222675\" style=\"fill: #4c72b0; stroke: #333333\"/>\n     <use xlink:href=\"#m663aa3e462\" x=\"258.008523\" y=\"98.46236\" style=\"fill: #4c72b0; stroke: #333333\"/>\n     <use xlink:href=\"#m663aa3e462\" x=\"239.95285\" y=\"95.639917\" style=\"fill: #4c72b0; stroke: #333333\"/>\n     <use xlink:href=\"#m663aa3e462\" x=\"224.412309\" y=\"70.222744\" style=\"fill: #4c72b0; stroke: #333333\"/>\n     <use xlink:href=\"#m663aa3e462\" x=\"99.008812\" y=\"186.57072\" style=\"fill: #4c72b0; stroke: #333333\"/>\n     <use xlink:href=\"#m663aa3e462\" x=\"223.556125\" y=\"79.030324\" style=\"fill: #4c72b0; stroke: #333333\"/>\n     <use xlink:href=\"#m663aa3e462\" x=\"237.942892\" y=\"68.158633\" style=\"fill: #4c72b0; stroke: #333333\"/>\n     <use xlink:href=\"#m663aa3e462\" x=\"219.034709\" y=\"81.467075\" style=\"fill: #4c72b0; stroke: #333333\"/>\n     <use xlink:href=\"#m663aa3e462\" x=\"227.0774\" y=\"85.002242\" style=\"fill: #4c72b0; stroke: #333333\"/>\n     <use xlink:href=\"#m663aa3e462\" x=\"251.918946\" y=\"73.267692\" style=\"fill: #4c72b0; stroke: #333333\"/>\n     <use xlink:href=\"#m663aa3e462\" x=\"215.496818\" y=\"83.127313\" style=\"fill: #4c72b0; stroke: #333333\"/>\n     <use xlink:href=\"#m663aa3e462\" x=\"246.391103\" y=\"85.604762\" style=\"fill: #4c72b0; stroke: #333333\"/>\n     <use xlink:href=\"#m663aa3e462\" x=\"237.264667\" y=\"69.168984\" style=\"fill: #4c72b0; stroke: #333333\"/>\n     <use xlink:href=\"#m663aa3e462\" x=\"229.543118\" y=\"91.593546\" style=\"fill: #4c72b0; stroke: #333333\"/>\n     <use xlink:href=\"#m663aa3e462\" x=\"233.602271\" y=\"70.416426\" style=\"fill: #4c72b0; stroke: #333333\"/>\n     <use xlink:href=\"#m663aa3e462\" x=\"145.114668\" y=\"210.282874\" style=\"fill: #4c72b0; stroke: #333333\"/>\n     <use xlink:href=\"#m663aa3e462\" x=\"119.780601\" y=\"182.114864\" style=\"fill: #4c72b0; stroke: #333333\"/>\n     <use xlink:href=\"#m663aa3e462\" x=\"124.579232\" y=\"195.542617\" style=\"fill: #4c72b0; stroke: #333333\"/>\n     <use xlink:href=\"#m663aa3e462\" x=\"119.155934\" y=\"194.104519\" style=\"fill: #4c72b0; stroke: #333333\"/>\n     <use xlink:href=\"#m663aa3e462\" x=\"236.302178\" y=\"85.441104\" style=\"fill: #4c72b0; stroke: #333333\"/>\n     <use xlink:href=\"#m663aa3e462\" x=\"130.476609\" y=\"181.656801\" style=\"fill: #4c72b0; stroke: #333333\"/>\n     <use xlink:href=\"#m663aa3e462\" x=\"129.749585\" y=\"181.87034\" style=\"fill: #4c72b0; stroke: #333333\"/>\n     <use xlink:href=\"#m663aa3e462\" x=\"121.231837\" y=\"187.337199\" style=\"fill: #4c72b0; stroke: #333333\"/>\n     <use xlink:href=\"#m663aa3e462\" x=\"130.61581\" y=\"179.61793\" style=\"fill: #4c72b0; stroke: #333333\"/>\n     <use xlink:href=\"#m663aa3e462\" x=\"246.818743\" y=\"77.525238\" style=\"fill: #4c72b0; stroke: #333333\"/>\n     <use xlink:href=\"#m663aa3e462\" x=\"245.18473\" y=\"68.980166\" style=\"fill: #4c72b0; stroke: #333333\"/>\n     <use xlink:href=\"#m663aa3e462\" x=\"128.383834\" y=\"181.67103\" style=\"fill: #4c72b0; stroke: #333333\"/>\n     <use xlink:href=\"#m663aa3e462\" x=\"121.327802\" y=\"198.586881\" style=\"fill: #4c72b0; stroke: #333333\"/>\n     <use xlink:href=\"#m663aa3e462\" x=\"122.304115\" y=\"196.146494\" style=\"fill: #4c72b0; stroke: #333333\"/>\n     <use xlink:href=\"#m663aa3e462\" x=\"112.310481\" y=\"192.201651\" style=\"fill: #4c72b0; stroke: #333333\"/>\n     <use xlink:href=\"#m663aa3e462\" x=\"124.179783\" y=\"194.259111\" style=\"fill: #4c72b0; stroke: #333333\"/>\n     <use xlink:href=\"#m663aa3e462\" x=\"116.240721\" y=\"186.065155\" style=\"fill: #4c72b0; stroke: #333333\"/>\n     <use xlink:href=\"#m663aa3e462\" x=\"224.377487\" y=\"80.124828\" style=\"fill: #4c72b0; stroke: #333333\"/>\n     <use xlink:href=\"#m663aa3e462\" x=\"124.910937\" y=\"172.279375\" style=\"fill: #4c72b0; stroke: #333333\"/>\n     <use xlink:href=\"#m663aa3e462\" x=\"121.252742\" y=\"199.75417\" style=\"fill: #4c72b0; stroke: #333333\"/>\n     <use xlink:href=\"#m663aa3e462\" x=\"235.921898\" y=\"86.93046\" style=\"fill: #4c72b0; stroke: #333333\"/>\n     <use xlink:href=\"#m663aa3e462\" x=\"120.257661\" y=\"184.183945\" style=\"fill: #4c72b0; stroke: #333333\"/>\n     <use xlink:href=\"#m663aa3e462\" x=\"129.11591\" y=\"193.086858\" style=\"fill: #4c72b0; stroke: #333333\"/>\n     <use xlink:href=\"#m663aa3e462\" x=\"123.948331\" y=\"188.4985\" style=\"fill: #4c72b0; stroke: #333333\"/>\n     <use xlink:href=\"#m663aa3e462\" x=\"137.553874\" y=\"178.00173\" style=\"fill: #4c72b0; stroke: #333333\"/>\n     <use xlink:href=\"#m663aa3e462\" x=\"256.218076\" y=\"86.266478\" style=\"fill: #4c72b0; stroke: #333333\"/>\n     <use xlink:href=\"#m663aa3e462\" x=\"242.01589\" y=\"75.725234\" style=\"fill: #4c72b0; stroke: #333333\"/>\n     <use xlink:href=\"#m663aa3e462\" x=\"112.152758\" y=\"195.284191\" style=\"fill: #4c72b0; stroke: #333333\"/>\n     <use xlink:href=\"#m663aa3e462\" x=\"208.793836\" y=\"83.5877\" style=\"fill: #4c72b0; stroke: #333333\"/>\n     <use xlink:href=\"#m663aa3e462\" x=\"223.926333\" y=\"76.090565\" style=\"fill: #4c72b0; stroke: #333333\"/>\n     <use xlink:href=\"#m663aa3e462\" x=\"236.132988\" y=\"56.955145\" style=\"fill: #4c72b0; stroke: #333333\"/>\n     <use xlink:href=\"#m663aa3e462\" x=\"242.881889\" y=\"84.154835\" style=\"fill: #4c72b0; stroke: #333333\"/>\n     <use xlink:href=\"#m663aa3e462\" x=\"120.193576\" y=\"174.913218\" style=\"fill: #4c72b0; stroke: #333333\"/>\n     <use xlink:href=\"#m663aa3e462\" x=\"103.78458\" y=\"195.283995\" style=\"fill: #4c72b0; stroke: #333333\"/>\n     <use xlink:href=\"#m663aa3e462\" x=\"109.625818\" y=\"190.216829\" style=\"fill: #4c72b0; stroke: #333333\"/>\n     <use xlink:href=\"#m663aa3e462\" x=\"125.148291\" y=\"196.937344\" style=\"fill: #4c72b0; stroke: #333333\"/>\n     <use xlink:href=\"#m663aa3e462\" x=\"245.419639\" y=\"77.009475\" style=\"fill: #4c72b0; stroke: #333333\"/>\n     <use xlink:href=\"#m663aa3e462\" x=\"144.313166\" y=\"169.174906\" style=\"fill: #4c72b0; stroke: #333333\"/>\n     <use xlink:href=\"#m663aa3e462\" x=\"229.583076\" y=\"66.985343\" style=\"fill: #4c72b0; stroke: #333333\"/>\n     <use xlink:href=\"#m663aa3e462\" x=\"239.499528\" y=\"62.582743\" style=\"fill: #4c72b0; stroke: #333333\"/>\n     <use xlink:href=\"#m663aa3e462\" x=\"229.356409\" y=\"69.802017\" style=\"fill: #4c72b0; stroke: #333333\"/>\n     <use xlink:href=\"#m663aa3e462\" x=\"102.576489\" y=\"189.254038\" style=\"fill: #4c72b0; stroke: #333333\"/>\n     <use xlink:href=\"#m663aa3e462\" x=\"98.539796\" y=\"189.626288\" style=\"fill: #4c72b0; stroke: #333333\"/>\n     <use xlink:href=\"#m663aa3e462\" x=\"236.408436\" y=\"88.179515\" style=\"fill: #4c72b0; stroke: #333333\"/>\n     <use xlink:href=\"#m663aa3e462\" x=\"110.533863\" y=\"183.049257\" style=\"fill: #4c72b0; stroke: #333333\"/>\n     <use xlink:href=\"#m663aa3e462\" x=\"226.204733\" y=\"91.040198\" style=\"fill: #4c72b0; stroke: #333333\"/>\n     <use xlink:href=\"#m663aa3e462\" x=\"254.128467\" y=\"77.367126\" style=\"fill: #4c72b0; stroke: #333333\"/>\n     <use xlink:href=\"#m663aa3e462\" x=\"115.581397\" y=\"195.022798\" style=\"fill: #4c72b0; stroke: #333333\"/>\n     <use xlink:href=\"#m663aa3e462\" x=\"250.582997\" y=\"80.519436\" style=\"fill: #4c72b0; stroke: #333333\"/>\n     <use xlink:href=\"#m663aa3e462\" x=\"238.736457\" y=\"74.306977\" style=\"fill: #4c72b0; stroke: #333333\"/>\n     <use xlink:href=\"#m663aa3e462\" x=\"155.602225\" y=\"176.224278\" style=\"fill: #4c72b0; stroke: #333333\"/>\n     <use xlink:href=\"#m663aa3e462\" x=\"230.925244\" y=\"88.353158\" style=\"fill: #4c72b0; stroke: #333333\"/>\n     <use xlink:href=\"#m663aa3e462\" x=\"103.651317\" y=\"186.38212\" style=\"fill: #4c72b0; stroke: #333333\"/>\n     <use xlink:href=\"#m663aa3e462\" x=\"225.174396\" y=\"89.750326\" style=\"fill: #4c72b0; stroke: #333333\"/>\n     <use xlink:href=\"#m663aa3e462\" x=\"140.17062\" y=\"178.862503\" style=\"fill: #4c72b0; stroke: #333333\"/>\n     <use xlink:href=\"#m663aa3e462\" x=\"232.255192\" y=\"61.348506\" style=\"fill: #4c72b0; stroke: #333333\"/>\n     <use xlink:href=\"#m663aa3e462\" x=\"109.962609\" y=\"190.7486\" style=\"fill: #4c72b0; stroke: #333333\"/>\n     <use xlink:href=\"#m663aa3e462\" x=\"232.881603\" y=\"86.9717\" style=\"fill: #4c72b0; stroke: #333333\"/>\n     <use xlink:href=\"#m663aa3e462\" x=\"124.462419\" y=\"189.195165\" style=\"fill: #4c72b0; stroke: #333333\"/>\n     <use xlink:href=\"#m663aa3e462\" x=\"127.017763\" y=\"199.477257\" style=\"fill: #4c72b0; stroke: #333333\"/>\n     <use xlink:href=\"#m663aa3e462\" x=\"233.444991\" y=\"69.426747\" style=\"fill: #4c72b0; stroke: #333333\"/>\n     <use xlink:href=\"#m663aa3e462\" x=\"102.953228\" y=\"182.613347\" style=\"fill: #4c72b0; stroke: #333333\"/>\n     <use xlink:href=\"#m663aa3e462\" x=\"224.996423\" y=\"71.431325\" style=\"fill: #4c72b0; stroke: #333333\"/>\n     <use xlink:href=\"#m663aa3e462\" x=\"223.880579\" y=\"97.77066\" style=\"fill: #4c72b0; stroke: #333333\"/>\n     <use xlink:href=\"#m663aa3e462\" x=\"231.610898\" y=\"91.185872\" style=\"fill: #4c72b0; stroke: #333333\"/>\n     <use xlink:href=\"#m663aa3e462\" x=\"132.621368\" y=\"195.034702\" style=\"fill: #4c72b0; stroke: #333333\"/>\n     <use xlink:href=\"#m663aa3e462\" x=\"130.729748\" y=\"201.164315\" style=\"fill: #4c72b0; stroke: #333333\"/>\n     <use xlink:href=\"#m663aa3e462\" x=\"127.338063\" y=\"172.654013\" style=\"fill: #4c72b0; stroke: #333333\"/>\n     <use xlink:href=\"#m663aa3e462\" x=\"204.938002\" y=\"86.594097\" style=\"fill: #4c72b0; stroke: #333333\"/>\n     <use xlink:href=\"#m663aa3e462\" x=\"236.458863\" y=\"84.455113\" style=\"fill: #4c72b0; stroke: #333333\"/>\n    </g>\n   </g>\n   <g id=\"PathCollection_2\">\n    <defs>\n     <path id=\"md5a688b820\" d=\"M 0 3 \nC 0.795609 3 1.55874 2.683901 2.12132 2.12132 \nC 2.683901 1.55874 3 0.795609 3 0 \nC 3 -0.795609 2.683901 -1.55874 2.12132 -2.12132 \nC 1.55874 -2.683901 0.795609 -3 0 -3 \nC -0.795609 -3 -1.55874 -2.683901 -2.12132 -2.12132 \nC -2.683901 -1.55874 -3 -0.795609 -3 0 \nC -3 0.795609 -2.683901 1.55874 -2.12132 2.12132 \nC -1.55874 2.683901 -0.795609 3 0 3 \nz\n\" style=\"stroke: #333333\"/>\n    </defs>\n    <g clip-path=\"url(#p2e867b39ef)\">\n     <use xlink:href=\"#md5a688b820\" x=\"113.92348\" y=\"75.18289\" style=\"fill: #dd8452; stroke: #333333\"/>\n     <use xlink:href=\"#md5a688b820\" x=\"142.151302\" y=\"72.504264\" style=\"fill: #dd8452; stroke: #333333\"/>\n     <use xlink:href=\"#md5a688b820\" x=\"110.656323\" y=\"69.030936\" style=\"fill: #dd8452; stroke: #333333\"/>\n     <use xlink:href=\"#md5a688b820\" x=\"241.458596\" y=\"167.606485\" style=\"fill: #dd8452; stroke: #333333\"/>\n     <use xlink:href=\"#md5a688b820\" x=\"222.480655\" y=\"197.683829\" style=\"fill: #dd8452; stroke: #333333\"/>\n     <use xlink:href=\"#md5a688b820\" x=\"231.488691\" y=\"184.855432\" style=\"fill: #dd8452; stroke: #333333\"/>\n     <use xlink:href=\"#md5a688b820\" x=\"237.590846\" y=\"189.445652\" style=\"fill: #dd8452; stroke: #333333\"/>\n     <use xlink:href=\"#md5a688b820\" x=\"222.954346\" y=\"205.434752\" style=\"fill: #dd8452; stroke: #333333\"/>\n     <use xlink:href=\"#md5a688b820\" x=\"232.989012\" y=\"201.31138\" style=\"fill: #dd8452; stroke: #333333\"/>\n     <use xlink:href=\"#md5a688b820\" x=\"133.472466\" y=\"66.073571\" style=\"fill: #dd8452; stroke: #333333\"/>\n     <use xlink:href=\"#md5a688b820\" x=\"106.187995\" y=\"88.156727\" style=\"fill: #dd8452; stroke: #333333\"/>\n     <use xlink:href=\"#md5a688b820\" x=\"127.174305\" y=\"72.061265\" style=\"fill: #dd8452; stroke: #333333\"/>\n     <use xlink:href=\"#md5a688b820\" x=\"238.054438\" y=\"145.919037\" style=\"fill: #dd8452; stroke: #333333\"/>\n     <use xlink:href=\"#md5a688b820\" x=\"112.894508\" y=\"80.383972\" style=\"fill: #dd8452; stroke: #333333\"/>\n     <use xlink:href=\"#md5a688b820\" x=\"226.961882\" y=\"187.730305\" style=\"fill: #dd8452; stroke: #333333\"/>\n     <use xlink:href=\"#md5a688b820\" x=\"116.230813\" y=\"65.68384\" style=\"fill: #dd8452; stroke: #333333\"/>\n     <use xlink:href=\"#md5a688b820\" x=\"122.176331\" y=\"89.708161\" style=\"fill: #dd8452; stroke: #333333\"/>\n     <use xlink:href=\"#md5a688b820\" x=\"113.365289\" y=\"75.358027\" style=\"fill: #dd8452; stroke: #333333\"/>\n     <use xlink:href=\"#md5a688b820\" x=\"121.968894\" y=\"84.98307\" style=\"fill: #dd8452; stroke: #333333\"/>\n     <use xlink:href=\"#md5a688b820\" x=\"145.235645\" y=\"70.729228\" style=\"fill: #dd8452; stroke: #333333\"/>\n     <use xlink:href=\"#md5a688b820\" x=\"225.005708\" y=\"179.186344\" style=\"fill: #dd8452; stroke: #333333\"/>\n     <use xlink:href=\"#md5a688b820\" x=\"218.362914\" y=\"178.460871\" style=\"fill: #dd8452; stroke: #333333\"/>\n     <use xlink:href=\"#md5a688b820\" x=\"144.994061\" y=\"66.310145\" style=\"fill: #dd8452; stroke: #333333\"/>\n     <use xlink:href=\"#md5a688b820\" x=\"222.06579\" y=\"189.298142\" style=\"fill: #dd8452; stroke: #333333\"/>\n     <use xlink:href=\"#md5a688b820\" x=\"196.404423\" y=\"199.996535\" style=\"fill: #dd8452; stroke: #333333\"/>\n     <use xlink:href=\"#md5a688b820\" x=\"139.563771\" y=\"93.615532\" style=\"fill: #dd8452; stroke: #333333\"/>\n     <use xlink:href=\"#md5a688b820\" x=\"116.584381\" y=\"76.308475\" style=\"fill: #dd8452; stroke: #333333\"/>\n     <use xlink:href=\"#md5a688b820\" x=\"248.324436\" y=\"204.558965\" style=\"fill: #dd8452; stroke: #333333\"/>\n     <use xlink:href=\"#md5a688b820\" x=\"245.240747\" y=\"188.524661\" style=\"fill: #dd8452; stroke: #333333\"/>\n     <use xlink:href=\"#md5a688b820\" x=\"221.460628\" y=\"183.514322\" style=\"fill: #dd8452; stroke: #333333\"/>\n     <use xlink:href=\"#md5a688b820\" x=\"123.670768\" y=\"84.413331\" style=\"fill: #dd8452; stroke: #333333\"/>\n     <use xlink:href=\"#md5a688b820\" x=\"233.117556\" y=\"192.910482\" style=\"fill: #dd8452; stroke: #333333\"/>\n     <use xlink:href=\"#md5a688b820\" x=\"249.929344\" y=\"202.363023\" style=\"fill: #dd8452; stroke: #333333\"/>\n     <use xlink:href=\"#md5a688b820\" x=\"225.808717\" y=\"179.217737\" style=\"fill: #dd8452; stroke: #333333\"/>\n     <use xlink:href=\"#md5a688b820\" x=\"242.318356\" y=\"185.230788\" style=\"fill: #dd8452; stroke: #333333\"/>\n     <use xlink:href=\"#md5a688b820\" x=\"112.271697\" y=\"83.969413\" style=\"fill: #dd8452; stroke: #333333\"/>\n     <use xlink:href=\"#md5a688b820\" x=\"135.630342\" y=\"84.317468\" style=\"fill: #dd8452; stroke: #333333\"/>\n     <use xlink:href=\"#md5a688b820\" x=\"127.529809\" y=\"80.000037\" style=\"fill: #dd8452; stroke: #333333\"/>\n     <use xlink:href=\"#md5a688b820\" x=\"119.049944\" y=\"65.574885\" style=\"fill: #dd8452; stroke: #333333\"/>\n     <use xlink:href=\"#md5a688b820\" x=\"239.905093\" y=\"192.078363\" style=\"fill: #dd8452; stroke: #333333\"/>\n     <use xlink:href=\"#md5a688b820\" x=\"235.937944\" y=\"190.081151\" style=\"fill: #dd8452; stroke: #333333\"/>\n     <use xlink:href=\"#md5a688b820\" x=\"122.539085\" y=\"71.159023\" style=\"fill: #dd8452; stroke: #333333\"/>\n     <use xlink:href=\"#md5a688b820\" x=\"223.27116\" y=\"165.437735\" style=\"fill: #dd8452; stroke: #333333\"/>\n     <use xlink:href=\"#md5a688b820\" x=\"110.308873\" y=\"91.221045\" style=\"fill: #dd8452; stroke: #333333\"/>\n     <use xlink:href=\"#md5a688b820\" x=\"243.155725\" y=\"190.268697\" style=\"fill: #dd8452; stroke: #333333\"/>\n     <use xlink:href=\"#md5a688b820\" x=\"236.922178\" y=\"194.888703\" style=\"fill: #dd8452; stroke: #333333\"/>\n     <use xlink:href=\"#md5a688b820\" x=\"112.346814\" y=\"75.056117\" style=\"fill: #dd8452; stroke: #333333\"/>\n     <use xlink:href=\"#md5a688b820\" x=\"105.407234\" y=\"93.364081\" style=\"fill: #dd8452; stroke: #333333\"/>\n     <use xlink:href=\"#md5a688b820\" x=\"130.973324\" y=\"79.531521\" style=\"fill: #dd8452; stroke: #333333\"/>\n     <use xlink:href=\"#md5a688b820\" x=\"232.138319\" y=\"191.838772\" style=\"fill: #dd8452; stroke: #333333\"/>\n     <use xlink:href=\"#md5a688b820\" x=\"238.102102\" y=\"171.643115\" style=\"fill: #dd8452; stroke: #333333\"/>\n     <use xlink:href=\"#md5a688b820\" x=\"233.426631\" y=\"197.209258\" style=\"fill: #dd8452; stroke: #333333\"/>\n     <use xlink:href=\"#md5a688b820\" x=\"232.615368\" y=\"183.11632\" style=\"fill: #dd8452; stroke: #333333\"/>\n     <use xlink:href=\"#md5a688b820\" x=\"145.744129\" y=\"86.720533\" style=\"fill: #dd8452; stroke: #333333\"/>\n     <use xlink:href=\"#md5a688b820\" x=\"111.501972\" y=\"72.303721\" style=\"fill: #dd8452; stroke: #333333\"/>\n     <use xlink:href=\"#md5a688b820\" x=\"217.704846\" y=\"168.33091\" style=\"fill: #dd8452; stroke: #333333\"/>\n     <use xlink:href=\"#md5a688b820\" x=\"245.421225\" y=\"193.840345\" style=\"fill: #dd8452; stroke: #333333\"/>\n     <use xlink:href=\"#md5a688b820\" x=\"102.468358\" y=\"62.746394\" style=\"fill: #dd8452; stroke: #333333\"/>\n     <use xlink:href=\"#md5a688b820\" x=\"232.401739\" y=\"188.117204\" style=\"fill: #dd8452; stroke: #333333\"/>\n     <use xlink:href=\"#md5a688b820\" x=\"227.353265\" y=\"181.731965\" style=\"fill: #dd8452; stroke: #333333\"/>\n     <use xlink:href=\"#md5a688b820\" x=\"122.797432\" y=\"72.054022\" style=\"fill: #dd8452; stroke: #333333\"/>\n     <use xlink:href=\"#md5a688b820\" x=\"240.233982\" y=\"201.108157\" style=\"fill: #dd8452; stroke: #333333\"/>\n     <use xlink:href=\"#md5a688b820\" x=\"104.453336\" y=\"63.591244\" style=\"fill: #dd8452; stroke: #333333\"/>\n     <use xlink:href=\"#md5a688b820\" x=\"138.662767\" y=\"76.475524\" style=\"fill: #dd8452; stroke: #333333\"/>\n     <use xlink:href=\"#md5a688b820\" x=\"110.764523\" y=\"70.151182\" style=\"fill: #dd8452; stroke: #333333\"/>\n     <use xlink:href=\"#md5a688b820\" x=\"133.199404\" y=\"97.259027\" style=\"fill: #dd8452; stroke: #333333\"/>\n     <use xlink:href=\"#md5a688b820\" x=\"108.343623\" y=\"100.369132\" style=\"fill: #dd8452; stroke: #333333\"/>\n     <use xlink:href=\"#md5a688b820\" x=\"249.001723\" y=\"187.816562\" style=\"fill: #dd8452; stroke: #333333\"/>\n     <use xlink:href=\"#md5a688b820\" x=\"250.401686\" y=\"203.94069\" style=\"fill: #dd8452; stroke: #333333\"/>\n     <use xlink:href=\"#md5a688b820\" x=\"125.722111\" y=\"78.120646\" style=\"fill: #dd8452; stroke: #333333\"/>\n     <use xlink:href=\"#md5a688b820\" x=\"106.999635\" y=\"70.332796\" style=\"fill: #dd8452; stroke: #333333\"/>\n     <use xlink:href=\"#md5a688b820\" x=\"226.645835\" y=\"200.382684\" style=\"fill: #dd8452; stroke: #333333\"/>\n     <use xlink:href=\"#md5a688b820\" x=\"120.768608\" y=\"67.167513\" style=\"fill: #dd8452; stroke: #333333\"/>\n     <use xlink:href=\"#md5a688b820\" x=\"115.584097\" y=\"86.5495\" style=\"fill: #dd8452; stroke: #333333\"/>\n     <use xlink:href=\"#md5a688b820\" x=\"231.156842\" y=\"200.116892\" style=\"fill: #dd8452; stroke: #333333\"/>\n     <use xlink:href=\"#md5a688b820\" x=\"224.585035\" y=\"186.265516\" style=\"fill: #dd8452; stroke: #333333\"/>\n     <use xlink:href=\"#md5a688b820\" x=\"231.098102\" y=\"191.088236\" style=\"fill: #dd8452; stroke: #333333\"/>\n     <use xlink:href=\"#md5a688b820\" x=\"128.273474\" y=\"69.358873\" style=\"fill: #dd8452; stroke: #333333\"/>\n     <use xlink:href=\"#md5a688b820\" x=\"118.41382\" y=\"103.281828\" style=\"fill: #dd8452; stroke: #333333\"/>\n     <use xlink:href=\"#md5a688b820\" x=\"215.543154\" y=\"173.482223\" style=\"fill: #dd8452; stroke: #333333\"/>\n     <use xlink:href=\"#md5a688b820\" x=\"223.957177\" y=\"204.408074\" style=\"fill: #dd8452; stroke: #333333\"/>\n     <use xlink:href=\"#md5a688b820\" x=\"122.321454\" y=\"87.308044\" style=\"fill: #dd8452; stroke: #333333\"/>\n     <use xlink:href=\"#md5a688b820\" x=\"138.351994\" y=\"71.782684\" style=\"fill: #dd8452; stroke: #333333\"/>\n     <use xlink:href=\"#md5a688b820\" x=\"111.754739\" y=\"93.090609\" style=\"fill: #dd8452; stroke: #333333\"/>\n     <use xlink:href=\"#md5a688b820\" x=\"242.61305\" y=\"167.466514\" style=\"fill: #dd8452; stroke: #333333\"/>\n     <use xlink:href=\"#md5a688b820\" x=\"216.836277\" y=\"182.395922\" style=\"fill: #dd8452; stroke: #333333\"/>\n     <use xlink:href=\"#md5a688b820\" x=\"114.249269\" y=\"83.159373\" style=\"fill: #dd8452; stroke: #333333\"/>\n     <use xlink:href=\"#md5a688b820\" x=\"225.77513\" y=\"198.218055\" style=\"fill: #dd8452; stroke: #333333\"/>\n     <use xlink:href=\"#md5a688b820\" x=\"229.69414\" y=\"198.701191\" style=\"fill: #dd8452; stroke: #333333\"/>\n     <use xlink:href=\"#md5a688b820\" x=\"115.068353\" y=\"69.382348\" style=\"fill: #dd8452; stroke: #333333\"/>\n     <use xlink:href=\"#md5a688b820\" x=\"103.417404\" y=\"77.224954\" style=\"fill: #dd8452; stroke: #333333\"/>\n     <use xlink:href=\"#md5a688b820\" x=\"235.223397\" y=\"198.665188\" style=\"fill: #dd8452; stroke: #333333\"/>\n     <use xlink:href=\"#md5a688b820\" x=\"239.424305\" y=\"207.061059\" style=\"fill: #dd8452; stroke: #333333\"/>\n     <use xlink:href=\"#md5a688b820\" x=\"225.116032\" y=\"188.112569\" style=\"fill: #dd8452; stroke: #333333\"/>\n     <use xlink:href=\"#md5a688b820\" x=\"111.92333\" y=\"82.022076\" style=\"fill: #dd8452; stroke: #333333\"/>\n     <use xlink:href=\"#md5a688b820\" x=\"127.86217\" y=\"80.009495\" style=\"fill: #dd8452; stroke: #333333\"/>\n     <use xlink:href=\"#md5a688b820\" x=\"233.303704\" y=\"190.364274\" style=\"fill: #dd8452; stroke: #333333\"/>\n    </g>\n   </g>\n   <g id=\"patch_3\">\n    <path d=\"M 66.023594 244.078125 \nL 66.023594 22.318125 \n\" style=\"fill: none; stroke: #ffffff; stroke-width: 1.25; stroke-linejoin: miter; stroke-linecap: square\"/>\n   </g>\n   <g id=\"patch_4\">\n    <path d=\"M 287.783594 244.078125 \nL 287.783594 22.318125 \n\" style=\"fill: none; stroke: #ffffff; stroke-width: 1.25; stroke-linejoin: miter; stroke-linecap: square\"/>\n   </g>\n   <g id=\"patch_5\">\n    <path d=\"M 66.023594 244.078125 \nL 287.783594 244.078125 \n\" style=\"fill: none; stroke: #ffffff; stroke-width: 1.25; stroke-linejoin: miter; stroke-linecap: square\"/>\n   </g>\n   <g id=\"patch_6\">\n    <path d=\"M 66.023594 22.318125 \nL 287.783594 22.318125 \n\" style=\"fill: none; stroke: #ffffff; stroke-width: 1.25; stroke-linejoin: miter; stroke-linecap: square\"/>\n   </g>\n   <g id=\"text_17\">\n    <!-- Dataset samples -->\n    <g style=\"fill: #262626\" transform=\"translate(126.560781 16.318125) scale(0.12 -0.12)\">\n     <defs>\n      <path id=\"DejaVuSans-44\" d=\"M 1259 4147 \nL 1259 519 \nL 2022 519 \nQ 2988 519 3436 956 \nQ 3884 1394 3884 2338 \nQ 3884 3275 3436 3711 \nQ 2988 4147 2022 4147 \nL 1259 4147 \nz\nM 628 4666 \nL 1925 4666 \nQ 3281 4666 3915 4102 \nQ 4550 3538 4550 2338 \nQ 4550 1131 3912 565 \nQ 3275 0 1925 0 \nL 628 0 \nL 628 4666 \nz\n\" transform=\"scale(0.015625)\"/>\n      <path id=\"DejaVuSans-61\" d=\"M 2194 1759 \nQ 1497 1759 1228 1600 \nQ 959 1441 959 1056 \nQ 959 750 1161 570 \nQ 1363 391 1709 391 \nQ 2188 391 2477 730 \nQ 2766 1069 2766 1631 \nL 2766 1759 \nL 2194 1759 \nz\nM 3341 1997 \nL 3341 0 \nL 2766 0 \nL 2766 531 \nQ 2569 213 2275 61 \nQ 1981 -91 1556 -91 \nQ 1019 -91 701 211 \nQ 384 513 384 1019 \nQ 384 1609 779 1909 \nQ 1175 2209 1959 2209 \nL 2766 2209 \nL 2766 2266 \nQ 2766 2663 2505 2880 \nQ 2244 3097 1772 3097 \nQ 1472 3097 1187 3025 \nQ 903 2953 641 2809 \nL 641 3341 \nQ 956 3463 1253 3523 \nQ 1550 3584 1831 3584 \nQ 2591 3584 2966 3190 \nQ 3341 2797 3341 1997 \nz\n\" transform=\"scale(0.015625)\"/>\n      <path id=\"DejaVuSans-74\" d=\"M 1172 4494 \nL 1172 3500 \nL 2356 3500 \nL 2356 3053 \nL 1172 3053 \nL 1172 1153 \nQ 1172 725 1289 603 \nQ 1406 481 1766 481 \nL 2356 481 \nL 2356 0 \nL 1766 0 \nQ 1100 0 847 248 \nQ 594 497 594 1153 \nL 594 3053 \nL 172 3053 \nL 172 3500 \nL 594 3500 \nL 594 4494 \nL 1172 4494 \nz\n\" transform=\"scale(0.015625)\"/>\n      <path id=\"DejaVuSans-73\" d=\"M 2834 3397 \nL 2834 2853 \nQ 2591 2978 2328 3040 \nQ 2066 3103 1784 3103 \nQ 1356 3103 1142 2972 \nQ 928 2841 928 2578 \nQ 928 2378 1081 2264 \nQ 1234 2150 1697 2047 \nL 1894 2003 \nQ 2506 1872 2764 1633 \nQ 3022 1394 3022 966 \nQ 3022 478 2636 193 \nQ 2250 -91 1575 -91 \nQ 1294 -91 989 -36 \nQ 684 19 347 128 \nL 347 722 \nQ 666 556 975 473 \nQ 1284 391 1588 391 \nQ 1994 391 2212 530 \nQ 2431 669 2431 922 \nQ 2431 1156 2273 1281 \nQ 2116 1406 1581 1522 \nL 1381 1569 \nQ 847 1681 609 1914 \nQ 372 2147 372 2553 \nQ 372 3047 722 3315 \nQ 1072 3584 1716 3584 \nQ 2034 3584 2315 3537 \nQ 2597 3491 2834 3397 \nz\n\" transform=\"scale(0.015625)\"/>\n      <path id=\"DejaVuSans-65\" d=\"M 3597 1894 \nL 3597 1613 \nL 953 1613 \nQ 991 1019 1311 708 \nQ 1631 397 2203 397 \nQ 2534 397 2845 478 \nQ 3156 559 3463 722 \nL 3463 178 \nQ 3153 47 2828 -22 \nQ 2503 -91 2169 -91 \nQ 1331 -91 842 396 \nQ 353 884 353 1716 \nQ 353 2575 817 3079 \nQ 1281 3584 2069 3584 \nQ 2775 3584 3186 3129 \nQ 3597 2675 3597 1894 \nz\nM 3022 2063 \nQ 3016 2534 2758 2815 \nQ 2500 3097 2075 3097 \nQ 1594 3097 1305 2825 \nQ 1016 2553 972 2059 \nL 3022 2063 \nz\n\" transform=\"scale(0.015625)\"/>\n      <path id=\"DejaVuSans-20\" transform=\"scale(0.015625)\"/>\n      <path id=\"DejaVuSans-6d\" d=\"M 3328 2828 \nQ 3544 3216 3844 3400 \nQ 4144 3584 4550 3584 \nQ 5097 3584 5394 3201 \nQ 5691 2819 5691 2113 \nL 5691 0 \nL 5113 0 \nL 5113 2094 \nQ 5113 2597 4934 2840 \nQ 4756 3084 4391 3084 \nQ 3944 3084 3684 2787 \nQ 3425 2491 3425 1978 \nL 3425 0 \nL 2847 0 \nL 2847 2094 \nQ 2847 2600 2669 2842 \nQ 2491 3084 2119 3084 \nQ 1678 3084 1418 2786 \nQ 1159 2488 1159 1978 \nL 1159 0 \nL 581 0 \nL 581 3500 \nL 1159 3500 \nL 1159 2956 \nQ 1356 3278 1631 3431 \nQ 1906 3584 2284 3584 \nQ 2666 3584 2933 3390 \nQ 3200 3197 3328 2828 \nz\n\" transform=\"scale(0.015625)\"/>\n      <path id=\"DejaVuSans-70\" d=\"M 1159 525 \nL 1159 -1331 \nL 581 -1331 \nL 581 3500 \nL 1159 3500 \nL 1159 2969 \nQ 1341 3281 1617 3432 \nQ 1894 3584 2278 3584 \nQ 2916 3584 3314 3078 \nQ 3713 2572 3713 1747 \nQ 3713 922 3314 415 \nQ 2916 -91 2278 -91 \nQ 1894 -91 1617 61 \nQ 1341 213 1159 525 \nz\nM 3116 1747 \nQ 3116 2381 2855 2742 \nQ 2594 3103 2138 3103 \nQ 1681 3103 1420 2742 \nQ 1159 2381 1159 1747 \nQ 1159 1113 1420 752 \nQ 1681 391 2138 391 \nQ 2594 391 2855 752 \nQ 3116 1113 3116 1747 \nz\n\" transform=\"scale(0.015625)\"/>\n      <path id=\"DejaVuSans-6c\" d=\"M 603 4863 \nL 1178 4863 \nL 1178 0 \nL 603 0 \nL 603 4863 \nz\n\" transform=\"scale(0.015625)\"/>\n     </defs>\n     <use xlink:href=\"#DejaVuSans-44\"/>\n     <use xlink:href=\"#DejaVuSans-61\" x=\"77.001953\"/>\n     <use xlink:href=\"#DejaVuSans-74\" x=\"138.28125\"/>\n     <use xlink:href=\"#DejaVuSans-61\" x=\"177.490234\"/>\n     <use xlink:href=\"#DejaVuSans-73\" x=\"238.769531\"/>\n     <use xlink:href=\"#DejaVuSans-65\" x=\"290.869141\"/>\n     <use xlink:href=\"#DejaVuSans-74\" x=\"352.392578\"/>\n     <use xlink:href=\"#DejaVuSans-20\" x=\"391.601562\"/>\n     <use xlink:href=\"#DejaVuSans-73\" x=\"423.388672\"/>\n     <use xlink:href=\"#DejaVuSans-61\" x=\"475.488281\"/>\n     <use xlink:href=\"#DejaVuSans-6d\" x=\"536.767578\"/>\n     <use xlink:href=\"#DejaVuSans-70\" x=\"634.179688\"/>\n     <use xlink:href=\"#DejaVuSans-6c\" x=\"697.65625\"/>\n     <use xlink:href=\"#DejaVuSans-65\" x=\"725.439453\"/>\n     <use xlink:href=\"#DejaVuSans-73\" x=\"786.962891\"/>\n    </g>\n   </g>\n   <g id=\"legend_1\">\n    <g id=\"patch_7\">\n     <path d=\"M 73.723594 150.994063 \nL 148.356875 150.994063 \nQ 150.556875 150.994063 150.556875 148.794063 \nL 150.556875 117.602188 \nQ 150.556875 115.402188 148.356875 115.402188 \nL 73.723594 115.402188 \nQ 71.523594 115.402188 71.523594 117.602188 \nL 71.523594 148.794063 \nQ 71.523594 150.994063 73.723594 150.994063 \nz\n\" style=\"fill: #eaeaf2; opacity: 0.8; stroke: #cccccc; stroke-linejoin: miter\"/>\n    </g>\n    <g id=\"PathCollection_3\">\n     <g>\n      <use xlink:href=\"#m663aa3e462\" x=\"86.923594\" y=\"125.272969\" style=\"fill: #4c72b0; stroke: #333333\"/>\n     </g>\n    </g>\n    <g id=\"text_18\">\n     <!-- Class 0 -->\n     <g style=\"fill: #262626\" transform=\"translate(106.723594 128.160469) scale(0.11 -0.11)\">\n      <defs>\n       <path id=\"DejaVuSans-43\" d=\"M 4122 4306 \nL 4122 3641 \nQ 3803 3938 3442 4084 \nQ 3081 4231 2675 4231 \nQ 1875 4231 1450 3742 \nQ 1025 3253 1025 2328 \nQ 1025 1406 1450 917 \nQ 1875 428 2675 428 \nQ 3081 428 3442 575 \nQ 3803 722 4122 1019 \nL 4122 359 \nQ 3791 134 3420 21 \nQ 3050 -91 2638 -91 \nQ 1578 -91 968 557 \nQ 359 1206 359 2328 \nQ 359 3453 968 4101 \nQ 1578 4750 2638 4750 \nQ 3056 4750 3426 4639 \nQ 3797 4528 4122 4306 \nz\n\" transform=\"scale(0.015625)\"/>\n      </defs>\n      <use xlink:href=\"#DejaVuSans-43\"/>\n      <use xlink:href=\"#DejaVuSans-6c\" x=\"69.824219\"/>\n      <use xlink:href=\"#DejaVuSans-61\" x=\"97.607422\"/>\n      <use xlink:href=\"#DejaVuSans-73\" x=\"158.886719\"/>\n      <use xlink:href=\"#DejaVuSans-73\" x=\"210.986328\"/>\n      <use xlink:href=\"#DejaVuSans-20\" x=\"263.085938\"/>\n      <use xlink:href=\"#DejaVuSans-30\" x=\"294.873047\"/>\n     </g>\n    </g>\n    <g id=\"PathCollection_4\">\n     <g>\n      <use xlink:href=\"#md5a688b820\" x=\"86.923594\" y=\"141.418906\" style=\"fill: #dd8452; stroke: #333333\"/>\n     </g>\n    </g>\n    <g id=\"text_19\">\n     <!-- Class 1 -->\n     <g style=\"fill: #262626\" transform=\"translate(106.723594 144.306406) scale(0.11 -0.11)\">\n      <use xlink:href=\"#DejaVuSans-43\"/>\n      <use xlink:href=\"#DejaVuSans-6c\" x=\"69.824219\"/>\n      <use xlink:href=\"#DejaVuSans-61\" x=\"97.607422\"/>\n      <use xlink:href=\"#DejaVuSans-73\" x=\"158.886719\"/>\n      <use xlink:href=\"#DejaVuSans-73\" x=\"210.986328\"/>\n      <use xlink:href=\"#DejaVuSans-20\" x=\"263.085938\"/>\n      <use xlink:href=\"#DejaVuSans-31\" x=\"294.873047\"/>\n     </g>\n    </g>\n   </g>\n  </g>\n </g>\n <defs>\n  <clipPath id=\"p2e867b39ef\">\n   <rect x=\"66.023594\" y=\"22.318125\" width=\"221.76\" height=\"221.76\"/>\n  </clipPath>\n </defs>\n</svg>\n",
            "application/pdf": "[encoded data removed]"
          },
          "metadata": {}
        }
      ],
      "source": [
        "def visualize_classification(model, data, label):\n",
        "    data_0 = data[label == 0]\n",
        "    data_1 = data[label == 1]\n",
        "\n",
        "    fig = plt.figure(figsize=(4,4), dpi=500)\n",
        "    plt.scatter(data_0[:,0], data_0[:,1], edgecolor=\"#333\", label=\"Class 0\")\n",
        "    plt.scatter(data_1[:,0], data_1[:,1], edgecolor=\"#333\", label=\"Class 1\")\n",
        "    plt.title(\"Dataset samples\")\n",
        "    plt.ylabel(r\"$x_2$\")\n",
        "    plt.xlabel(r\"$x_1$\")\n",
        "    plt.legend()\n",
        "\n",
        "    # Let's make use of a lot of operations we have learned above\n",
        "    c0 = np.array(to_rgba(\"C0\"))\n",
        "    c1 = np.array(to_rgba(\"C1\"))\n",
        "    x1 = jnp.arange(-0.5, 1.5, step=0.01)\n",
        "    x2 = jnp.arange(-0.5, 1.5, step=0.01)\n",
        "    xx1, xx2 = jnp.meshgrid(x1, x2, indexing='ij')  # Meshgrid function as in numpy\n",
        "    model_inputs = np.stack([xx1, xx2], axis=-1)\n",
        "    logits = model(model_inputs)\n",
        "    preds = nn.sigmoid(logits)\n",
        "    output_image = (1 - preds) * c0[None,None] + preds * c1[None,None]  # Specifying \"None\" in a dimension creates a new one\n",
        "    output_image = jax.device_get(output_image)  # Convert to numpy array. This only works for tensors on CPU, hence first push to CPU\n",
        "    plt.imshow(output_image, origin='lower', extent=(-0.5, 1.5, -0.5, 1.5))\n",
        "    plt.grid(False)\n",
        "    return fig\n",
        "\n",
        "_ = visualize_classification(trained_model, dataset.data, dataset.label)\n",
        "plt.show()"
      ]
    },
    {
      "cell_type": "markdown",
      "metadata": {
        "id": "K_q-q4GnJfrh"
      },
      "source": [
        "The decision boundaries might not look exactly as in the figure in the preamble of this section, since this has been created with the PyTorch version of the tutorial. Nevertheless, the result on the accuracy metric should be the approximately the same."
      ]
    },
    {
      "cell_type": "markdown",
      "metadata": {
        "id": "XWOkCLGvJfrh"
      },
      "source": [
        "### Conclusion\n",
        "\n",
        "This concludes our tutorial on training a neural network with JAX. While the functional programming perspective of JAX may seem very different to PyTorch at first, it enables a considerable speedup in training, not only for tiny models like here. If you are interested in seeing more practical use cases of JAX, we recommend checking out our other JAX Tutorials, such as:\n",
        "\n",
        "* [Tutorial 5 (JAX): Inception, ResNet and DenseNet](https://uvadlc-notebooks.readthedocs.io/en/latest/tutorial_notebooks/JAX/tutorial5/Inception_ResNet_DenseNet.html) gives an intro to training convolutional classifiers on CIFAR10;\n",
        "* [Tutorial 6 (JAX): Transformers and Multi-Head Attention](https://uvadlc-notebooks.readthedocs.io/en/latest/tutorial_notebooks/JAX/tutorial6/Transformers_and_MHAttention.html) builds a Transformer from scratch with Flax;\n",
        "* [Tutorial 7 (JAX): Graph Neural Networks](https://uvadlc-notebooks.readthedocs.io/en/latest/tutorial_notebooks/JAX/tutorial7/GNN_overview.html) implements basic Graph Neural Network layers;\n",
        "* [Tutorial 9 (JAX): Deep Autoencoders](https://uvadlc-notebooks.readthedocs.io/en/latest/tutorial_notebooks/JAX/tutorial9/AE_CIFAR10.html) shows how to train autoencoders on CIFAR10;\n",
        "* [Tutorial 11 (JAX): Normalizing Flows for image modeling](https://uvadlc-notebooks.readthedocs.io/en/latest/tutorial_notebooks/JAX/tutorial11/NF_image_modeling.html) discusses Normalizing Flows as generative model on images;\n",
        "* [Tutorial 15 (JAX): Vision Transformers](https://uvadlc-notebooks.readthedocs.io/en/latest/tutorial_notebooks/JAX/tutorial15/Vision_Transformer.html) trains a Transformer on image classification for CIFAR10."
      ]
    },
    {
      "cell_type": "markdown",
      "metadata": {
        "id": "L_v81eyWJfrh"
      },
      "source": [
        "## ✨ The Fancy Bits ✨\n",
        "\n",
        "After reading this tutorial, you might wonder why we left out some key advertisement points of JAX: automatic vectorization, easy parallelization on multiple accelerators, etc. The reason why we did not include them in our previous discuss is that for building simple networks, and actual most models in our tutorials, you do not really need these methods. However, since they can be handy at some times, for instance, if you have access to a large cluster or are faced with functions that are annoying to vectorize, we review them here in a separate section: the Fancy Bits of JAX (the title is inspired by JAX's tutorial [🔪 JAX - The Sharp Bits 🔪](https://jax.readthedocs.io/en/latest/notebooks/Common_Gotchas_in_JAX.html))."
      ]
    },
    {
      "cell_type": "markdown",
      "metadata": {
        "id": "OAfOAW-NJfrh"
      },
      "source": [
        "### Automatic Vectorization with vmap\n",
        "\n",
        "In machine learning, we often vectorize methods to efficiently process multiple inputs or batch elements at the same time. Usually, we have to write the code ourselves to support additional dimensions to vectorize over. However, since JAX can already transform functions to run efficiently on accelerators or calculate gradients, it can also automatically vectorize a function. For instance, let's consider a simple linear layer where we write a function for a single input `x` of shape `[c_in]`, a weight matrix `[c_in, c_out]`, and a bias vector `[c_out]`:"
      ]
    },
    {
      "cell_type": "code",
      "execution_count": null,
      "metadata": {
        "id": "iH0TxznrJfrh"
      },
      "outputs": [],
      "source": [
        "def simple_linear(x, w, b):\n",
        "    # We could already vectorize this function with matmul, but as an example,\n",
        "    # let us use a non-vectorized function with same output\n",
        "    return (x[:,None] * w).sum(axis=0) + b"
      ]
    },
    {
      "cell_type": "code",
      "execution_count": null,
      "metadata": {
        "id": "q6Od4rl7Jfrh",
        "outputId": "621a8362-af14-4b50-baf4-ef75f54a338e"
      },
      "outputs": [
        {
          "data": {
            "text/plain": [
              "DeviceArray([-0.5393317,  1.4906642,  0.7108946], dtype=float32)"
            ]
          },
          "execution_count": 62,
          "metadata": {},
          "output_type": "execute_result"
        }
      ],
      "source": [
        "# Example inputs\n",
        "rng, x_rng, w_rng, b_rng = jax.random.split(rng, 4)\n",
        "x_in = jax.random.normal(x_rng, (4,))\n",
        "w_in = jax.random.normal(w_rng, (4, 3))\n",
        "b_in = jax.random.normal(b_rng, (3,))\n",
        "\n",
        "simple_linear(x_in, w_in, b_in)"
      ]
    },
    {
      "cell_type": "markdown",
      "metadata": {
        "id": "1hCsxah-Jfrh"
      },
      "source": [
        "Now, we would like the function to support a batch dimension on `x`, i.e. `[batch, c_in]`. Our naive implementation above does not support this, since we specialized the axis we sum over. So, let's make JAX do the work for us and vectorize the function by using `jax.vmap`:"
      ]
    },
    {
      "cell_type": "code",
      "execution_count": null,
      "metadata": {
        "id": "y9IUmvdtJfrh"
      },
      "outputs": [],
      "source": [
        "vectorized_linear = jax.vmap(simple_linear,\n",
        "                             in_axes=(0, None, None),  # Which axes to vectorize for each input\n",
        "                             out_axes=0  # Which axes to map to in the output\n",
        "                            )"
      ]
    },
    {
      "cell_type": "markdown",
      "metadata": {
        "id": "BGGJEYxUJfrh"
      },
      "source": [
        "Specifying `None` for the in-axes of the input arguments `w` and `b` means that we do not want to vectorize any of their input dimensions. With this vmap specification, the function `vectorized_linear` now supports an extra batch dimension in `x`! Let's try it out:"
      ]
    },
    {
      "cell_type": "code",
      "execution_count": null,
      "metadata": {
        "id": "0JOohZTsJfrh",
        "outputId": "d39f5e6f-efda-4502-fbc0-1cd0a66b5832"
      },
      "outputs": [
        {
          "data": {
            "text/plain": [
              "DeviceArray([[-0.5393317,  1.4906642,  0.7108946],\n",
              "             [-0.5393317,  1.4906642,  0.7108946],\n",
              "             [-0.5393317,  1.4906642,  0.7108946],\n",
              "             [-0.5393317,  1.4906642,  0.7108946],\n",
              "             [-0.5393317,  1.4906642,  0.7108946]], dtype=float32)"
            ]
          },
          "execution_count": 64,
          "metadata": {},
          "output_type": "execute_result"
        }
      ],
      "source": [
        "x_vec_in = jnp.stack([x_in]*5, axis=0)\n",
        "\n",
        "vectorized_linear(x_vec_in, w_in, b_in)"
      ]
    },
    {
      "cell_type": "markdown",
      "metadata": {
        "id": "47u8-DDoJfrh"
      },
      "source": [
        "The new function indeed vectorized our code, calculating $N$ applications of the weights and bias to the input. We can also vectorize the code to run multiple inputs `x` on multiple weights `w` and biases `b` by changing the input argument `in_axes` to `(0, 0, 0)`, or simply `0`. Morever, we can again stack multiple function transformations, such as jitting a vectorized function. Further details on `jax.vmap` can be found in this [tutorial](\n",
        "https://jax.readthedocs.io/en/latest/jax-101/03-vectorization.html\n",
        ") and its [documentation](https://jax.readthedocs.io/en/latest/_autosummary/jax.vmap.html?highlight=vmap)."
      ]
    },
    {
      "cell_type": "markdown",
      "metadata": {
        "id": "O3yzz9_9Jfrh"
      },
      "source": [
        "### Parallel evaluation with pmap\n",
        "\n",
        "`jax.vmap` vectorizes a function on a single accelerator. But what if we have multiple GPUs or TPUs available? In PyTorch, we can parallelize a model over multiple GPUs using `nn.DistributedDataParallel`. In JAX, this is yet another function transformation: `jax.pmap`. Similar to `jax.vmap`, we can specify over which axes each input should be parallelized. In a network training, we usually want to parallelize over an extra batch dimension in the data, while the parameters are identical for all devices. For more details on `jax.pmap`, see [Parallel Evaluation in JAX](https://jax.readthedocs.io/en/latest/jax-101/06-parallelism.html)."
      ]
    },
    {
      "cell_type": "markdown",
      "metadata": {
        "id": "6F6K7aOlJfrh"
      },
      "source": [
        "### Working with PyTrees\n",
        "\n",
        "Network parameters in Flax are stored in a PyTree. We have visited them before, but what we haven't discuss yet is JAX's utilities to operate on pytrees! One common application is to obtain a list of all parameters in the network. This corresponds to extracting all leafs from a PyTree, for which JAX provides the function `jax.tree_leaves`:"
      ]
    },
    {
      "cell_type": "code",
      "execution_count": null,
      "metadata": {
        "id": "DhDWI1q3Jfrh",
        "outputId": "0887bd15-3b45-4e36-fceb-43ffca347d3e"
      },
      "outputs": [
        {
          "name": "stdout",
          "output_type": "stream",
          "text": [
            "We have parameters with the following shapes: (8,), (2, 8), (1,), (8, 1)\n",
            "Overall parameter count: 33\n"
          ]
        }
      ],
      "source": [
        "parameters = jax.tree_leaves(model_state.params)\n",
        "print('We have parameters with the following shapes:', ', '.join([str(p.shape) for p in parameters]))\n",
        "print('Overall parameter count:', sum([np.prod(p.shape) for p in parameters]))"
      ]
    },
    {
      "cell_type": "markdown",
      "metadata": {
        "id": "GwI-VfVvJfrj"
      },
      "source": [
        "We can also create new PyTrees that are the result of applying a function on all elements in the tree using `jax.tree_map`. For instance, let's obtain a PyTree with all parameter shapes:"
      ]
    },
    {
      "cell_type": "code",
      "execution_count": null,
      "metadata": {
        "id": "rZMKbOcfJfrj",
        "outputId": "d9479876-a9e5-45da-bb89-92ea5a3ab3f0"
      },
      "outputs": [
        {
          "data": {
            "text/plain": [
              "FrozenDict({\n",
              "    params: {\n",
              "        linear1: {\n",
              "            bias: (8,),\n",
              "            kernel: (2, 8),\n",
              "        },\n",
              "        linear2: {\n",
              "            bias: (1,),\n",
              "            kernel: (8, 1),\n",
              "        },\n",
              "    },\n",
              "})"
            ]
          },
          "execution_count": 66,
          "metadata": {},
          "output_type": "execute_result"
        }
      ],
      "source": [
        "jax.tree_map(lambda p: p.shape, model_state.params)"
      ]
    },
    {
      "cell_type": "markdown",
      "metadata": {
        "id": "j6SUqeOuJfrj"
      },
      "source": [
        "The nodes of PyTrees do not necessarily need to be NumPy or JAX arrays, but can be arbitrary objects. Overall, PyTrees provide a simple, structured representation of data useful in many applications. More details can be found in JAX's Tutorial [Working with PyTrees](https://jax.readthedocs.io/en/latest/jax-101/05.1-pytrees.html)."
      ]
    },
    {
      "cell_type": "markdown",
      "metadata": {
        "id": "nGQjGHLmJfrj"
      },
      "source": [
        "## 🔪 The Sharp Bits 🔪\n",
        "\n",
        "Since JAX functions need to be written with certain constraints, there are situations where this can get annoying or difficult. A great overview of those, why they are needed, and most importantly, what to do about them, can be found in the original JAX tutorial [🔪 JAX - The Sharp Bits 🔪](https://jax.readthedocs.io/en/latest/notebooks/Common_Gotchas_in_JAX.html). In this final section of the tutorial, we want to visit a few of those points we have not explicitly discussed yet. Furthermore, we also focus on the combination with Flax, and what can be annoying when training models."
      ]
    },
    {
      "cell_type": "markdown",
      "metadata": {
        "id": "fyLFwANcJfrj"
      },
      "source": [
        "### Dynamic shapes\n",
        "\n",
        "JAX has the great advantage of providing just-in-time compilation of functions to speed up the computation. For this, it uses its intermediate representation jaxpr, which is specialized to the shapes of the input arguments. However, this also means that a jitted function is specialized to a certain shape, and running the jitted function with a different input shape requires recompiling the function. For instance, consider the following simple function:"
      ]
    },
    {
      "cell_type": "code",
      "execution_count": null,
      "metadata": {
        "id": "5NgE8H86Jfrj"
      },
      "outputs": [],
      "source": [
        "def my_function(x):\n",
        "    print('Running the function with shape', x.shape)\n",
        "    return x.mean()\n",
        "\n",
        "jitted_function = jax.jit(my_function)"
      ]
    },
    {
      "cell_type": "markdown",
      "metadata": {
        "id": "tWhaxDI7Jfrj"
      },
      "source": [
        "The print statement is only executed once when the function is compiled, and for all consecutive function calls, this print statement will be ignored since it is not part of the jaxpr representation. Let's run the function now with multiple different input shapes:"
      ]
    },
    {
      "cell_type": "code",
      "execution_count": null,
      "metadata": {
        "id": "MnqDsVCXJfrj",
        "outputId": "e08a26f6-cd66-41fa-ea5b-c71299d90f3b"
      },
      "outputs": [
        {
          "name": "stdout",
          "output_type": "stream",
          "text": [
            "Running the function with shape (1,)\n",
            "Running the function with shape (2,)\n",
            "Running the function with shape (3,)\n",
            "Running the function with shape (4,)\n",
            "Running the function with shape (5,)\n",
            "Running the function with shape (6,)\n",
            "Running the function with shape (7,)\n",
            "Running the function with shape (8,)\n",
            "Running the function with shape (9,)\n",
            "Running the function with shape (10,)\n"
          ]
        }
      ],
      "source": [
        "for i in range(10):\n",
        "    jitted_function(jnp.zeros(i+1,))"
      ]
    },
    {
      "cell_type": "markdown",
      "metadata": {
        "id": "_WM8MIYaJfrj"
      },
      "source": [
        "As we can see, the function is compiled for every different input we give it. This can become inefficient if we actually work with many different shapes. However, running the function again with one of the previous input shapes will not require another compilation:"
      ]
    },
    {
      "cell_type": "code",
      "execution_count": null,
      "metadata": {
        "id": "XKcEfAZTJfrj"
      },
      "outputs": [],
      "source": [
        "# Running the functions a second time will not print out anything since\n",
        "# the functions are already jitted for the respective input shapes.\n",
        "for i in range(10):\n",
        "    jitted_function(jnp.zeros(i+1,))"
      ]
    },
    {
      "cell_type": "markdown",
      "metadata": {
        "id": "buRZHA6HJfrj"
      },
      "source": [
        "If we have a very limited set of different shapes, we do not see a big performance difference. For instance, in our evaluation, the last batch size is smaller than the previous since we have a limited size of the evaluation dataset. However, for other applications, we might encounter this problem much more often: NLP and time series, and graphs. In these cases, it is recommend to pad the batches to prevent many re-compilations (see Flax's [padding guide](https://flax.readthedocs.io/en/latest/howtos/full_eval.html) for details). We briefly review the two scenarios below.\n",
        "\n",
        "#### NLP and time series\n",
        "\n",
        "In Natural Language Processing, our data consist of sentences which greatly vary in size. Already for batching the elements, we need to apply padding, such that the shape of the batch is determined by the largest sentence in the batch. However, this largest length can vary between batches, especially when we shuffle the dataset before each epoch. In PyTorch, this is not a problem, since the dynamic computation graph allows us to stop the computation whenever we need to. In contrast, JAX would need to recompile the forward pass for every single largest sentence length, which can quickly become very expensive. Padding is needed to reduce the number of compilations, but at the same time introduces unnecessary computation. Hence, we have a tradeoff between number of compilations and extra compute per batch. In the extreme case, PyTorch may even become faster than JAX here.\n",
        "\n",
        "#### Graphs\n",
        "\n",
        "Similar to NLP, graphs can vary in their size. Often, graphs differ in their number of nodes, but especially in the number of edges. Furthermore, when we start batching the graphs, the variation of node sizes and edge count considerably increases. Again, padding is needed to reduce the number of compilations, and we will revisit this topic in Tutorial 7 (TBD)."
      ]
    },
    {
      "cell_type": "markdown",
      "metadata": {
        "id": "jxsZPQUwJfrj"
      },
      "source": [
        "### Debugging in jitted functions\n",
        "\n",
        "During coding, we likely want to debug our model and sometimes print out intermediate values. In JAX, when jitting functions, this is not as straightforward. As we could see from the previous cells, a print statement is only executed once during compilation, and afterwards removed since it is not part of the jaxpr representation. Furthermore, there can be issues when tracking NaNs in your code (see the [sharp bits tutorial](https://jax.readthedocs.io/en/latest/notebooks/Common_Gotchas_in_JAX.html#debugging-nans)), and errors like out-of-bounds indexing are silently handled on accelerators by returning -1 instead of an error (see the corresponding section in the [sharp bits tutorial](https://jax.readthedocs.io/en/latest/notebooks/Common_Gotchas_in_JAX.html#out-of-bounds-indexing)). However, if necessary, one can either run the unjitted version of the forward pass first, and even introduce print statements to the jitted version where needed (see [here](https://github.com/google/jax/issues/196) for a great explanation). Still, it is not as straight-forward as in PyTorch, for example."
      ]
    },
    {
      "cell_type": "markdown",
      "metadata": {
        "id": "uXFeUquUJfrk"
      },
      "source": [
        "### Modules with different train and evaluation functions\n",
        "\n",
        "Certain deep learning layers have different behaviors under evaluation than during training. For instance, dropout randomly masks out a number of neurons during training, but leaves the graph untouched during evaluation. In PyTorch, we can easily switch between the two states via `model.train()` and `model.eval()` without having to manually specify it in the dropout module instance. However, in JAX, we do not have global states in the model, and thus need to pass this information to every module in the forward pass that may need it. In our example above, this was not needed, since the forward pass of the simple classifier is identical during training and evaluation. Alternatively, since the parameters are not bound to a specific model during training, one can also create two models: one training model, and one evaluation model. Nonetheless, one still needs to add the information to every module with changing behaviors, which adds a certain overhead compared to PyTorch. We will discuss two common modules with such behaviors below: dropout and BatchNorm."
      ]
    },
    {
      "cell_type": "markdown",
      "metadata": {
        "id": "hY05Jow0Jfrk"
      },
      "source": [
        "#### Dropout\n",
        "\n",
        "In Flax, [Dropout](https://flax.readthedocs.io/en/latest/_autosummary/flax.linen.Dropout.html) has an argument `deterministic` which turns off dropout when True, and otherwise applies the random masking as intended during training. This deterministic switch can either be defined in the constructor, or in every forward call. Furthermore, dropout has the special case that it is a random operation during training, meaning that it also needs a PRNG state. Fortunately, we do not have to pass this state in every PRNG state, but instead, can simply pass `rngs={'dropout': dropout_rng}` with `dropout_rng` being the PRNG state. For an example, see our [Tutorial 6](https://uvadlc-notebooks.readthedocs.io/en/latest/tutorial_notebooks/JAX/tutorial6/Transformers_and_MHAttention.html) on Transformers in which we use dropout in several occasions."
      ]
    },
    {
      "cell_type": "markdown",
      "metadata": {
        "id": "Zu_9r94CJfrk"
      },
      "source": [
        "#### BatchNorm\n",
        "\n",
        "Batch Normalization transforms the input in two different ways. During training, we determine the mean and standard deviation of the input, and normalize the data with it to a zero mean and standard deviation of one. During evaluation, on the other hand, we take a running statistic over the previous several batches, and use those to estimate the mean and standard deviation. This is necessary to keep the evaluation stable and invariant to the specific batches we choose. Still, in the Flax module ([documentation](https://flax.readthedocs.io/en/latest/_autosummary/flax.linen.BatchNorm.html)), we need to give the argument `use_running_average` (bool) to either the constructor or each forward pass. Furthermore, BatchNorm has a specific property we haven't discussed yet and is a bit tricky in JAX: keeping track of the running average. During every forward pass, we want to record the mean and standard deviation of the current batch, and update our current average over the past batches. However, this requires changing an input tensor, and returning this changed tensor again. In Flax, we can do this by defining the batch statistics as a mutable tensor. Check out our [Tutorial 5](https://uvadlc-notebooks.readthedocs.io/en/latest/tutorial_notebooks/JAX/tutorial5/Inception_ResNet_DenseNet.html) to see BatchNorm being used in practice with Flax."
      ]
    },
    {
      "cell_type": "markdown",
      "metadata": {
        "id": "7VoeI3nTJfrk"
      },
      "source": [
        "---\n",
        "\n",
        "[![Star our repository](https://img.shields.io/static/v1.svg?logo=star&label=⭐&message=Star%20Our%20Repository&color=yellow)](https://github.com/phlippe/uvadlc_notebooks/)  If you found this tutorial helpful, consider ⭐-ing our repository.    \n",
        "[![Ask questions](https://img.shields.io/static/v1.svg?logo=star&label=❔&message=Ask%20Questions&color=9cf)](https://github.com/phlippe/uvadlc_notebooks/issues)  For any questions, typos, or bugs that you found, please raise an issue on GitHub.\n",
        "\n",
        "---"
      ]
    }
  ],
  "metadata": {
    "kernelspec": {
      "display_name": "Python 3",
      "name": "python3"
    },
    "language_info": {
      "codemirror_mode": {
        "name": "ipython",
        "version": 3
      },
      "file_extension": ".py",
      "mimetype": "text/x-python",
      "name": "python",
      "nbconvert_exporter": "python",
      "pygments_lexer": "ipython3",
      "version": "3.8.2"
    },
    "colab": {
      "provenance": [],
      "gpuType": "T4"
    },
    "accelerator": "GPU",
    "widgets": {
      "application/vnd.jupyter.widget-state+json": {
        "094457df3fd748c791f65d471c73e536": {
          "model_module": "@jupyter-widgets/controls",
          "model_name": "HBoxModel",
          "model_module_version": "1.5.0",
          "state": {
            "_dom_classes": [],
            "_model_module": "@jupyter-widgets/controls",
            "_model_module_version": "1.5.0",
            "_model_name": "HBoxModel",
            "_view_count": null,
            "_view_module": "@jupyter-widgets/controls",
            "_view_module_version": "1.5.0",
            "_view_name": "HBoxView",
            "box_style": "",
            "children": [
              "IPY_MODEL_5455e5d9cefd4281b6e63363222c6f5d",
              "IPY_MODEL_33eec7a417a64dbdab786a816c85c7a8",
              "IPY_MODEL_1cc70ef43aa64a2b97d93bb7fed82ebc"
            ],
            "layout": "IPY_MODEL_baf8057f2c414055bf2487e12d95455b"
          }
        },
        "5455e5d9cefd4281b6e63363222c6f5d": {
          "model_module": "@jupyter-widgets/controls",
          "model_name": "HTMLModel",
          "model_module_version": "1.5.0",
          "state": {
            "_dom_classes": [],
            "_model_module": "@jupyter-widgets/controls",
            "_model_module_version": "1.5.0",
            "_model_name": "HTMLModel",
            "_view_count": null,
            "_view_module": "@jupyter-widgets/controls",
            "_view_module_version": "1.5.0",
            "_view_name": "HTMLView",
            "description": "",
            "description_tooltip": null,
            "layout": "IPY_MODEL_c5a5ede29eb74c52b84b822f052a75b8",
            "placeholder": "​",
            "style": "IPY_MODEL_285303ee08c04d1a8e10d6a1cc796cfe",
            "value": "100%"
          }
        },
        "33eec7a417a64dbdab786a816c85c7a8": {
          "model_module": "@jupyter-widgets/controls",
          "model_name": "FloatProgressModel",
          "model_module_version": "1.5.0",
          "state": {
            "_dom_classes": [],
            "_model_module": "@jupyter-widgets/controls",
            "_model_module_version": "1.5.0",
            "_model_name": "FloatProgressModel",
            "_view_count": null,
            "_view_module": "@jupyter-widgets/controls",
            "_view_module_version": "1.5.0",
            "_view_name": "ProgressView",
            "bar_style": "success",
            "description": "",
            "description_tooltip": null,
            "layout": "IPY_MODEL_40e44ec54dbc472b84226bc5346b71c7",
            "max": 100,
            "min": 0,
            "orientation": "horizontal",
            "style": "IPY_MODEL_bd699b4c43714434af9eba0b163098b8",
            "value": 100
          }
        },
        "1cc70ef43aa64a2b97d93bb7fed82ebc": {
          "model_module": "@jupyter-widgets/controls",
          "model_name": "HTMLModel",
          "model_module_version": "1.5.0",
          "state": {
            "_dom_classes": [],
            "_model_module": "@jupyter-widgets/controls",
            "_model_module_version": "1.5.0",
            "_model_name": "HTMLModel",
            "_view_count": null,
            "_view_module": "@jupyter-widgets/controls",
            "_view_module_version": "1.5.0",
            "_view_name": "HTMLView",
            "description": "",
            "description_tooltip": null,
            "layout": "IPY_MODEL_edb0a68a308a48db8ca89f8aecb2c48b",
            "placeholder": "​",
            "style": "IPY_MODEL_bde60bbbc744447089d42945203cd6a1",
            "value": " 100/100 [00:03&lt;00:00, 53.99it/s]"
          }
        },
        "baf8057f2c414055bf2487e12d95455b": {
          "model_module": "@jupyter-widgets/base",
          "model_name": "LayoutModel",
          "model_module_version": "1.2.0",
          "state": {
            "_model_module": "@jupyter-widgets/base",
            "_model_module_version": "1.2.0",
            "_model_name": "LayoutModel",
            "_view_count": null,
            "_view_module": "@jupyter-widgets/base",
            "_view_module_version": "1.2.0",
            "_view_name": "LayoutView",
            "align_content": null,
            "align_items": null,
            "align_self": null,
            "border": null,
            "bottom": null,
            "display": null,
            "flex": null,
            "flex_flow": null,
            "grid_area": null,
            "grid_auto_columns": null,
            "grid_auto_flow": null,
            "grid_auto_rows": null,
            "grid_column": null,
            "grid_gap": null,
            "grid_row": null,
            "grid_template_areas": null,
            "grid_template_columns": null,
            "grid_template_rows": null,
            "height": null,
            "justify_content": null,
            "justify_items": null,
            "left": null,
            "margin": null,
            "max_height": null,
            "max_width": null,
            "min_height": null,
            "min_width": null,
            "object_fit": null,
            "object_position": null,
            "order": null,
            "overflow": null,
            "overflow_x": null,
            "overflow_y": null,
            "padding": null,
            "right": null,
            "top": null,
            "visibility": null,
            "width": null
          }
        },
        "c5a5ede29eb74c52b84b822f052a75b8": {
          "model_module": "@jupyter-widgets/base",
          "model_name": "LayoutModel",
          "model_module_version": "1.2.0",
          "state": {
            "_model_module": "@jupyter-widgets/base",
            "_model_module_version": "1.2.0",
            "_model_name": "LayoutModel",
            "_view_count": null,
            "_view_module": "@jupyter-widgets/base",
            "_view_module_version": "1.2.0",
            "_view_name": "LayoutView",
            "align_content": null,
            "align_items": null,
            "align_self": null,
            "border": null,
            "bottom": null,
            "display": null,
            "flex": null,
            "flex_flow": null,
            "grid_area": null,
            "grid_auto_columns": null,
            "grid_auto_flow": null,
            "grid_auto_rows": null,
            "grid_column": null,
            "grid_gap": null,
            "grid_row": null,
            "grid_template_areas": null,
            "grid_template_columns": null,
            "grid_template_rows": null,
            "height": null,
            "justify_content": null,
            "justify_items": null,
            "left": null,
            "margin": null,
            "max_height": null,
            "max_width": null,
            "min_height": null,
            "min_width": null,
            "object_fit": null,
            "object_position": null,
            "order": null,
            "overflow": null,
            "overflow_x": null,
            "overflow_y": null,
            "padding": null,
            "right": null,
            "top": null,
            "visibility": null,
            "width": null
          }
        },
        "285303ee08c04d1a8e10d6a1cc796cfe": {
          "model_module": "@jupyter-widgets/controls",
          "model_name": "DescriptionStyleModel",
          "model_module_version": "1.5.0",
          "state": {
            "_model_module": "@jupyter-widgets/controls",
            "_model_module_version": "1.5.0",
            "_model_name": "DescriptionStyleModel",
            "_view_count": null,
            "_view_module": "@jupyter-widgets/base",
            "_view_module_version": "1.2.0",
            "_view_name": "StyleView",
            "description_width": ""
          }
        },
        "40e44ec54dbc472b84226bc5346b71c7": {
          "model_module": "@jupyter-widgets/base",
          "model_name": "LayoutModel",
          "model_module_version": "1.2.0",
          "state": {
            "_model_module": "@jupyter-widgets/base",
            "_model_module_version": "1.2.0",
            "_model_name": "LayoutModel",
            "_view_count": null,
            "_view_module": "@jupyter-widgets/base",
            "_view_module_version": "1.2.0",
            "_view_name": "LayoutView",
            "align_content": null,
            "align_items": null,
            "align_self": null,
            "border": null,
            "bottom": null,
            "display": null,
            "flex": null,
            "flex_flow": null,
            "grid_area": null,
            "grid_auto_columns": null,
            "grid_auto_flow": null,
            "grid_auto_rows": null,
            "grid_column": null,
            "grid_gap": null,
            "grid_row": null,
            "grid_template_areas": null,
            "grid_template_columns": null,
            "grid_template_rows": null,
            "height": null,
            "justify_content": null,
            "justify_items": null,
            "left": null,
            "margin": null,
            "max_height": null,
            "max_width": null,
            "min_height": null,
            "min_width": null,
            "object_fit": null,
            "object_position": null,
            "order": null,
            "overflow": null,
            "overflow_x": null,
            "overflow_y": null,
            "padding": null,
            "right": null,
            "top": null,
            "visibility": null,
            "width": null
          }
        },
        "bd699b4c43714434af9eba0b163098b8": {
          "model_module": "@jupyter-widgets/controls",
          "model_name": "ProgressStyleModel",
          "model_module_version": "1.5.0",
          "state": {
            "_model_module": "@jupyter-widgets/controls",
            "_model_module_version": "1.5.0",
            "_model_name": "ProgressStyleModel",
            "_view_count": null,
            "_view_module": "@jupyter-widgets/base",
            "_view_module_version": "1.2.0",
            "_view_name": "StyleView",
            "bar_color": null,
            "description_width": ""
          }
        },
        "edb0a68a308a48db8ca89f8aecb2c48b": {
          "model_module": "@jupyter-widgets/base",
          "model_name": "LayoutModel",
          "model_module_version": "1.2.0",
          "state": {
            "_model_module": "@jupyter-widgets/base",
            "_model_module_version": "1.2.0",
            "_model_name": "LayoutModel",
            "_view_count": null,
            "_view_module": "@jupyter-widgets/base",
            "_view_module_version": "1.2.0",
            "_view_name": "LayoutView",
            "align_content": null,
            "align_items": null,
            "align_self": null,
            "border": null,
            "bottom": null,
            "display": null,
            "flex": null,
            "flex_flow": null,
            "grid_area": null,
            "grid_auto_columns": null,
            "grid_auto_flow": null,
            "grid_auto_rows": null,
            "grid_column": null,
            "grid_gap": null,
            "grid_row": null,
            "grid_template_areas": null,
            "grid_template_columns": null,
            "grid_template_rows": null,
            "height": null,
            "justify_content": null,
            "justify_items": null,
            "left": null,
            "margin": null,
            "max_height": null,
            "max_width": null,
            "min_height": null,
            "min_width": null,
            "object_fit": null,
            "object_position": null,
            "order": null,
            "overflow": null,
            "overflow_x": null,
            "overflow_y": null,
            "padding": null,
            "right": null,
            "top": null,
            "visibility": null,
            "width": null
          }
        },
        "bde60bbbc744447089d42945203cd6a1": {
          "model_module": "@jupyter-widgets/controls",
          "model_name": "DescriptionStyleModel",
          "model_module_version": "1.5.0",
          "state": {
            "_model_module": "@jupyter-widgets/controls",
            "_model_module_version": "1.5.0",
            "_model_name": "DescriptionStyleModel",
            "_view_count": null,
            "_view_module": "@jupyter-widgets/base",
            "_view_module_version": "1.2.0",
            "_view_name": "StyleView",
            "description_width": ""
          }
        }
      }
    }
  },
  "nbformat": 4,
  "nbformat_minor": 0
}